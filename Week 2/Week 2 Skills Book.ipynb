{
 "cells": [
  {
   "cell_type": "markdown",
   "id": "69398586-2838-4528-9d71-5175ed4d53ce",
   "metadata": {},
   "source": [
    "# Week 2: Skills Book\n",
    "<hr style=\"border:4px solid gray\"> </hr>"
   ]
  },
  {
   "cell_type": "code",
   "execution_count": 1,
   "id": "6bf8a0f5-4610-4e26-a002-e9c47115a965",
   "metadata": {},
   "outputs": [],
   "source": [
    "import lorem "
   ]
  },
  {
   "cell_type": "code",
   "execution_count": 14,
   "id": "853aee71-01d4-4d8c-82bf-ec9d02a5b231",
   "metadata": {},
   "outputs": [],
   "source": [
    "def text(): return lorem.paragraph()"
   ]
  },
  {
   "cell_type": "markdown",
   "id": "1eac7941-9221-47d0-bbfa-932ef9796b34",
   "metadata": {},
   "source": [
    "# Introduction\n",
    "<hr style=\"border:4px solid gray\"> </hr>"
   ]
  },
  {
   "cell_type": "markdown",
   "id": "a6961112-7318-4d53-9cf8-2bd1f6ed1822",
   "metadata": {},
   "source": [
    "'Quaerat non voluptatem numquam. Modi adipisci adipisci labore consectetur quaerat. Dolorem voluptatem labore sed voluptatem modi. Etincidunt aliquam neque dolorem sit porro ipsum est. Velit ipsum dolore dolorem quiquia. Dolorem consectetur adipisci magnam amet.'"
   ]
  },
  {
   "cell_type": "markdown",
   "id": "813d6956-33bf-4c59-8259-13634c6bbd95",
   "metadata": {},
   "source": [
    "## Goals\n",
    "<hr style=\"border:2px solid gray\"> </hr>"
   ]
  },
  {
   "cell_type": "code",
   "execution_count": null,
   "id": "c67f0013-9f4d-4d65-9d0d-a3fde568e9f3",
   "metadata": {},
   "outputs": [],
   "source": []
  },
  {
   "cell_type": "markdown",
   "id": "8a5a4dbb-b487-4fb3-b1f2-11547e5e6fcf",
   "metadata": {},
   "source": [
    "## Learning Objectives\n",
    "<hr style=\"border:2px solid gray\"> </hr>"
   ]
  },
  {
   "cell_type": "code",
   "execution_count": null,
   "id": "109e8cea-e281-46b8-b961-dc437df8a67a",
   "metadata": {},
   "outputs": [],
   "source": []
  },
  {
   "cell_type": "code",
   "execution_count": null,
   "id": "897828cf-10de-4fc2-a2a4-3add4f874410",
   "metadata": {},
   "outputs": [],
   "source": []
  },
  {
   "cell_type": "code",
   "execution_count": null,
   "id": "cc4c093f-324a-47be-a5e9-52adce058171",
   "metadata": {},
   "outputs": [],
   "source": []
  },
  {
   "cell_type": "markdown",
   "id": "c79a992d-fae5-41ee-ad9c-cd2cc40cdf48",
   "metadata": {},
   "source": [
    "## Summary and Key Ideas\n",
    "<hr style=\"border:2px solid gray\"> </hr>"
   ]
  },
  {
   "cell_type": "code",
   "execution_count": null,
   "id": "8e4e8b5e-55d6-4845-9de0-6db6386d9e96",
   "metadata": {},
   "outputs": [],
   "source": []
  },
  {
   "cell_type": "code",
   "execution_count": null,
   "id": "ba03d5f5-397d-4e34-a5f4-ed8f3d44afc3",
   "metadata": {},
   "outputs": [],
   "source": []
  },
  {
   "cell_type": "markdown",
   "id": "fafdf0c1-23b1-42ed-aa47-18c5d0100d59",
   "metadata": {},
   "source": []
  },
  {
   "cell_type": "code",
   "execution_count": null,
   "id": "17df4fea-ad6d-435c-9b2f-0731c7ba80b9",
   "metadata": {},
   "outputs": [],
   "source": []
  },
  {
   "cell_type": "code",
   "execution_count": null,
   "id": "20c619b3-fdfc-4dcf-8d90-08fbacd3fca5",
   "metadata": {},
   "outputs": [],
   "source": []
  },
  {
   "cell_type": "markdown",
   "id": "0200c6c5-7e4e-4388-a084-8bb354912e02",
   "metadata": {},
   "source": [
    "# I. Tabular Data Skills\n",
    "<hr style=\"border:4px solid gray\"> </hr>"
   ]
  },
  {
   "cell_type": "markdown",
   "id": "11301b38-c2d9-46fc-b7aa-ca724ab968d2",
   "metadata": {},
   "source": [
    "## Introduction\n",
    "<hr style=\"border:2px solid gray\"> </hr>"
   ]
  },
  {
   "cell_type": "code",
   "execution_count": null,
   "id": "a617e9a3-fbf7-4b51-a550-a81b6944d212",
   "metadata": {},
   "outputs": [],
   "source": []
  },
  {
   "cell_type": "code",
   "execution_count": null,
   "id": "af9e8687-e0c3-4e0b-a649-27e473c3edc0",
   "metadata": {},
   "outputs": [],
   "source": []
  },
  {
   "cell_type": "markdown",
   "id": "fa77cdb9-b527-4cc4-9155-2cbdd4900ed8",
   "metadata": {},
   "source": [
    "## A. Tabular Data Preprocessing Methods\n",
    "<hr style=\"border:2px solid gray\"> </hr>"
   ]
  },
  {
   "cell_type": "markdown",
   "id": "dd80e098-0605-434a-80d5-0de5e0f38318",
   "metadata": {},
   "source": []
  },
  {
   "cell_type": "markdown",
   "id": "53ec4fab-c4f5-419a-93ac-c89eb930f1b4",
   "metadata": {},
   "source": []
  },
  {
   "cell_type": "markdown",
   "id": "d71a3593-5900-4844-a315-0efbf3c91ec7",
   "metadata": {},
   "source": [
    "### 1. Common Data Wrangling Tasks"
   ]
  },
  {
   "cell_type": "code",
   "execution_count": null,
   "id": "af49c6d5-4328-4ec7-b5f0-915fa68c2292",
   "metadata": {},
   "outputs": [],
   "source": []
  },
  {
   "cell_type": "markdown",
   "id": "c70bebe6-b509-42da-80e3-b7f703b04934",
   "metadata": {},
   "source": [
    "#### Index, then Broadcast Principle in Application\n",
    "<hr style=\"width:50%;text-align:left;margin-left:0\">\n"
   ]
  },
  {
   "cell_type": "code",
   "execution_count": null,
   "id": "686d4409-e3c8-43b7-bee7-a31324e8bcf0",
   "metadata": {},
   "outputs": [],
   "source": []
  },
  {
   "cell_type": "code",
   "execution_count": null,
   "id": "39970616-637e-43e1-aa1a-a3c31ace4cf4",
   "metadata": {},
   "outputs": [],
   "source": []
  },
  {
   "cell_type": "markdown",
   "id": "d2edf209-bc46-411e-a89f-9f6954aa9a4b",
   "metadata": {},
   "source": []
  },
  {
   "cell_type": "code",
   "execution_count": null,
   "id": "769d07cc-c7fb-4aad-8e09-6fe42124fb31",
   "metadata": {},
   "outputs": [],
   "source": []
  },
  {
   "cell_type": "code",
   "execution_count": null,
   "id": "b474399b-2c4b-472d-8ac4-adc03a5d43da",
   "metadata": {},
   "outputs": [],
   "source": []
  },
  {
   "cell_type": "code",
   "execution_count": null,
   "id": "48e7cd17-e061-4004-8a4a-d97622892cf4",
   "metadata": {},
   "outputs": [],
   "source": []
  },
  {
   "cell_type": "markdown",
   "id": "d1b6f226-d070-4df7-b85a-c5ff8f185d7e",
   "metadata": {},
   "source": [
    "### 2. Feature Engineering (Calculated Fields)\n",
    "<hr style=\"border:1px solid gray\"> </hr>"
   ]
  },
  {
   "cell_type": "code",
   "execution_count": null,
   "id": "c67cb095-a10f-413f-92d4-6ce744637774",
   "metadata": {},
   "outputs": [],
   "source": []
  },
  {
   "cell_type": "markdown",
   "id": "ae41ad6a-b3f7-41ff-9eb8-c025d9756c2f",
   "metadata": {},
   "source": [
    "#### a. Indicating and Flagging Features \n",
    "<hr style=\"border:1px solid gray\"> </hr>"
   ]
  },
  {
   "cell_type": "code",
   "execution_count": null,
   "id": "720aa3d8-7666-4742-b293-a520341c4ea7",
   "metadata": {},
   "outputs": [],
   "source": []
  },
  {
   "cell_type": "code",
   "execution_count": null,
   "id": "f88e160e-c2b1-460c-82a5-e0f7ce8728de",
   "metadata": {},
   "outputs": [],
   "source": []
  },
  {
   "cell_type": "markdown",
   "id": "bb3b41a6-921b-4fe2-93c8-80b6426fbb59",
   "metadata": {},
   "source": [
    "##### i. Contains missing data flag\n",
    "<hr style=\"width:50%;text-align:left;margin-left:0\">\n"
   ]
  },
  {
   "cell_type": "code",
   "execution_count": null,
   "id": "eb44a714-5e78-4280-b62f-5b0785a4a162",
   "metadata": {},
   "outputs": [],
   "source": []
  },
  {
   "cell_type": "markdown",
   "id": "b15c0273-4391-47c0-b2a8-a7882a9805e0",
   "metadata": {},
   "source": [
    "##### ii. Flag that a sample meets multiple conditions\n",
    "<hr style=\"width:50%;text-align:left;margin-left:0\">\n"
   ]
  },
  {
   "cell_type": "code",
   "execution_count": null,
   "id": "338011d6-0e1f-4f80-a0df-9dccd7ac5e8c",
   "metadata": {},
   "outputs": [],
   "source": []
  },
  {
   "cell_type": "code",
   "execution_count": null,
   "id": "0e8e90bc-308e-4196-b176-20779617df00",
   "metadata": {},
   "outputs": [],
   "source": []
  },
  {
   "cell_type": "markdown",
   "id": "d0d1046c-8458-4116-ace8-f05ee740871b",
   "metadata": {},
   "source": [
    "#### b. Calculated Fields\n",
    "<hr style=\"border:1px solid gray\"> </hr>\n"
   ]
  },
  {
   "cell_type": "code",
   "execution_count": null,
   "id": "8d023bab-ca89-4890-930b-e28094070a3c",
   "metadata": {},
   "outputs": [],
   "source": []
  },
  {
   "cell_type": "code",
   "execution_count": null,
   "id": "53a59ef7-fc00-421c-9dfb-245e462507df",
   "metadata": {},
   "outputs": [],
   "source": []
  },
  {
   "cell_type": "code",
   "execution_count": null,
   "id": "c43797ec-7efc-4f93-af57-d6369c9417c2",
   "metadata": {},
   "outputs": [],
   "source": []
  },
  {
   "cell_type": "code",
   "execution_count": null,
   "id": "d49adb3c-5423-47b3-944d-782cd5dbb67c",
   "metadata": {},
   "outputs": [],
   "source": []
  },
  {
   "cell_type": "markdown",
   "id": "00aadf39-72a0-4755-a5bb-0ff04f9cd4b7",
   "metadata": {},
   "source": [
    "### 3. Discretization (Grouping into Categories)\n",
    "<hr style=\"border:1px solid gray\"> </hr>"
   ]
  },
  {
   "cell_type": "code",
   "execution_count": null,
   "id": "35378eed-7580-4beb-a14a-4b0777024d32",
   "metadata": {},
   "outputs": [],
   "source": []
  },
  {
   "cell_type": "code",
   "execution_count": null,
   "id": "da34c990-99b2-4c31-bbc8-39b41b7c216d",
   "metadata": {},
   "outputs": [],
   "source": []
  },
  {
   "cell_type": "code",
   "execution_count": null,
   "id": "0111006f-587f-4950-a42f-9006f8040090",
   "metadata": {},
   "outputs": [],
   "source": []
  },
  {
   "cell_type": "code",
   "execution_count": null,
   "id": "ecf410dc-8562-44cc-ae70-b87e5e8ab1d5",
   "metadata": {},
   "outputs": [],
   "source": []
  },
  {
   "cell_type": "markdown",
   "id": "20582286-a7f2-4b7d-82b6-fb3b05301348",
   "metadata": {},
   "source": [
    "#### i. Lowering the number of categories by grouping\n",
    "<hr style=\"width:50%;text-align:left;margin-left:0\">\n"
   ]
  },
  {
   "cell_type": "code",
   "execution_count": null,
   "id": "438df1c1-e8b3-4bcf-a704-c21168120c09",
   "metadata": {},
   "outputs": [],
   "source": []
  },
  {
   "cell_type": "code",
   "execution_count": null,
   "id": "360d6b82-a065-4a0e-a04a-f8f3e6fc72b2",
   "metadata": {},
   "outputs": [],
   "source": []
  },
  {
   "cell_type": "code",
   "execution_count": null,
   "id": "25947d62-2368-42c8-abfa-338b79f42611",
   "metadata": {},
   "outputs": [],
   "source": []
  },
  {
   "cell_type": "markdown",
   "id": "bf5896b8-4e8b-4e05-aacd-a16281813585",
   "metadata": {},
   "source": [
    "#### ii. Binning / Bracketing \n",
    "<hr style=\"width:50%;text-align:left;margin-left:0\">\n"
   ]
  },
  {
   "cell_type": "code",
   "execution_count": null,
   "id": "01d54cfd-b9ca-4dd4-aa14-e2066e8c5a44",
   "metadata": {},
   "outputs": [],
   "source": []
  },
  {
   "cell_type": "code",
   "execution_count": null,
   "id": "8291859a-931c-4028-8344-0bcad3287beb",
   "metadata": {},
   "outputs": [],
   "source": []
  },
  {
   "cell_type": "code",
   "execution_count": null,
   "id": "9e104bfc-2d40-497a-accf-82837d9b2fe8",
   "metadata": {},
   "outputs": [],
   "source": []
  },
  {
   "cell_type": "code",
   "execution_count": null,
   "id": "5bcf70dc-45a3-45e1-a799-770f0e912091",
   "metadata": {},
   "outputs": [],
   "source": []
  },
  {
   "cell_type": "markdown",
   "id": "c89d75ca-3ed0-4a45-804d-d66a6cdb45c2",
   "metadata": {},
   "source": [
    "### 4. Feature Decomposition/Extraction\n",
    "<hr style=\"width:100%;text-align:left;margin-left:0\">\n"
   ]
  },
  {
   "cell_type": "code",
   "execution_count": null,
   "id": "13ecddf9-2b58-47b0-af7f-5fa94b58aa77",
   "metadata": {},
   "outputs": [],
   "source": []
  },
  {
   "cell_type": "code",
   "execution_count": null,
   "id": "7fea7a2f-7845-47a1-b461-e692953b187c",
   "metadata": {},
   "outputs": [],
   "source": []
  },
  {
   "cell_type": "code",
   "execution_count": null,
   "id": "ca396f8e-9211-4fff-9c02-39fa3eb928a0",
   "metadata": {},
   "outputs": [],
   "source": []
  },
  {
   "cell_type": "markdown",
   "id": "59bed903-76d3-4d43-822d-af3bb7e3a83a",
   "metadata": {},
   "source": []
  },
  {
   "cell_type": "code",
   "execution_count": null,
   "id": "ce44bdf0-0458-4585-b3ad-1733358ad73d",
   "metadata": {},
   "outputs": [],
   "source": []
  },
  {
   "cell_type": "code",
   "execution_count": null,
   "id": "8833cec8-19a9-4563-b7bf-29a2d20f6129",
   "metadata": {},
   "outputs": [],
   "source": []
  },
  {
   "cell_type": "code",
   "execution_count": null,
   "id": "263da947-f1e9-4a6a-9152-500f48b9aa64",
   "metadata": {},
   "outputs": [],
   "source": []
  },
  {
   "cell_type": "markdown",
   "id": "905a8a93-d4c8-48c3-bff6-f94db442a358",
   "metadata": {},
   "source": [
    "## B. Tabular Data Transformation Methods\n",
    "<hr style=\"border:2px solid gray\"> </hr>"
   ]
  },
  {
   "cell_type": "code",
   "execution_count": null,
   "id": "aba8f773-08c9-47f8-9e7d-da24089db881",
   "metadata": {},
   "outputs": [],
   "source": []
  },
  {
   "cell_type": "markdown",
   "id": "d9dd2492-d296-4677-83b2-0a03a7b96302",
   "metadata": {},
   "source": [
    "### 1. Filling Missing Values\n",
    "<hr style=\"border:1px solid gray\"> </hr>"
   ]
  },
  {
   "cell_type": "code",
   "execution_count": null,
   "id": "33d5b336-a5cf-41b2-9372-83e12c454654",
   "metadata": {},
   "outputs": [],
   "source": []
  },
  {
   "cell_type": "code",
   "execution_count": null,
   "id": "db733ec0-b0a4-4813-96f8-7da44ccf4097",
   "metadata": {},
   "outputs": [],
   "source": []
  },
  {
   "cell_type": "code",
   "execution_count": null,
   "id": "4d6a7d3f-f450-40e1-b5f5-3716b6822144",
   "metadata": {},
   "outputs": [],
   "source": []
  },
  {
   "cell_type": "code",
   "execution_count": null,
   "id": "6ce86d8f-879a-475b-b85c-67fd04bd6e25",
   "metadata": {},
   "outputs": [],
   "source": []
  },
  {
   "cell_type": "markdown",
   "id": "6093d7cf-17a0-4d80-91f8-f3e74344832e",
   "metadata": {},
   "source": [
    "### 2. Normalization Techniques\n",
    "<hr style=\"border:1px solid gray\"> </hr>"
   ]
  },
  {
   "cell_type": "code",
   "execution_count": null,
   "id": "64f4bdc7-949f-4f4b-ab3a-d875f3ad769e",
   "metadata": {},
   "outputs": [],
   "source": []
  },
  {
   "cell_type": "code",
   "execution_count": null,
   "id": "123d56a7-0467-4a4b-a7d8-efda745c03c6",
   "metadata": {},
   "outputs": [],
   "source": []
  },
  {
   "cell_type": "markdown",
   "id": "6751f043-51b5-4b09-b887-d9d1748047bd",
   "metadata": {},
   "source": [
    "#### a. Scaling \n",
    "<hr style=\"width:50%;text-align:left;margin-left:0\">\n",
    "\n",
    "\n",
    "linear, exponential, works for ordinal"
   ]
  },
  {
   "cell_type": "code",
   "execution_count": null,
   "id": "5fb7088d-478d-4f8c-a589-95c67436fbe9",
   "metadata": {},
   "outputs": [],
   "source": []
  },
  {
   "cell_type": "code",
   "execution_count": null,
   "id": "ce77115d-10f4-4e92-ab60-c807470c7df8",
   "metadata": {},
   "outputs": [],
   "source": []
  },
  {
   "cell_type": "code",
   "execution_count": null,
   "id": "c40de665-dda9-43c8-be14-521d3e544a46",
   "metadata": {},
   "outputs": [],
   "source": []
  },
  {
   "cell_type": "markdown",
   "id": "d6c7968d-7800-48fe-bc07-b027a9b8cce2",
   "metadata": {},
   "source": [
    "#### b. Standardization of Values\n",
    "<hr style=\"width:50%;text-align:left;margin-left:0\">\n",
    "\n",
    "according to the mean, and standard deviations"
   ]
  },
  {
   "cell_type": "code",
   "execution_count": null,
   "id": "8b65202e-141a-46b2-9cef-47916c5a96a7",
   "metadata": {},
   "outputs": [],
   "source": []
  },
  {
   "cell_type": "code",
   "execution_count": null,
   "id": "7faac640-e2ff-48d1-930c-1a1306512e02",
   "metadata": {},
   "outputs": [],
   "source": []
  },
  {
   "cell_type": "markdown",
   "id": "7899f9cc-1b20-465d-b63a-2f27f2463f2e",
   "metadata": {},
   "source": [
    "# II. Computer Vision \n",
    "<hr style=\"border:4px solid gray\"> </hr>"
   ]
  },
  {
   "cell_type": "code",
   "execution_count": null,
   "id": "bba3524a-b434-4a32-9320-ec13d97bfd62",
   "metadata": {},
   "outputs": [],
   "source": []
  },
  {
   "cell_type": "code",
   "execution_count": null,
   "id": "0686bcad-c9f7-463b-b676-3bd24dcbdf17",
   "metadata": {},
   "outputs": [],
   "source": []
  },
  {
   "cell_type": "markdown",
   "id": "ed0a0f96-dd38-4172-a7a0-2a000aeac600",
   "metadata": {},
   "source": [
    "## A. Computer Vision Preprocessing Techniques\n",
    "<hr style=\"border:2px solid gray\"> </hr>"
   ]
  },
  {
   "cell_type": "code",
   "execution_count": null,
   "id": "d54a5e9b-eb84-4703-bfbc-783bd13a3b37",
   "metadata": {},
   "outputs": [],
   "source": []
  },
  {
   "cell_type": "code",
   "execution_count": null,
   "id": "4ca554d2-d42b-4ff7-ad22-eba75844ecd7",
   "metadata": {},
   "outputs": [],
   "source": []
  },
  {
   "cell_type": "markdown",
   "id": "3476c3dc-c050-45f3-89ad-72d2e0a5af15",
   "metadata": {},
   "source": [
    "### 1. Label Encoding\n",
    "<hr style=\"border:1px solid gray\"> </hr>"
   ]
  },
  {
   "cell_type": "code",
   "execution_count": null,
   "id": "53cd3989-bab4-4141-a420-2b87e6768f56",
   "metadata": {},
   "outputs": [],
   "source": []
  },
  {
   "cell_type": "code",
   "execution_count": null,
   "id": "66cb554e-d362-43bd-a581-836ef5ad99bf",
   "metadata": {},
   "outputs": [],
   "source": []
  },
  {
   "cell_type": "markdown",
   "id": "c363e37d-d156-4ba7-94da-234872bcbf7b",
   "metadata": {},
   "source": [
    "### 2. Handling Unbalanced Classes\n",
    "<hr style=\"border:1px solid gray\"> </hr>"
   ]
  },
  {
   "cell_type": "code",
   "execution_count": null,
   "id": "4a5aff45-878c-4045-8cbb-b5bce18ad905",
   "metadata": {},
   "outputs": [],
   "source": []
  },
  {
   "cell_type": "code",
   "execution_count": null,
   "id": "8b7d91b1-be49-4c62-9ca3-b0e2d5a79d12",
   "metadata": {},
   "outputs": [],
   "source": []
  },
  {
   "cell_type": "code",
   "execution_count": null,
   "id": "ceb3c5c8-46bc-4457-ab49-5af4afb5514a",
   "metadata": {},
   "outputs": [],
   "source": []
  },
  {
   "cell_type": "markdown",
   "id": "822c53bb-e67f-4728-ad38-76f5f79d4014",
   "metadata": {},
   "source": [
    "## B. CV Data Transformation \n",
    "<hr style=\"border:2px solid gray\"> </hr>"
   ]
  },
  {
   "cell_type": "code",
   "execution_count": null,
   "id": "816546a4-62d8-44e6-b12c-5d7a1132ce60",
   "metadata": {},
   "outputs": [],
   "source": []
  },
  {
   "cell_type": "code",
   "execution_count": null,
   "id": "8e514720-2cef-48e1-8d19-687177b9bcf6",
   "metadata": {},
   "outputs": [],
   "source": []
  },
  {
   "cell_type": "markdown",
   "id": "40d3d39f-3845-4497-a8e7-fb04c20ae2ae",
   "metadata": {},
   "source": [
    "### 1. Normalizing Pixel Values\n",
    "<hr style=\"border:1px solid gray\"> </hr>"
   ]
  },
  {
   "cell_type": "code",
   "execution_count": null,
   "id": "f86362e9-ca8f-4067-aae4-76346d3a1e7c",
   "metadata": {},
   "outputs": [],
   "source": []
  },
  {
   "cell_type": "code",
   "execution_count": null,
   "id": "c8a3b1d3-728a-40cd-bddb-a956d6389e57",
   "metadata": {},
   "outputs": [],
   "source": []
  },
  {
   "cell_type": "code",
   "execution_count": null,
   "id": "8d0de0ae-6c65-44c9-a552-86cf0cd98af3",
   "metadata": {},
   "outputs": [],
   "source": []
  },
  {
   "cell_type": "markdown",
   "id": "92a4bdea-177c-4f58-b33c-1d4794f78db7",
   "metadata": {},
   "source": [
    "# NLP\n",
    "<hr style=\"border:4px solid gray\"> </hr>"
   ]
  },
  {
   "cell_type": "code",
   "execution_count": null,
   "id": "75abd782-bfde-4f15-b5b5-8e0bae79ecd7",
   "metadata": {},
   "outputs": [],
   "source": []
  },
  {
   "cell_type": "markdown",
   "id": "c4566157-ea1c-41a2-a775-3230a169eb38",
   "metadata": {},
   "source": [
    "### Using Encoding\n",
    "<hr style=\"border:2px solid gray\"> </hr>"
   ]
  },
  {
   "cell_type": "code",
   "execution_count": null,
   "id": "2eff0b7e-1637-4ed2-bf27-7361cf2ece98",
   "metadata": {},
   "outputs": [],
   "source": []
  },
  {
   "cell_type": "code",
   "execution_count": null,
   "id": "141c4e21-46fb-4e82-a4a6-3a540f45e6ff",
   "metadata": {},
   "outputs": [],
   "source": []
  },
  {
   "cell_type": "markdown",
   "id": "e319872c-774c-46d5-890a-3abf14d397b1",
   "metadata": {},
   "source": [
    "### Using Embeddings\n",
    "<hr style=\"border:2px solid gray\"> </hr>"
   ]
  },
  {
   "cell_type": "code",
   "execution_count": null,
   "id": "a0ed0e53-af37-4cac-b2f9-ecf8a97d855d",
   "metadata": {},
   "outputs": [],
   "source": []
  },
  {
   "cell_type": "code",
   "execution_count": null,
   "id": "c63f66d3-2f4e-42f5-b2af-df8331f504af",
   "metadata": {},
   "outputs": [],
   "source": []
  },
  {
   "cell_type": "markdown",
   "id": "eb48372f-80b7-4d94-bd7b-df6d371df455",
   "metadata": {},
   "source": [
    "# Recap and Discussion Questions\n",
    "<hr style=\"border:4px solid gray\"> </hr>"
   ]
  },
  {
   "cell_type": "code",
   "execution_count": null,
   "id": "695ee5ec-fef8-4784-8489-a46a02e865b8",
   "metadata": {},
   "outputs": [],
   "source": []
  },
  {
   "cell_type": "code",
   "execution_count": null,
   "id": "867b36d6-f406-4ad6-a1a0-a58318e5aaf2",
   "metadata": {},
   "outputs": [],
   "source": []
  },
  {
   "cell_type": "code",
   "execution_count": null,
   "id": "220b9e91-c086-4ccb-bab7-372dbfc4293d",
   "metadata": {},
   "outputs": [],
   "source": []
  },
  {
   "cell_type": "markdown",
   "id": "1f5388fe-b051-427d-85de-03aa35c455fa",
   "metadata": {},
   "source": [
    "## Recap\n",
    "<hr style=\"border:2px solid gray\"> </hr>"
   ]
  },
  {
   "cell_type": "code",
   "execution_count": null,
   "id": "ee4d23f6-f09e-480a-9b0f-9f0411454dba",
   "metadata": {},
   "outputs": [],
   "source": []
  },
  {
   "cell_type": "code",
   "execution_count": null,
   "id": "778b551d-d35a-42f4-b7cc-a93c59bbb5bf",
   "metadata": {},
   "outputs": [],
   "source": []
  },
  {
   "cell_type": "code",
   "execution_count": null,
   "id": "8a338054-2f84-4e96-af26-34a96ff02322",
   "metadata": {},
   "outputs": [],
   "source": []
  },
  {
   "cell_type": "markdown",
   "id": "285ebb2d-b827-44bb-81f9-34ea3bf54035",
   "metadata": {},
   "source": [
    "## Discussion Questions\n",
    "<hr style=\"border:2px solid gray\"> </hr>"
   ]
  },
  {
   "cell_type": "code",
   "execution_count": null,
   "id": "64ce91f0-0031-48ba-b342-1db824556c56",
   "metadata": {},
   "outputs": [],
   "source": []
  },
  {
   "cell_type": "code",
   "execution_count": null,
   "id": "96ad0f17-a6d5-4044-89cf-c293bd8e35a2",
   "metadata": {},
   "outputs": [],
   "source": []
  },
  {
   "cell_type": "markdown",
   "id": "844097a7-34ab-496a-85dd-efa83edd9203",
   "metadata": {},
   "source": [
    "### Part 1 Tabular Data"
   ]
  },
  {
   "cell_type": "code",
   "execution_count": null,
   "id": "0fae6338-a713-44dd-b61a-aec896937cfd",
   "metadata": {},
   "outputs": [],
   "source": []
  },
  {
   "cell_type": "code",
   "execution_count": null,
   "id": "84e01b56-db2e-4025-9ecf-785b2c4394a5",
   "metadata": {},
   "outputs": [],
   "source": []
  },
  {
   "cell_type": "code",
   "execution_count": null,
   "id": "e3637e22-42e8-4840-ad5a-79375c03733b",
   "metadata": {},
   "outputs": [],
   "source": []
  },
  {
   "cell_type": "markdown",
   "id": "362a49bd-10c9-44a5-b0a7-7a16b92e22bf",
   "metadata": {},
   "source": [
    "### Part 2 Computer Vision"
   ]
  },
  {
   "cell_type": "code",
   "execution_count": null,
   "id": "ebd317c4-9e73-4d84-a8fd-b163d3759894",
   "metadata": {},
   "outputs": [],
   "source": []
  },
  {
   "cell_type": "code",
   "execution_count": null,
   "id": "7e687eb0-a9d7-4321-8cf8-b2c5d799cc4b",
   "metadata": {},
   "outputs": [],
   "source": []
  },
  {
   "cell_type": "markdown",
   "id": "31dcf21d-32bf-458f-8ef9-70bdf1f692a0",
   "metadata": {},
   "source": [
    "### Part 3: NLP"
   ]
  },
  {
   "cell_type": "code",
   "execution_count": null,
   "id": "5395ed37-5463-4e34-9b4b-3a541ecbb511",
   "metadata": {},
   "outputs": [],
   "source": []
  },
  {
   "cell_type": "code",
   "execution_count": null,
   "id": "f71e05a1-df8e-44a1-9a38-9d37fc349130",
   "metadata": {},
   "outputs": [],
   "source": []
  },
  {
   "cell_type": "code",
   "execution_count": null,
   "id": "749cd808-2450-4d58-9df3-5c59e3d4e937",
   "metadata": {},
   "outputs": [],
   "source": []
  }
 ],
 "metadata": {
  "kernelspec": {
   "display_name": "unpackAIdev",
   "language": "python",
   "name": "unpackaidev"
  },
  "language_info": {
   "codemirror_mode": {
    "name": "ipython",
    "version": 3
   },
   "file_extension": ".py",
   "mimetype": "text/x-python",
   "name": "python",
   "nbconvert_exporter": "python",
   "pygments_lexer": "ipython3",
   "version": "3.8.12"
  }
 },
 "nbformat": 4,
 "nbformat_minor": 5
}
