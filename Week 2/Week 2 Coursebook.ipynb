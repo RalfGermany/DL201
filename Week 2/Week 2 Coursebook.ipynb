{
 "cells": [
  {
   "cell_type": "markdown",
   "id": "89ae0ce7-bea7-4aac-825c-a665bfa232a8",
   "metadata": {},
   "source": [
    "# Week 2 Coursebook "
   ]
  },
  {
   "cell_type": "markdown",
   "id": "62fce784-176d-4064-95c3-7d0ea9bfa65c",
   "metadata": {},
   "source": []
  },
  {
   "cell_type": "markdown",
   "id": "0cc83909-7ed5-4164-8ff1-6c444dc5d950",
   "metadata": {},
   "source": [
    "## Introduction"
   ]
  },
  {
   "cell_type": "markdown",
   "id": "09104998-8c32-4ff6-b6a7-dedfebd5e590",
   "metadata": {},
   "source": [
    "    1. \n",
    "    2.\n",
    "    3."
   ]
  },
  {
   "cell_type": "markdown",
   "id": "a7331cbe-b979-404a-9966-9b858e96d6bb",
   "metadata": {},
   "source": [
    "### Goals:"
   ]
  },
  {
   "cell_type": "markdown",
   "id": "d9e1a4f0-9362-488e-a5d4-850e24101fbc",
   "metadata": {},
   "source": [
    "### Learning Objectives:"
   ]
  },
  {
   "cell_type": "code",
   "execution_count": null,
   "id": "d99dbd80-4467-41b9-a9f6-f208250f1df0",
   "metadata": {},
   "outputs": [],
   "source": []
  },
  {
   "cell_type": "code",
   "execution_count": null,
   "id": "1446da76-33dc-41a8-85c8-9962e13e200b",
   "metadata": {},
   "outputs": [],
   "source": []
  },
  {
   "cell_type": "markdown",
   "id": "1b1a00ec-e701-4235-addd-84738e2414d9",
   "metadata": {},
   "source": [
    "# I. A Dive into Tensors\n",
    "<hr style=\"border:4px solid gray\"> </hr>"
   ]
  },
  {
   "cell_type": "code",
   "execution_count": null,
   "id": "71b7b732-463d-410a-aa29-7d0a8aa9cbd4",
   "metadata": {},
   "outputs": [],
   "source": []
  },
  {
   "cell_type": "code",
   "execution_count": null,
   "id": "9b9c86f2-1191-4d9a-bf53-478f3b796422",
   "metadata": {},
   "outputs": [],
   "source": []
  },
  {
   "cell_type": "code",
   "execution_count": null,
   "id": "388c83fe-5c12-4c52-855c-7b158b694e72",
   "metadata": {},
   "outputs": [],
   "source": []
  },
  {
   "cell_type": "markdown",
   "id": "1c02aec1-3ecb-46ca-bf7a-dcbadf54c63c",
   "metadata": {},
   "source": [
    "# II Tensors and Continuous Variables\n",
    "<hr style=\"border:4px solid gray\"> </hr>"
   ]
  },
  {
   "cell_type": "markdown",
   "id": "0208994c-4433-44a4-9801-51ce390b5cae",
   "metadata": {},
   "source": []
  },
  {
   "cell_type": "markdown",
   "id": "bf966611-2356-440d-b5de-f60bfb1381c7",
   "metadata": {},
   "source": [
    "## A. Tabular Data: Preprocessing and Transformation\n",
    "<hr style=\"border:2px solid gray\"> </hr>"
   ]
  },
  {
   "cell_type": "code",
   "execution_count": null,
   "id": "3d19a3be-0e7d-458f-9f30-574451e01e99",
   "metadata": {},
   "outputs": [],
   "source": []
  },
  {
   "cell_type": "code",
   "execution_count": null,
   "id": "f9d7c2df-f4f5-47e8-b365-2eb4fe16f5d4",
   "metadata": {},
   "outputs": [],
   "source": []
  },
  {
   "cell_type": "code",
   "execution_count": null,
   "id": "122239d9-f54e-4267-8508-8fe39782ccb3",
   "metadata": {},
   "outputs": [],
   "source": []
  },
  {
   "cell_type": "code",
   "execution_count": null,
   "id": "ca5415b8-54d5-4398-a15b-c4973ed64290",
   "metadata": {},
   "outputs": [],
   "source": []
  },
  {
   "cell_type": "markdown",
   "id": "5fae7387-9983-4e42-a78a-35ca55df736e",
   "metadata": {},
   "source": [
    "## B. Computer Vision: Preprocessing and Tranformation\n",
    "<hr style=\"border:2px solid gray\"> </hr>"
   ]
  },
  {
   "cell_type": "code",
   "execution_count": null,
   "id": "450f3145-3773-41d0-b7d8-c7370a5c4d66",
   "metadata": {},
   "outputs": [],
   "source": []
  },
  {
   "cell_type": "code",
   "execution_count": null,
   "id": "80ca5166-682d-4e0c-b84e-86a621ab8e6e",
   "metadata": {},
   "outputs": [],
   "source": []
  },
  {
   "cell_type": "code",
   "execution_count": null,
   "id": "2e853ce9-fedc-4153-833e-a87390d08cd1",
   "metadata": {},
   "outputs": [],
   "source": []
  },
  {
   "cell_type": "code",
   "execution_count": null,
   "id": "a1921e1e-f62b-4bc2-bdd2-65c0a37cb3a1",
   "metadata": {},
   "outputs": [],
   "source": []
  },
  {
   "cell_type": "markdown",
   "id": "fbc7ef9d-0b01-44f0-874d-0a5d031ec9ca",
   "metadata": {},
   "source": [
    "# III. Tensors and Categorical Variables\n",
    "<hr style=\"border:4px solid gray\"> </hr>"
   ]
  },
  {
   "cell_type": "code",
   "execution_count": null,
   "id": "7e3ce5dc-a0c3-4399-98e3-121609e4a901",
   "metadata": {},
   "outputs": [],
   "source": []
  },
  {
   "cell_type": "markdown",
   "id": "df8fb8f9-83d0-4f74-913a-1197f3d090c6",
   "metadata": {},
   "source": [
    "## A. Tabular Data: Preprocessing and Transforming Categorical Variables\n",
    "<hr style=\"border:2px solid gray\"> </hr>"
   ]
  },
  {
   "cell_type": "code",
   "execution_count": null,
   "id": "45169cb9-0375-47af-b71f-54455481dfb2",
   "metadata": {},
   "outputs": [],
   "source": []
  },
  {
   "cell_type": "markdown",
   "id": "93dc5440-7adc-48e0-8127-28ce19e9eb87",
   "metadata": {},
   "source": [
    "### 1. Dummy Encoding\n",
    "<hr style=\"border:1px solid gray\"> </hr>"
   ]
  },
  {
   "cell_type": "code",
   "execution_count": null,
   "id": "804fa1f2-3492-4f3f-869f-55040a9b2281",
   "metadata": {},
   "outputs": [],
   "source": []
  },
  {
   "cell_type": "code",
   "execution_count": null,
   "id": "c0b5f35d-93de-4ff1-b593-8a870bfdd42a",
   "metadata": {},
   "outputs": [],
   "source": []
  },
  {
   "cell_type": "markdown",
   "id": "cb6ebbc3-be8c-4963-b210-b36c95c815ae",
   "metadata": {},
   "source": [
    "### 2. Ordinal Encoding \n",
    "<hr style=\"border:1px solid gray\"> </hr>"
   ]
  },
  {
   "cell_type": "code",
   "execution_count": null,
   "id": "7d66b027-4699-477b-92a8-37da9e552aaa",
   "metadata": {},
   "outputs": [],
   "source": []
  },
  {
   "cell_type": "code",
   "execution_count": null,
   "id": "2595650b-3cce-4733-9273-2f619e06bd79",
   "metadata": {},
   "outputs": [],
   "source": []
  },
  {
   "cell_type": "markdown",
   "id": "3a108dfb-5797-44e0-8977-17c3652d54f9",
   "metadata": {},
   "source": [
    "## B. NLP Encoding Techniques\n",
    "<hr style=\"border:2px solid gray\"> </hr>"
   ]
  },
  {
   "cell_type": "markdown",
   "id": "2786a3ec-efa7-4f36-9a6f-01f073c41486",
   "metadata": {},
   "source": [
    "### 1. One Hot Encoding\n",
    "<hr style=\"border:1px solid gray\"> </hr>"
   ]
  },
  {
   "cell_type": "code",
   "execution_count": null,
   "id": "efc0fc38-0576-48dd-8549-37632f28a9b1",
   "metadata": {},
   "outputs": [],
   "source": []
  },
  {
   "cell_type": "code",
   "execution_count": null,
   "id": "04dfae14-6bc3-4d2f-b6ea-eafa81207935",
   "metadata": {},
   "outputs": [],
   "source": []
  },
  {
   "cell_type": "code",
   "execution_count": null,
   "id": "393f1821-f417-4381-a6be-485ad4d630ac",
   "metadata": {},
   "outputs": [],
   "source": []
  },
  {
   "cell_type": "markdown",
   "id": "d302086c-38ce-4c5a-a6de-1e46971ce57f",
   "metadata": {},
   "source": [
    "### 2. Tokenization: A dive into Numeric Encoding\n",
    "<hr style=\"border:1px solid gray\"> </hr>"
   ]
  },
  {
   "cell_type": "code",
   "execution_count": null,
   "id": "bb852fc2-cff8-404d-affc-d3f6935fb863",
   "metadata": {},
   "outputs": [],
   "source": []
  },
  {
   "cell_type": "code",
   "execution_count": null,
   "id": "5e141335-320c-45f4-b380-be8ddd99a614",
   "metadata": {},
   "outputs": [],
   "source": []
  },
  {
   "cell_type": "code",
   "execution_count": null,
   "id": "40834943-2e81-49cc-9c2c-7a528c55c06d",
   "metadata": {},
   "outputs": [],
   "source": []
  },
  {
   "cell_type": "markdown",
   "id": "32f5b550-9bf6-4e37-8103-a5e85cf82928",
   "metadata": {},
   "source": [
    "## C. Embeddings \n",
    "<hr style=\"border:2px solid gray\"> </hr>"
   ]
  },
  {
   "cell_type": "code",
   "execution_count": null,
   "id": "88f219b9-5736-413d-b7d7-7125721ccec3",
   "metadata": {},
   "outputs": [],
   "source": []
  },
  {
   "cell_type": "code",
   "execution_count": null,
   "id": "311f72c6-87b6-4650-9e81-a3856ab2f99e",
   "metadata": {},
   "outputs": [],
   "source": []
  },
  {
   "cell_type": "markdown",
   "id": "e4338179-5328-4eb9-b14a-d0e5148bbd97",
   "metadata": {},
   "source": [
    "### 1. NLP Word Embeddings\n",
    "<hr style=\"border:1px solid gray\"> </hr>"
   ]
  },
  {
   "cell_type": "markdown",
   "id": "036eec14-9193-4956-8eab-d4207dca232c",
   "metadata": {},
   "source": []
  },
  {
   "cell_type": "code",
   "execution_count": null,
   "id": "960f62a0-5096-4f22-91ca-4c89a9e854fd",
   "metadata": {},
   "outputs": [],
   "source": []
  },
  {
   "cell_type": "markdown",
   "id": "1f92fc2b-fca4-479c-bbfa-e96001fa2664",
   "metadata": {},
   "source": [
    "### 2. Categorical Embeddings in Tabular Data\n",
    "<hr style=\"border:1px solid gray\"> </hr>"
   ]
  },
  {
   "cell_type": "markdown",
   "id": "9d25a41a-25d2-4199-b406-3a6d918c4270",
   "metadata": {},
   "source": []
  },
  {
   "cell_type": "code",
   "execution_count": null,
   "id": "4e1d4deb-8364-4e1f-a394-28bb9ed0824a",
   "metadata": {},
   "outputs": [],
   "source": []
  },
  {
   "cell_type": "code",
   "execution_count": null,
   "id": "aef76482-3f51-4160-a976-569aeb85977c",
   "metadata": {},
   "outputs": [],
   "source": []
  },
  {
   "cell_type": "markdown",
   "id": "1c0aebc6-56a4-4833-9917-a0eda9cccd6a",
   "metadata": {},
   "source": [
    "# Conclusion and Discussion Questions\n",
    "<hr style=\"border:4px solid gray\"> </hr>"
   ]
  },
  {
   "cell_type": "code",
   "execution_count": null,
   "id": "fedda394-83c7-40d0-a559-0537e8e53b04",
   "metadata": {},
   "outputs": [],
   "source": []
  },
  {
   "cell_type": "markdown",
   "id": "91ba6034-b0bc-4071-9ca5-f1d1a5a5892b",
   "metadata": {},
   "source": [
    "## Conclusion\n",
    "<hr style=\"border:2px solid gray\"> </hr>"
   ]
  },
  {
   "cell_type": "code",
   "execution_count": null,
   "id": "c3b7f47c-05dd-4b4a-bf6f-afa4ac0e91a8",
   "metadata": {},
   "outputs": [],
   "source": []
  },
  {
   "cell_type": "code",
   "execution_count": null,
   "id": "2cc1270f-25d2-4ab6-b8c2-a1dc87a5a9fd",
   "metadata": {},
   "outputs": [],
   "source": []
  },
  {
   "cell_type": "code",
   "execution_count": null,
   "id": "6f5b1567-0419-4110-bc88-549d71279da0",
   "metadata": {},
   "outputs": [],
   "source": []
  },
  {
   "cell_type": "markdown",
   "id": "a8d12eea-a388-41d6-b3c6-9663e9d4a80a",
   "metadata": {},
   "source": [
    "## Discussion Questions\n",
    "<hr style=\"border:2px solid gray\"> </hr>"
   ]
  },
  {
   "cell_type": "code",
   "execution_count": null,
   "id": "181b5439-9d1a-4972-87b6-8c744b7fb7d1",
   "metadata": {},
   "outputs": [],
   "source": []
  },
  {
   "cell_type": "code",
   "execution_count": null,
   "id": "27dc7b43-aad3-46bd-af05-11c451653a64",
   "metadata": {},
   "outputs": [],
   "source": []
  },
  {
   "cell_type": "markdown",
   "id": "5bad9171-5491-46f6-9fd1-870212c31686",
   "metadata": {},
   "source": [
    "### Section 1: Tensors \n",
    "<hr style=\"border:1px solid gray\"> </hr>"
   ]
  },
  {
   "cell_type": "code",
   "execution_count": null,
   "id": "fb208cbe-2d9a-4ac1-b082-6c6e7000ee90",
   "metadata": {},
   "outputs": [],
   "source": []
  },
  {
   "cell_type": "code",
   "execution_count": null,
   "id": "f34cadd6-ff71-4cba-b12f-3cf5a612bb86",
   "metadata": {},
   "outputs": [],
   "source": []
  },
  {
   "cell_type": "markdown",
   "id": "8a233440-9b4c-4369-a18f-49077c083e65",
   "metadata": {},
   "source": [
    "### Section 2: Continous Variables\n",
    "<hr style=\"border:1px solid gray\"> </hr>"
   ]
  },
  {
   "cell_type": "code",
   "execution_count": null,
   "id": "41617d7e-af49-4ac0-86e3-2072a87cb089",
   "metadata": {},
   "outputs": [],
   "source": []
  },
  {
   "cell_type": "code",
   "execution_count": null,
   "id": "22323c5e-2804-446e-9c0d-1d5d531ef33a",
   "metadata": {},
   "outputs": [],
   "source": []
  },
  {
   "cell_type": "markdown",
   "id": "b70cd796-a517-4c4c-991a-c57e2cf18f5b",
   "metadata": {},
   "source": [
    "### Section 3:  Categorical Variables\n",
    "<hr style=\"border:1px solid gray\"> </hr>"
   ]
  },
  {
   "cell_type": "code",
   "execution_count": null,
   "id": "e5e51210-fdb8-412a-9fa9-7741ac1e65f5",
   "metadata": {},
   "outputs": [],
   "source": []
  },
  {
   "cell_type": "code",
   "execution_count": null,
   "id": "065cd164-b7a2-4ca1-8d9a-ee36828fce1d",
   "metadata": {},
   "outputs": [],
   "source": []
  },
  {
   "cell_type": "code",
   "execution_count": null,
   "id": "dddafbd1-a511-4ade-b960-8b711d899090",
   "metadata": {},
   "outputs": [],
   "source": []
  }
 ],
 "metadata": {
  "kernelspec": {
   "display_name": "unpackAIdev",
   "language": "python",
   "name": "unpackaidev"
  },
  "language_info": {
   "codemirror_mode": {
    "name": "ipython",
    "version": 3
   },
   "file_extension": ".py",
   "mimetype": "text/x-python",
   "name": "python",
   "nbconvert_exporter": "python",
   "pygments_lexer": "ipython3",
   "version": "3.8.12"
  }
 },
 "nbformat": 4,
 "nbformat_minor": 5
}
