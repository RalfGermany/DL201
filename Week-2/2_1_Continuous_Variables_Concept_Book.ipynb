{
 "cells": [
  {
   "cell_type": "markdown",
   "id": "34c99e8e",
   "metadata": {},
   "source": [
    "# 💻 UnpackAI DL201 Bootcamp - Week 2 - Concepts: Continuous Variables"
   ]
  },
  {
   "cell_type": "markdown",
   "id": "a807e38e",
   "metadata": {},
   "source": [
    "### 📕 Learning Objectives\n",
    "<hr style=\"border:2px solid gray\"> </hr>\n"
   ]
  },
  {
   "cell_type": "markdown",
   "id": "520bc0ac",
   "metadata": {},
   "source": [
    "* Firmly grasp how continuous variables have a mathematical meaning which allows for certain algorithms to use them as input data  \n",
    "* Gain an Appreciation for how **scaling** can not only decrease training time, but also increase increase the quality of the input data in both tabular and image data\n",
    "* Understand the differences between standardization and normalization, and in which situations to apply them\n",
    "* Build awareness of the importance of the normal distribution, and how to transform data using log and boxcox transforms\n",
    "* Appreciate how these very same properties can be applied in 2 or more dimensions in image data through broadcasting methods\n",
    "\n"
   ]
  },
  {
   "cell_type": "markdown",
   "id": "c0db4a2f",
   "metadata": {},
   "source": [
    "### 📖 Concepts map\n",
    "<hr style=\"border:2px solid gray\"> </hr>\n"
   ]
  },
  {
   "cell_type": "markdown",
   "id": "34a535eb",
   "metadata": {},
   "source": [
    "* Quantitative vs Qualitative\n",
    "* Fundamental Theorem of Calculus\n",
    "* Law of Large Numbers/\n",
    "* Normal Distribution\n",
    "* Standard Deviation\n",
    "* Skew\n",
    "* Tensor Data Types\n",
    "* Garbage in Garbage out\n",
    "* Local vs Global Transformation\n"
   ]
  },
  {
   "cell_type": "code",
   "execution_count": 1,
   "id": "4ed11a30-bcf1-45f8-b936-12a1479df541",
   "metadata": {},
   "outputs": [],
   "source": [
    "#Imports\n",
    "!pip install openpyxl\n",
    "!git clone https://github.com/unpackAI/DL201.git\n",
    "\n",
    "\n",
    "# Imports \n",
    "from pathlib import Path\n",
    "\n",
    "import pandas as pd\n",
    "import numpy as np\n",
    "import seaborn as sns\n",
    "from matplotlib import pyplot as plt\n",
    "\n",
    "\n",
    "# Kaggle Config\n",
    "IMAGE_DIR = Path('/kaggle/working/DL201/img') #uncomment for Kaggle\n",
    "DATA_DIR = Path('/kaggle/working/DL201/data')\n",
    "\n",
    "# Local Config\n",
    "#DATA_DIR = Path.home()/'Datasets/unpackAI/DL201/data' #uncomment/adjust for local machine\n",
    "#IMAGE_DIR = Path.home()/'Projects/unpackAI/DL201/img'  #uncomment/change for local machine\n",
    "\n",
    "\n",
    "### Functions\n",
    "\n",
    "# Splits columns into categorical and continious variables \n",
    "def cont_cat_split(df, max_card=20, dep_var=None):\n",
    "    \"Helper function that returns column names of cont and cat variables from given `df`.\"\n",
    "    cont_names, cat_names = [], []\n",
    "    for label in df:\n",
    "        #if label in L(dep_var): continue\n",
    "        if ((pd.api.types.is_integer_dtype(df[label].dtype) and\n",
    "            df[label].unique().shape[0] > max_card) or\n",
    "            pd.api.types.is_float_dtype(df[label].dtype)):\n",
    "            cont_names.append(label)\n",
    "        else: cat_names.append(label)\n",
    "    return cont_names, cat_names\n",
    "\n",
    "\n"
   ]
  },
  {
   "cell_type": "markdown",
   "id": "a57e5010",
   "metadata": {},
   "source": [
    "## What is a Continuous Variable?\n",
    "<hr style=\"border:2px solid gray\"> </hr>\n"
   ]
  },
  {
   "cell_type": "markdown",
   "id": "4a09d2ac",
   "metadata": {},
   "source": [
    "There are primarily two kinds of variables in statistics, being continuous and categorical. Continuous variables are quantifiable numbers that exist on a spectrum. An ideal continuous variable can be any number or decimal between the minimum and maximum. For example, measurements based in units such as grams, meters, and liters, temperature ect. meet this criteria. \n",
    "\n",
    "However, it gets a bit fuzzy when you have real world data. However, there's enough data, it's generally accepted to treat anything that can exist on an ordered spectrum, has many possible states and has mathematical meaning as a continuous variable. For example, financial data such as revenue, profits, number of items sold, or price are continuous variables.\n",
    "\n",
    "Another question here comes down to where an image fits into this. Because there are many different possible values in a pixel, and many thousands of pixels in each image, it becomes possible to treat an image as a continuous variable. Because they have these same, base, numerical properties, it is possible to extend the same techniques done across columns in statistics and broadcast them in 2 or 3 dimensions. "
   ]
  },
  {
   "cell_type": "markdown",
   "id": "323bdd97",
   "metadata": {},
   "source": [
    "### What are some examples of continuous variables\n",
    "\n",
    "* Weight\n",
    "* Running Distance\n",
    "* Revenue\n",
    "* Number of Tickets Sold\n",
    "\n",
    "* Grayscale Image\n",
    "* RGB Image"
   ]
  },
  {
   "cell_type": "code",
   "execution_count": 2,
   "id": "531c4cfb",
   "metadata": {},
   "outputs": [],
   "source": [
    "houses_df = pd.read_csv(DATA_DIR/'house-prices'/'train.csv',index_col=0)"
   ]
  },
  {
   "cell_type": "code",
   "execution_count": 3,
   "id": "46f2a605",
   "metadata": {},
   "outputs": [],
   "source": [
    "cont_vars, cat_vars = cont_cat_split(houses_df)"
   ]
  },
  {
   "cell_type": "markdown",
   "id": "673a2d1c",
   "metadata": {},
   "source": [
    "Here are the continuous variables in this dataset."
   ]
  },
  {
   "cell_type": "code",
   "execution_count": 4,
   "id": "a65f7df4",
   "metadata": {},
   "outputs": [
    {
     "name": "stdout",
     "output_type": "stream",
     "text": [
      "['LotFrontage', 'LotArea', 'YearBuilt', 'YearRemodAdd', 'MasVnrArea', 'BsmtFinSF1', 'BsmtFinSF2', 'BsmtUnfSF', 'TotalBsmtSF', '1stFlrSF', '2ndFlrSF', 'LowQualFinSF', 'GrLivArea', 'GarageYrBlt', 'GarageArea', 'WoodDeckSF', 'OpenPorchSF', 'EnclosedPorch', 'ScreenPorch', 'MiscVal', 'SalePrice']\n"
     ]
    }
   ],
   "source": [
    "print(cont_vars)"
   ]
  },
  {
   "cell_type": "markdown",
   "id": "6fd6ed71",
   "metadata": {},
   "source": [
    "If you wish to swap one of the features of your dataset, you can use this function to do so."
   ]
  },
  {
   "cell_type": "code",
   "execution_count": 5,
   "id": "825a7be9",
   "metadata": {},
   "outputs": [],
   "source": [
    "def change_feature_type(swapFeature,cat_vars,cont_vars):\n",
    "    cat_df = pd.DataFrame(cat_vars)\n",
    "    cont_df = pd.DataFrame(cont_vars)\n",
    "\n",
    "    cat_result = cat_df[cat_df[0]==swapFeature]\n",
    "    cont_result = cont_df[cont_df[0]==swapFeature]\n",
    "\n",
    "    if len(cat_result) > 0:\n",
    "        print(f'Found: {swapFeature} in catagorical varaibles, swapping to continous variable')\n",
    "        cont_vars.append(swapFeature)\n",
    "        cat_vars.remove(swapFeature)\n",
    "\n",
    "    elif len(cont_result) > 0:\n",
    "        print(f'Found: {swapFeature} in continuous variables, swapping to catagorical variable')\n",
    "        cat_vars.append(swapFeature)\n",
    "        cont_vars.remove(swapFeature)\n",
    "\n",
    "    else:\n",
    "        print(f\"Feature: {swapFeature} was not found in either list, please check spelling\")  \n",
    "    return (cat_vars,cont_vars)"
   ]
  },
  {
   "cell_type": "code",
   "execution_count": 6,
   "id": "120fdfea",
   "metadata": {},
   "outputs": [],
   "source": [
    "#swapThisFeature = '' #'Column_Name'\n",
    "\n",
    "#cat_vars, cont_vars = change_feature_type(swapThisFeature,cat_vars,cont_vars)\n"
   ]
  },
  {
   "cell_type": "markdown",
   "id": "a4198963",
   "metadata": {},
   "source": [
    "## How can Machine Learning and Deep Learning Use Them?\n",
    "<hr style=\"border:2px solid gray\"> </hr>\n"
   ]
  },
  {
   "cell_type": "markdown",
   "id": "31b3fc54",
   "metadata": {},
   "source": [
    "As a result of being numbers, they have some amazing properties that form the foundations which science, and ultimately many Machine Learning and Deep Learning models are built on. "
   ]
  },
  {
   "cell_type": "markdown",
   "id": "6eca2f59",
   "metadata": {},
   "source": [
    "### Mathematical Meaning\n",
    "\n"
   ]
  },
  {
   "cell_type": "markdown",
   "id": "ad38f737",
   "metadata": {},
   "source": [
    "For this, at a high level, there are two very critical properties of continous numbers that models use we are going to talk about.\n",
    "\n",
    "* One is the the slope of a line, which comes from methods of calculus.\n",
    "\n",
    "* The Second is distance, which comes from geometry. \n",
    "\n",
    "The first point about the slope of a line (or gradient 2D+) gives us the parameters in regression based models, SGD (Stochastic Grade Descent) ect.\n",
    "\n",
    "The second property of distance we can use, allows us to create a relationship between different values using the concept of distance (Euclidean Distance).\n",
    "\n",
    "At this point, we're note getting into how the models work, but rather going over just enough to understand the reasons why they need to be preprocessed to get the best results out of a Machine Learning or Deep Learning Model. \n",
    "\n"
   ]
  },
  {
   "cell_type": "markdown",
   "id": "041f5760",
   "metadata": {},
   "source": [
    "## Why do We Need to Scale Continuous Variables?\n",
    "<hr style=\"border:2px solid gray\"> </hr>\n"
   ]
  },
  {
   "cell_type": "markdown",
   "id": "fe04a34d",
   "metadata": {},
   "source": [
    "### Many AI Algorithms Train Faster\n",
    "<hr style=\"border:2px solid gray\"> </hr>\n"
   ]
  },
  {
   "cell_type": "markdown",
   "id": "18fd2e3f",
   "metadata": {},
   "source": [
    "Real world data can have many different forms. There could be continuous variables that have only small differences between the largest and smallest value, or there can be a range of millions. \n",
    "\n",
    "But, because there are numbers involved, it's not so much the actual values that are important, but the relationship between them. Scaling not only makes the models have to work less hard, but extracts the key relationships in the data which actually are important and puts them onto a level playing field."
   ]
  },
  {
   "cell_type": "markdown",
   "id": "f949b9e0",
   "metadata": {},
   "source": [
    "#### Models that use Distance as a measure"
   ]
  },
  {
   "cell_type": "markdown",
   "id": "e6d16a8d",
   "metadata": {},
   "source": [
    "Models such as K-Means or K-Nearest Neighbors use the concept of distance to extract information from the features. \n",
    "\n",
    "If the different features have very different ranges of values, then not only does the model have to train longer to get the relationships, but the distances are relative only to themselves rather than across the dataset. \n",
    "\n",
    "For example, if we had a distance of meters walked by an ant, and a distance of kilometers walked by an elephant, then the distance the elephant traveled is much greater, even if the ant traveled much further relative to it's body size. "
   ]
  },
  {
   "cell_type": "markdown",
   "id": "8ad72f54",
   "metadata": {},
   "source": [
    "#### Models that calculate gradients/slopes"
   ]
  },
  {
   "cell_type": "markdown",
   "id": "e187dabd",
   "metadata": {},
   "source": [
    "Other models, such as SGD (Stochastic Grade Descent) use the concept of slope to optimize the performance of the model. When the values are normalized within a same range, it trains faster than having some parameters as huge, than other parameters as very small."
   ]
  },
  {
   "cell_type": "markdown",
   "id": "a8dcc000",
   "metadata": {},
   "source": [
    "### Allows model to become more complex\n",
    "<hr style=\"border:2px solid gray\"> </hr>\n",
    "\n",
    "In Deep Learning there can be thousands upon thousands of parameters in a model. As a result, some of the parameters can become quite tiny because they all need to add up to a small value.\n",
    "\n",
    "If some of the features are larger than others, then it drowns out the importance of smaller valued features. By having scaled values, we can increase the complexity of the model\n",
    "\n"
   ]
  },
  {
   "cell_type": "markdown",
   "id": "2bf15db6",
   "metadata": {},
   "source": [
    "Scaling continuous variables is critical not only to save computer resources, but also to improve the accuracy of the model. Many AutoML tools do this automatically, but it is important to understand the concepts so that they are applied appropriately."
   ]
  },
  {
   "cell_type": "markdown",
   "id": "b8afd720",
   "metadata": {},
   "source": [
    "# Section 1: Scaling Tabular Data \n",
    "<hr style=\"border:4px solid gray\"> </hr>\n"
   ]
  },
  {
   "cell_type": "markdown",
   "id": "fffb3ba1",
   "metadata": {},
   "source": [
    "In this notebook, we'll start with Tabular Data because we can treat it as 1D, then build up the knowledge base so that it can be applied to images as well."
   ]
  },
  {
   "cell_type": "markdown",
   "id": "42dc7455",
   "metadata": {},
   "source": [
    "### Normalization \n",
    "<hr style=\"border:2px solid gray\"> </hr>\n"
   ]
  },
  {
   "cell_type": "markdown",
   "id": "e73c834f-c692-4be2-b0be-9d4d2d31116d",
   "metadata": {},
   "source": [
    "#### Min Max Scaling \n",
    "\n",
    "One problem that could result from having a large range of data is that the large numbers and variance can cause the model to see it as more important than variables that have a smaller variance. \n",
    "\n",
    "Normalization can put the values into a range that falls between zero and one\n",
    "\n",
    "This is a way of scaling takes a value, sutracts it from the smallest value in the column, then divides it by the difference between the largest and smallest columns.\n",
    "\n",
    "$$ \\tilde{x}_i = \\frac{x_i - x_{min}}{x_{max} - x_{min}}. $$\n",
    "\n",
    "This is useful in situations which are not sensitive to outliars. Since, if there is a huge max or tiny minimum value is going to drastically affect the formula. \n",
    "\n",
    "A year column would benefit from this kind of transformation. Since we are in the 21st century, everything in this column is going to have a huge offset of 2000"
   ]
  },
  {
   "cell_type": "code",
   "execution_count": 7,
   "id": "182ec02e-9195-40a9-a095-5cefaffd4d7f",
   "metadata": {},
   "outputs": [
    {
     "data": {
      "text/plain": [
       "1971.267808219178"
      ]
     },
     "execution_count": 7,
     "metadata": {},
     "output_type": "execute_result"
    }
   ],
   "source": [
    "houses_df['YearBuilt'].mean()"
   ]
  },
  {
   "cell_type": "code",
   "execution_count": 8,
   "id": "3d6c7b86",
   "metadata": {},
   "outputs": [
    {
     "data": {
      "text/plain": [
       "<AxesSubplot:xlabel='YearBuilt', ylabel='Count'>"
      ]
     },
     "execution_count": 8,
     "metadata": {},
     "output_type": "execute_result"
    },
    {
     "data": {
      "image/png": "[encoded data removed]",
      "text/plain": [
       "<Figure size 432x288 with 1 Axes>"
      ]
     },
     "metadata": {
      "needs_background": "light"
     },
     "output_type": "display_data"
    }
   ],
   "source": [
    "sns.histplot(houses_df['YearBuilt'])"
   ]
  },
  {
   "cell_type": "markdown",
   "id": "35b1d631-b0a8-4e29-9eaa-ac22c286b5f4",
   "metadata": {},
   "source": [
    "In a large model, this is a problem, because it will change the parameter associated with the house prices to assume that the number will be very large relative to the other ones.  "
   ]
  },
  {
   "cell_type": "code",
   "execution_count": 9,
   "id": "6f2a9da5-53ec-4cfc-bfe6-55beb30090ea",
   "metadata": {},
   "outputs": [],
   "source": [
    "from sklearn.preprocessing import MinMaxScaler\n",
    "min_max_scaler = MinMaxScaler()\n",
    "\n",
    "df = houses_df\n",
    "\n",
    "column_names_to_normalize = ['YearBuilt','YearRemodAdd','GarageYrBlt']\n",
    "\n",
    "\n",
    "x = df[column_names_to_normalize].values\n",
    "x_scaled = min_max_scaler.fit_transform(x)\n",
    "\n",
    "df_temp = pd.DataFrame(x_scaled, columns=column_names_to_normalize, index = df.index)\n",
    "df[column_names_to_normalize] = df_temp\n",
    "\n",
    "houses_df = df.copy()"
   ]
  },
  {
   "cell_type": "code",
   "execution_count": 10,
   "id": "57dc0b5c-af23-46af-a77b-0053b079ef16",
   "metadata": {},
   "outputs": [
    {
     "data": {
      "text/plain": [
       "count    1460.000000\n",
       "mean        0.719332\n",
       "std         0.218862\n",
       "min         0.000000\n",
       "25%         0.594203\n",
       "50%         0.731884\n",
       "75%         0.927536\n",
       "max         1.000000\n",
       "Name: YearBuilt, dtype: float64"
      ]
     },
     "execution_count": 10,
     "metadata": {},
     "output_type": "execute_result"
    }
   ],
   "source": [
    "houses_df['YearBuilt'].describe()"
   ]
  },
  {
   "cell_type": "code",
   "execution_count": 11,
   "id": "e990c423-0561-4dda-8d82-4b812d8a9a1e",
   "metadata": {},
   "outputs": [
    {
     "data": {
      "text/plain": [
       "<AxesSubplot:xlabel='YearBuilt', ylabel='Count'>"
      ]
     },
     "execution_count": 11,
     "metadata": {},
     "output_type": "execute_result"
    },
    {
     "data": {
      "image/png": "[encoded data removed]",
      "text/plain": [
       "<Figure size 432x288 with 1 Axes>"
      ]
     },
     "metadata": {
      "needs_background": "light"
     },
     "output_type": "display_data"
    }
   ],
   "source": [
    "sns.histplot(houses_df['YearBuilt'])"
   ]
  },
  {
   "cell_type": "markdown",
   "id": "0ab68280",
   "metadata": {},
   "source": [
    "Although it is no longer meaningful to a person because we've lost the dates and our associations with them, it is much more clear to a machine because all the values are between zero and one. \n",
    "\n",
    "This transform does not change the ratios of values to eachother. The two graphs look identical, except for now that they have different values. "
   ]
  },
  {
   "cell_type": "markdown",
   "id": "6cbf2108-7149-4a8a-bf4c-98de802e8e10",
   "metadata": {},
   "source": [
    "Why is the skew unaffected by this transform? What information does this transform preserve?"
   ]
  },
  {
   "cell_type": "code",
   "execution_count": 12,
   "id": "c2a0e4f3-8c7c-4374-ba20-414a288c21bb",
   "metadata": {},
   "outputs": [
    {
     "data": {
      "text/plain": [
       "-0.6134611724881864"
      ]
     },
     "execution_count": 12,
     "metadata": {},
     "output_type": "execute_result"
    }
   ],
   "source": [
    "houses_df['YearBuilt'].skew()"
   ]
  },
  {
   "cell_type": "markdown",
   "id": "03348bc8",
   "metadata": {},
   "source": [
    "Generally speaking, standardization should be used when your model has a regularization term or is otherwise sensitive to the scaling of the input features. Standardization transforms all features onto the same scaling, thereby ensuring that regularization and other scaling-sensitive operations work properly."
   ]
  },
  {
   "cell_type": "markdown",
   "id": "858329be",
   "metadata": {},
   "source": [
    "### Standardization \n",
    "<hr style=\"border:2px solid gray\"> </hr>\n"
   ]
  },
  {
   "cell_type": "markdown",
   "id": "eff58c46",
   "metadata": {},
   "source": [
    "Problems with large scales of numbers can be that it is not easy to see a pattern if there are a huge range of possible values.\n",
    "\n",
    "This is where the normal distribution comes in. A normal distribution is an incredibly important property of large samples that allows a class of machine learning algorithms to work.\n",
    "\n",
    "They do this because a probability value can be assigned to a sample. Based on how far it is from the mean, assumptions can be made about how likely this value is to appear.\n",
    "\n",
    "\n",
    " If they are standardized, we are no longer looking at the raw value. But instead looks at how many standard deviations it is from the mean.\n",
    "\n",
    " Again, it is not the individual numbers that are important, but the relationship between them which really matters. Standardization shows this to the model more clearly.\n",
    "\n",
    "https://www.kdnuggets.com/2020/04/data-transformation-standardization-normalization.html"
   ]
  },
  {
   "cell_type": "markdown",
   "id": "dc05736f",
   "metadata": {},
   "source": [
    "### Skewed Data\n",
    "\n",
    "The problem is that data often comes in a skewed form. This can be corrected by various transforms. \n",
    "\n",
    "Although there is no consensus on the threshold of what constitutes skewed data, but for the purposes of this notebook, a skew value above 1 is considered skewed. "
   ]
  },
  {
   "cell_type": "code",
   "execution_count": 13,
   "id": "ffafee9a",
   "metadata": {},
   "outputs": [
    {
     "name": "stdout",
     "output_type": "stream",
     "text": [
      "Skew of Sales Price Distribution:  1.8828757597682129\n"
     ]
    },
    {
     "data": {
      "image/png": "[encoded data removed]",
      "text/plain": [
       "<Figure size 432x288 with 1 Axes>"
      ]
     },
     "metadata": {
      "needs_background": "light"
     },
     "output_type": "display_data"
    }
   ],
   "source": [
    "sns.histplot(houses_df['SalePrice'])\n",
    "print('Skew of Sales Price Distribution: ', houses_df['SalePrice'].skew())"
   ]
  },
  {
   "cell_type": "markdown",
   "id": "20b495ed",
   "metadata": {},
   "source": [
    "This looks like a very nice graph, but it has a real problem. There is a strong skew to the left with an appreciable tail. As you can see below, the skew value is quite large"
   ]
  },
  {
   "cell_type": "code",
   "execution_count": 14,
   "id": "8263eb25",
   "metadata": {},
   "outputs": [],
   "source": [
    "skewedFeatures = houses_df[cont_vars].skew().sort_values(ascending=False)\n",
    "skewedFeatures = pd.DataFrame({'Skew':skewedFeatures})\n",
    "PositiveSkewedFeatures = skewedFeatures[skewedFeatures['Skew'] > 1 ]\n",
    "\n",
    "skewedFeatures = houses_df[cont_vars].skew().sort_values(ascending=False)\n",
    "skewedFeatures = pd.DataFrame({'Skew':skewedFeatures})\n",
    "NegativeSkewedFeatures = skewedFeatures[skewedFeatures['Skew'] < -1 ]\n",
    "\n",
    "normalFeatures = houses_df[cont_vars].skew().sort_values(ascending=False)\n",
    "normalFeatures = pd.DataFrame({'Skew':normalFeatures})\n",
    "normalFeatures = normalFeatures[normalFeatures['Skew'].abs() < 1 ]"
   ]
  },
  {
   "cell_type": "code",
   "execution_count": 15,
   "id": "4721d116",
   "metadata": {},
   "outputs": [
    {
     "name": "stdout",
     "output_type": "stream",
     "text": [
      "Number of Negative Skewed Features:  0\n",
      "Number of Positive Skewed Features:  15\n",
      "Number of not Skewed Features:  6\n"
     ]
    }
   ],
   "source": [
    "print('Number of Negative Skewed Features: ',len(NegativeSkewedFeatures))\n",
    "print('Number of Positive Skewed Features: ',len(PositiveSkewedFeatures))\n",
    "print('Number of not Skewed Features: ',len(normalFeatures))"
   ]
  },
  {
   "cell_type": "markdown",
   "id": "f939a891",
   "metadata": {},
   "source": [
    "These statistics, among many others can rapidly and easily be obtained by pandas methods and a quick internet search.\n",
    "\n",
    "In this notebook, we don't go into kurtosis for lack of time, but this is also available in the pandas library."
   ]
  },
  {
   "cell_type": "markdown",
   "id": "bfec20fe-89fb-49ee-91eb-c72993dcfa81",
   "metadata": {},
   "source": [
    "#### Log Transforms \n",
    "\n",
    "Log transforms help to normalize data significantly. This is useful in positive skew distributions"
   ]
  },
  {
   "cell_type": "code",
   "execution_count": 16,
   "id": "fecafc54-a4c4-49db-9b32-a62409a603c4",
   "metadata": {},
   "outputs": [],
   "source": [
    "houses_df['SalePrice'] = np.log(houses_df['SalePrice'])\n"
   ]
  },
  {
   "cell_type": "code",
   "execution_count": 17,
   "id": "a21b58f7-cce0-4137-b0ff-1bb8c124a832",
   "metadata": {},
   "outputs": [
    {
     "data": {
      "text/plain": [
       "<AxesSubplot:xlabel='SalePrice', ylabel='Count'>"
      ]
     },
     "execution_count": 17,
     "metadata": {},
     "output_type": "execute_result"
    },
    {
     "data": {
      "image/png": "[encoded data removed]",
      "text/plain": [
       "<Figure size 432x288 with 1 Axes>"
      ]
     },
     "metadata": {
      "needs_background": "light"
     },
     "output_type": "display_data"
    }
   ],
   "source": [
    "sns.histplot(houses_df['SalePrice'])"
   ]
  },
  {
   "cell_type": "markdown",
   "id": "011ea58a-f621-46e7-8551-45cf4edf6d7f",
   "metadata": {},
   "source": [
    "As you can see, this graph is now looking much more like a normal distribution. It has a skew much closer to zero, which means that we can use linear models, and the model will train faster."
   ]
  },
  {
   "cell_type": "code",
   "execution_count": 18,
   "id": "8a2e08bf-8882-42ba-b20b-2920b850d787",
   "metadata": {},
   "outputs": [
    {
     "data": {
      "text/plain": [
       "0.12133506220520393"
      ]
     },
     "execution_count": 18,
     "metadata": {},
     "output_type": "execute_result"
    }
   ],
   "source": [
    "houses_df['SalePrice'].skew()"
   ]
  },
  {
   "cell_type": "markdown",
   "id": "d0497859",
   "metadata": {},
   "source": [
    "#### Boxcox Transform\n",
    "\n",
    "The Boxcox Transform is another method in the scipy library that usually performs better than log transforms. It is a commonly used tool to normalize skewed data"
   ]
  },
  {
   "cell_type": "code",
   "execution_count": 19,
   "id": "ac34c20b",
   "metadata": {},
   "outputs": [],
   "source": [
    "skewedFeatures = houses_df[cont_vars].skew().sort_values(ascending=False)\n",
    "skewedFeatures = pd.DataFrame({'Skew':skewedFeatures})\n",
    "skewedFeatures = skewedFeatures[skewedFeatures['Skew'] > 1 ]"
   ]
  },
  {
   "cell_type": "code",
   "execution_count": 20,
   "id": "d481878a",
   "metadata": {},
   "outputs": [
    {
     "name": "stdout",
     "output_type": "stream",
     "text": [
      "MiscVal skewed decreased from 24.48 to 5.02\n",
      "LotArea skewed decreased from 12.21 to 0.03\n",
      "LowQualFinSF skewed decreased from 9.01 to 7.3\n",
      "BsmtFinSF2 skewed decreased from 4.26 to 2.43\n",
      "ScreenPorch skewed decreased from 4.12 to 3.11\n",
      "EnclosedPorch skewed decreased from 3.09 to 2.05\n",
      "OpenPorchSF skewed decreased from 2.36 to -0.17\n",
      "BsmtFinSF1 skewed decreased from 1.69 to -0.64\n",
      "WoodDeckSF skewed decreased from 1.54 to 0.09\n",
      "TotalBsmtSF skewed decreased from 1.52 to -0.43\n",
      "1stFlrSF skewed decreased from 1.38 to -0.0\n",
      "GrLivArea skewed decreased from 1.37 to 0.0\n"
     ]
    }
   ],
   "source": [
    "#stats\n",
    "from scipy import stats\n",
    "\n",
    "df = houses_df.copy()\n",
    "\n",
    "for col in skewedFeatures.index:\n",
    "    #print(col)\n",
    "    original_skew = round(df[col].skew(),2)\n",
    "    \n",
    "    #np.clip replaces zeros with tiny numbers\n",
    "    # to avoid how it's impossible to take\n",
    "    # the log of zero\n",
    "    \n",
    "    transformed_col = stats.boxcox(np.clip(df[col],0.0001,None))[0]\n",
    "    \n",
    "    tsfm_skew = round(pd.Series(transformed_col).skew(),2)\n",
    "    \n",
    "    if abs(tsfm_skew) < abs(original_skew):\n",
    "        df[col] = transformed_col\n",
    "        print(f'{col} skewed decreased from {original_skew} to {tsfm_skew}')\n",
    "    else:\n",
    "        pass\n",
    "\n",
    "\n",
    "houses_df = df"
   ]
  },
  {
   "cell_type": "code",
   "execution_count": 21,
   "id": "f9654f94",
   "metadata": {},
   "outputs": [],
   "source": [
    "from sklearn.preprocessing import StandardScaler\n",
    "standard_scalar = StandardScaler()\n",
    "\n",
    "df = houses_df\n",
    "\n",
    "columns_to_standardize = cont_vars\n",
    "\n",
    "x = df[columns_to_standardize].values\n",
    "\n",
    "\n",
    "x_scaled = standard_scalar.fit_transform(x)\n",
    "df_temp = pd.DataFrame(x_scaled, columns=columns_to_standardize, index = df.index)\n",
    "df[columns_to_standardize] = df_temp\n",
    "\n",
    "houses_df = df"
   ]
  },
  {
   "cell_type": "markdown",
   "id": "bb32bd73",
   "metadata": {},
   "source": [
    "# Section 2: Scaling Image Data\n",
    "<hr style=\"border:4px solid gray\"> </hr>\n"
   ]
  },
  {
   "cell_type": "markdown",
   "id": "da1eb8bc",
   "metadata": {},
   "source": [
    "Now that we have done through scaling 1D tabular data, it is only a matter of applying an understanding of broadcasting rules to  2D and 3D data. \n",
    "\n",
    "\n",
    "Because the normal distribution is so pervasive, it is only natural that it would appear in images as well. Images also often have a normal distribution of pixel values.\n"
   ]
  },
  {
   "cell_type": "markdown",
   "id": "fc8035ef",
   "metadata": {},
   "source": [
    "### Why do images need to be scaled?\n",
    "<hr style=\"border:2px solid gray\"> </hr>\n"
   ]
  },
  {
   "cell_type": "markdown",
   "id": "b589eacf",
   "metadata": {},
   "source": [
    "\n",
    "Secondly, scaling become even more important for images going into Neural Networks. Nueral Networks can have millions of parameters, and this can also affect the magnitude of the loss functions, and activation functions. It's easier for networks to learn when the data is scaled to zero mean, or between 0-1. "
   ]
  },
  {
   "cell_type": "code",
   "execution_count": 22,
   "id": "1f33eccd",
   "metadata": {},
   "outputs": [],
   "source": [
    "from PIL import Image\n",
    "from matplotlib import pyplot as plt\n",
    "\n",
    "imagePath = IMAGE_DIR/'week2'/'goldengatebridge.jpg'\n",
    "\n",
    "image = Image.open(imagePath)"
   ]
  },
  {
   "cell_type": "code",
   "execution_count": 23,
   "id": "48fae4cd",
   "metadata": {},
   "outputs": [
    {
     "data": {
      "image/png": "[encoded data removed]",
      "text/plain": [
       "<Figure size 432x288 with 1 Axes>"
      ]
     },
     "metadata": {
      "needs_background": "light"
     },
     "output_type": "display_data"
    }
   ],
   "source": [
    "# It's always a good idea to check the type\n",
    "type(image)\n",
    "plt.imshow(image)\n",
    "plt.show()"
   ]
  },
  {
   "cell_type": "markdown",
   "id": "d0a826e1",
   "metadata": {},
   "source": [
    "This image has many colors in it and is a good candidate to test using what we learned about tabular data and applying to higher dimensional data. Let's first represent it as a 3D array"
   ]
  },
  {
   "cell_type": "code",
   "execution_count": 24,
   "id": "ce343bb1",
   "metadata": {},
   "outputs": [],
   "source": [
    "rgb_array = np.asarray(image)"
   ]
  },
  {
   "cell_type": "code",
   "execution_count": 25,
   "id": "d830b3b9",
   "metadata": {},
   "outputs": [
    {
     "data": {
      "text/plain": [
       "(675, 1200, 3)"
      ]
     },
     "execution_count": 25,
     "metadata": {},
     "output_type": "execute_result"
    }
   ],
   "source": [
    "#always check the shape \n",
    "rgb_array.shape"
   ]
  },
  {
   "cell_type": "markdown",
   "id": "2bfac748",
   "metadata": {},
   "source": [
    "### Image Normalization\n",
    "<hr style=\"border:2px solid gray\"> </hr>\n"
   ]
  },
  {
   "cell_type": "markdown",
   "id": "2c31f6c5",
   "metadata": {},
   "source": [
    "most images have pixel values between 0 and 255.\n",
    "\n",
    "Since we are no longer using it to display it for a person to read, we should change its representation to make the mathematical meaning more clear. This not only speeds up the training process, but eliminates possible complications that become difficult to check out once the model is trained because there are so many parameters.\n",
    "\n",
    "Scaling all values to be between between 0-1 accomplishes this. "
   ]
  },
  {
   "cell_type": "code",
   "execution_count": 26,
   "id": "a81569c1",
   "metadata": {},
   "outputs": [],
   "source": [
    "# This allows us to make decimal values\n",
    "rgb_array = rgb_array.astype('float32')"
   ]
  },
  {
   "cell_type": "code",
   "execution_count": 27,
   "id": "04f3884d",
   "metadata": {},
   "outputs": [],
   "source": [
    "normalized_array = rgb_array / 255.0"
   ]
  },
  {
   "cell_type": "code",
   "execution_count": 28,
   "id": "6808a359",
   "metadata": {},
   "outputs": [
    {
     "data": {
      "text/plain": [
       "0.0"
      ]
     },
     "execution_count": 28,
     "metadata": {},
     "output_type": "execute_result"
    }
   ],
   "source": [
    "rgb_array.min()"
   ]
  },
  {
   "cell_type": "code",
   "execution_count": 29,
   "id": "745b5d5d",
   "metadata": {},
   "outputs": [
    {
     "data": {
      "text/plain": [
       "255.0"
      ]
     },
     "execution_count": 29,
     "metadata": {},
     "output_type": "execute_result"
    }
   ],
   "source": [
    "rgb_array.max()"
   ]
  },
  {
   "cell_type": "markdown",
   "id": "473aad00",
   "metadata": {},
   "source": [
    "Normalization is the best way to prepare data which you are not sure how to preprocess. It preserves all the quantifiable information in the dataset, and doesn't require any statistics to do."
   ]
  },
  {
   "cell_type": "markdown",
   "id": "6fb9c7c9",
   "metadata": {},
   "source": [
    "### Image Centering (Mean Scaling)\n",
    "<hr style=\"border:2px solid gray\"> </hr>\n"
   ]
  },
  {
   "cell_type": "markdown",
   "id": "0c9b2140",
   "metadata": {},
   "source": [
    "Before, where we are operating on a column, we were doing it with 1D data. Now we are using 3D data with three channels, but are essentially doing the same thing.\n",
    "\n",
    "Mean Scaling is not covered in this notebook because it is similar to "
   ]
  },
  {
   "cell_type": "markdown",
   "id": "f52caf40",
   "metadata": {},
   "source": [
    "### Image Standardization\n",
    "<hr style=\"border:2px solid gray\"> </hr>\n"
   ]
  },
  {
   "cell_type": "markdown",
   "id": "c67b02d8",
   "metadata": {},
   "source": [
    "Often, the distribution of pixels in an image will follow a normal distribution (bell curve).\n",
    "\n",
    "This may be present across the entire dataset, or in batches of images, which allows for the transformation to be done in batches on a GPU very quickly.\n",
    "\n",
    "However, in this example, we will just standardize one image so that we can form a base of understanding."
   ]
  },
  {
   "cell_type": "code",
   "execution_count": 30,
   "id": "730e065a",
   "metadata": {},
   "outputs": [
    {
     "name": "stdout",
     "output_type": "stream",
     "text": [
      "Mean of all Pixels:  94.40775\n",
      "standard deviation of all pixels:  63.49829\n"
     ]
    }
   ],
   "source": [
    "\n",
    "# calculate global mean and standard deviation\n",
    "global_pixel_mean = rgb_array.mean()\n",
    "print('Mean of all Pixels: ', global_pixel_mean)\n",
    "\n",
    "global_pixel_std = rgb_array.std()\n",
    "print('standard deviation of all pixels: ',global_pixel_std)\n",
    "# global standardization of pixels\n",
    "standardized_array = (rgb_array - global_pixel_mean) / global_pixel_std\n",
    "\n",
    "# \n",
    "standardized_array = np.clip(standardized_array, -1.0, 1.0)\n",
    "\n",
    "\n",
    "\n"
   ]
  },
  {
   "cell_type": "code",
   "execution_count": 31,
   "id": "f5721585",
   "metadata": {},
   "outputs": [
    {
     "name": "stdout",
     "output_type": "stream",
     "text": [
      "Mean of all Pixels:  -0.09064032\n",
      "standard deviation of all pixels:  0.729131\n"
     ]
    }
   ],
   "source": [
    "# confirming the changes\n",
    "standardized_pixel_mean = standardized_array.mean()\n",
    "print('Mean of all Pixels: ', standardized_pixel_mean)\n",
    "\n",
    "standardized_pixel_std = standardized_array.std()\n",
    "print('standard deviation of all pixels: ',standardized_pixel_std)"
   ]
  },
  {
   "cell_type": "markdown",
   "id": "14929165",
   "metadata": {},
   "source": [
    "### Local Standardization\n",
    "<hr style=\"border:1px solid gray\"> </hr>"
   ]
  },
  {
   "cell_type": "markdown",
   "id": "ee011d97",
   "metadata": {},
   "source": [
    "It is also possible to standardize each channel invididually rather than across the whole image"
   ]
  },
  {
   "cell_type": "code",
   "execution_count": 32,
   "id": "271a1fd7",
   "metadata": {},
   "outputs": [
    {
     "name": "stdout",
     "output_type": "stream",
     "text": [
      "Means: [120.02629259  82.21949506  80.97756173], Stds: [76.63424927 47.26471718 54.80974237]\n"
     ]
    }
   ],
   "source": [
    "rgb_means = rgb_array.mean(axis=(0,1), dtype='float64')\n",
    "rgb_stds = rgb_array.std(axis=(0,1), dtype='float64')\n",
    "\n",
    "print('Means: %s, Stds: %s' % (rgb_means, rgb_stds))\n",
    "# per-channel standardization of pixels\n",
    "\n",
    "\n",
    "standardized_array_3_channel = (rgb_array - rgb_means) / rgb_stds\n"
   ]
  },
  {
   "cell_type": "code",
   "execution_count": 33,
   "id": "7ea4c47f",
   "metadata": {},
   "outputs": [
    {
     "name": "stdout",
     "output_type": "stream",
     "text": [
      "Means: [-3.51901518e-14  9.44147770e-14  1.27095709e-13], Stds: [1. 1. 1.]\n"
     ]
    }
   ],
   "source": [
    "# confirming that it worked\n",
    "rgb_means_after = standardized_array_3_channel.mean(axis=(0,1), dtype='float64')\n",
    "rgb_stds_after = standardized_array_3_channel.std(axis=(0,1), dtype='float64')\n",
    "\n",
    "\n",
    "print('Means: %s, Stds: %s' % (rgb_means_after, rgb_stds_after))"
   ]
  },
  {
   "cell_type": "markdown",
   "id": "f5944586",
   "metadata": {},
   "source": [
    "Now, the values are much more tightly packed than before, which allows for the model to see patterns more easily because the values are within well defined ranges."
   ]
  },
  {
   "cell_type": "markdown",
   "id": "15749920",
   "metadata": {},
   "source": [
    "# Wrap up: Discussion\n",
    "<hr style=\"border:4px solid gray\"> </hr>\n"
   ]
  },
  {
   "cell_type": "markdown",
   "id": "1d5bb5ad",
   "metadata": {},
   "source": [
    "### Extension Questions \n",
    "\n",
    "* What is a continuous variable? Why are they special?\n",
    "\n",
    "* What is a normal distribution? What is skew?\n",
    "\n",
    "* What is min-max scaling? Why is it used with tensors?\n",
    "\n",
    "* What is standardization? What does it do to data?\n",
    "\n",
    "* When should one use standardization and when should one use normalization?"
   ]
  }
 ],
 "metadata": {
  "interpreter": {
   "hash": "b35736f271ae3a6547f08ef3ad12296102f5e6031b2a7c6493a7e5cc9f313275"
  },
  "kernelspec": {
   "display_name": "unpackAIdev",
   "language": "python",
   "name": "python3"
  },
  "language_info": {
   "codemirror_mode": {
    "name": "ipython",
    "version": 3
   },
   "file_extension": ".py",
   "mimetype": "text/x-python",
   "name": "python",
   "nbconvert_exporter": "python",
   "pygments_lexer": "ipython3",
   "version": "3.8.12"
  }
 },
 "nbformat": 4,
 "nbformat_minor": 5
}
