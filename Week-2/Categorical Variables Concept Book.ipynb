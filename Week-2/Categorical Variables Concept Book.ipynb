{
 "cells": [
  {
   "cell_type": "code",
   "execution_count": 1,
   "id": "8438143a-4908-436d-9bb8-46a3f0e8abc3",
   "metadata": {},
   "outputs": [],
   "source": [
    "#\n",
    "#!pip install category_encoders as ce\n",
    "\n",
    "\n",
    "import pandas as pd \n",
    "import numpy as np\n",
    "\n"
   ]
  },
  {
   "cell_type": "markdown",
   "id": "12e6bff0-fa97-40f3-b640-f734ec0872b0",
   "metadata": {},
   "source": [
    "# Categorical Variables"
   ]
  },
  {
   "cell_type": "markdown",
   "id": "685141a3-a37b-42c2-9571-96dfb70582dc",
   "metadata": {},
   "source": [
    "Categorical variables appear in NLP as well as other datasets. As discussed in DL101, it presents a problem because they don't have any direct mathematical meaning compared to other types of data. However, there are ways around this. \n",
    "\n",
    "https://heartbeat.comet.ml/hands-on-with-feature-engineering-techniques-encoding-categorical-variables-be4bc0715394"
   ]
  },
  {
   "cell_type": "markdown",
   "id": "253070f0",
   "metadata": {},
   "source": [
    "### Linear Models and their assumptions\n",
    "\n",
    "Key Points:\n",
    "\n",
    "* Assume that data is continious \n",
    "\n",
    "* Data has a direction in relationship to the target\n",
    "\n"
   ]
  },
  {
   "cell_type": "markdown",
   "id": "3a07bc4c",
   "metadata": {},
   "source": [
    "Intro Paragraph\n",
    "\n",
    "* Key Points \n",
    "\n",
    "* Different Approaches to the problem\n",
    "\n"
   ]
  },
  {
   "cell_type": "markdown",
   "id": "8abf4bb3",
   "metadata": {},
   "source": [
    "### Key Ideas\n",
    "\n",
    "How we can judge the problem\n",
    "\n",
    "* Cardinality\n",
    "\n",
    "* Feature Space \n",
    "\n",
    "* Overfitting\n",
    "\n",
    "* Curse of Dimensionality"
   ]
  },
  {
   "cell_type": "markdown",
   "id": "9a8454dd-af76-4970-83cb-32a1273e5e60",
   "metadata": {},
   "source": [
    "## Categorical Variables in Tabular Data"
   ]
  },
  {
   "cell_type": "markdown",
   "id": "8d89632c-0642-4125-a894-75c21d408fac",
   "metadata": {},
   "source": [
    "Intro Paragraph\n",
    "\n",
    "* Key Points \n",
    "\n",
    "* Different Approaches to the problem\n",
    "\n",
    "* Each frames the problem differently"
   ]
  },
  {
   "cell_type": "markdown",
   "id": "75ca11e7",
   "metadata": {},
   "source": [
    "# Binary Variables\n",
    "\n",
    "* Key Points\n",
    "\n",
    "* Examples\n",
    "Simplest example, straightforward\n",
    "\n",
    "Male/Female\n",
    "\n",
    "On_Contract/ Not on Contract \n",
    "\n",
    "* Technically has directionality\n",
    "\n",
    "Can reframe as yes/no question 1 versus zero, can fit within a linear model \n",
    "\n",
    "* Doesn't create many new features.\n",
    "\n",
    "* Works well with low cardinality variables"
   ]
  },
  {
   "cell_type": "code",
   "execution_count": 2,
   "id": "2b58f97b",
   "metadata": {},
   "outputs": [],
   "source": [
    "# impliment binary encoding "
   ]
  },
  {
   "cell_type": "markdown",
   "id": "6bd3c0e0-f429-410e-8c21-0adc6349a923",
   "metadata": {},
   "source": [
    "### One Hot (Dummy) Encoding"
   ]
  },
  {
   "cell_type": "markdown",
   "id": "160ca056-beac-4c44-adb3-8a097449ca9d",
   "metadata": {},
   "source": [
    "\n",
    "\n",
    "\n",
    "One Hot Encoding is the oldest and most simple way to encode a categorical variable. It also goes by the names of binary and dummy encoding in other fields.\n",
    "\n",
    "A one hot encoder works by assigning new columns to the dataframe for each feature in the old column. \n",
    "\n",
    "df = pd.Dataframe\n",
    "\n",
    "\n",
    "* Key Ideas\n",
    "\n",
    "* Can expand idea of binary encoding to this framing of the problem\n",
    "\n",
    "* Advantages\n",
    "\n",
    "* SImple to impliment\n",
    "\n",
    "* Can single out important features\n",
    "\n",
    "* Disadvantages\n",
    "\n",
    "* Doesn't work well with high cardinality variables\n",
    "\n",
    "* Can't work well with NLP\n",
    "Example of one hot matrix for dictionary of words\n",
    "\n",
    "* Can greatlu expand feature space\n",
    "\n",
    "* Decreases explainability\n",
    "\n",
    "* Can't do it for every feature because they'll correlate with eachother \n",
    "\n",
    "* keeps all information\n",
    "\n",
    "* Doesn't add new information\n",
    "\n"
   ]
  },
  {
   "cell_type": "code",
   "execution_count": 3,
   "id": "4d8fd331-fb85-4ea8-b7aa-5bc01d2fbd6c",
   "metadata": {},
   "outputs": [],
   "source": [
    "# Visualization"
   ]
  },
  {
   "cell_type": "markdown",
   "id": "fc0dde4f-33a6-43d4-9bb8-01831946e36c",
   "metadata": {},
   "source": [
    "##### (Discretizing) Binning continous data Example\n",
    "\n",
    "\n",
    "\n",
    "\n",
    "Supose that we want to create a new feature using the data we already have. The simplest way is to create a variable based on a condition. Doing this can allow you to make something much more clear to the model by flagging it as important. We can create a new feature to see if it meets a logical condition.\n",
    "\n",
    "Let's start with the pandas series of 'founded year'"
   ]
  },
  {
   "cell_type": "code",
   "execution_count": null,
   "id": "aeb6f90d-8083-4dc7-af1c-4570bdeee6b1",
   "metadata": {},
   "outputs": [
    {
     "data": {
      "text/plain": [
       "15       2013.0\n",
       "20       2010.0\n",
       "22       2010.0\n",
       "24          NaN\n",
       "51       2007.0\n",
       "          ...  \n",
       "49424    2009.0\n",
       "49426    2007.0\n",
       "49428    2011.0\n",
       "49430    1994.0\n",
       "49437    1999.0\n",
       "Name: founded_year, Length: 6126, dtype: float64"
      ]
     },
     "metadata": {},
     "output_type": "display_data"
    }
   ],
   "source": [
    "df.founded_year"
   ]
  },
  {
   "cell_type": "code",
   "execution_count": null,
   "id": "71e90d09-3710-47b4-8dee-f5a520bda022",
   "metadata": {},
   "outputs": [],
   "source": [
    "# Input a histogram of founded years to show \n",
    "\n"
   ]
  },
  {
   "cell_type": "code",
   "execution_count": null,
   "id": "b7babb36-b850-4d65-a722-3195f8ffb9f5",
   "metadata": {},
   "outputs": [],
   "source": [
    "df['founded_before_2000'] = df['founded_year'] < 2000 "
   ]
  },
  {
   "cell_type": "code",
   "execution_count": null,
   "id": "7ff9db8b-2c50-4c45-945e-b494502dbe07",
   "metadata": {},
   "outputs": [
    {
     "data": {
      "text/plain": [
       "(6126, 40)"
      ]
     },
     "metadata": {},
     "output_type": "display_data"
    }
   ],
   "source": [
    "# Warm reminder, why is the shape of our new dataframe different now? \n",
    "df.shape"
   ]
  },
  {
   "cell_type": "code",
   "execution_count": null,
   "id": "3688b20f-da3a-45ec-a623-c71fced5e4e5",
   "metadata": {},
   "outputs": [],
   "source": []
  },
  {
   "cell_type": "code",
   "execution_count": null,
   "id": "31b7bcbd-a51d-4aa9-9f8a-5e8aaa466aab",
   "metadata": {},
   "outputs": [],
   "source": [
    "df['founded_in_2010s'] = ((df['founded_year']> 2010) & (df['founded_year'] > 2020))"
   ]
  },
  {
   "cell_type": "markdown",
   "id": "cec35a7e-7615-4758-ba50-d278ea5cd682",
   "metadata": {},
   "source": [
    "\n",
    "age, color categories"
   ]
  },
  {
   "cell_type": "code",
   "execution_count": null,
   "id": "ebd7fd28",
   "metadata": {},
   "outputs": [],
   "source": []
  },
  {
   "cell_type": "code",
   "execution_count": 2,
   "id": "9d1c3881-8395-4b89-bc22-1132e2a82603",
   "metadata": {},
   "outputs": [],
   "source": [
    "# Code implimentation"
   ]
  },
  {
   "cell_type": "markdown",
   "id": "f4f61a54-1bca-4cdd-940f-c2898fe026fa",
   "metadata": {},
   "source": [
    "#### Benefits and drawbacks "
   ]
  },
  {
   "cell_type": "code",
   "execution_count": null,
   "id": "a77e0ffe-d28b-4cd3-9a8e-2e99d9b6304a",
   "metadata": {},
   "outputs": [],
   "source": []
  },
  {
   "cell_type": "code",
   "execution_count": null,
   "id": "499cf00b-e7c6-456b-beec-9ea753e762bc",
   "metadata": {},
   "outputs": [],
   "source": []
  },
  {
   "cell_type": "markdown",
   "id": "af48699e-6508-44b4-b8b4-e66a88d64056",
   "metadata": {},
   "source": [
    "## One Hot Encoding in NLP "
   ]
  },
  {
   "cell_type": "markdown",
   "id": "2c79eb1c-dcee-4853-95cb-7303b3c58dc2",
   "metadata": {},
   "source": [
    "Intro to dictionary encoding\n",
    "\n",
    "* explain why it doesn't work \n",
    "\n",
    "* Sparse matrix \n",
    "\n",
    "* Expands feature space \n",
    "\n",
    "* was used in early days, but no more\n",
    "\n",
    "* "
   ]
  },
  {
   "cell_type": "markdown",
   "id": "760cacaf-5bd9-4529-9cb9-73b672205a59",
   "metadata": {},
   "source": [
    "### Drawbacks"
   ]
  },
  {
   "cell_type": "code",
   "execution_count": null,
   "id": "4bb9ebed-c789-4743-afb0-15a8a4e72e1f",
   "metadata": {},
   "outputs": [],
   "source": []
  },
  {
   "cell_type": "markdown",
   "id": "c3f8491e-12a1-40e9-ba31-ab815ecc1ab1",
   "metadata": {},
   "source": [
    "## The Curse Of Dimensionality"
   ]
  },
  {
   "cell_type": "code",
   "execution_count": null,
   "id": "7da34b95-3c4a-4eab-aa4f-b52cfb2bebd3",
   "metadata": {},
   "outputs": [],
   "source": []
  },
  {
   "cell_type": "markdown",
   "id": "fb3ac311",
   "metadata": {},
   "source": []
  },
  {
   "cell_type": "markdown",
   "id": "1671e290-8b1b-4e88-976c-c0476d891385",
   "metadata": {},
   "source": [
    "# Integer (Label) Encoding\n",
    "\n",
    "* replaces each category with an integer which is mapped to it's original value\n",
    "\n",
    "* Straightforward \n",
    "\n",
    "* Works better with high cardinality features\n",
    "\n",
    "* Doesn't expand feature space \n",
    "\n",
    "* saves memory \n",
    "\n",
    "* Disadvantages\n",
    "\n",
    "* Doesn't work with linear models because it doesn't have direction\n",
    "\n",
    "* Works instead with tree based models\n",
    "\n"
   ]
  },
  {
   "cell_type": "code",
   "execution_count": 3,
   "id": "42b58929-a639-4ca4-a227-1afa0b8b7b7b",
   "metadata": {},
   "outputs": [],
   "source": [
    "# Code Implimentation "
   ]
  },
  {
   "cell_type": "code",
   "execution_count": null,
   "id": "a2d93c0a",
   "metadata": {},
   "outputs": [],
   "source": []
  },
  {
   "cell_type": "markdown",
   "id": "a950b5d9",
   "metadata": {},
   "source": [
    "# Advanced Methods"
   ]
  },
  {
   "cell_type": "markdown",
   "id": "1c96abae",
   "metadata": {},
   "source": [
    "* Advantages\n",
    "\n",
    "* can increase the information in features\n",
    "\n",
    "* deals with the cardinality problem\n",
    "\n",
    "* Doesn't expand feature space \n",
    "\n"
   ]
  },
  {
   "cell_type": "markdown",
   "id": "5d6e42e0",
   "metadata": {},
   "source": [
    "## Frequency Encoding\n"
   ]
  },
  {
   "cell_type": "code",
   "execution_count": null,
   "id": "17f49099",
   "metadata": {},
   "outputs": [],
   "source": []
  },
  {
   "cell_type": "markdown",
   "id": "68a99259",
   "metadata": {},
   "source": [
    "* Explanation\n",
    "\n",
    "* Advantages\n",
    "\n",
    "* Straightforward to impliment\n",
    "\n",
    "* Doesn't create new features\n",
    "\n",
    "* Creates a linear relationship between target and the categories\n",
    "\n",
    "* Can lead to overfitting"
   ]
  },
  {
   "cell_type": "code",
   "execution_count": null,
   "id": "ec9f05bc",
   "metadata": {},
   "outputs": [],
   "source": [
    "# Code here"
   ]
  },
  {
   "cell_type": "markdown",
   "id": "e7090a56",
   "metadata": {},
   "source": [
    "## Mean (Target) Encoding"
   ]
  },
  {
   "cell_type": "markdown",
   "id": "d7fc0b7a",
   "metadata": {},
   "source": [
    "* explanatation\n",
    "\n",
    "* creates a monotonic relationship between variables\n",
    "\n",
    "* Can lead to overfitting"
   ]
  },
  {
   "cell_type": "markdown",
   "id": "3dba52f2",
   "metadata": {},
   "source": []
  },
  {
   "cell_type": "code",
   "execution_count": 4,
   "id": "77755d91",
   "metadata": {},
   "outputs": [],
   "source": [
    "# Code implimentation"
   ]
  },
  {
   "cell_type": "code",
   "execution_count": null,
   "id": "60cf5ad1",
   "metadata": {},
   "outputs": [],
   "source": []
  },
  {
   "cell_type": "markdown",
   "id": "aa90bff2",
   "metadata": {},
   "source": [
    "# The Curse of Dimensionality \n",
    "\n"
   ]
  },
  {
   "cell_type": "markdown",
   "id": "76fece86",
   "metadata": {},
   "source": []
  }
 ],
 "metadata": {
  "interpreter": {
   "hash": "b35736f271ae3a6547f08ef3ad12296102f5e6031b2a7c6493a7e5cc9f313275"
  },
  "kernelspec": {
   "display_name": "unpackAIdev",
   "language": "python",
   "name": "python3"
  },
  "language_info": {
   "codemirror_mode": {
    "name": "ipython",
    "version": 3
   },
   "file_extension": ".py",
   "mimetype": "text/x-python",
   "name": "python",
   "nbconvert_exporter": "python",
   "pygments_lexer": "ipython3",
   "version": "3.8.12"
  }
 },
 "nbformat": 4,
 "nbformat_minor": 5
}
