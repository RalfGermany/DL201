{
 "cells": [
  {
   "cell_type": "code",
   "execution_count": 1,
   "id": "8438143a-4908-436d-9bb8-46a3f0e8abc3",
   "metadata": {},
   "outputs": [],
   "source": [
    "#\n",
    "#!pip install category_encoders as ce\n",
    "\n",
    "\n",
    "import pandas as pd \n",
    "import numpy as np\n",
    "\n"
   ]
  },
  {
   "cell_type": "markdown",
   "id": "12e6bff0-fa97-40f3-b640-f734ec0872b0",
   "metadata": {},
   "source": [
    "# Categorical Variables"
   ]
  },
  {
   "cell_type": "markdown",
   "id": "685141a3-a37b-42c2-9571-96dfb70582dc",
   "metadata": {},
   "source": [
    "Categorical variables appear in NLP as well as other datasets. As discussed in DL101, it presents a problem because they don't have any direct mathematical meaning compared to other types of data. However, there are ways around this. \n"
   ]
  },
  {
   "cell_type": "markdown",
   "id": "9a8454dd-af76-4970-83cb-32a1273e5e60",
   "metadata": {},
   "source": [
    "## Categorical Variables in Tabular Data"
   ]
  },
  {
   "cell_type": "markdown",
   "id": "8d89632c-0642-4125-a894-75c21d408fac",
   "metadata": {},
   "source": [
    "Intro Paragraph"
   ]
  },
  {
   "cell_type": "markdown",
   "id": "6bd3c0e0-f429-410e-8c21-0adc6349a923",
   "metadata": {},
   "source": [
    "### One Hot (Dummy) Encoding"
   ]
  },
  {
   "cell_type": "markdown",
   "id": "160ca056-beac-4c44-adb3-8a097449ca9d",
   "metadata": {},
   "source": [
    "One Hot Encoding is the oldest and most simple way to encode a categorical variable. It also goes by the names of binary and dummy encoding in other fields.\n",
    "\n",
    "A one hot encoder works by assigning new columns to the dataframe for each feature in the old column. \n",
    "\n",
    "df = pd.Dataframe"
   ]
  },
  {
   "cell_type": "code",
   "execution_count": 3,
   "id": "4d8fd331-fb85-4ea8-b7aa-5bc01d2fbd6c",
   "metadata": {},
   "outputs": [],
   "source": [
    "# Visualization"
   ]
  },
  {
   "cell_type": "code",
   "execution_count": 2,
   "id": "9d1c3881-8395-4b89-bc22-1132e2a82603",
   "metadata": {},
   "outputs": [],
   "source": [
    "# Code implimentation"
   ]
  },
  {
   "cell_type": "markdown",
   "id": "f4f61a54-1bca-4cdd-940f-c2898fe026fa",
   "metadata": {},
   "source": [
    "#### Benefits and drawbacks "
   ]
  },
  {
   "cell_type": "code",
   "execution_count": null,
   "id": "a77e0ffe-d28b-4cd3-9a8e-2e99d9b6304a",
   "metadata": {},
   "outputs": [],
   "source": []
  },
  {
   "cell_type": "code",
   "execution_count": null,
   "id": "499cf00b-e7c6-456b-beec-9ea753e762bc",
   "metadata": {},
   "outputs": [],
   "source": []
  },
  {
   "cell_type": "markdown",
   "id": "af48699e-6508-44b4-b8b4-e66a88d64056",
   "metadata": {},
   "source": [
    "## One Hot Encoding in NLP "
   ]
  },
  {
   "cell_type": "markdown",
   "id": "2c79eb1c-dcee-4853-95cb-7303b3c58dc2",
   "metadata": {},
   "source": [
    "Intro to dictionary encoding"
   ]
  },
  {
   "cell_type": "markdown",
   "id": "760cacaf-5bd9-4529-9cb9-73b672205a59",
   "metadata": {},
   "source": [
    "### Drawbacks"
   ]
  },
  {
   "cell_type": "code",
   "execution_count": null,
   "id": "4bb9ebed-c789-4743-afb0-15a8a4e72e1f",
   "metadata": {},
   "outputs": [],
   "source": []
  },
  {
   "cell_type": "markdown",
   "id": "c3f8491e-12a1-40e9-ba31-ab815ecc1ab1",
   "metadata": {},
   "source": [
    "## The Curse Of Dimensionality"
   ]
  },
  {
   "cell_type": "code",
   "execution_count": null,
   "id": "7da34b95-3c4a-4eab-aa4f-b52cfb2bebd3",
   "metadata": {},
   "outputs": [],
   "source": []
  },
  {
   "cell_type": "markdown",
   "id": "1671e290-8b1b-4e88-976c-c0476d891385",
   "metadata": {},
   "source": [
    "## Interperetiblity "
   ]
  },
  {
   "cell_type": "code",
   "execution_count": null,
   "id": "42b58929-a639-4ca4-a227-1afa0b8b7b7b",
   "metadata": {},
   "outputs": [],
   "source": []
  }
 ],
 "metadata": {
  "kernelspec": {
   "display_name": "unpackAIdev",
   "language": "python",
   "name": "unpackaidev"
  },
  "language_info": {
   "codemirror_mode": {
    "name": "ipython",
    "version": 3
   },
   "file_extension": ".py",
   "mimetype": "text/x-python",
   "name": "python",
   "nbconvert_exporter": "python",
   "pygments_lexer": "ipython3",
   "version": "3.8.12"
  }
 },
 "nbformat": 4,
 "nbformat_minor": 5
}
