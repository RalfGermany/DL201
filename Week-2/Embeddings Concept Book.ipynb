{
 "cells": [
  {
   "cell_type": "code",
   "execution_count": 1,
   "id": "d3e8dd03-ebc7-4d77-8edf-3de0fd0f9c27",
   "metadata": {},
   "outputs": [],
   "source": [
    "#"
   ]
  },
  {
   "cell_type": "markdown",
   "id": "737f1eb4-e6fd-469f-adc4-7a74c8fa1a88",
   "metadata": {},
   "source": [
    "# Embeddings "
   ]
  },
  {
   "cell_type": "markdown",
   "id": "ab56f04e-8425-4420-9efa-d94e77608b76",
   "metadata": {},
   "source": [
    "Introduction"
   ]
  },
  {
   "cell_type": "markdown",
   "id": "526c16eb-3e2e-4837-bbc8-2473d9cd6f14",
   "metadata": {},
   "source": [
    "### NLP Word Embeddings "
   ]
  },
  {
   "cell_type": "markdown",
   "id": "9a658e42-5661-43fa-a8b1-dc83b39c13ca",
   "metadata": {},
   "source": [
    "Introduction"
   ]
  },
  {
   "cell_type": "code",
   "execution_count": 4,
   "id": "936cdde7-4842-4ca6-9837-9a37b0a789c1",
   "metadata": {},
   "outputs": [],
   "source": [
    "# Code Implentation examples "
   ]
  },
  {
   "cell_type": "markdown",
   "id": "e501afa4-a1db-4058-b665-d175e9c08049",
   "metadata": {},
   "source": [
    "Discussion and assignment"
   ]
  },
  {
   "cell_type": "markdown",
   "id": "60fd4518-8eff-4b9b-bded-53ba118c501d",
   "metadata": {},
   "source": [
    "### Category Embeddings"
   ]
  },
  {
   "cell_type": "markdown",
   "id": "14394509-7c6f-4a4a-ad31-e730e6a5d446",
   "metadata": {},
   "source": [
    "Introduction"
   ]
  },
  {
   "cell_type": "code",
   "execution_count": 5,
   "id": "9351181e-d2a8-4194-8a24-56a68068c946",
   "metadata": {},
   "outputs": [],
   "source": [
    "# Code implimentation"
   ]
  },
  {
   "cell_type": "markdown",
   "id": "84d1eb53-eda5-4df6-8960-23893892658e",
   "metadata": {},
   "source": [
    "Conclusion"
   ]
  },
  {
   "cell_type": "code",
   "execution_count": null,
   "id": "2c2dea77-8503-41cd-80fb-937381f9c245",
   "metadata": {},
   "outputs": [],
   "source": []
  }
 ],
 "metadata": {
  "kernelspec": {
   "display_name": "unpackAIdev",
   "language": "python",
   "name": "unpackaidev"
  },
  "language_info": {
   "codemirror_mode": {
    "name": "ipython",
    "version": 3
   },
   "file_extension": ".py",
   "mimetype": "text/x-python",
   "name": "python",
   "nbconvert_exporter": "python",
   "pygments_lexer": "ipython3",
   "version": "3.8.12"
  }
 },
 "nbformat": 4,
 "nbformat_minor": 5
}
