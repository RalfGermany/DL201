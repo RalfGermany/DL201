{
 "cells": [
  {
   "cell_type": "code",
   "execution_count": null,
   "id": "37fb7838-9ac4-4ea8-b1cb-615876fec41f",
   "metadata": {},
   "outputs": [],
   "source": [
    "#"
   ]
  },
  {
   "cell_type": "code",
   "execution_count": null,
   "id": "5c2c562e-9c3f-4c5e-8e04-79c0b1afba69",
   "metadata": {},
   "outputs": [],
   "source": []
  },
  {
   "cell_type": "markdown",
   "id": "8823ac68-13ca-480f-8452-c54472aa2797",
   "metadata": {},
   "source": [
    "# Continious Variables (preprocessing and transformation )"
   ]
  },
  {
   "cell_type": "code",
   "execution_count": null,
   "id": "48036fd9-140c-4413-93b3-10f0e21da467",
   "metadata": {},
   "outputs": [],
   "source": []
  },
  {
   "cell_type": "markdown",
   "id": "8b30f622-2fad-4c77-83f3-19b24b58ab24",
   "metadata": {},
   "source": [
    "## Introduction "
   ]
  },
  {
   "cell_type": "markdown",
   "id": "638f8017-4a60-41cc-b670-9211b1685289",
   "metadata": {},
   "source": [
    "Goals and Objectives"
   ]
  },
  {
   "cell_type": "markdown",
   "id": "270bc260-25af-4f21-bfb2-80ab30346ae4",
   "metadata": {},
   "source": [
    "Intro Paragraph"
   ]
  },
  {
   "cell_type": "code",
   "execution_count": null,
   "id": "dcd5d7ae-f4d0-4e5e-bce9-6836e13ffe3a",
   "metadata": {},
   "outputs": [],
   "source": []
  },
  {
   "cell_type": "code",
   "execution_count": null,
   "id": "19ef96aa-631a-498a-aeac-9297c089c992",
   "metadata": {},
   "outputs": [],
   "source": []
  },
  {
   "cell_type": "markdown",
   "id": "334f1ebb-80eb-45d3-b681-5e9a7f202d21",
   "metadata": {},
   "source": [
    "## Continous Variables across Deep Learning\n"
   ]
  },
  {
   "cell_type": "markdown",
   "id": "42a6bd7f-717c-416c-9655-5458f91b6c64",
   "metadata": {},
   "source": [
    "Intro Paragraph\n",
    "\n",
    "Outline"
   ]
  },
  {
   "cell_type": "markdown",
   "id": "7f833a08-402a-4b97-bf0e-e77f5145c079",
   "metadata": {},
   "source": [
    "### Identifying Continous Variables in a Tabular Datasets "
   ]
  },
  {
   "cell_type": "code",
   "execution_count": null,
   "id": "8f9c97dd-4fb1-452b-932e-ad280c05b081",
   "metadata": {},
   "outputs": [],
   "source": []
  },
  {
   "cell_type": "code",
   "execution_count": null,
   "id": "b40665a7-f4a9-4d76-a71f-ff9022339eb5",
   "metadata": {},
   "outputs": [],
   "source": []
  },
  {
   "cell_type": "code",
   "execution_count": null,
   "id": "866e4baa-7150-4fa4-b18a-d09c313a2ed1",
   "metadata": {},
   "outputs": [],
   "source": []
  },
  {
   "cell_type": "markdown",
   "id": "2209a328-f828-4172-9f14-2581b1980248",
   "metadata": {},
   "source": [
    "## Transforming Continous Variables (Scaling)"
   ]
  },
  {
   "cell_type": "markdown",
   "id": "ad2f54ae-7606-48b9-9c7c-e602966e86f3",
   "metadata": {},
   "source": [
    "Intro Paragraph\n",
    "Intro Paragraph\n",
    "\n",
    "Problems with large scales of numbers\n",
    "Not easy to see a pattern if there are a huge range of possible values\n",
    "\n",
    "https://www.kdnuggets.com/2020/04/data-transformation-standardization-normalization.html"
   ]
  },
  {
   "cell_type": "code",
   "execution_count": null,
   "id": "f6946446-7e84-4266-b884-26395e5526a0",
   "metadata": {},
   "outputs": [],
   "source": []
  },
  {
   "cell_type": "markdown",
   "id": "6d391caa-82ab-436e-88f0-e7926289aa45",
   "metadata": {},
   "source": [
    "### Normalization"
   ]
  },
  {
   "cell_type": "markdown",
   "id": "cd0ba87f-4424-4a0c-8b0f-9a697ce49d33",
   "metadata": {},
   "source": [
    "intro paragraph "
   ]
  },
  {
   "cell_type": "markdown",
   "id": "a3360e4e-8713-41be-be92-75af9325e3b3",
   "metadata": {},
   "source": [
    "#### Min Max Scaling "
   ]
  },
  {
   "cell_type": "code",
   "execution_count": null,
   "id": "182ec02e-9195-40a9-a095-5cefaffd4d7f",
   "metadata": {},
   "outputs": [],
   "source": []
  },
  {
   "cell_type": "markdown",
   "id": "dd077483-ad75-4fbf-8af9-8347f8768164",
   "metadata": {},
   "source": [
    "#### Log Scaling"
   ]
  },
  {
   "cell_type": "code",
   "execution_count": null,
   "id": "f79b3793-993d-4150-9797-a734f060227e",
   "metadata": {},
   "outputs": [],
   "source": []
  },
  {
   "cell_type": "markdown",
   "id": "47a389c0-9ef1-4c67-87b8-faae0509c9f0",
   "metadata": {},
   "source": [
    "Visual Data Before"
   ]
  },
  {
   "cell_type": "code",
   "execution_count": 4,
   "id": "5cbc37de-b5dc-44e6-a77d-6bae4a29a823",
   "metadata": {},
   "outputs": [],
   "source": [
    "#apply scaling\n"
   ]
  },
  {
   "cell_type": "markdown",
   "id": "8de5b0cc-c951-4afc-a94d-466f9020f6f8",
   "metadata": {},
   "source": [
    "Visualize Data After "
   ]
  },
  {
   "cell_type": "code",
   "execution_count": 5,
   "id": "947ff406-9ebb-499d-855f-ce9c8e69bc49",
   "metadata": {},
   "outputs": [],
   "source": [
    "# Plot Here"
   ]
  },
  {
   "cell_type": "markdown",
   "id": "96ae0a61-0032-483d-8fee-365521dc0503",
   "metadata": {},
   "source": [
    "### Standardization"
   ]
  },
  {
   "cell_type": "markdown",
   "id": "fe693bcc-8140-4cd7-be31-149fd2a66594",
   "metadata": {},
   "source": [
    "Intro Paragraph"
   ]
  },
  {
   "cell_type": "markdown",
   "id": "a1c15598-78d4-4942-a681-3bc6c5242e1d",
   "metadata": {},
   "source": [
    "Visualize Data Before"
   ]
  },
  {
   "cell_type": "code",
   "execution_count": 6,
   "id": "f120eb0f-e1c0-437d-9332-d0b986c69ab1",
   "metadata": {},
   "outputs": [],
   "source": [
    "#apply transformation"
   ]
  },
  {
   "cell_type": "markdown",
   "id": "d200dc90-5f58-4261-a26d-5c68294392bb",
   "metadata": {},
   "source": [
    "Visualize Data After"
   ]
  },
  {
   "cell_type": "markdown",
   "id": "970a9d9c-c689-45da-9abf-1c0f65ce5510",
   "metadata": {},
   "source": [
    "# Trasforming Image Data"
   ]
  },
  {
   "cell_type": "markdown",
   "id": "4e46fc97-bda5-48ed-a85d-a09e49dc6da0",
   "metadata": {},
   "source": [
    "Intro Paragraph"
   ]
  },
  {
   "cell_type": "markdown",
   "id": "4bc8e07a-0e34-45d6-af4c-598ff6fbdb67",
   "metadata": {},
   "source": [
    "### Normalization "
   ]
  },
  {
   "cell_type": "markdown",
   "id": "e7baf206-1a57-4f95-aa29-e979ee280f52",
   "metadata": {},
   "source": [
    "Intro Paragraph"
   ]
  },
  {
   "cell_type": "markdown",
   "id": "8684347d-fffe-444a-b1ae-6561f8397c32",
   "metadata": {},
   "source": [
    "Visualize Img Array before normalization"
   ]
  },
  {
   "cell_type": "code",
   "execution_count": 12,
   "id": "30456b5e-9a8d-4ae5-a251-f7deaab9159d",
   "metadata": {},
   "outputs": [],
   "source": [
    "#Apply Normalization"
   ]
  },
  {
   "cell_type": "markdown",
   "id": "56390665-24c6-40c0-9ff3-c7983292bd10",
   "metadata": {},
   "source": [
    "### Transforms "
   ]
  },
  {
   "cell_type": "markdown",
   "id": "374cb2df-7af9-4e58-ace5-73c78563f094",
   "metadata": {},
   "source": [
    "Intro Paragraph"
   ]
  },
  {
   "cell_type": "markdown",
   "id": "c14eb255-be4d-4e75-87b8-914ea55b7154",
   "metadata": {},
   "source": [
    "Visualize image beforehand\n"
   ]
  },
  {
   "cell_type": "code",
   "execution_count": null,
   "id": "aa44d30c-dbdd-4cd7-b7e8-bbe728758dcf",
   "metadata": {},
   "outputs": [],
   "source": []
  }
 ],
 "metadata": {
  "kernelspec": {
   "display_name": "unpackAIdev",
   "language": "python",
   "name": "unpackaidev"
  },
  "language_info": {
   "codemirror_mode": {
    "name": "ipython",
    "version": 3
   },
   "file_extension": ".py",
   "mimetype": "text/x-python",
   "name": "python",
   "nbconvert_exporter": "python",
   "pygments_lexer": "ipython3",
   "version": "3.8.12"
  }
 },
 "nbformat": 4,
 "nbformat_minor": 5
}
