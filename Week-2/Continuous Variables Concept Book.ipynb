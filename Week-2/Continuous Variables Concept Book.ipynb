{
 "cells": [
  {
   "cell_type": "code",
   "execution_count": 4,
   "id": "37fb7838-9ac4-4ea8-b1cb-615876fec41f",
   "metadata": {},
   "outputs": [],
   "source": [
    "# imports\n",
    "import pandas as pd\n",
    "import numpy as np\n",
    "import seaborn as sns\n",
    "\n",
    "from matplotlib import pyplot as plt\n",
    "\n",
    "# Imports \n",
    "from pathlib import Path\n",
    "\n",
    "\n",
    "CONTENT_DIR = Path.home() / 'Datasets' / 'unpackAI' / 'DL201-4.0' # Change this for use in colab\n",
    "DATA_DIR = Path.cwd() /'..'/'data'"
   ]
  },
  {
   "cell_type": "code",
   "execution_count": null,
   "id": "5c2c562e-9c3f-4c5e-8e04-79c0b1afba69",
   "metadata": {},
   "outputs": [],
   "source": []
  },
  {
   "cell_type": "markdown",
   "id": "8823ac68-13ca-480f-8452-c54472aa2797",
   "metadata": {},
   "source": [
    "# Continious Variables (preprocessing and transformation )"
   ]
  },
  {
   "cell_type": "code",
   "execution_count": 5,
   "id": "48036fd9-140c-4413-93b3-10f0e21da467",
   "metadata": {},
   "outputs": [],
   "source": [
    "# Image file here"
   ]
  },
  {
   "cell_type": "markdown",
   "id": "8b30f622-2fad-4c77-83f3-19b24b58ab24",
   "metadata": {},
   "source": [
    "## Introduction "
   ]
  },
  {
   "cell_type": "markdown",
   "id": "638f8017-4a60-41cc-b670-9211b1685289",
   "metadata": {},
   "source": [
    "Goals and Objectives"
   ]
  },
  {
   "cell_type": "markdown",
   "id": "270bc260-25af-4f21-bfb2-80ab30346ae4",
   "metadata": {},
   "source": [
    "Intro Paragraph"
   ]
  },
  {
   "cell_type": "markdown",
   "id": "6b81d821-218b-4e56-a556-25585430a3a2",
   "metadata": {},
   "source": [
    "Simply put, a continous variable is one that can take any value between it's minumum and maximum value. \n",
    "\n",
    "Some examples of these include: Age, height and weight for people.\n",
    "\n",
    "Measurements of units can be this as well, such as kilometers, degrees celcius, liters, or kilograms.\n",
    "\n",
    "Continous Variables are relatively straightforward to understand, and there are many tools to handle them.\n",
    "\n",
    "However, since there are so many tools to use, it can become a problem for beginners to be able to know which ones to apply. "
   ]
  },
  {
   "cell_type": "code",
   "execution_count": 6,
   "id": "bccc2dd5-1017-4086-8469-b6de9933e45c",
   "metadata": {},
   "outputs": [],
   "source": [
    "#picture here"
   ]
  },
  {
   "cell_type": "markdown",
   "id": "6cf4b3ce-3a33-41f4-9cf6-186e4e6387ca",
   "metadata": {},
   "source": [
    "A key idea in statistics is called a normal distribution.\n",
    "\n",
    "The normal distribution is the most important distribution in statistics. Most people recognize its familiar bell-shaped curve in statistical reports.\n",
    "\n",
    "https://statisticsbyjim.com/basics/normal-distribution/"
   ]
  },
  {
   "cell_type": "code",
   "execution_count": 7,
   "id": "88eeb142-e1be-427d-bb95-050c2205d17c",
   "metadata": {},
   "outputs": [],
   "source": [
    "#picture of a normal distribution"
   ]
  },
  {
   "cell_type": "markdown",
   "id": "e4ab95ce-1ea1-4032-913d-3efae765f39e",
   "metadata": {},
   "source": [
    "The normal distribution has a lot of predicting power to it, so many machine learning algorithms are based off assuming that the distrib\n",
    "\n",
    "Normal Distributions have the following properties:\n",
    "\n",
    "* They are supposed to be symmetric\n",
    "\n",
    "* The mean, median, and mode are equal\n",
    "\n",
    "* Half of the population is less than, and half the population is more than the mean. \n",
    "\n",
    "* The Empirical Rule allows us apply the concept of standard deviation to know where different percentages of items are within the distribution. "
   ]
  },
  {
   "cell_type": "code",
   "execution_count": 8,
   "id": "5d275136-cfe8-4982-9a70-dc8c1d0ab8e2",
   "metadata": {},
   "outputs": [],
   "source": [
    "# picture of Z scores"
   ]
  },
  {
   "cell_type": "markdown",
   "id": "97bf108e-78ac-400e-9000-9421061b8f27",
   "metadata": {},
   "source": [
    "What is useful about this normal distribution is that it allows us to calculate probability of a sample occuring within a certain range. If our data has a normal distribution, then the machine learning algorithms have a solid foundation to build on. \n",
    "\n",
    "However, data is not always in a normal distribution, and sometimes needs to be transformed."
   ]
  },
  {
   "cell_type": "markdown",
   "id": "334f1ebb-80eb-45d3-b681-5e9a7f202d21",
   "metadata": {},
   "source": [
    "## Continous Variables across Deep Learning\n"
   ]
  },
  {
   "cell_type": "markdown",
   "id": "42a6bd7f-717c-416c-9655-5458f91b6c64",
   "metadata": {},
   "source": [
    "Intro Paragraph\n",
    "\n",
    "Outline"
   ]
  },
  {
   "cell_type": "markdown",
   "id": "7f833a08-402a-4b97-bf0e-e77f5145c079",
   "metadata": {},
   "source": [
    "### Identifying Continous Variables in a Tabular Datasets\n",
    "\n"
   ]
  },
  {
   "cell_type": "code",
   "execution_count": 9,
   "id": "ef4c3419-94d0-41d8-9a80-4c1f502776ee",
   "metadata": {},
   "outputs": [],
   "source": [
    "house_prices_df = pd.read_csv(DATA_DIR/'house-prices'/'train.csv')"
   ]
  },
  {
   "cell_type": "code",
   "execution_count": 10,
   "id": "78b20c4e-c293-47c0-a02b-8619c39096c4",
   "metadata": {},
   "outputs": [
    {
     "data": {
      "text/plain": [
       "(1460, 81)"
      ]
     },
     "execution_count": 10,
     "metadata": {},
     "output_type": "execute_result"
    }
   ],
   "source": [
    "house_prices_df.shape"
   ]
  },
  {
   "cell_type": "code",
   "execution_count": 11,
   "id": "b40665a7-f4a9-4d76-a71f-ff9022339eb5",
   "metadata": {},
   "outputs": [
    {
     "data": {
      "text/html": [
       "<div>\n",
       "<style scoped>\n",
       "    .dataframe tbody tr th:only-of-type {\n",
       "        vertical-align: middle;\n",
       "    }\n",
       "\n",
       "    .dataframe tbody tr th {\n",
       "        vertical-align: top;\n",
       "    }\n",
       "\n",
       "    .dataframe thead th {\n",
       "        text-align: right;\n",
       "    }\n",
       "</style>\n",
       "<table border=\"1\" class=\"dataframe\">\n",
       "  <thead>\n",
       "    <tr style=\"text-align: right;\">\n",
       "      <th></th>\n",
       "      <th>Id</th>\n",
       "      <th>MSSubClass</th>\n",
       "      <th>MSZoning</th>\n",
       "      <th>LotFrontage</th>\n",
       "      <th>LotArea</th>\n",
       "      <th>Street</th>\n",
       "      <th>Alley</th>\n",
       "      <th>LotShape</th>\n",
       "      <th>LandContour</th>\n",
       "      <th>Utilities</th>\n",
       "      <th>...</th>\n",
       "      <th>PoolArea</th>\n",
       "      <th>PoolQC</th>\n",
       "      <th>Fence</th>\n",
       "      <th>MiscFeature</th>\n",
       "      <th>MiscVal</th>\n",
       "      <th>MoSold</th>\n",
       "      <th>YrSold</th>\n",
       "      <th>SaleType</th>\n",
       "      <th>SaleCondition</th>\n",
       "      <th>SalePrice</th>\n",
       "    </tr>\n",
       "  </thead>\n",
       "  <tbody>\n",
       "    <tr>\n",
       "      <th>0</th>\n",
       "      <td>1</td>\n",
       "      <td>60</td>\n",
       "      <td>RL</td>\n",
       "      <td>65.0</td>\n",
       "      <td>8450</td>\n",
       "      <td>Pave</td>\n",
       "      <td>NaN</td>\n",
       "      <td>Reg</td>\n",
       "      <td>Lvl</td>\n",
       "      <td>AllPub</td>\n",
       "      <td>...</td>\n",
       "      <td>0</td>\n",
       "      <td>NaN</td>\n",
       "      <td>NaN</td>\n",
       "      <td>NaN</td>\n",
       "      <td>0</td>\n",
       "      <td>2</td>\n",
       "      <td>2008</td>\n",
       "      <td>WD</td>\n",
       "      <td>Normal</td>\n",
       "      <td>208500</td>\n",
       "    </tr>\n",
       "    <tr>\n",
       "      <th>1</th>\n",
       "      <td>2</td>\n",
       "      <td>20</td>\n",
       "      <td>RL</td>\n",
       "      <td>80.0</td>\n",
       "      <td>9600</td>\n",
       "      <td>Pave</td>\n",
       "      <td>NaN</td>\n",
       "      <td>Reg</td>\n",
       "      <td>Lvl</td>\n",
       "      <td>AllPub</td>\n",
       "      <td>...</td>\n",
       "      <td>0</td>\n",
       "      <td>NaN</td>\n",
       "      <td>NaN</td>\n",
       "      <td>NaN</td>\n",
       "      <td>0</td>\n",
       "      <td>5</td>\n",
       "      <td>2007</td>\n",
       "      <td>WD</td>\n",
       "      <td>Normal</td>\n",
       "      <td>181500</td>\n",
       "    </tr>\n",
       "    <tr>\n",
       "      <th>2</th>\n",
       "      <td>3</td>\n",
       "      <td>60</td>\n",
       "      <td>RL</td>\n",
       "      <td>68.0</td>\n",
       "      <td>11250</td>\n",
       "      <td>Pave</td>\n",
       "      <td>NaN</td>\n",
       "      <td>IR1</td>\n",
       "      <td>Lvl</td>\n",
       "      <td>AllPub</td>\n",
       "      <td>...</td>\n",
       "      <td>0</td>\n",
       "      <td>NaN</td>\n",
       "      <td>NaN</td>\n",
       "      <td>NaN</td>\n",
       "      <td>0</td>\n",
       "      <td>9</td>\n",
       "      <td>2008</td>\n",
       "      <td>WD</td>\n",
       "      <td>Normal</td>\n",
       "      <td>223500</td>\n",
       "    </tr>\n",
       "    <tr>\n",
       "      <th>3</th>\n",
       "      <td>4</td>\n",
       "      <td>70</td>\n",
       "      <td>RL</td>\n",
       "      <td>60.0</td>\n",
       "      <td>9550</td>\n",
       "      <td>Pave</td>\n",
       "      <td>NaN</td>\n",
       "      <td>IR1</td>\n",
       "      <td>Lvl</td>\n",
       "      <td>AllPub</td>\n",
       "      <td>...</td>\n",
       "      <td>0</td>\n",
       "      <td>NaN</td>\n",
       "      <td>NaN</td>\n",
       "      <td>NaN</td>\n",
       "      <td>0</td>\n",
       "      <td>2</td>\n",
       "      <td>2006</td>\n",
       "      <td>WD</td>\n",
       "      <td>Abnorml</td>\n",
       "      <td>140000</td>\n",
       "    </tr>\n",
       "    <tr>\n",
       "      <th>4</th>\n",
       "      <td>5</td>\n",
       "      <td>60</td>\n",
       "      <td>RL</td>\n",
       "      <td>84.0</td>\n",
       "      <td>14260</td>\n",
       "      <td>Pave</td>\n",
       "      <td>NaN</td>\n",
       "      <td>IR1</td>\n",
       "      <td>Lvl</td>\n",
       "      <td>AllPub</td>\n",
       "      <td>...</td>\n",
       "      <td>0</td>\n",
       "      <td>NaN</td>\n",
       "      <td>NaN</td>\n",
       "      <td>NaN</td>\n",
       "      <td>0</td>\n",
       "      <td>12</td>\n",
       "      <td>2008</td>\n",
       "      <td>WD</td>\n",
       "      <td>Normal</td>\n",
       "      <td>250000</td>\n",
       "    </tr>\n",
       "  </tbody>\n",
       "</table>\n",
       "<p>5 rows × 81 columns</p>\n",
       "</div>"
      ],
      "text/plain": [
       "   Id  MSSubClass MSZoning  LotFrontage  LotArea Street Alley LotShape  \\\n",
       "0   1          60       RL         65.0     8450   Pave   NaN      Reg   \n",
       "1   2          20       RL         80.0     9600   Pave   NaN      Reg   \n",
       "2   3          60       RL         68.0    11250   Pave   NaN      IR1   \n",
       "3   4          70       RL         60.0     9550   Pave   NaN      IR1   \n",
       "4   5          60       RL         84.0    14260   Pave   NaN      IR1   \n",
       "\n",
       "  LandContour Utilities  ... PoolArea PoolQC Fence MiscFeature MiscVal MoSold  \\\n",
       "0         Lvl    AllPub  ...        0    NaN   NaN         NaN       0      2   \n",
       "1         Lvl    AllPub  ...        0    NaN   NaN         NaN       0      5   \n",
       "2         Lvl    AllPub  ...        0    NaN   NaN         NaN       0      9   \n",
       "3         Lvl    AllPub  ...        0    NaN   NaN         NaN       0      2   \n",
       "4         Lvl    AllPub  ...        0    NaN   NaN         NaN       0     12   \n",
       "\n",
       "  YrSold  SaleType  SaleCondition  SalePrice  \n",
       "0   2008        WD         Normal     208500  \n",
       "1   2007        WD         Normal     181500  \n",
       "2   2008        WD         Normal     223500  \n",
       "3   2006        WD        Abnorml     140000  \n",
       "4   2008        WD         Normal     250000  \n",
       "\n",
       "[5 rows x 81 columns]"
      ]
     },
     "execution_count": 11,
     "metadata": {},
     "output_type": "execute_result"
    }
   ],
   "source": [
    "house_prices_df.head()"
   ]
  },
  {
   "cell_type": "code",
   "execution_count": 18,
   "id": "8c65fae2-fea2-481a-88c7-60d191113e19",
   "metadata": {},
   "outputs": [],
   "source": [
    "house_prices_df.drop(['MiscVal'],axis=1,inplace=True)"
   ]
  },
  {
   "cell_type": "code",
   "execution_count": 19,
   "id": "9ee3c75f-0d00-4b55-a9a8-d710b6711c37",
   "metadata": {},
   "outputs": [],
   "source": [
    "# Splitting into categorical and continious variables \n",
    "\n",
    "\n",
    "def cont_cat_split(df, max_card=20, dep_var=None):\n",
    "    \"Helper function that returns column names of cont and cat variables from given `df`.\"\n",
    "    cont_names, cat_names = [], []\n",
    "    for label in df:\n",
    "        #if label in L(dep_var): continue\n",
    "        if ((pd.api.types.is_integer_dtype(df[label].dtype) and\n",
    "            df[label].unique().shape[0] > max_card) or\n",
    "            pd.api.types.is_float_dtype(df[label].dtype)):\n",
    "            cont_names.append(label)\n",
    "        else: cat_names.append(label)\n",
    "    return cont_names, cat_names\n"
   ]
  },
  {
   "cell_type": "code",
   "execution_count": 20,
   "id": "60f2a7d5-e329-4435-a652-2a7571bf0d7b",
   "metadata": {},
   "outputs": [],
   "source": [
    "cont_vars, cat_vars = cont_cat_split(house_prices_df)"
   ]
  },
  {
   "cell_type": "code",
   "execution_count": 21,
   "id": "eaba3840-8467-4306-842f-3c7c351dfd58",
   "metadata": {},
   "outputs": [
    {
     "name": "stdout",
     "output_type": "stream",
     "text": [
      "['Id', 'LotFrontage', 'LotArea', 'YearBuilt', 'YearRemodAdd', 'MasVnrArea', 'BsmtFinSF1', 'BsmtFinSF2', 'BsmtUnfSF', 'TotalBsmtSF', '1stFlrSF', '2ndFlrSF', 'LowQualFinSF', 'GrLivArea', 'GarageYrBlt', 'GarageArea', 'WoodDeckSF', 'OpenPorchSF', 'EnclosedPorch', 'ScreenPorch', 'SalePrice']\n"
     ]
    }
   ],
   "source": [
    "print(cont_vars)"
   ]
  },
  {
   "cell_type": "code",
   "execution_count": 22,
   "id": "fcaf27cb-a784-4456-a401-ad6dd6a870f6",
   "metadata": {},
   "outputs": [
    {
     "name": "stdout",
     "output_type": "stream",
     "text": [
      "['MSSubClass', 'MSZoning', 'Street', 'Alley', 'LotShape', 'LandContour', 'Utilities', 'LotConfig', 'LandSlope', 'Neighborhood', 'Condition1', 'Condition2', 'BldgType', 'HouseStyle', 'OverallQual', 'OverallCond', 'RoofStyle', 'RoofMatl', 'Exterior1st', 'Exterior2nd', 'MasVnrType', 'ExterQual', 'ExterCond', 'Foundation', 'BsmtQual', 'BsmtCond', 'BsmtExposure', 'BsmtFinType1', 'BsmtFinType2', 'Heating', 'HeatingQC', 'CentralAir', 'Electrical', 'BsmtFullBath', 'BsmtHalfBath', 'FullBath', 'HalfBath', 'BedroomAbvGr', 'KitchenAbvGr', 'KitchenQual', 'TotRmsAbvGrd', 'Functional', 'Fireplaces', 'FireplaceQu', 'GarageType', 'GarageFinish', 'GarageCars', 'GarageQual', 'GarageCond', 'PavedDrive', '3SsnPorch', 'PoolArea', 'PoolQC', 'Fence', 'MiscFeature', 'MoSold', 'YrSold', 'SaleType', 'SaleCondition']\n"
     ]
    }
   ],
   "source": [
    "print(cat_vars)"
   ]
  },
  {
   "cell_type": "markdown",
   "id": "890ae5aa-bb1d-4cf4-83bc-43f477d3531c",
   "metadata": {},
   "source": [
    "Lets take a look at these values and see what the variables look like. In this dataset there are a lot of different variables to be considered. If you would like to swap them, you can use the following helper function."
   ]
  },
  {
   "cell_type": "code",
   "execution_count": 16,
   "id": "988cbfed-2f7b-4b9d-83ab-992296634271",
   "metadata": {},
   "outputs": [],
   "source": []
  },
  {
   "cell_type": "code",
   "execution_count": null,
   "id": "e702b466-577a-476c-8a7d-906afe6bed13",
   "metadata": {},
   "outputs": [],
   "source": []
  },
  {
   "cell_type": "code",
   "execution_count": 289,
   "id": "1929e945-ba33-46fc-879f-c4fb04265ae1",
   "metadata": {},
   "outputs": [],
   "source": [
    "def change_feature_type(swapFeature,cat_vars,cont_vars):\n",
    "    cat_df = pd.DataFrame(cat_vars)\n",
    "    cont_df = pd.DataFrame(cont_vars)\n",
    "\n",
    "    cat_result = cat_df[cat_df[0]==swapFeature]\n",
    "    cont_result = cont_df[cont_df[0]==swapFeature]\n",
    "\n",
    "    if len(cat_result) > 0:\n",
    "        print(f'Found: {swapFeature} in catagorical varaibles, swapping to continous variable')\n",
    "        cont_vars.append(swapFeature)\n",
    "        cat_vars.remove(swapFeature)\n",
    "\n",
    "    elif len(cont_result) > 0:\n",
    "        print(f'Found: {swapFeature} in continuous variables, swapping to catagorical variable')\n",
    "        cat_vars.append(swapFeature)\n",
    "        cont_vars.remove(swapFeature)\n",
    "\n",
    "    else:\n",
    "        print(f\"Feature: {swapFeature} was not found in either list, please check spelling\")  \n",
    "    return (cat_vars,cont_vars)"
   ]
  },
  {
   "cell_type": "code",
   "execution_count": 23,
   "id": "bae4bf3a-1d59-47d4-92be-77357a8fc5c7",
   "metadata": {},
   "outputs": [],
   "source": [
    "#swapThisFeature = ' funding_total_usd'\n",
    "\n",
    "#cat_vars, cont_vars = change_feature_type(swapThisFeature,cat_vars,cont_vars)\n"
   ]
  },
  {
   "cell_type": "code",
   "execution_count": null,
   "id": "b5215a89-d866-4be7-812b-2ac0e53e1745",
   "metadata": {},
   "outputs": [],
   "source": []
  },
  {
   "cell_type": "code",
   "execution_count": null,
   "id": "1a9438f8-5f95-487d-bc7a-1dc15f8f3b09",
   "metadata": {},
   "outputs": [],
   "source": []
  },
  {
   "cell_type": "markdown",
   "id": "757747e0-ad57-443f-8735-3f86cbabc9d8",
   "metadata": {},
   "source": [
    "### Finding the target variable\n",
    "\n",
    "The next important step is finding the target variable. In this dataset the target variable is the sales price of the home. \n",
    "\n",
    "or the column \"SalePrice\""
   ]
  },
  {
   "cell_type": "code",
   "execution_count": 24,
   "id": "76cd9b48-6091-4967-8596-f704c1421b15",
   "metadata": {},
   "outputs": [],
   "source": [
    "target = house_prices_df['SalePrice']"
   ]
  },
  {
   "cell_type": "code",
   "execution_count": 25,
   "id": "d8fa0f87-ffc2-4365-9f11-b77e020167e9",
   "metadata": {},
   "outputs": [
    {
     "data": {
      "text/plain": [
       "<AxesSubplot:xlabel='SalePrice', ylabel='Count'>"
      ]
     },
     "execution_count": 25,
     "metadata": {},
     "output_type": "execute_result"
    },
    {
     "data": {
      "image/png": "[encoded data removed]",
      "text/plain": [
       "<Figure size 432x288 with 1 Axes>"
      ]
     },
     "metadata": {
      "needs_background": "light"
     },
     "output_type": "display_data"
    }
   ],
   "source": [
    "sns.histplot(target)"
   ]
  },
  {
   "cell_type": "markdown",
   "id": "42105836-625e-40de-9974-65781754f1b0",
   "metadata": {},
   "source": [
    "This looks like a very nice graph, but it has a real problem. There is a strong skew to the left with an appreciable tail. As you can see below, the skew value is quite large"
   ]
  },
  {
   "cell_type": "code",
   "execution_count": 26,
   "id": "3a5b2125-8fde-4ced-af6b-3b406dad94fa",
   "metadata": {},
   "outputs": [
    {
     "data": {
      "text/plain": [
       "1.8828757597682129"
      ]
     },
     "execution_count": 26,
     "metadata": {},
     "output_type": "execute_result"
    }
   ],
   "source": [
    "target.skew()"
   ]
  },
  {
   "cell_type": "markdown",
   "id": "d669e65d-229e-4c2e-8ca4-683931d24fef",
   "metadata": {},
   "source": [
    "Luckily, this can be handled with a simple log transform"
   ]
  },
  {
   "cell_type": "markdown",
   "id": "bfec20fe-89fb-49ee-91eb-c72993dcfa81",
   "metadata": {},
   "source": [
    "### Log Transforms \n",
    "\n",
    "Log transforms help to normalize data significantly. This is useful in positive skew distributions"
   ]
  },
  {
   "cell_type": "code",
   "execution_count": 27,
   "id": "fecafc54-a4c4-49db-9b32-a62409a603c4",
   "metadata": {},
   "outputs": [],
   "source": [
    "house_prices_df['SalePrice'] = np.log(house_prices_df['SalePrice'])\n"
   ]
  },
  {
   "cell_type": "code",
   "execution_count": 28,
   "id": "87e278a4-b8b0-4de2-b95c-7133548615c6",
   "metadata": {},
   "outputs": [],
   "source": [
    "target = house_prices_df['SalePrice']"
   ]
  },
  {
   "cell_type": "code",
   "execution_count": 29,
   "id": "a21b58f7-cce0-4137-b0ff-1bb8c124a832",
   "metadata": {},
   "outputs": [
    {
     "data": {
      "text/plain": [
       "<AxesSubplot:xlabel='SalePrice', ylabel='Count'>"
      ]
     },
     "execution_count": 29,
     "metadata": {},
     "output_type": "execute_result"
    },
    {
     "data": {
      "image/png": "[encoded data removed]",
      "text/plain": [
       "<Figure size 432x288 with 1 Axes>"
      ]
     },
     "metadata": {
      "needs_background": "light"
     },
     "output_type": "display_data"
    }
   ],
   "source": [
    "sns.histplot(target)"
   ]
  },
  {
   "cell_type": "markdown",
   "id": "011ea58a-f621-46e7-8551-45cf4edf6d7f",
   "metadata": {},
   "source": [
    "As you can see, this graph is much more normal. It has a skew much closer to zero, which means that we can now base some predictions off of this "
   ]
  },
  {
   "cell_type": "code",
   "execution_count": 30,
   "id": "8a2e08bf-8882-42ba-b20b-2920b850d787",
   "metadata": {},
   "outputs": [
    {
     "data": {
      "text/plain": [
       "0.12133506220520393"
      ]
     },
     "execution_count": 30,
     "metadata": {},
     "output_type": "execute_result"
    }
   ],
   "source": [
    "target.skew()"
   ]
  },
  {
   "cell_type": "code",
   "execution_count": null,
   "id": "e45bc784-800e-4b19-bb0b-855ba9ff1635",
   "metadata": {},
   "outputs": [],
   "source": []
  },
  {
   "cell_type": "code",
   "execution_count": 31,
   "id": "14e139b6-ce75-4cd5-bbc3-3c23f008031d",
   "metadata": {
    "tags": []
   },
   "outputs": [
    {
     "data": {
      "text/html": [
       "<div>\n",
       "<style scoped>\n",
       "    .dataframe tbody tr th:only-of-type {\n",
       "        vertical-align: middle;\n",
       "    }\n",
       "\n",
       "    .dataframe tbody tr th {\n",
       "        vertical-align: top;\n",
       "    }\n",
       "\n",
       "    .dataframe thead th {\n",
       "        text-align: right;\n",
       "    }\n",
       "</style>\n",
       "<table border=\"1\" class=\"dataframe\">\n",
       "  <thead>\n",
       "    <tr style=\"text-align: right;\">\n",
       "      <th></th>\n",
       "      <th>Id</th>\n",
       "      <th>LotFrontage</th>\n",
       "      <th>LotArea</th>\n",
       "      <th>YearBuilt</th>\n",
       "      <th>YearRemodAdd</th>\n",
       "      <th>MasVnrArea</th>\n",
       "      <th>BsmtFinSF1</th>\n",
       "      <th>BsmtFinSF2</th>\n",
       "      <th>BsmtUnfSF</th>\n",
       "      <th>TotalBsmtSF</th>\n",
       "      <th>...</th>\n",
       "      <th>2ndFlrSF</th>\n",
       "      <th>LowQualFinSF</th>\n",
       "      <th>GrLivArea</th>\n",
       "      <th>GarageYrBlt</th>\n",
       "      <th>GarageArea</th>\n",
       "      <th>WoodDeckSF</th>\n",
       "      <th>OpenPorchSF</th>\n",
       "      <th>EnclosedPorch</th>\n",
       "      <th>ScreenPorch</th>\n",
       "      <th>SalePrice</th>\n",
       "    </tr>\n",
       "  </thead>\n",
       "  <tbody>\n",
       "    <tr>\n",
       "      <th>count</th>\n",
       "      <td>1460.000000</td>\n",
       "      <td>1201.000000</td>\n",
       "      <td>1460.000000</td>\n",
       "      <td>1460.000000</td>\n",
       "      <td>1460.000000</td>\n",
       "      <td>1452.000000</td>\n",
       "      <td>1460.000000</td>\n",
       "      <td>1460.000000</td>\n",
       "      <td>1460.000000</td>\n",
       "      <td>1460.000000</td>\n",
       "      <td>...</td>\n",
       "      <td>1460.000000</td>\n",
       "      <td>1460.000000</td>\n",
       "      <td>1460.000000</td>\n",
       "      <td>1379.000000</td>\n",
       "      <td>1460.000000</td>\n",
       "      <td>1460.000000</td>\n",
       "      <td>1460.000000</td>\n",
       "      <td>1460.000000</td>\n",
       "      <td>1460.000000</td>\n",
       "      <td>1460.000000</td>\n",
       "    </tr>\n",
       "    <tr>\n",
       "      <th>mean</th>\n",
       "      <td>730.500000</td>\n",
       "      <td>70.049958</td>\n",
       "      <td>10516.828082</td>\n",
       "      <td>1971.267808</td>\n",
       "      <td>1984.865753</td>\n",
       "      <td>103.685262</td>\n",
       "      <td>443.639726</td>\n",
       "      <td>46.549315</td>\n",
       "      <td>567.240411</td>\n",
       "      <td>1057.429452</td>\n",
       "      <td>...</td>\n",
       "      <td>346.992466</td>\n",
       "      <td>5.844521</td>\n",
       "      <td>1515.463699</td>\n",
       "      <td>1978.506164</td>\n",
       "      <td>472.980137</td>\n",
       "      <td>94.244521</td>\n",
       "      <td>46.660274</td>\n",
       "      <td>21.954110</td>\n",
       "      <td>15.060959</td>\n",
       "      <td>12.024051</td>\n",
       "    </tr>\n",
       "    <tr>\n",
       "      <th>std</th>\n",
       "      <td>421.610009</td>\n",
       "      <td>24.284752</td>\n",
       "      <td>9981.264932</td>\n",
       "      <td>30.202904</td>\n",
       "      <td>20.645407</td>\n",
       "      <td>181.066207</td>\n",
       "      <td>456.098091</td>\n",
       "      <td>161.319273</td>\n",
       "      <td>441.866955</td>\n",
       "      <td>438.705324</td>\n",
       "      <td>...</td>\n",
       "      <td>436.528436</td>\n",
       "      <td>48.623081</td>\n",
       "      <td>525.480383</td>\n",
       "      <td>24.689725</td>\n",
       "      <td>213.804841</td>\n",
       "      <td>125.338794</td>\n",
       "      <td>66.256028</td>\n",
       "      <td>61.119149</td>\n",
       "      <td>55.757415</td>\n",
       "      <td>0.399452</td>\n",
       "    </tr>\n",
       "    <tr>\n",
       "      <th>min</th>\n",
       "      <td>1.000000</td>\n",
       "      <td>21.000000</td>\n",
       "      <td>1300.000000</td>\n",
       "      <td>1872.000000</td>\n",
       "      <td>1950.000000</td>\n",
       "      <td>0.000000</td>\n",
       "      <td>0.000000</td>\n",
       "      <td>0.000000</td>\n",
       "      <td>0.000000</td>\n",
       "      <td>0.000000</td>\n",
       "      <td>...</td>\n",
       "      <td>0.000000</td>\n",
       "      <td>0.000000</td>\n",
       "      <td>334.000000</td>\n",
       "      <td>1900.000000</td>\n",
       "      <td>0.000000</td>\n",
       "      <td>0.000000</td>\n",
       "      <td>0.000000</td>\n",
       "      <td>0.000000</td>\n",
       "      <td>0.000000</td>\n",
       "      <td>10.460242</td>\n",
       "    </tr>\n",
       "    <tr>\n",
       "      <th>25%</th>\n",
       "      <td>365.750000</td>\n",
       "      <td>59.000000</td>\n",
       "      <td>7553.500000</td>\n",
       "      <td>1954.000000</td>\n",
       "      <td>1967.000000</td>\n",
       "      <td>0.000000</td>\n",
       "      <td>0.000000</td>\n",
       "      <td>0.000000</td>\n",
       "      <td>223.000000</td>\n",
       "      <td>795.750000</td>\n",
       "      <td>...</td>\n",
       "      <td>0.000000</td>\n",
       "      <td>0.000000</td>\n",
       "      <td>1129.500000</td>\n",
       "      <td>1961.000000</td>\n",
       "      <td>334.500000</td>\n",
       "      <td>0.000000</td>\n",
       "      <td>0.000000</td>\n",
       "      <td>0.000000</td>\n",
       "      <td>0.000000</td>\n",
       "      <td>11.775097</td>\n",
       "    </tr>\n",
       "    <tr>\n",
       "      <th>50%</th>\n",
       "      <td>730.500000</td>\n",
       "      <td>69.000000</td>\n",
       "      <td>9478.500000</td>\n",
       "      <td>1973.000000</td>\n",
       "      <td>1994.000000</td>\n",
       "      <td>0.000000</td>\n",
       "      <td>383.500000</td>\n",
       "      <td>0.000000</td>\n",
       "      <td>477.500000</td>\n",
       "      <td>991.500000</td>\n",
       "      <td>...</td>\n",
       "      <td>0.000000</td>\n",
       "      <td>0.000000</td>\n",
       "      <td>1464.000000</td>\n",
       "      <td>1980.000000</td>\n",
       "      <td>480.000000</td>\n",
       "      <td>0.000000</td>\n",
       "      <td>25.000000</td>\n",
       "      <td>0.000000</td>\n",
       "      <td>0.000000</td>\n",
       "      <td>12.001505</td>\n",
       "    </tr>\n",
       "    <tr>\n",
       "      <th>75%</th>\n",
       "      <td>1095.250000</td>\n",
       "      <td>80.000000</td>\n",
       "      <td>11601.500000</td>\n",
       "      <td>2000.000000</td>\n",
       "      <td>2004.000000</td>\n",
       "      <td>166.000000</td>\n",
       "      <td>712.250000</td>\n",
       "      <td>0.000000</td>\n",
       "      <td>808.000000</td>\n",
       "      <td>1298.250000</td>\n",
       "      <td>...</td>\n",
       "      <td>728.000000</td>\n",
       "      <td>0.000000</td>\n",
       "      <td>1776.750000</td>\n",
       "      <td>2002.000000</td>\n",
       "      <td>576.000000</td>\n",
       "      <td>168.000000</td>\n",
       "      <td>68.000000</td>\n",
       "      <td>0.000000</td>\n",
       "      <td>0.000000</td>\n",
       "      <td>12.273731</td>\n",
       "    </tr>\n",
       "    <tr>\n",
       "      <th>max</th>\n",
       "      <td>1460.000000</td>\n",
       "      <td>313.000000</td>\n",
       "      <td>215245.000000</td>\n",
       "      <td>2010.000000</td>\n",
       "      <td>2010.000000</td>\n",
       "      <td>1600.000000</td>\n",
       "      <td>5644.000000</td>\n",
       "      <td>1474.000000</td>\n",
       "      <td>2336.000000</td>\n",
       "      <td>6110.000000</td>\n",
       "      <td>...</td>\n",
       "      <td>2065.000000</td>\n",
       "      <td>572.000000</td>\n",
       "      <td>5642.000000</td>\n",
       "      <td>2010.000000</td>\n",
       "      <td>1418.000000</td>\n",
       "      <td>857.000000</td>\n",
       "      <td>547.000000</td>\n",
       "      <td>552.000000</td>\n",
       "      <td>480.000000</td>\n",
       "      <td>13.534473</td>\n",
       "    </tr>\n",
       "  </tbody>\n",
       "</table>\n",
       "<p>8 rows × 21 columns</p>\n",
       "</div>"
      ],
      "text/plain": [
       "                Id  LotFrontage        LotArea    YearBuilt  YearRemodAdd  \\\n",
       "count  1460.000000  1201.000000    1460.000000  1460.000000   1460.000000   \n",
       "mean    730.500000    70.049958   10516.828082  1971.267808   1984.865753   \n",
       "std     421.610009    24.284752    9981.264932    30.202904     20.645407   \n",
       "min       1.000000    21.000000    1300.000000  1872.000000   1950.000000   \n",
       "25%     365.750000    59.000000    7553.500000  1954.000000   1967.000000   \n",
       "50%     730.500000    69.000000    9478.500000  1973.000000   1994.000000   \n",
       "75%    1095.250000    80.000000   11601.500000  2000.000000   2004.000000   \n",
       "max    1460.000000   313.000000  215245.000000  2010.000000   2010.000000   \n",
       "\n",
       "        MasVnrArea   BsmtFinSF1   BsmtFinSF2    BsmtUnfSF  TotalBsmtSF  ...  \\\n",
       "count  1452.000000  1460.000000  1460.000000  1460.000000  1460.000000  ...   \n",
       "mean    103.685262   443.639726    46.549315   567.240411  1057.429452  ...   \n",
       "std     181.066207   456.098091   161.319273   441.866955   438.705324  ...   \n",
       "min       0.000000     0.000000     0.000000     0.000000     0.000000  ...   \n",
       "25%       0.000000     0.000000     0.000000   223.000000   795.750000  ...   \n",
       "50%       0.000000   383.500000     0.000000   477.500000   991.500000  ...   \n",
       "75%     166.000000   712.250000     0.000000   808.000000  1298.250000  ...   \n",
       "max    1600.000000  5644.000000  1474.000000  2336.000000  6110.000000  ...   \n",
       "\n",
       "          2ndFlrSF  LowQualFinSF    GrLivArea  GarageYrBlt   GarageArea  \\\n",
       "count  1460.000000   1460.000000  1460.000000  1379.000000  1460.000000   \n",
       "mean    346.992466      5.844521  1515.463699  1978.506164   472.980137   \n",
       "std     436.528436     48.623081   525.480383    24.689725   213.804841   \n",
       "min       0.000000      0.000000   334.000000  1900.000000     0.000000   \n",
       "25%       0.000000      0.000000  1129.500000  1961.000000   334.500000   \n",
       "50%       0.000000      0.000000  1464.000000  1980.000000   480.000000   \n",
       "75%     728.000000      0.000000  1776.750000  2002.000000   576.000000   \n",
       "max    2065.000000    572.000000  5642.000000  2010.000000  1418.000000   \n",
       "\n",
       "        WoodDeckSF  OpenPorchSF  EnclosedPorch  ScreenPorch    SalePrice  \n",
       "count  1460.000000  1460.000000    1460.000000  1460.000000  1460.000000  \n",
       "mean     94.244521    46.660274      21.954110    15.060959    12.024051  \n",
       "std     125.338794    66.256028      61.119149    55.757415     0.399452  \n",
       "min       0.000000     0.000000       0.000000     0.000000    10.460242  \n",
       "25%       0.000000     0.000000       0.000000     0.000000    11.775097  \n",
       "50%       0.000000    25.000000       0.000000     0.000000    12.001505  \n",
       "75%     168.000000    68.000000       0.000000     0.000000    12.273731  \n",
       "max     857.000000   547.000000     552.000000   480.000000    13.534473  \n",
       "\n",
       "[8 rows x 21 columns]"
      ]
     },
     "execution_count": 31,
     "metadata": {},
     "output_type": "execute_result"
    }
   ],
   "source": [
    "house_prices_df[cont_vars].describe()"
   ]
  },
  {
   "cell_type": "code",
   "execution_count": 32,
   "id": "43abf207-c66a-462d-a8c2-e8850e9f45ca",
   "metadata": {},
   "outputs": [],
   "source": [
    "cont_df = house_prices_df[cont_vars]"
   ]
  },
  {
   "cell_type": "code",
   "execution_count": 33,
   "id": "1723d3aa-bc3c-4666-a911-027d8980f185",
   "metadata": {},
   "outputs": [],
   "source": [
    "skewedFeatures = house_prices_df[cont_vars].skew().sort_values(ascending=False)\n",
    "skewness = pd.DataFrame({'Skew':skewedFeatures})\n",
    "skewness = skewness[skewness['Skew'].abs() > 1 ]"
   ]
  },
  {
   "cell_type": "code",
   "execution_count": 34,
   "id": "fea32ad6-6d8f-4134-8e89-630af3a802a3",
   "metadata": {},
   "outputs": [
    {
     "data": {
      "text/html": [
       "<div>\n",
       "<style scoped>\n",
       "    .dataframe tbody tr th:only-of-type {\n",
       "        vertical-align: middle;\n",
       "    }\n",
       "\n",
       "    .dataframe tbody tr th {\n",
       "        vertical-align: top;\n",
       "    }\n",
       "\n",
       "    .dataframe thead th {\n",
       "        text-align: right;\n",
       "    }\n",
       "</style>\n",
       "<table border=\"1\" class=\"dataframe\">\n",
       "  <thead>\n",
       "    <tr style=\"text-align: right;\">\n",
       "      <th></th>\n",
       "      <th>Skew</th>\n",
       "    </tr>\n",
       "  </thead>\n",
       "  <tbody>\n",
       "    <tr>\n",
       "      <th>LotArea</th>\n",
       "      <td>12.207688</td>\n",
       "    </tr>\n",
       "    <tr>\n",
       "      <th>LowQualFinSF</th>\n",
       "      <td>9.011341</td>\n",
       "    </tr>\n",
       "    <tr>\n",
       "      <th>BsmtFinSF2</th>\n",
       "      <td>4.255261</td>\n",
       "    </tr>\n",
       "    <tr>\n",
       "      <th>ScreenPorch</th>\n",
       "      <td>4.122214</td>\n",
       "    </tr>\n",
       "    <tr>\n",
       "      <th>EnclosedPorch</th>\n",
       "      <td>3.089872</td>\n",
       "    </tr>\n",
       "    <tr>\n",
       "      <th>MasVnrArea</th>\n",
       "      <td>2.669084</td>\n",
       "    </tr>\n",
       "    <tr>\n",
       "      <th>OpenPorchSF</th>\n",
       "      <td>2.364342</td>\n",
       "    </tr>\n",
       "    <tr>\n",
       "      <th>LotFrontage</th>\n",
       "      <td>2.163569</td>\n",
       "    </tr>\n",
       "    <tr>\n",
       "      <th>BsmtFinSF1</th>\n",
       "      <td>1.685503</td>\n",
       "    </tr>\n",
       "    <tr>\n",
       "      <th>WoodDeckSF</th>\n",
       "      <td>1.541376</td>\n",
       "    </tr>\n",
       "    <tr>\n",
       "      <th>TotalBsmtSF</th>\n",
       "      <td>1.524255</td>\n",
       "    </tr>\n",
       "    <tr>\n",
       "      <th>1stFlrSF</th>\n",
       "      <td>1.376757</td>\n",
       "    </tr>\n",
       "    <tr>\n",
       "      <th>GrLivArea</th>\n",
       "      <td>1.366560</td>\n",
       "    </tr>\n",
       "  </tbody>\n",
       "</table>\n",
       "</div>"
      ],
      "text/plain": [
       "                    Skew\n",
       "LotArea        12.207688\n",
       "LowQualFinSF    9.011341\n",
       "BsmtFinSF2      4.255261\n",
       "ScreenPorch     4.122214\n",
       "EnclosedPorch   3.089872\n",
       "MasVnrArea      2.669084\n",
       "OpenPorchSF     2.364342\n",
       "LotFrontage     2.163569\n",
       "BsmtFinSF1      1.685503\n",
       "WoodDeckSF      1.541376\n",
       "TotalBsmtSF     1.524255\n",
       "1stFlrSF        1.376757\n",
       "GrLivArea       1.366560"
      ]
     },
     "execution_count": 34,
     "metadata": {},
     "output_type": "execute_result"
    }
   ],
   "source": [
    "skewness"
   ]
  },
  {
   "cell_type": "markdown",
   "id": "1874999e-56b0-4997-b4fd-a023b6bf4b07",
   "metadata": {},
   "source": [
    "Which other columns should undergo a log transform in order to normalize them?"
   ]
  },
  {
   "cell_type": "markdown",
   "id": "bc7665b8-6ff2-47da-8cc5-f8f4423dae8d",
   "metadata": {},
   "source": [
    "### Normalization"
   ]
  },
  {
   "cell_type": "markdown",
   "id": "e73c834f-c692-4be2-b0be-9d4d2d31116d",
   "metadata": {},
   "source": [
    "#### Min Max Scaling \n",
    "\n",
    "One problem that could result from having a large range of data is that the large numbers and variance can cause the model to see it as more important than variables that have a smaller variance. \n",
    "\n",
    "Normalization can put the values into a range that falls between zero and one\n",
    "\n",
    "This is a way of scaling takes a value, sutracts it from the smallest value in the column, then divides it by the difference between the largest and smallest columns.\n",
    "\n",
    "$$ \\tilde{x}_i = \\frac{x_i - x_{min}}{x_{max} - x_{min}}. $$\n",
    "\n",
    "This is useful in situations which are not sensitive to outliars. Since, if there is a huge max or tiny minimum value is going to drastically affect the formula. \n",
    "\n",
    "A year column would benefit from this kind of transformation. Since we are in the 21st century, everything in this column is going to have a huge offset of 2000"
   ]
  },
  {
   "cell_type": "code",
   "execution_count": 35,
   "id": "182ec02e-9195-40a9-a095-5cefaffd4d7f",
   "metadata": {},
   "outputs": [
    {
     "data": {
      "text/plain": [
       "count    1460.000000\n",
       "mean     1971.267808\n",
       "std        30.202904\n",
       "min      1872.000000\n",
       "25%      1954.000000\n",
       "50%      1973.000000\n",
       "75%      2000.000000\n",
       "max      2010.000000\n",
       "Name: YearBuilt, dtype: float64"
      ]
     },
     "execution_count": 35,
     "metadata": {},
     "output_type": "execute_result"
    }
   ],
   "source": [
    "house_prices_df['YearBuilt'].describe()"
   ]
  },
  {
   "cell_type": "code",
   "execution_count": 36,
   "id": "866e4baa-7150-4fa4-b18a-d09c313a2ed1",
   "metadata": {},
   "outputs": [
    {
     "data": {
      "text/plain": [
       "count    1460.000000\n",
       "mean     1984.865753\n",
       "std        20.645407\n",
       "min      1950.000000\n",
       "25%      1967.000000\n",
       "50%      1994.000000\n",
       "75%      2004.000000\n",
       "max      2010.000000\n",
       "Name: YearRemodAdd, dtype: float64"
      ]
     },
     "execution_count": 36,
     "metadata": {},
     "output_type": "execute_result"
    }
   ],
   "source": [
    "house_prices_df['YearRemodAdd'].describe()"
   ]
  },
  {
   "cell_type": "code",
   "execution_count": 37,
   "id": "eef4548d-ad78-4dc8-b406-eb83689fe3f1",
   "metadata": {},
   "outputs": [
    {
     "data": {
      "text/plain": [
       "count    1379.000000\n",
       "mean     1978.506164\n",
       "std        24.689725\n",
       "min      1900.000000\n",
       "25%      1961.000000\n",
       "50%      1980.000000\n",
       "75%      2002.000000\n",
       "max      2010.000000\n",
       "Name: GarageYrBlt, dtype: float64"
      ]
     },
     "execution_count": 37,
     "metadata": {},
     "output_type": "execute_result"
    }
   ],
   "source": [
    "house_prices_df['GarageYrBlt'].describe()"
   ]
  },
  {
   "cell_type": "markdown",
   "id": "35b1d631-b0a8-4e29-9eaa-ac22c286b5f4",
   "metadata": {},
   "source": [
    "As we can see, all of these variables about years are ripe for min, max scaling. "
   ]
  },
  {
   "cell_type": "code",
   "execution_count": 38,
   "id": "6f2a9da5-53ec-4cfc-bfe6-55beb30090ea",
   "metadata": {},
   "outputs": [],
   "source": [
    "from sklearn.preprocessing import MinMaxScaler\n",
    "min_max_scaler = MinMaxScaler()\n",
    "\n",
    "df = house_prices_df\n",
    "\n",
    "column_names_to_normalize = ['YearBuilt','YearRemodAdd','GarageYrBlt']\n",
    "x = df[column_names_to_normalize].values\n",
    "\n",
    "\n",
    "x_scaled = min_max_scaler.fit_transform(x)\n",
    "df_temp = pd.DataFrame(x_scaled, columns=column_names_to_normalize, index = df.index)\n",
    "df[column_names_to_normalize] = df_temp\n",
    "\n",
    "house_prices_df = df"
   ]
  },
  {
   "cell_type": "code",
   "execution_count": 39,
   "id": "57dc0b5c-af23-46af-a77b-0053b079ef16",
   "metadata": {},
   "outputs": [
    {
     "data": {
      "text/plain": [
       "count    1460.000000\n",
       "mean        0.719332\n",
       "std         0.218862\n",
       "min         0.000000\n",
       "25%         0.594203\n",
       "50%         0.731884\n",
       "75%         0.927536\n",
       "max         1.000000\n",
       "Name: YearBuilt, dtype: float64"
      ]
     },
     "execution_count": 39,
     "metadata": {},
     "output_type": "execute_result"
    }
   ],
   "source": [
    "house_prices_df['YearBuilt'].describe()"
   ]
  },
  {
   "cell_type": "code",
   "execution_count": 40,
   "id": "e990c423-0561-4dda-8d82-4b812d8a9a1e",
   "metadata": {},
   "outputs": [
    {
     "data": {
      "text/plain": [
       "<AxesSubplot:xlabel='YearBuilt', ylabel='Count'>"
      ]
     },
     "execution_count": 40,
     "metadata": {},
     "output_type": "execute_result"
    },
    {
     "data": {
      "image/png": "[encoded data removed]",
      "text/plain": [
       "<Figure size 432x288 with 1 Axes>"
      ]
     },
     "metadata": {
      "needs_background": "light"
     },
     "output_type": "display_data"
    }
   ],
   "source": [
    "sns.histplot(house_prices_df['YearBuilt'])"
   ]
  },
  {
   "cell_type": "markdown",
   "id": "6cbf2108-7149-4a8a-bf4c-98de802e8e10",
   "metadata": {},
   "source": [
    "Why is the skew unaffected by this transform? What information does this transform preserve?"
   ]
  },
  {
   "cell_type": "code",
   "execution_count": 41,
   "id": "c2a0e4f3-8c7c-4374-ba20-414a288c21bb",
   "metadata": {},
   "outputs": [
    {
     "data": {
      "text/plain": [
       "-0.6134611724881864"
      ]
     },
     "execution_count": 41,
     "metadata": {},
     "output_type": "execute_result"
    }
   ],
   "source": [
    "house_prices_df['YearBuilt'].skew()"
   ]
  },
  {
   "cell_type": "code",
   "execution_count": null,
   "id": "6e975ab3-6151-4075-8832-7365bcae89ac",
   "metadata": {},
   "outputs": [],
   "source": []
  },
  {
   "cell_type": "markdown",
   "id": "06056758-16dc-4a6e-b61c-01733f4eab84",
   "metadata": {},
   "source": [
    "### BoxCox Transforms"
   ]
  },
  {
   "cell_type": "code",
   "execution_count": 42,
   "id": "5d034613-dfe8-4a37-bba8-19845f010c6f",
   "metadata": {},
   "outputs": [],
   "source": [
    "# calculating  Skew and sorting \n",
    "skewedFeatures = house_prices_df[cont_vars].skew().sort_values(ascending=False)\n",
    "skewness = pd.DataFrame({'Skew':skewedFeatures})\n",
    "skewness = skewness[skewness['Skew'].abs() > 1 ]"
   ]
  },
  {
   "cell_type": "code",
   "execution_count": 44,
   "id": "35ee55ad-f395-4ddc-bbf0-039548119570",
   "metadata": {},
   "outputs": [
    {
     "name": "stdout",
     "output_type": "stream",
     "text": [
      "LotArea\n",
      "LowQualFinSF\n",
      "BsmtFinSF2\n",
      "ScreenPorch\n",
      "EnclosedPorch\n",
      "MasVnrArea\n",
      "OpenPorchSF\n",
      "LotFrontage\n",
      "BsmtFinSF1\n",
      "WoodDeckSF\n",
      "TotalBsmtSF\n",
      "1stFlrSF\n",
      "GrLivArea\n"
     ]
    }
   ],
   "source": [
    "#stats\n",
    "from scipy import stats\n",
    "\n",
    "for col in skewness.index:\n",
    "    print(col)\n",
    "    orginal_skew = house_prices_df[col].skew()\n",
    "    \n",
    "    transformed_col = stats.boxcox(np.clip(house_prices_df[col],0.0001,None))[0]\n",
    "    \n",
    "    tsfm_skew = pd.Series(transformed_col).skew()\n",
    "    \n",
    "    if tsfm_skew < orginal_skew:\n",
    "        house_prices_df[col] = transformed_col\n",
    "    else:\n",
    "        pass\n",
    "    \n",
    "    \n",
    "   # house_prices_df[col] =\n",
    "    \n",
    "#target\n",
    "#house_prices_df['SalePrice'] = np.log(house_prices_df['SalePrice'])\n"
   ]
  },
  {
   "cell_type": "code",
   "execution_count": 45,
   "id": "ae227d50-940b-493d-beaa-da7028ae78ce",
   "metadata": {},
   "outputs": [],
   "source": [
    "skewedFeatures = house_prices_df[cont_vars].skew().sort_values(ascending=False)\n",
    "skewness = pd.DataFrame({'Skew':skewedFeatures})\n",
    "skewness = skewness[skewness['Skew'].abs() > 1 ]"
   ]
  },
  {
   "cell_type": "code",
   "execution_count": 46,
   "id": "93bc1eca-2300-497d-83f5-1edab46ea53d",
   "metadata": {},
   "outputs": [
    {
     "data": {
      "text/html": [
       "<div>\n",
       "<style scoped>\n",
       "    .dataframe tbody tr th:only-of-type {\n",
       "        vertical-align: middle;\n",
       "    }\n",
       "\n",
       "    .dataframe tbody tr th {\n",
       "        vertical-align: top;\n",
       "    }\n",
       "\n",
       "    .dataframe thead th {\n",
       "        text-align: right;\n",
       "    }\n",
       "</style>\n",
       "<table border=\"1\" class=\"dataframe\">\n",
       "  <thead>\n",
       "    <tr style=\"text-align: right;\">\n",
       "      <th></th>\n",
       "      <th>Skew</th>\n",
       "    </tr>\n",
       "  </thead>\n",
       "  <tbody>\n",
       "    <tr>\n",
       "      <th>LowQualFinSF</th>\n",
       "      <td>7.299413</td>\n",
       "    </tr>\n",
       "    <tr>\n",
       "      <th>ScreenPorch</th>\n",
       "      <td>3.113266</td>\n",
       "    </tr>\n",
       "    <tr>\n",
       "      <th>MasVnrArea</th>\n",
       "      <td>2.669084</td>\n",
       "    </tr>\n",
       "    <tr>\n",
       "      <th>BsmtFinSF2</th>\n",
       "      <td>2.425646</td>\n",
       "    </tr>\n",
       "    <tr>\n",
       "      <th>LotFrontage</th>\n",
       "      <td>2.163569</td>\n",
       "    </tr>\n",
       "    <tr>\n",
       "      <th>EnclosedPorch</th>\n",
       "      <td>2.047922</td>\n",
       "    </tr>\n",
       "  </tbody>\n",
       "</table>\n",
       "</div>"
      ],
      "text/plain": [
       "                   Skew\n",
       "LowQualFinSF   7.299413\n",
       "ScreenPorch    3.113266\n",
       "MasVnrArea     2.669084\n",
       "BsmtFinSF2     2.425646\n",
       "LotFrontage    2.163569\n",
       "EnclosedPorch  2.047922"
      ]
     },
     "execution_count": 46,
     "metadata": {},
     "output_type": "execute_result"
    }
   ],
   "source": [
    "skewness"
   ]
  },
  {
   "cell_type": "code",
   "execution_count": null,
   "id": "f8964890-1bde-4547-a23d-b2ceb5c8c4ce",
   "metadata": {},
   "outputs": [],
   "source": []
  },
  {
   "cell_type": "code",
   "execution_count": 211,
   "id": "3443bca0-4f18-4b94-9ac0-8c038835e661",
   "metadata": {},
   "outputs": [],
   "source": []
  },
  {
   "cell_type": "code",
   "execution_count": null,
   "id": "7a69bffe-0823-47cd-b9a8-4027d9ee0c39",
   "metadata": {},
   "outputs": [],
   "source": [
    "from scipy.stats import boxcox\n",
    "\n",
    "skewed_features = ['Pool']\n",
    "\n",
    "for i in ske"
   ]
  },
  {
   "cell_type": "code",
   "execution_count": null,
   "id": "7214f781-ea48-4a21-8d87-65addcfcad8e",
   "metadata": {},
   "outputs": [],
   "source": []
  },
  {
   "cell_type": "markdown",
   "id": "2209a328-f828-4172-9f14-2581b1980248",
   "metadata": {},
   "source": [
    "## Standardization"
   ]
  },
  {
   "cell_type": "markdown",
   "id": "ad2f54ae-7606-48b9-9c7c-e602966e86f3",
   "metadata": {},
   "source": [
    "Intro Paragraph\n",
    "Intro Paragraph\n",
    "\n",
    "Problems with large scales of numbers\n",
    "Not easy to see a pattern if there are a huge range of possible values. The following provides a more useful way to look at some of these values. If they are standardized, we are no longer looking at the raw value. But instead at how distant it is from the mean. \n",
    "\n",
    "If it is lower than the mean, it will have a negative value, and if it is closer to the mean, it will have a more positive value. This can be useful when dealing with features that have large numbers.\n",
    "\n",
    "For example, pool size as a feature is obviously very skewed, because houses that have pools are likely to cost more, and houses that have huge pools are likely to cost millions of dollars. In this sense, it might be useful to look at the problem, not based on how large the pool is, but rather, how far it is from the mean. If a house has a pool that is 2 standard deviations from the mean, it likely correlates with other values.\n",
    "\n",
    "https://www.kdnuggets.com/2020/04/data-transformation-standardization-normalization.html"
   ]
  },
  {
   "cell_type": "code",
   "execution_count": 52,
   "id": "f6511c3b-ae19-4f5f-bfc6-47d7eff36ae0",
   "metadata": {},
   "outputs": [],
   "source": [
    "from sklearn.preprocessing import StandardScaler\n",
    "standard_scalar = StandardScaler()\n",
    "\n",
    "df = house_prices_df\n",
    "\n",
    "column_names_to_normalize = skewness.index\n",
    "\n",
    "\n",
    "x = df[column_names_to_normalize].values\n",
    "\n",
    "\n",
    "x_scaled = standard_scalar.fit_transform(x)\n",
    "df_temp = pd.DataFrame(x_scaled, columns=column_names_to_normalize, index = df.index)\n",
    "df[column_names_to_normalize] = df_temp\n",
    "\n",
    "house_prices_df = df"
   ]
  },
  {
   "cell_type": "code",
   "execution_count": 53,
   "id": "f6946446-7e84-4266-b884-26395e5526a0",
   "metadata": {},
   "outputs": [
    {
     "data": {
      "text/html": [
       "<div>\n",
       "<style scoped>\n",
       "    .dataframe tbody tr th:only-of-type {\n",
       "        vertical-align: middle;\n",
       "    }\n",
       "\n",
       "    .dataframe tbody tr th {\n",
       "        vertical-align: top;\n",
       "    }\n",
       "\n",
       "    .dataframe thead th {\n",
       "        text-align: right;\n",
       "    }\n",
       "</style>\n",
       "<table border=\"1\" class=\"dataframe\">\n",
       "  <thead>\n",
       "    <tr style=\"text-align: right;\">\n",
       "      <th></th>\n",
       "      <th>Skew</th>\n",
       "    </tr>\n",
       "  </thead>\n",
       "  <tbody>\n",
       "    <tr>\n",
       "      <th>LowQualFinSF</th>\n",
       "      <td>7.299413</td>\n",
       "    </tr>\n",
       "    <tr>\n",
       "      <th>ScreenPorch</th>\n",
       "      <td>3.113266</td>\n",
       "    </tr>\n",
       "    <tr>\n",
       "      <th>MasVnrArea</th>\n",
       "      <td>2.669084</td>\n",
       "    </tr>\n",
       "    <tr>\n",
       "      <th>BsmtFinSF2</th>\n",
       "      <td>2.425646</td>\n",
       "    </tr>\n",
       "    <tr>\n",
       "      <th>LotFrontage</th>\n",
       "      <td>2.163569</td>\n",
       "    </tr>\n",
       "    <tr>\n",
       "      <th>EnclosedPorch</th>\n",
       "      <td>2.047922</td>\n",
       "    </tr>\n",
       "  </tbody>\n",
       "</table>\n",
       "</div>"
      ],
      "text/plain": [
       "                   Skew\n",
       "LowQualFinSF   7.299413\n",
       "ScreenPorch    3.113266\n",
       "MasVnrArea     2.669084\n",
       "BsmtFinSF2     2.425646\n",
       "LotFrontage    2.163569\n",
       "EnclosedPorch  2.047922"
      ]
     },
     "execution_count": 53,
     "metadata": {},
     "output_type": "execute_result"
    }
   ],
   "source": [
    "skewedFeatures = house_prices_df[cont_vars].skew().sort_values(ascending=False)\n",
    "skewness = pd.DataFrame({'Skew':skewedFeatures})\n",
    "skewness = skewness[skewness['Skew'].abs() > 1 ]\n",
    "skewness"
   ]
  },
  {
   "cell_type": "markdown",
   "id": "dd077483-ad75-4fbf-8af9-8347f8768164",
   "metadata": {},
   "source": [
    "#### Log Scaling"
   ]
  },
  {
   "cell_type": "code",
   "execution_count": null,
   "id": "f79b3793-993d-4150-9797-a734f060227e",
   "metadata": {},
   "outputs": [],
   "source": []
  },
  {
   "cell_type": "markdown",
   "id": "47a389c0-9ef1-4c67-87b8-faae0509c9f0",
   "metadata": {},
   "source": [
    "Visual Data Before"
   ]
  },
  {
   "cell_type": "code",
   "execution_count": 4,
   "id": "5cbc37de-b5dc-44e6-a77d-6bae4a29a823",
   "metadata": {},
   "outputs": [],
   "source": [
    "#apply scaling\n"
   ]
  },
  {
   "cell_type": "markdown",
   "id": "8de5b0cc-c951-4afc-a94d-466f9020f6f8",
   "metadata": {},
   "source": [
    "Visualize Data After "
   ]
  },
  {
   "cell_type": "code",
   "execution_count": 5,
   "id": "947ff406-9ebb-499d-855f-ce9c8e69bc49",
   "metadata": {},
   "outputs": [],
   "source": [
    "# Plot Here"
   ]
  },
  {
   "cell_type": "markdown",
   "id": "96ae0a61-0032-483d-8fee-365521dc0503",
   "metadata": {},
   "source": [
    "### Standardization"
   ]
  },
  {
   "cell_type": "markdown",
   "id": "fe693bcc-8140-4cd7-be31-149fd2a66594",
   "metadata": {},
   "source": [
    "Some other data what we have can be standardized as well in order to get it"
   ]
  },
  {
   "cell_type": "code",
   "execution_count": 49,
   "id": "a9c6ed8b-d814-47b5-8e5f-11aa05c22116",
   "metadata": {},
   "outputs": [],
   "source": [
    "skewedFeatures = house_prices_df[cont_vars].skew().sort_values(ascending=False)\n",
    "skewness = pd.DataFrame({'Skew':skewedFeatures})\n",
    "skewness = skewness[skewness['Skew'].abs() > 1 ]"
   ]
  },
  {
   "cell_type": "code",
   "execution_count": null,
   "id": "9ca8eb3c-8440-48e3-b209-aad8540cbae7",
   "metadata": {},
   "outputs": [],
   "source": []
  },
  {
   "cell_type": "code",
   "execution_count": null,
   "id": "f0209730-0bb0-4752-b1b3-dc42b625dc41",
   "metadata": {},
   "outputs": [],
   "source": []
  },
  {
   "cell_type": "code",
   "execution_count": 6,
   "id": "f120eb0f-e1c0-437d-9332-d0b986c69ab1",
   "metadata": {},
   "outputs": [],
   "source": []
  },
  {
   "cell_type": "markdown",
   "id": "d200dc90-5f58-4261-a26d-5c68294392bb",
   "metadata": {},
   "source": []
  },
  {
   "cell_type": "markdown",
   "id": "970a9d9c-c689-45da-9abf-1c0f65ce5510",
   "metadata": {},
   "source": [
    "# Trasforming Image Data"
   ]
  },
  {
   "cell_type": "markdown",
   "id": "4e46fc97-bda5-48ed-a85d-a09e49dc6da0",
   "metadata": {},
   "source": [
    "Intro Paragraph"
   ]
  },
  {
   "cell_type": "markdown",
   "id": "4bc8e07a-0e34-45d6-af4c-598ff6fbdb67",
   "metadata": {},
   "source": [
    "### Normalization "
   ]
  },
  {
   "cell_type": "markdown",
   "id": "e7baf206-1a57-4f95-aa29-e979ee280f52",
   "metadata": {},
   "source": [
    "Intro Paragraph"
   ]
  },
  {
   "cell_type": "markdown",
   "id": "8684347d-fffe-444a-b1ae-6561f8397c32",
   "metadata": {},
   "source": [
    "Visualize Img Array before normalization"
   ]
  },
  {
   "cell_type": "code",
   "execution_count": 12,
   "id": "30456b5e-9a8d-4ae5-a251-f7deaab9159d",
   "metadata": {},
   "outputs": [],
   "source": [
    "#Apply Normalization"
   ]
  },
  {
   "cell_type": "markdown",
   "id": "56390665-24c6-40c0-9ff3-c7983292bd10",
   "metadata": {},
   "source": [
    "### Transforms "
   ]
  },
  {
   "cell_type": "markdown",
   "id": "374cb2df-7af9-4e58-ace5-73c78563f094",
   "metadata": {},
   "source": [
    "Intro Paragraph"
   ]
  },
  {
   "cell_type": "markdown",
   "id": "c14eb255-be4d-4e75-87b8-914ea55b7154",
   "metadata": {},
   "source": [
    "Visualize image beforehand\n"
   ]
  },
  {
   "cell_type": "code",
   "execution_count": null,
   "id": "aa44d30c-dbdd-4cd7-b7e8-bbe728758dcf",
   "metadata": {},
   "outputs": [],
   "source": []
  }
 ],
 "metadata": {
  "kernelspec": {
   "display_name": "unpackAIdev",
   "language": "python",
   "name": "unpackaidev"
  },
  "language_info": {
   "codemirror_mode": {
    "name": "ipython",
    "version": 3
   },
   "file_extension": ".py",
   "mimetype": "text/x-python",
   "name": "python",
   "nbconvert_exporter": "python",
   "pygments_lexer": "ipython3",
   "version": "3.8.12"
  }
 },
 "nbformat": 4,
 "nbformat_minor": 5
}
