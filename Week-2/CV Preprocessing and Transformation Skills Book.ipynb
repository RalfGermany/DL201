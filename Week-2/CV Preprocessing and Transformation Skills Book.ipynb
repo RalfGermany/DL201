{
 "cells": [
  {
   "cell_type": "code",
   "execution_count": 1,
   "id": "ab584031-e7e4-40d2-99b7-279d666e0218",
   "metadata": {},
   "outputs": [],
   "source": [
    "#"
   ]
  },
  {
   "cell_type": "code",
   "execution_count": null,
   "id": "c583b02e-d6d3-488c-b6a0-238e3b4de028",
   "metadata": {},
   "outputs": [],
   "source": []
  },
  {
   "cell_type": "code",
   "execution_count": null,
   "id": "41f7238d-f79f-4471-8135-9dcfbd678c6b",
   "metadata": {},
   "outputs": [],
   "source": []
  },
  {
   "cell_type": "markdown",
   "id": "2824b2de-5350-47e8-ac3f-ef74b04ee4ab",
   "metadata": {
    "tags": []
   },
   "source": [
    "# Preprocessing Image Data"
   ]
  },
  {
   "cell_type": "markdown",
   "id": "957472f4-cc8d-46f5-83a4-4cac2fdd25cf",
   "metadata": {},
   "source": [
    "Intro Paragraph "
   ]
  },
  {
   "cell_type": "markdown",
   "id": "d3921dde-699f-421b-a445-7427adfd7111",
   "metadata": {},
   "source": [
    "### Spacial Filtering"
   ]
  },
  {
   "cell_type": "markdown",
   "id": "dfbd3f69-db03-46b4-8d19-ada9b7a65ec3",
   "metadata": {},
   "source": [
    "### Salt and  Pepper Noise"
   ]
  },
  {
   "cell_type": "markdown",
   "id": "cb78a779-7006-40f8-8585-b29601445030",
   "metadata": {},
   "source": [
    "### Sharpening Filter "
   ]
  },
  {
   "cell_type": "code",
   "execution_count": null,
   "id": "a7a0ff4f-ee29-4c36-9a0f-1c4d3608ba9d",
   "metadata": {},
   "outputs": [],
   "source": []
  }
 ],
 "metadata": {
  "kernelspec": {
   "display_name": "unpackAIdev",
   "language": "python",
   "name": "unpackaidev"
  },
  "language_info": {
   "codemirror_mode": {
    "name": "ipython",
    "version": 3
   },
   "file_extension": ".py",
   "mimetype": "text/x-python",
   "name": "python",
   "nbconvert_exporter": "python",
   "pygments_lexer": "ipython3",
   "version": "3.8.12"
  }
 },
 "nbformat": 4,
 "nbformat_minor": 5
}
