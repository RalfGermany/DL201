{
 "cells": [
  {
   "cell_type": "code",
   "execution_count": 1,
   "id": "ac15d673-d36a-48bc-85b3-ba12daadd9fa",
   "metadata": {},
   "outputs": [],
   "source": [
    "# Values Statement"
   ]
  },
  {
   "cell_type": "code",
   "execution_count": null,
   "id": "289158a0-9615-4317-876a-b194b52c461e",
   "metadata": {},
   "outputs": [],
   "source": []
  },
  {
   "cell_type": "code",
   "execution_count": null,
   "id": "34fe216a-f8dd-4968-a22d-bf7c08b93c0c",
   "metadata": {},
   "outputs": [],
   "source": []
  }
 ],
 "metadata": {
  "kernelspec": {
   "display_name": "unpackAIdev",
   "language": "python",
   "name": "unpackaidev"
  },
  "language_info": {
   "codemirror_mode": {
    "name": "ipython",
    "version": 3
   },
   "file_extension": ".py",
   "mimetype": "text/x-python",
   "name": "python",
   "nbconvert_exporter": "python",
   "pygments_lexer": "ipython3",
   "version": "3.8.12"
  }
 },
 "nbformat": 4,
 "nbformat_minor": 5
}
