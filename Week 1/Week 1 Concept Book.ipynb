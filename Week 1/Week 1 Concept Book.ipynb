{
 "cells": [
  {
   "cell_type": "markdown",
   "id": "c54da5e5-4145-428c-97fa-b24713be6786",
   "metadata": {},
   "source": [
    "# DL201 Week 1\n",
    "\n"
   ]
  },
  {
   "cell_type": "markdown",
   "id": "8babdac2-bb74-465b-b655-b43668ced9d3",
   "metadata": {},
   "source": [
    "## Introduction:\n",
    "<hr style=\"border:4px solid gray\"> </hr>"
   ]
  },
  {
   "cell_type": "markdown",
   "id": "d42ae3d6-2224-425f-a57d-cd5647d597c1",
   "metadata": {},
   "source": [
    "“Time itself is neutral; it can be used either destructively or constructively. More and more I feel that the people of ill will have used time much more effectively than have the people of good will. We will have to repent in this generation not merely for the hateful words and actions of the bad people but for the appalling silence of the good people. Human progress never rolls in on wheels of inevitability; it comes through the tireless efforts of people willing to work. Without this hard work, time itself becomes an ally of the forces of social stagnation. We must use time creatively, in the knowledge that the time is always ripe to do right.” \n",
    "--Martin Luther King Jr. "
   ]
  },
  {
   "cell_type": "markdown",
   "id": "2e49c25a-66b8-4400-981e-d262d6015443",
   "metadata": {},
   "source": []
  },
  {
   "cell_type": "code",
   "execution_count": 1,
   "id": "4abb7b6d-5d5a-4914-97f1-3a1ec57d0b15",
   "metadata": {},
   "outputs": [],
   "source": [
    "import pandas as pd\n",
    "import numpy as np\n",
    "import torch as t \n",
    "\n",
    "from IPython.display import Image\n",
    "from IPython.core.display import HTML "
   ]
  },
  {
   "cell_type": "markdown",
   "id": "0711184f-0a3d-4ee0-bb4f-5a6d0e386685",
   "metadata": {},
   "source": [
    "### Notebook Goals"
   ]
  },
  {
   "cell_type": "markdown",
   "id": "27e278f2-35f7-4d14-b2a8-53db4573fcb1",
   "metadata": {},
   "source": [
    "1. To gain a confident understanding of what a tensor is, why it is used in AI, and how it is unique, special, and precious compared to raw data or even a normal list. \n",
    "\n",
    "2. To have an appreciation for the importance of indexing as a way of knowing where our data is stored, so it can be accessed and queried\n",
    "\n",
    "3. To grasp the potential power of broadcasting as a fast, and efficient method from a code first perspective to manipulate vast ammounts of number and text data without writing loops.\n",
    "\n",
    "4. To Apply the principles of indexing and broadcasting together independently of the course through self learning"
   ]
  },
  {
   "cell_type": "markdown",
   "id": "69f45379-70a8-4963-81a3-96de1df9d104",
   "metadata": {},
   "source": [
    "### Objectives"
   ]
  },
  {
   "cell_type": "markdown",
   "id": "6e86eb4c-3397-4742-968b-fc8437199169",
   "metadata": {},
   "source": [
    "\n",
    "\n",
    "A. To understand the difference between structured and unstructured data and how a number is different than text, and how a list is different than a tensor.\n",
    "\n",
    "B. To have a feel for different types of tensors how how the same concept appears in different fields in business, computer programming, and STEM\n",
    "\n",
    "C. To index columns and rows of a Pandas Dataframe and grasp how to query rows based on a condition\n",
    "\n",
    "D. To apply indexing to know how to crop, resize and label image data \n",
    "\n",
    "E. To understand and accept that NLP data is unstructed and appreciate methods to overcome this obstacle through tokenization and {{encoding}} \n",
    "\n",
    "F. To apply the index and broadcast method to tabular data to perform simple data cleaning tasks\n",
    "\n",
    "G. To use the index and broadcast method for edge detection and applying filters to image data\n",
    "\n",
    "H. To use our indexed NLP data and broadcast basic cleaning operations to it to pave the road to getting basic statistics. \n"
   ]
  },
  {
   "cell_type": "markdown",
   "id": "12674ebe-57ac-4b37-a2f3-f4c7c5d16473",
   "metadata": {},
   "source": [
    "### Key Ideas and Summary"
   ]
  },
  {
   "cell_type": "markdown",
   "id": "ef5ebb41-1bdd-4918-acf4-93615c0180d0",
   "metadata": {
    "jp-MarkdownHeadingCollapsed": true,
    "tags": []
   },
   "source": [
    "#### Summary"
   ]
  },
  {
   "cell_type": "markdown",
   "id": "49230dc5-19ac-477d-bfb2-d172da6ebdc7",
   "metadata": {
    "jp-MarkdownHeadingCollapsed": true,
    "tags": []
   },
   "source": [
    "##### I. Section 1: Tensors\n",
    ">    A. Why use Tensors\n",
    ">>         1. They are Quantifiable\n",
    ">>         2. They are blazing fast\n",
    "\n",
    "> B. Data types \n",
    ">>        1. The difference between numbers and text\n",
    ">>        2. The difference between a list and a tensor\n",
    ">>        3. Pandas Series\n",
    "\n",
    ">   C. Tensor\n",
    ">>        1. Explanation\n",
    ">>        2. A Rank 0 Tensor:\n",
    ">>>A single number, usually with a unit\n",
    "\n",
    ">>        3. A Rank 1 Tensor:\n",
    ">>>A list, vector, column, row, or series, 1D line\n",
    "\n",
    ">>        4. A rank 2 Tensor \n",
    ">>> An excel spreadsheet, a table, a matrix, 2D plane \n",
    "\n",
    ">>        5. A rank 3 Tensor \n",
    ">>> A colored image, A book, 3D space \n",
    "\n",
    ">>        6. A rank 3+ Tensor \n",
    ">>>(how not to make your brain explode) view it in algebraic notation as a list of lists"
   ]
  },
  {
   "cell_type": "markdown",
   "id": "26f23704-fec3-4d02-b2cf-7351cc80a741",
   "metadata": {},
   "source": [
    "##### II. Indexing\n",
    ">A. Why use Indexing\n",
    "\n",
    ">B. Indexing Tabular data\n",
    ">> 1.Indexing Columns\n",
    "\n",
    ">> 2. Indexing Rows\n",
    "\n",
    ">> 3. Querying Rows of Data\n",
    "\n",
    ">C. Indexing Image Data\n",
    "\n",
    ">> 1. Introduction\n",
    "\n",
    ">> 2. Resizing and Cropping Images\n",
    "\n",
    ">> 3. Labeling an image\n",
    "\n",
    ">D. Indexing and NLP Data\n",
    "\n",
    ">> 1. Text Data is inherently unstructured\n",
    "\n",
    ">> 2. Tokenization\n"
   ]
  },
  {
   "cell_type": "markdown",
   "id": "87563b5e-b8bf-459a-8f8d-68e094493b46",
   "metadata": {
    "jp-MarkdownHeadingCollapsed": true,
    "tags": []
   },
   "source": [
    "##### III. Broadcasting\n",
    "\n",
    ">A. Introduction\n",
    "\n",
    ">B. Index -> Broadcast Method  \n",
    "\n",
    ">C. Tabular Data\n",
    "\n",
    ">>1. Broadcasting for Numerical Data\n",
    "\n",
    ">>2. Broadcasting Text Data\n",
    "\n",
    ">D. Image Data \n",
    "\n",
    ">>1. Edge Detection \n",
    "\n",
    ">>2. Applying Filters \n",
    "\n",
    ">E. NLP Data \n",
    "\n",
    ">>1. Text Wrangling Techniques \n",
    "\n",
    ">>2. Stemming\n",
    "\n",
    ">>3. Lemmatization"
   ]
  },
  {
   "cell_type": "markdown",
   "id": "fa4aae5f-7e85-4349-b30a-165aa0475aa4",
   "metadata": {
    "tags": []
   },
   "source": [
    "#### Key Ideas"
   ]
  },
  {
   "cell_type": "markdown",
   "id": "499aed10-1854-4b8e-b21b-a1089e0986e2",
   "metadata": {
    "tags": []
   },
   "source": [
    "##### Tensors\n",
    "\n",
    "I. Rank\n",
    "\n",
    "II. List vs Tensor \n",
    "\n",
    "III. How can we view data as a tensor?\n",
    "\n",
    "IV. "
   ]
  },
  {
   "cell_type": "markdown",
   "id": "0eadb58c-da31-4daa-8560-9a65914a42d3",
   "metadata": {},
   "source": [
    "Now that we have an overview of the topics covered, let's quickly explain why it's important to learn these ideas.\n",
    "\n",
    "If you can understand the following concepts, it will deepen your tools to be able to able to see what data really is and how to handle it.\n",
    "\n",
    "The first step is two fold. We need to understand where our data is and how to access each datapoint. If we can't do this, we don't  have a dataset, but a disorganized pile that is worthless unless a decerning human being can work at a company for enough time to understand it's workflow, culture and system. \n",
    "\n",
    "Computers don't have this nuance and tact to them. However, they do have processing power and another advantage that they \n",
    "\n",
    "However, if we can interact between the world of machines and data, it allows us to automate large parts of our job using tools that other people built to gain tremendous ammounts of time and productivity.\n",
    "\n",
    "This is because with software, it becomes much easier to create a tool. If anyone here has tried to perform a task without the proper tool, it will take much longer, or even be impossible.\n",
    "\n",
    "It is possible to open a can with a knife, but it will take a long time, and end up ruining your knife. On the other hand, a can opener is much easier.\n",
    "\n",
    "Likewise, software can be thought of as abstract tools. Excel and microsoft word are general purpose tools that can be used to perform various tasks. \n",
    "\n",
    "However, if we do something more than once, it can become more difficult. Similarly, there is a lot you can accomplish with a knife or a hammer. There are many physical tools that make tasks much easier. \n",
    "\n",
    "Many jobs involve taking data from one source, and putting it into another. In organizations this can be very specific.\n",
    "\n",
    "Python as a scripting language allows us to create tools that are specific to our needs and our organization's needs.\n",
    "\n",
    "\n",
    "Easily organize your files on your computer \n",
    "\n",
    "Work with excel spreadsheets to process and create reports\n",
    "\n",
    "\n",
    "Send Emails"
   ]
  },
  {
   "cell_type": "markdown",
   "id": "68d0869e-14ac-469a-b4da-c81d10e248cd",
   "metadata": {
    "tags": [],
    "toc-hr-collapsed": true
   },
   "source": [
    "# Section 1: Tensors, Matricies and Vectors \n",
    "<hr style=\"border:4px solid gray\"> </hr>"
   ]
  },
  {
   "cell_type": "markdown",
   "id": "d3dbb714-a375-4e76-b2b5-bfee48e710d0",
   "metadata": {},
   "source": [
    "### Introduction to Array Oriented Programming/ Parrellel Processing\n",
    "\n",
    "Section goal: Have an appreciation for why tensors are used in AI. "
   ]
  },
  {
   "cell_type": "markdown",
   "id": "5c7cf90c-8a18-4b4b-bf59-b6b070c5b33a",
   "metadata": {},
   "source": [
    " ## draft 2 \n",
    " "
   ]
  },
  {
   "cell_type": "markdown",
   "id": "71a3dec5-9179-42b9-aee4-d057b1b62ac8",
   "metadata": {},
   "source": [
    "Rank 0 Tensor: A number with a unit\n",
    "Rank 1 Tensor: A list, vector, column, row, or series, line\n",
    "Rank 2 Tensor: A matrix, spreadsheet, 2darray, plane \n",
    "Rank 3 Tensor: A colored image, A book, 3D space,  \n",
    "High Dimensional Tensor: An abstraction of nested lists\n",
    "\n",
    "In Deep Learning and Machine Learning Algorithms in general. There is one data type which is king.\n",
    "\n",
    "Python has data types such as strings, integers, floats, lists, and dictionaries.\n",
    "This goes into the design of the language, which should be as readable as\n",
    "possible.\n",
    "\n",
    "In python AI libraries such as Pytorch and Tensorflow introduce a new datatype called a tensor. \n",
    "\n",
    "This term can be problematic, because Python's design philosophy can clash with the world of low level computing hardware, and rub up against the formal definitions used in mathematics.  \n",
    "\n",
    "Linear al\n",
    "\n",
    "\n",
    "Tensors have 3 main benefits:\n",
    "\n",
    "1. They can represent almost any abstract concept using numbers\n",
    "\n",
    "2. As numbers, they can interface with formulas, models, and theories that represent reality\n",
    "\n",
    "3. They're lightning fast to calculate on a computer program\n",
    "\n"
   ]
  },
  {
   "cell_type": "markdown",
   "id": "187fa9ed-6f21-4820-95e7-18f941f618c1",
   "metadata": {},
   "source": [
    "### What is a tensor\n",
    "\n",
    "This will start with an explanation of different terms\n",
    "\n",
    "The following here is taken from a NASA Techical Memorandum directed at univeristy level Engineering students\n",
    "\n",
    "\n",
    "is rephrased into simple English for an international audience."
   ]
  },
  {
   "cell_type": "markdown",
   "id": "a8876791-e28f-4cc0-b5c9-24e404a35acc",
   "metadata": {},
   "source": [
    "At the heart of all mathematics are numbers.\n",
    "\n",
    "If I were to ask how many candies you had in a bag, you might answer, “Three.” I would find\n",
    "your answer tells me enough. The ‘bare’ number 3, a magnitude, is enough to give the\n",
    "information I want.\n",
    "\n",
    "If I were to ask, “How far is it to your house?” and you answered, “Three,” however, I would\n",
    "get confused and ask, “Three what?” Clearly, for this question, more information is needed. \n",
    "\n",
    "The bare number 3 is no longer enough; I need to know a unit. 3 could mean anything from 3 minutes, 3 kilometers, to 3 meters.\n",
    "\n",
    "Suppose you got upset and answered, “Three km.” The number 3 is now named as representing a certain\n",
    "number of km.\n",
    "\n",
    "Such numbers are sometimes called **scalars.** Temperature is represented by a\n",
    "scalar. Any number with a specific unit is represented by a scalar.\n",
    "\n",
    "\n",
    "If I were next to ask “Then how do I get to your house from here?” and you said, “Just walk\n",
    "three km,” again I would look at you strangly.\n",
    "\n",
    "This time, not even a number with a unit is sufficient; it is necessary to specify a direction.\n",
    "\n",
    "\n",
    "“Just walk three km due north.” The denominate number 3 km now has the required additional\n",
    "directional information attached to it. Such numbers are called **vectors.** \n",
    "\n",
    "If you were to tell me that to go from here to your house I must walk three blocks\n",
    "east, two blocks north, and go up three floors, the vector extending from “here” to “your house”\n",
    "would have three spatial components: \n",
    "\n",
    "1. Three blocks east \n",
    "2. Two blocks north\n",
    "3. Three floors up. \n",
    "\n",
    "\n",
    "The confusion comes about vectors not are used to represent locations and velocities.\n",
    "\n",
    "But how they are also used in advanced mathematics to represent complex concepts covered in higher level mathematics. \n",
    "\n",
    "There are many different notations for vectors for different areas of engineering and mathematics. \n",
    "\n",
    "\n",
    "What is is important about vectors is a way of representing data which:\n",
    "\n",
    "1. Can be Added or subtracted\n",
    "2. Can be Multiplied or divided\n",
    "3. Has important qualities needed in mathematical proofs which algorithms are ultimately based on\n",
    "\n"
   ]
  },
  {
   "cell_type": "code",
   "execution_count": null,
   "id": "21a8b67f-828a-4f21-a80e-aafa8f631c30",
   "metadata": {},
   "outputs": [],
   "source": []
  },
  {
   "cell_type": "code",
   "execution_count": null,
   "id": "b950062a-a9a1-46d1-b515-b159a0138965",
   "metadata": {},
   "outputs": [],
   "source": []
  },
  {
   "cell_type": "code",
   "execution_count": null,
   "id": "fa625bcd-5fa2-4417-a76a-867e42231fd6",
   "metadata": {},
   "outputs": [],
   "source": []
  },
  {
   "cell_type": "markdown",
   "id": "18831af7-1c7a-4236-8ec8-72783c01c3a0",
   "metadata": {
    "jp-MarkdownHeadingCollapsed": true,
    "tags": []
   },
   "source": [
    "## Draft 1 (tensor explainations)"
   ]
  },
  {
   "cell_type": "markdown",
   "id": "b1451e59-35ec-4315-9730-c60ec3629f2f",
   "metadata": {
    "tags": []
   },
   "source": [
    "Inthe real world, data often finds itself in many different formats. However, for deep learning, the data needs to be transformed into a **tensor**.\n",
    "\n",
    "A tensor has two definitions, one being used in AI and the other is used in Mathematics and Engineering. \n",
    "\n",
    "\n",
    "\n",
    "\n",
    "Since this is a course about AI, let's start with the AI definition:\n",
    "\n",
    "\n",
    "\n",
    "In AI, a **tensor** is a N dimensional data type optimized for use on a GPU\n",
    "\n",
    "If you are not a computer geek, don't worry. GPUs (Graphical Processing Units) found their commerical use from gamers for what let them play video games at the highest settings. To render realistic graphics, GPUs are optimized to do a ton of mathematics at the same time. After all, if you are playing a video game, you want the entire screen to update at the same time, rather than wait for an image to load like it would on 1990s dial up  internet connection. \n",
    "\n",
    "CPUs on the other hand have to do many different tasks. They are generalists, and this goes into their design considerations. On the other hands, GPUs are specialists.\n",
    "\n",
    "Since GPUs excel at mathematics, they found another home in Cryptocurrency mining operations. \n",
    "\n",
    "\n",
    "But, since we are interested in AI, let's discuss the advantages of tensors and why GPUs are used in AI.\n",
    "\n",
    "\n",
    "after breaking down what a GPU can do, let's review what is data and where it is stored. \n",
    "\n",
    "\n",
    "In general: Since AI revolves around data, it's important to appreciate where data can go, ranging from slowest to fastest. \n",
    "\n",
    "\n",
    "I. The slowest form of data is that which is stored on another computer, whether it is a web site, or in the cloud. This makes sense, because you need to wait for the data to get transfered over the internet to your own device. On a personal computer, this is a big concern, although on the cloud, it is much less of a problem. "
   ]
  },
  {
   "cell_type": "markdown",
   "id": "cfb7d527-da5e-47e1-8f94-0fef16709066",
   "metadata": {
    "tags": []
   },
   "source": [
    "In google colab, your jupyter notebook will be on the cloud, so it will be able to download datasets much faster since the infrasturture is better on  server farm compared to your apartment block. This espeically becomes true when you are using datasets stored on google's servers. \n",
    "\n",
    "For us, this means that it is best that our datasets are either from Kaggle, which is owned by Google, or are stored on Google Drive. This will allow us to access our data much more quickly and more  reliablily. This is the recommended option.\n",
    "\n",
    "(If this becomes a bottleneck for you, it may be useful to look into something called asyncronous programming, which is a paradigm which has ways of overcoming this problem.)\n",
    "\n",
    "\n",
    "II. The next fastest place data can be stored in on a local drive. On your computer, this means it means that it is on your hard drive, but in google colab, it is a little different. For google colab, you get given a server instance running jupyter notebook. Since you are only using it temporarily, it means that when your session closes, your data is wiped. When you begin a new session you will need to load it again from Google Drive or Kaggle. \n",
    "\n",
    "The advantage of storing data on your local drive, is that you can store quite a lot of data on it. Once it is on your hard drive, it is more accessible than before. However, it is still far away from the CPU and is comparitably slow compared to the next two places. \n",
    "\n",
    "\n",
    "III. After the hard drive, comes system RAM. System RAM (Random Access Memory) is designed to be much faster than a hard drive. When you define a variabe in python, it goes into the Ram. Ram is much faster to work with than a hard drive and has much more bandwidth. \n",
    "\n",
    "IV. The next place we are interested is GPU RAM. GPU ram is the fastest place to put data. Going back to the difference between CPUs and GPUs is that CPUs are generalists and GPUs are specialists. As a result, GPU RAM is optimized for doing math in parrelel \n",
    "\n",
    "\n",
    "In doing large amounts of math, a GPU can be over 10,000 times faster than pure python code. This large computational power has formed a basis for the development of AI.\n",
    "\n",
    "\n",
    "It allows for huge ammounts of data to be processed quickly in a paradigm called Parrellel Processing or Array Oriented Programming. "
   ]
  },
  {
   "cell_type": "code",
   "execution_count": null,
   "id": "339534bc-a946-4c3a-85f0-b3d15237ed5c",
   "metadata": {},
   "outputs": [],
   "source": []
  },
  {
   "cell_type": "markdown",
   "id": "fc3d9b25-2d3a-4fa0-89c3-18d5f6ae6c25",
   "metadata": {},
   "source": []
  },
  {
   "cell_type": "code",
   "execution_count": null,
   "id": "6c138f31-505b-4421-b2e7-655fa16df758",
   "metadata": {},
   "outputs": [],
   "source": []
  },
  {
   "cell_type": "code",
   "execution_count": null,
   "id": "18244b56-1543-4356-9755-ff7ce26de094",
   "metadata": {},
   "outputs": [],
   "source": []
  },
  {
   "cell_type": "markdown",
   "id": "e22f961c-81d7-446d-8068-295b60a5c035",
   "metadata": {},
   "source": [
    "\n"
   ]
  },
  {
   "cell_type": "code",
   "execution_count": null,
   "id": "9bc0968d-ea87-4dc5-976a-ef6463a9f2ec",
   "metadata": {},
   "outputs": [],
   "source": [
    "\n",
    "    "
   ]
  },
  {
   "cell_type": "markdown",
   "id": "e0192a50-13f7-4374-864c-8afe3c1f0f05",
   "metadata": {},
   "source": []
  },
  {
   "cell_type": "code",
   "execution_count": null,
   "id": "2fa0048b-0205-475b-9702-24061a39fd63",
   "metadata": {},
   "outputs": [],
   "source": []
  },
  {
   "cell_type": "code",
   "execution_count": null,
   "id": "18eb998c-e310-45b4-bd55-0837c1de9606",
   "metadata": {},
   "outputs": [],
   "source": []
  },
  {
   "cell_type": "markdown",
   "id": "b44b72dc-9e59-42e8-8bbc-8256cd0a57f0",
   "metadata": {},
   "source": []
  },
  {
   "cell_type": "code",
   "execution_count": null,
   "id": "9c03bc5f-4053-4d2e-8826-1d05d09b62f4",
   "metadata": {},
   "outputs": [],
   "source": []
  },
  {
   "cell_type": "code",
   "execution_count": null,
   "id": "fd518c17-8b17-4271-b583-c8b1c52351c9",
   "metadata": {},
   "outputs": [],
   "source": []
  },
  {
   "cell_type": "markdown",
   "id": "599a892c-7016-4db9-ace9-64d1bb0b884f",
   "metadata": {},
   "source": [
    "### Vectors and Series\n",
    "<hr style=\"border:2px solid gray\"> </hr>"
   ]
  },
  {
   "cell_type": "markdown",
   "id": "2b8f82e7-acfe-4204-b6a6-04e39ff0e1e9",
   "metadata": {},
   "source": [
    "\n",
    "“I said to my children, 'I'm going to work and do everything that I can do to see that you get a good education. I don't ever want you to forget that there are millions of children who will not and cannot get a good education, and I don't want you feeling that you are better than they are. For you will never be what you ought to be until they are what they ought to be.” "
   ]
  },
  {
   "cell_type": "markdown",
   "id": "dee02d84-b89e-405b-b334-358ab0e481af",
   "metadata": {
    "tags": []
   },
   "source": [
    "#### \n",
    "\n",
    "Going back to what a tensor is, let's describe what it means in the realm of Mathematics and Engineering. In this respect, the definition is much more specific than in python. \n",
    "\n",
    "However, we are going to use two terms in the context of programming. Chances are, if you have worked with MS Excel, you already understand these terms and have worked with them. \n",
    "\n",
    "These two terms are:\n",
    "\n",
    "1. Vector: A 1D indexed row or column of numbers\n",
    "\n",
    "2. Series A 1D indexed row or column of anything\n",
    "\n",
    "We can do mathematical operations on a vector like we can do calculation in Excel.\n",
    "\n",
    "However, Series can contain text or python objects, so we can't do math on them. However, this does not exclude us from manipulating the data inside of them. There are plenty of tools for accomplishing these tasks. \n",
    "\n",
    "\n",
    "Microsoft excel works with tables, which contain rows and columns. Usually the columns are index with letters A,B,C..Z and the rows are index by numbers. A user can type and store numbers or text in each of these rows. Having this information stored in a table becomes very useful because one can do calculations on this data by column. This saves a lot of time compared to doing it one at a time. \n",
    "\n",
    "However, in Excel, you can also write words or letters in a column. Since letters are not numbers, we can't do math on them, so in this case, we will refer it as a series. \n",
    "\n"
   ]
  },
  {
   "cell_type": "markdown",
   "id": "42ecc069-02e1-4a7f-b4c7-843a38f0bf84",
   "metadata": {},
   "source": [
    "Image(url= \"https://photos.google.com/share/AF1QipM_8DzDPDqw9x7dsiYm1iun7TPVFWLWJkKi6ZQO0OU2dNef9Z9OkbdthyJZtpW_Ww/photo/AF1QipP2uI1xUH46XRf6S8oeGhd3jkFYknU2AwSMR1_F?key=R3lsSXpjNHdXRHZaUldrQjZzUVp5b09BaVI2b0FR\")"
   ]
  },
  {
   "cell_type": "markdown",
   "id": "97756da8-bbff-47f4-931e-70bec7751054",
   "metadata": {
    "tags": []
   },
   "source": [
    "In excel, each row or column is 1 dimensional. This it only has the property of length. \n",
    "\n",
    "Likewise, vectors and series are both 1 dimensional"
   ]
  },
  {
   "cell_type": "code",
   "execution_count": null,
   "id": "56802260-265f-44ad-bb69-a4267ea685b6",
   "metadata": {},
   "outputs": [],
   "source": []
  },
  {
   "cell_type": "code",
   "execution_count": null,
   "id": "12cc7124-1c13-4d63-b3a7-ee6c4dafa7ba",
   "metadata": {},
   "outputs": [],
   "source": []
  },
  {
   "cell_type": "code",
   "execution_count": null,
   "id": "e23170b2-9fd1-4723-9a67-3106ba404f78",
   "metadata": {},
   "outputs": [],
   "source": []
  },
  {
   "cell_type": "code",
   "execution_count": null,
   "id": "907e42a9-e253-4922-83f4-b3ba9ae657fe",
   "metadata": {},
   "outputs": [],
   "source": []
  },
  {
   "cell_type": "markdown",
   "id": "ad6ca586-0bbc-486f-a1da-b04e70effb1e",
   "metadata": {},
   "source": [
    "#### Datatype: Introduction to Numpy ndarrays np.array()\n",
    "<hr style=\"border:1px solid gray\"> </hr>"
   ]
  },
  {
   "cell_type": "markdown",
   "id": "2be13bc0-1094-4572-b443-08f7b4769c5d",
   "metadata": {},
   "source": [
    "\n",
    "“We are faced with the fact, my friends, that tomorrow is today. Procrastination is still the thief of time. Over the bleached bones and jumbled residues of numerous civilizations are written the pathetic words ‘Too Late’.”\n",
    "― Martin Luther King Jr. \n",
    "\n",
    "\n",
    "This a very common datatype that is used to store data and move it between different scientific computing libraries. It's good to become familiar with it because it is ubiquitious.\n",
    "\n",
    "Numpy is short for Numerical Python. As a library It is an abstraction layer that makes use of fast and optimized legacy, C and Fortran code, while taking care of a lot of details such as memory mangement.\n",
    "\n",
    "Many scientific computing libraries are built on top of it. So, let's focus on getting a grasp on it.\n",
    "\n"
   ]
  },
  {
   "cell_type": "code",
   "execution_count": 37,
   "id": "2091befd-44f3-49cb-8d66-d7ee377627c9",
   "metadata": {},
   "outputs": [],
   "source": [
    "array1 = np.array([1,2,3,4,5,6])\n",
    "array2 = np.array([7,8,9,10,11,12])"
   ]
  },
  {
   "cell_type": "code",
   "execution_count": 38,
   "id": "097926db-85b4-4268-8573-9ecaf783d5ae",
   "metadata": {},
   "outputs": [
    {
     "data": {
      "text/plain": [
       "array([ 2,  4,  6,  8, 10, 12])"
      ]
     },
     "execution_count": 38,
     "metadata": {},
     "output_type": "execute_result"
    }
   ],
   "source": [
    "# We can multiply, subtract, add and divide\n",
    "array1 * 2"
   ]
  },
  {
   "cell_type": "code",
   "execution_count": 39,
   "id": "018a0d4e-4536-4474-952a-adf33fedd9ae",
   "metadata": {},
   "outputs": [
    {
     "data": {
      "text/plain": [
       "array([ 7, 16, 27, 40, 55, 72])"
      ]
     },
     "execution_count": 39,
     "metadata": {},
     "output_type": "execute_result"
    }
   ],
   "source": [
    "array1 * array2"
   ]
  },
  {
   "cell_type": "code",
   "execution_count": 40,
   "id": "7e279bbd-c75f-4bf8-97d0-03b2e42a53ea",
   "metadata": {},
   "outputs": [
    {
     "data": {
      "text/plain": [
       "array([7. , 4. , 3. , 2.5, 2.2, 2. ])"
      ]
     },
     "execution_count": 40,
     "metadata": {},
     "output_type": "execute_result"
    }
   ],
   "source": [
    "array2 / array1"
   ]
  },
  {
   "cell_type": "code",
   "execution_count": 33,
   "id": "29ecd4ae-ce80-4609-aa60-2c5eb278063d",
   "metadata": {},
   "outputs": [],
   "source": [
    "# Feel free to play around with it here"
   ]
  },
  {
   "cell_type": "code",
   "execution_count": null,
   "id": "1d9ac36d-76be-4267-acee-9fa0b2e9e969",
   "metadata": {},
   "outputs": [],
   "source": []
  },
  {
   "cell_type": "markdown",
   "id": "dcb8c092-5316-46a0-982e-c0beb5c802e1",
   "metadata": {},
   "source": [
    "It is important to note that numpy arrays are not forbidden from containing values that aren't numbers.\n",
    "\n",
    "However, if we try to do math on this, it will run an error. Why? "
   ]
  },
  {
   "cell_type": "code",
   "execution_count": 2,
   "id": "dca27aa3-07ed-4965-887d-f31293d7c73f",
   "metadata": {},
   "outputs": [],
   "source": [
    "array3 = np.array([1,2,3,4,5,'a'])"
   ]
  },
  {
   "cell_type": "code",
   "execution_count": 3,
   "id": "12abab16-0127-4fc3-af0f-cc107464aa17",
   "metadata": {},
   "outputs": [
    {
     "ename": "UFuncTypeError",
     "evalue": "ufunc 'multiply' did not contain a loop with signature matching types (dtype('<U21'), dtype('int64')) -> None",
     "output_type": "error",
     "traceback": [
      "\u001b[0;31m---------------------------------------------------------------------------\u001b[0m",
      "\u001b[0;31mUFuncTypeError\u001b[0m                            Traceback (most recent call last)",
      "\u001b[0;32m<ipython-input-3-fbbaa3808087>\u001b[0m in \u001b[0;36m<module>\u001b[0;34m\u001b[0m\n\u001b[0;32m----> 1\u001b[0;31m \u001b[0marray3\u001b[0m \u001b[0;34m*\u001b[0m \u001b[0;36m2\u001b[0m\u001b[0;34m\u001b[0m\u001b[0;34m\u001b[0m\u001b[0m\n\u001b[0m",
      "\u001b[0;31mUFuncTypeError\u001b[0m: ufunc 'multiply' did not contain a loop with signature matching types (dtype('<U21'), dtype('int64')) -> None"
     ]
    }
   ],
   "source": [
    "array3 * 2"
   ]
  },
  {
   "cell_type": "markdown",
   "id": "d300a143-2d3c-4098-951a-2be174569aeb",
   "metadata": {},
   "source": [
    "In short, numpy is specialized to handle numerical data, and not other types. If we put text inside of our numpy arrays, the library doesn't know what to do with it and needs to be given specific instructions which can be troublesome and non intuitive. \n",
    "\n",
    "If you have data that is non numerical, then it is better to use a pandas series."
   ]
  },
  {
   "cell_type": "markdown",
   "id": "feb92e40-0120-4aa5-b5fa-77318ab9cba1",
   "metadata": {},
   "source": [
    "#### Datatype: Introduction to Pandas Series pd.Series()|\n",
    "<hr style=\"border:1px solid gray\"> </hr>"
   ]
  },
  {
   "cell_type": "markdown",
   "id": "5243a344-ee46-43c1-879c-2113ba837aac",
   "metadata": {},
   "source": [
    "Compared to numpy, Pandas is a tool which is made to handle very diverse data types. \n",
    "\n",
    "As a result, it is called a series. This is a much closer approximation to microsoft excel.\n",
    "It is a better tool for interacting with the real word.\n",
    "\n",
    "For much of this course, we are going to be using pandas as the bridge between the real world, and the rigid rules of AI computing"
   ]
  },
  {
   "cell_type": "code",
   "execution_count": 6,
   "id": "7bc187ca-1b67-45ed-bcd4-9ae388ef01f4",
   "metadata": {},
   "outputs": [],
   "source": [
    "series1 = pd.Series(['a','b','c'])\n",
    "series2 = pd.Series(['1','2','3']) #remember that these are not numbers, they are text characters"
   ]
  },
  {
   "cell_type": "markdown",
   "id": "ed9236f7-5369-407d-9d93-139427941cb2",
   "metadata": {},
   "source": [
    "Here, our pandas series doesn't complain about mathematical rules in the same way numpy would.\n",
    "\n",
    "It can infer a lot about what the programmer wants it to do. Take a look at and experiment with the example below."
   ]
  },
  {
   "cell_type": "code",
   "execution_count": 8,
   "id": "78b19c44-1790-462a-babf-12a90ad0d54e",
   "metadata": {},
   "outputs": [
    {
     "data": {
      "text/plain": [
       "0    aaa\n",
       "1    bbb\n",
       "2    ccc\n",
       "dtype: object"
      ]
     },
     "execution_count": 8,
     "metadata": {},
     "output_type": "execute_result"
    }
   ],
   "source": [
    "#\n",
    "series1 * 3 "
   ]
  },
  {
   "cell_type": "code",
   "execution_count": 58,
   "id": "8b3750d9-fd1b-4cf8-bebf-83372c1edd84",
   "metadata": {},
   "outputs": [
    {
     "data": {
      "text/plain": [
       "0    a1\n",
       "1    b2\n",
       "2    c3\n",
       "dtype: object"
      ]
     },
     "execution_count": 58,
     "metadata": {},
     "output_type": "execute_result"
    }
   ],
   "source": [
    "series1 + series2 "
   ]
  },
  {
   "cell_type": "code",
   "execution_count": null,
   "id": "b9772eef-6241-4076-a674-a0ea41f2fb0f",
   "metadata": {},
   "outputs": [],
   "source": []
  },
  {
   "cell_type": "markdown",
   "id": "e231e8e3-3ddc-401e-b7a9-814d8712d8c8",
   "metadata": {},
   "source": [
    "### Matricies (matrix)\n",
    "<hr style=\"border:2px solid gray\"> </hr>"
   ]
  },
  {
   "cell_type": "markdown",
   "id": "5a90333d-5754-4e2d-90df-ffff6c655002",
   "metadata": {},
   "source": [
    "\n",
    "If an excel row or column is one dimensional, a spreadsheet is 2 dimensional because it has the properties of length and width. \n",
    "\n",
    "In linear algebra, a table of numbers is called a matrix. We can represent these in numpy like this "
   ]
  },
  {
   "cell_type": "markdown",
   "id": "795d6499-2891-43fa-a38d-e535778c5481",
   "metadata": {},
   "source": [
    "np.Array"
   ]
  },
  {
   "cell_type": "code",
   "execution_count": 66,
   "id": "58b40e79-380f-4929-bded-9bb397b9df77",
   "metadata": {},
   "outputs": [
    {
     "name": "stdout",
     "output_type": "stream",
     "text": [
      "[[1 2 3]\n",
      " [4 5 6]\n",
      " [7 8 9]]\n"
     ]
    }
   ],
   "source": [
    "matrix1 = np.array([[1,2,3],[4,5,6],[7,8,9]])\n",
    "print(matrix1)"
   ]
  },
  {
   "cell_type": "code",
   "execution_count": 73,
   "id": "35273bbc-3f12-4ce3-9c5c-9a84e5da321b",
   "metadata": {},
   "outputs": [
    {
     "data": {
      "text/plain": [
       "array([[ 2,  4,  6],\n",
       "       [ 8, 10, 12],\n",
       "       [14, 16, 18]])"
      ]
     },
     "execution_count": 73,
     "metadata": {},
     "output_type": "execute_result"
    }
   ],
   "source": [
    "matrix1 * 2"
   ]
  },
  {
   "cell_type": "markdown",
   "id": "d32bcddb-4dae-4d0a-9742-d6e7e8ea2082",
   "metadata": {},
   "source": [
    "Below, we can display the shape with this call"
   ]
  },
  {
   "cell_type": "code",
   "execution_count": 74,
   "id": "e456659b-1b89-4d98-822f-925cda904a90",
   "metadata": {},
   "outputs": [
    {
     "data": {
      "text/plain": [
       "(3, 3)"
      ]
     },
     "execution_count": 74,
     "metadata": {},
     "output_type": "execute_result"
    }
   ],
   "source": [
    "\n",
    "matrix1.shape"
   ]
  },
  {
   "cell_type": "markdown",
   "id": "31999206-8187-4e7a-806f-3aa9c149763a",
   "metadata": {},
   "source": [
    "Likewise, we run into problems when we include non-numbers in our array."
   ]
  },
  {
   "cell_type": "code",
   "execution_count": 76,
   "id": "9e291e23-0e80-4ef1-97e1-7275fbfab431",
   "metadata": {},
   "outputs": [],
   "source": [
    "matrixA = np.array([[1,'b',3],[4,5,'w'],['1',8,9]])\n"
   ]
  },
  {
   "cell_type": "code",
   "execution_count": 78,
   "id": "6afd6509-892c-410e-b14a-a8d3e7092a5a",
   "metadata": {},
   "outputs": [
    {
     "ename": "UFuncTypeError",
     "evalue": "ufunc 'multiply' did not contain a loop with signature matching types (dtype('<U21'), dtype('<U21')) -> dtype('<U21')",
     "output_type": "error",
     "traceback": [
      "\u001b[0;31m---------------------------------------------------------------------------\u001b[0m",
      "\u001b[0;31mUFuncTypeError\u001b[0m                            Traceback (most recent call last)",
      "\u001b[0;32m<ipython-input-78-4ce9794443e8>\u001b[0m in \u001b[0;36m<module>\u001b[0;34m\u001b[0m\n\u001b[0;32m----> 1\u001b[0;31m \u001b[0mmatrixA\u001b[0m \u001b[0;34m*\u001b[0m \u001b[0;36m2\u001b[0m\u001b[0;34m\u001b[0m\u001b[0;34m\u001b[0m\u001b[0m\n\u001b[0m",
      "\u001b[0;31mUFuncTypeError\u001b[0m: ufunc 'multiply' did not contain a loop with signature matching types (dtype('<U21'), dtype('<U21')) -> dtype('<U21')"
     ]
    }
   ],
   "source": [
    "matrixA * 2"
   ]
  },
  {
   "cell_type": "markdown",
   "id": "ea79abae-fd6a-46e0-8a13-3af84e8e5963",
   "metadata": {},
   "source": [
    "#### Datatype: Introduction to Pandas Dataframes\n",
    "<hr style=\"border:1px solid gray\"> </hr>"
   ]
  },
  {
   "cell_type": "markdown",
   "id": "e0946ae9-c347-4b6b-b7fc-5513a989e69b",
   "metadata": {},
   "source": [
    "In this course, we are going to use a tool called a Pandas Dataframe as our 2D datatype.\n",
    "\n",
    "Similar to a pandas series, it allows different datatypes to coexist in an enviroment which is intelligent to infer what we want it to do rather than throw an error like numpy would."
   ]
  },
  {
   "cell_type": "code",
   "execution_count": 79,
   "id": "e5dad191-d7a6-4b23-a069-73e194837525",
   "metadata": {},
   "outputs": [
    {
     "data": {
      "text/plain": [
       "pandas.core.frame.DataFrame"
      ]
     },
     "execution_count": 79,
     "metadata": {},
     "output_type": "execute_result"
    }
   ],
   "source": [
    "pd.DataFrame"
   ]
  },
  {
   "cell_type": "markdown",
   "id": "483c6fce-39cc-4dfd-bf2b-b35cd3b5a298",
   "metadata": {},
   "source": [
    "#### Vector and Matrix Exercises"
   ]
  },
  {
   "cell_type": "code",
   "execution_count": null,
   "id": "192c874f-76df-49fb-809c-fda8801b35d8",
   "metadata": {},
   "outputs": [],
   "source": []
  },
  {
   "cell_type": "code",
   "execution_count": null,
   "id": "889bdbb4-68d6-46d0-965f-d0b1d978c890",
   "metadata": {},
   "outputs": [],
   "source": []
  },
  {
   "cell_type": "markdown",
   "id": "15a75d10-122b-47a7-a1ed-725c402690fd",
   "metadata": {},
   "source": [
    "### Tensors \n",
    "<hr style=\"border:2px solid gray\"> </hr>"
   ]
  },
  {
   "cell_type": "markdown",
   "id": "b011d0ea-dfd4-4e71-ae68-8caca5ef6955",
   "metadata": {},
   "source": [
    "\n",
    "“Many people fear nothing more terribly than to take a position which stands out sharply and clearly from the prevailing opinion. The tendency of most is to adopt a view that is so ambiguous that it will include everything and so popular that it will include everybody. Not a few men who cherish lofty and noble ideals hide them under a bushel for fear of being called different.” \n",
    "\n",
    "\n",
    "\n",
    "if an excel Spreadsheet is 2D, with the properities of length and width, then a tensor is 3D+.\n",
    "\n",
    "A 3D tensor has the properties of length, width, and height.\n",
    "\n",
    "In practice, a python tensor will almost always be filled with numbers. This is because we live in a 3D Dimensional world where we can intuitively understand 2 or 3 dimensions.\n",
    "\n",
    "Tensors are the world of machines. Tensors can occupy higher dimensions than we can conceptualize intuitively. These dimensions are used to store information. Not being limited to 3 dimensions allows for computers to conceptualize concepts differently than we normally do using mathematical operations. "
   ]
  },
  {
   "cell_type": "code",
   "execution_count": 68,
   "id": "e194a4b7-6bf4-4622-b11c-4da174bdcb73",
   "metadata": {},
   "outputs": [],
   "source": [
    "from PIL import Image\n",
    "\n",
    "grayscaleImage = Image.open('/home/jentlejames/Downloads/unPackAI/Course Development/DL201 V3/unpackAI.png')\n",
    "grayscaleImage.show()"
   ]
  },
  {
   "cell_type": "code",
   "execution_count": 69,
   "id": "b3a8ffcf-0c65-41b6-8136-8676ff439c3c",
   "metadata": {},
   "outputs": [],
   "source": [
    "grayscalePixels = np.array(image)\n"
   ]
  },
  {
   "cell_type": "code",
   "execution_count": 70,
   "id": "f59d89a4-8af4-4939-949a-f80425931cd1",
   "metadata": {},
   "outputs": [
    {
     "data": {
      "text/plain": [
       "(206, 244)"
      ]
     },
     "execution_count": 70,
     "metadata": {},
     "output_type": "execute_result"
    }
   ],
   "source": [
    "grayscalePixels.shape \n",
    "\n",
    "# This is a greyscale image\n"
   ]
  },
  {
   "cell_type": "code",
   "execution_count": 72,
   "id": "2f6fde95-8412-487a-9d97-d62c9a5be8f7",
   "metadata": {},
   "outputs": [
    {
     "data": {
      "text/plain": [
       "array([[1, 1, 1, 1, 1],\n",
       "       [1, 1, 1, 1, 1],\n",
       "       [1, 1, 1, 1, 1],\n",
       "       [1, 1, 1, 1, 1],\n",
       "       [1, 1, 1, 1, 1]], dtype=uint8)"
      ]
     },
     "execution_count": 72,
     "metadata": {},
     "output_type": "execute_result"
    }
   ],
   "source": [
    "grayscalePixels[128:133,128:133]"
   ]
  },
  {
   "cell_type": "code",
   "execution_count": 78,
   "id": "3240d468-e776-4452-a0ab-050bb9abbf82",
   "metadata": {},
   "outputs": [],
   "source": [
    "colorImage = Image.open('/home/jentlejames/Downloads/unPackAI/Course Development/DL201 V3/Rubiks_cube.jpg')\n",
    "\n",
    "\n"
   ]
  },
  {
   "cell_type": "code",
   "execution_count": 82,
   "id": "c9fe39b5-b719-4281-8b4c-80eefdb36901",
   "metadata": {},
   "outputs": [
    {
     "data": {
      "text/plain": [
       "(1600, 1600, 3)"
      ]
     },
     "execution_count": 82,
     "metadata": {},
     "output_type": "execute_result"
    }
   ],
   "source": [
    "rgbArray = np.array(colorImage)\n",
    "rgbArray.shape"
   ]
  },
  {
   "cell_type": "code",
   "execution_count": 86,
   "id": "77e3c12a-2ba7-4ad2-81d5-9cd3525cffa9",
   "metadata": {},
   "outputs": [
    {
     "data": {
      "text/plain": [
       "array([212, 206, 210], dtype=uint8)"
      ]
     },
     "execution_count": 86,
     "metadata": {},
     "output_type": "execute_result"
    }
   ],
   "source": [
    "# One Pixel\n",
    "rgbArray[800,800,:]"
   ]
  },
  {
   "cell_type": "code",
   "execution_count": 91,
   "id": "c1faf703-89d8-4178-91a3-a1aebcd958b4",
   "metadata": {},
   "outputs": [
    {
     "data": {
      "text/plain": [
       "array([[212, 206, 210],\n",
       "       [211, 205, 209],\n",
       "       [211, 205, 209],\n",
       "       [209, 203, 207],\n",
       "       [208, 202, 206]], dtype=uint8)"
      ]
     },
     "execution_count": 91,
     "metadata": {},
     "output_type": "execute_result"
    }
   ],
   "source": [
    "# A a row of pixels from the image \n",
    "\n",
    "rgbArray[800:805,800,:]"
   ]
  },
  {
   "cell_type": "code",
   "execution_count": 99,
   "id": "1ab7ea50-28d3-45d1-9fe8-c3de6e090b51",
   "metadata": {},
   "outputs": [
    {
     "data": {
      "image/png": "[encoded data removed]",
      "text/plain": [
       "<Figure size 432x288 with 1 Axes>"
      ]
     },
     "metadata": {
      "needs_background": "light"
     },
     "output_type": "display_data"
    }
   ],
   "source": [
    "from matplotlib import pyplot as plt\n",
    "plt.imshow(rgbArray, interpolation='nearest')\n",
    "plt.show()"
   ]
  },
  {
   "cell_type": "code",
   "execution_count": 107,
   "id": "b95a413f-f5f0-4bcb-b3dd-6a397e7d3b38",
   "metadata": {},
   "outputs": [
    {
     "data": {
      "image/png": "[encoded data removed]",
      "text/plain": [
       "<Figure size 432x288 with 1 Axes>"
      ]
     },
     "metadata": {
      "needs_background": "light"
     },
     "output_type": "display_data"
    }
   ],
   "source": [
    "imageCrop = rgbArray[500:800,500:800,:]\n",
    "plt.imshow(imageCrop,interpolation='nearest')\n",
    "plt.show()"
   ]
  },
  {
   "cell_type": "code",
   "execution_count": 108,
   "id": "7f1efe12-3721-44dc-9355-2fc38de7aac4",
   "metadata": {},
   "outputs": [
    {
     "data": {
      "image/png": "[encoded data removed]",
      "text/plain": [
       "<Figure size 432x288 with 1 Axes>"
      ]
     },
     "metadata": {
      "needs_background": "light"
     },
     "output_type": "display_data"
    }
   ],
   "source": [
    "# Seperating the channels\n",
    "\n",
    "imageCrop = rgbArray[500:800,500:800,:]\n",
    "plt.imshow(imageCrop,interpolation='nearest')\n",
    "plt.show()"
   ]
  },
  {
   "cell_type": "code",
   "execution_count": 110,
   "id": "ab56471c-5b74-4813-95e3-618d8e6fe2ef",
   "metadata": {},
   "outputs": [
    {
     "data": {
      "image/png": "[encoded data removed]",
      "text/plain": [
       "<Figure size 432x288 with 1 Axes>"
      ]
     },
     "metadata": {
      "needs_background": "light"
     },
     "output_type": "display_data"
    }
   ],
   "source": [
    "# red channel\n",
    "redChannel = imageCrop[:,:,0]\n",
    "plt.imshow(redChannel,interpolation='nearest')\n",
    "plt.show()"
   ]
  },
  {
   "cell_type": "code",
   "execution_count": 111,
   "id": "cabfeef4-6cf2-4e71-9d96-ff3c9b6dabe5",
   "metadata": {},
   "outputs": [
    {
     "data": {
      "image/png": "[encoded data removed]",
      "text/plain": [
       "<Figure size 432x288 with 1 Axes>"
      ]
     },
     "metadata": {
      "needs_background": "light"
     },
     "output_type": "display_data"
    }
   ],
   "source": [
    "# green channel\n",
    "greenChannel = imageCrop[:,:,1]\n",
    "plt.imshow(greenChannel,interpolation='nearest')\n",
    "plt.show()"
   ]
  },
  {
   "cell_type": "code",
   "execution_count": 112,
   "id": "4c447550-8801-41a8-8ffc-05c7385044f9",
   "metadata": {},
   "outputs": [
    {
     "data": {
      "image/png": "[encoded data removed]",
      "text/plain": [
       "<Figure size 432x288 with 1 Axes>"
      ]
     },
     "metadata": {
      "needs_background": "light"
     },
     "output_type": "display_data"
    }
   ],
   "source": [
    "# blue channel\n",
    "blueChannel = imageCrop[:,:,2] # The two is the 'B' in rgB\n",
    "plt.imshow(blueChannel,interpolation='nearest')\n",
    "plt.show()"
   ]
  },
  {
   "cell_type": "code",
   "execution_count": null,
   "id": "7460c14f-fbb0-47c8-a267-c05242f5ec66",
   "metadata": {},
   "outputs": [],
   "source": []
  },
  {
   "cell_type": "code",
   "execution_count": null,
   "id": "e25e9859-d949-4280-9fe1-7445d7c50ab5",
   "metadata": {},
   "outputs": [],
   "source": []
  },
  {
   "cell_type": "code",
   "execution_count": null,
   "id": "94741260-d6c0-473f-a066-e672ade0788f",
   "metadata": {},
   "outputs": [],
   "source": []
  },
  {
   "cell_type": "markdown",
   "id": "c309494e-876e-4bc7-9f94-340a1414dade",
   "metadata": {},
   "source": [
    "#### Datatype: Introduction to an RGB Array\n",
    "<hr style=\"border:1px solid gray\"> </hr>"
   ]
  },
  {
   "cell_type": "markdown",
   "id": "7e25d2b6-4c15-4bd6-9499-a0f804533a4e",
   "metadata": {},
   "source": [
    "\n",
    "“If it falls to your lot to be a street sweeper, sweep streets like Michelangelo painted pictures, sweep streets like Beethoven composed music ... Sweep streets like Shakespeare wrote poetry. Sweep streets so well that all the host of heaven and earth will have to pause and say: Here lived a great street sweeper who swept his job well.” "
   ]
  },
  {
   "cell_type": "code",
   "execution_count": null,
   "id": "8c9ee9f4-e6fa-482f-bed2-4e6e31c2d268",
   "metadata": {},
   "outputs": [],
   "source": []
  },
  {
   "cell_type": "markdown",
   "id": "e6154080-9ade-4edf-987a-16948db2a93b",
   "metadata": {},
   "source": [
    "### Key Idea: Shape Compatibility\n",
    "<hr style=\"border:2px solid gray\"> </hr>"
   ]
  },
  {
   "cell_type": "markdown",
   "id": "76d7bc01-974c-4554-9411-2ece53d6a256",
   "metadata": {},
   "source": [
    "“The difference between a dreamer and a visionary is that a dreamer has his eyes closed and a visionary has his eyes open” "
   ]
  },
  {
   "cell_type": "code",
   "execution_count": null,
   "id": "c3d870e7-2691-4797-8d90-8dfffeda4bf8",
   "metadata": {},
   "outputs": [],
   "source": []
  },
  {
   "cell_type": "markdown",
   "id": "9c7bcf80-ca83-4232-ad10-7db6e535f2d0",
   "metadata": {},
   "source": [
    "#### Exercises to show how shape compatilbity works\n",
    "<hr style=\"border:1px solid gray\"> </hr>"
   ]
  },
  {
   "cell_type": "code",
   "execution_count": null,
   "id": "df123843-6e14-4f6e-8b02-402bc62250e2",
   "metadata": {},
   "outputs": [],
   "source": []
  },
  {
   "cell_type": "code",
   "execution_count": null,
   "id": "616f13df-0ae6-4922-a37d-85d4e3d0a56f",
   "metadata": {},
   "outputs": [],
   "source": []
  },
  {
   "cell_type": "code",
   "execution_count": null,
   "id": "925b71fe-311c-4f40-8eda-484ce06b6041",
   "metadata": {},
   "outputs": [],
   "source": []
  },
  {
   "cell_type": "code",
   "execution_count": null,
   "id": "4dfbd426-44fb-4ee0-9406-fa1d4dca7d0d",
   "metadata": {},
   "outputs": [],
   "source": []
  },
  {
   "cell_type": "code",
   "execution_count": null,
   "id": "fc67dd49-97a3-44db-80cb-62c954e43e11",
   "metadata": {},
   "outputs": [],
   "source": []
  },
  {
   "cell_type": "markdown",
   "id": "89d07fd7-b9a4-4cca-92b2-1c59cc156fc0",
   "metadata": {},
   "source": [
    "#### Merging Dataframes"
   ]
  },
  {
   "cell_type": "code",
   "execution_count": null,
   "id": "334c3fec-8246-4b90-a7dc-6e17e537fd03",
   "metadata": {},
   "outputs": [],
   "source": []
  },
  {
   "cell_type": "code",
   "execution_count": null,
   "id": "c7ef08f1-3208-4cb3-a6a0-945457da639f",
   "metadata": {},
   "outputs": [],
   "source": []
  },
  {
   "cell_type": "code",
   "execution_count": null,
   "id": "ecdfed41-e93d-4e0b-9e52-f56fdc1eb8fd",
   "metadata": {},
   "outputs": [],
   "source": []
  },
  {
   "cell_type": "markdown",
   "id": "2528f911-7aa6-470b-95bd-517b3a8d30aa",
   "metadata": {},
   "source": [
    "#### Appending a column"
   ]
  },
  {
   "cell_type": "code",
   "execution_count": null,
   "id": "94b3cf10-98fa-467d-b790-3abab05538f0",
   "metadata": {},
   "outputs": [],
   "source": []
  },
  {
   "cell_type": "code",
   "execution_count": null,
   "id": "e41d352c-ddd3-4a67-a9a2-1826e15a023d",
   "metadata": {},
   "outputs": [],
   "source": []
  },
  {
   "cell_type": "code",
   "execution_count": null,
   "id": "16fd74c3-dfbf-4aab-98de-06d3b1b1df1f",
   "metadata": {},
   "outputs": [],
   "source": []
  },
  {
   "cell_type": "code",
   "execution_count": null,
   "id": "81e64ad4-8532-440e-a022-d5a5593fb02b",
   "metadata": {},
   "outputs": [],
   "source": []
  },
  {
   "cell_type": "code",
   "execution_count": null,
   "id": "8da7c6b5-7c99-4456-9ee8-9cc2affd9023",
   "metadata": {},
   "outputs": [],
   "source": []
  },
  {
   "cell_type": "markdown",
   "id": "981ad593-187a-4fa6-bc8f-252062100e9e",
   "metadata": {},
   "source": [
    "#### Debugging Shape issues\n",
    "\n",
    "\n"
   ]
  },
  {
   "cell_type": "code",
   "execution_count": null,
   "id": "483dea86-d39d-421d-a910-b5f2d8e32999",
   "metadata": {},
   "outputs": [],
   "source": [
    "np.broadcast_to()"
   ]
  },
  {
   "cell_type": "code",
   "execution_count": null,
   "id": "f326f5f5-2d45-4e6a-a7e9-6adc0b6432e8",
   "metadata": {},
   "outputs": [],
   "source": []
  },
  {
   "cell_type": "code",
   "execution_count": null,
   "id": "cbb56920-50a0-4457-b40a-186c6b05679d",
   "metadata": {},
   "outputs": [],
   "source": []
  },
  {
   "cell_type": "markdown",
   "id": "11b80fcf-3749-4c81-8acd-581687b8fc7d",
   "metadata": {
    "tags": []
   },
   "source": [
    "# Section 2: Indexing \n",
    "<hr style=\"border:4px solid gray\"> </hr>"
   ]
  },
  {
   "cell_type": "markdown",
   "id": "95e28797-392e-40b1-b500-3a565cc9fbe9",
   "metadata": {},
   "source": [
    "“Time itself is neutral; it can be used either destructively or constructively. More and more I feel that the people of ill will have used time much more effectively than have the people of good will. We will have to repent in this generation not merely for the hateful words and actions of the bad people but for the appalling silence of the good people. Human progress never rolls in on wheels of inevitability; it comes through the tireless efforts of men willing to work to be co-workers with God, and without this hard work, time itself becomes an ally of the forces of social stagnation. We must use time creatively, in the knowledge that the time is always ripe to do right.” "
   ]
  },
  {
   "cell_type": "markdown",
   "id": "e1edfe82-0a95-48d8-900f-1fe1601e886b",
   "metadata": {},
   "source": [
    "### Introduction to indexing\n",
    "\n",
    "Ind"
   ]
  },
  {
   "cell_type": "code",
   "execution_count": null,
   "id": "33f5fb59-e614-43ea-b4c5-e5ff50e43ab8",
   "metadata": {},
   "outputs": [],
   "source": []
  },
  {
   "cell_type": "markdown",
   "id": "47c5cab6-9930-4173-8072-6f1e6d2a054a",
   "metadata": {},
   "source": [
    "## Section 1 Part 1: Indexing Tabular Data (Pandas Dataframe)\n",
    "<hr style=\"border:2px solid gray\"> </hr>"
   ]
  },
  {
   "cell_type": "markdown",
   "id": "e09d6b56-9686-44cb-a62b-24f8541c1f08",
   "metadata": {},
   "source": [
    "### Overview and proposition of value \n",
    "\n",
    "What is the most important thing to know about the data?\n",
    "\n",
    "It is to know where it is. If you don't know where your data is, then you can't use it, plain and simple. \n",
    "The more well organized data is, the more useful it is to people and computers alike.\n",
    "\n",
    "There are several ways to organize and conceptualize data, but the one covered in this course will be indexing.\n",
    "\n",
    "We are going to learn indexing because it is one of the more intuitive, yet powerful ways to access and manipulate data. \n",
    "\n",
    "Indexes are very common in everyday life. \n",
    "\n",
    "When you read a book, the page number is an index. \n",
    "A book also has an index called an ISBN, which allows libraries to indentify and categorize books.\n",
    "\n",
    "Postal codes are also indices which allow for the efficient delivery of mail.\n",
    "\n",
    "What other areas of life use indicies? "
   ]
  },
  {
   "cell_type": "code",
   "execution_count": 80,
   "id": "83ef89c4-1e46-432a-be4c-b537fac40db9",
   "metadata": {},
   "outputs": [],
   "source": [
    "# picture"
   ]
  },
  {
   "cell_type": "markdown",
   "id": "01f3ad6e-b9e3-4467-a057-24bdc94d777b",
   "metadata": {},
   "source": [
    "As you could probably guess, computers love indicies.\n",
    "\n",
    "Down at the hardware level, groups of bytes are indexed in a register so that the computer can find, read, and write to them a trillionth of a seconds. As a result, for AI to do massive computations, the data it works with needs to be indexable.\n",
    "\n",
    "Likewise, as people, if we know how to find our data by its index, it is the first step to working with data in any form. "
   ]
  },
  {
   "cell_type": "markdown",
   "id": "43e5cafa-2474-4694-b7af-d762a7039c55",
   "metadata": {},
   "source": [
    "### Example one: Indexing Columns\n",
    "<hr style=\"border:1px solid gray\"> </hr>"
   ]
  },
  {
   "cell_type": "markdown",
   "id": "160770c0-83f5-41a1-8fb9-58660d40645e",
   "metadata": {},
   "source": [
    "\"I think empathy is really important, and I think only when our clever brain and our human heart work together in harmony can we achieve our full potential.\"\n",
    "\n",
    "\n",
    "The pandas library shines in how it is able to index data in a human readable form. \n",
    "\n",
    "Now, let's access our columns "
   ]
  },
  {
   "cell_type": "code",
   "execution_count": 97,
   "id": "b5743f34-7520-4486-8b9d-13045936a80c",
   "metadata": {},
   "outputs": [],
   "source": [
    "# code examples\n",
    "\n",
    "from pathlib import Path\n",
    "\n",
    "DATA_ROOT = Path('../../data')\n",
    "/home/jentlejames/Projects/unpackAI/Course_Development/DL201/data/StartUpInvestments"
   ]
  },
  {
   "cell_type": "code",
   "execution_count": 102,
   "id": "7c9dca3b-375a-4333-b22d-f0d7dc3f764f",
   "metadata": {},
   "outputs": [],
   "source": [
    "startupDataPath = DATA_ROOT / 'StartUpInvestments' / 'investments_VC.csv'"
   ]
  },
  {
   "cell_type": "code",
   "execution_count": 110,
   "id": "dba958bd-f647-4529-90e4-b0dbeca1afbd",
   "metadata": {},
   "outputs": [],
   "source": [
    "startUpData = pd.read_csv(startupDataPath,encoding = 'unicode_escape')"
   ]
  },
  {
   "cell_type": "markdown",
   "id": "12ed3693-c3b1-4c38-950a-fbeedad40de8",
   "metadata": {},
   "source": [
    "##### Step 1: Check the shape \n",
    "\n",
    "\n",
    "Whenever you load a dataframe, the first thing you need to do when you load data is to check the shape. Going back to the first section, the shape needs to be logged away in the back of your head. Pandas is very flexible in many ways, but shape compatibility is a rule you really can't break.\n",
    "\n",
    "If this number is different than you were expecting, it will tell you right away that your data didn't load properly\n",
    "\n",
    "\n",
    "The first number in this tuple is the length, and the second number is the width.\n",
    "\n",
    "The width is the most important number to pay attention to in pandas."
   ]
  },
  {
   "cell_type": "code",
   "execution_count": 116,
   "id": "8d1e0e18-f40d-459d-99c1-d497e3e0b529",
   "metadata": {},
   "outputs": [
    {
     "data": {
      "text/plain": [
       "(54294, 39)"
      ]
     },
     "execution_count": 116,
     "metadata": {},
     "output_type": "execute_result"
    }
   ],
   "source": [
    "startUpData.shape\n",
    "# What does this mean?"
   ]
  },
  {
   "cell_type": "markdown",
   "id": "4e508da6-28e6-4ab8-957b-4e355168bb62",
   "metadata": {},
   "source": [
    "##### Step 2: inspect the first few rows/samples/instances\n",
    "\n",
    "The next thing that is very useful to do is to take a peek at your data. Take a look at it, do you see numbers? Text? Categories? Time data? "
   ]
  },
  {
   "cell_type": "code",
   "execution_count": 117,
   "id": "33f25575-ef1e-49b3-9312-29f1e92c0bf4",
   "metadata": {},
   "outputs": [
    {
     "data": {
      "text/html": [
       "<div>\n",
       "<style scoped>\n",
       "    .dataframe tbody tr th:only-of-type {\n",
       "        vertical-align: middle;\n",
       "    }\n",
       "\n",
       "    .dataframe tbody tr th {\n",
       "        vertical-align: top;\n",
       "    }\n",
       "\n",
       "    .dataframe thead th {\n",
       "        text-align: right;\n",
       "    }\n",
       "</style>\n",
       "<table border=\"1\" class=\"dataframe\">\n",
       "  <thead>\n",
       "    <tr style=\"text-align: right;\">\n",
       "      <th></th>\n",
       "      <th>permalink</th>\n",
       "      <th>name</th>\n",
       "      <th>homepage_url</th>\n",
       "      <th>category_list</th>\n",
       "      <th>market</th>\n",
       "      <th>funding_total_usd</th>\n",
       "      <th>status</th>\n",
       "      <th>country_code</th>\n",
       "      <th>state_code</th>\n",
       "      <th>region</th>\n",
       "      <th>...</th>\n",
       "      <th>secondary_market</th>\n",
       "      <th>product_crowdfunding</th>\n",
       "      <th>round_A</th>\n",
       "      <th>round_B</th>\n",
       "      <th>round_C</th>\n",
       "      <th>round_D</th>\n",
       "      <th>round_E</th>\n",
       "      <th>round_F</th>\n",
       "      <th>round_G</th>\n",
       "      <th>round_H</th>\n",
       "    </tr>\n",
       "  </thead>\n",
       "  <tbody>\n",
       "    <tr>\n",
       "      <th>0</th>\n",
       "      <td>/organization/waywire</td>\n",
       "      <td>#waywire</td>\n",
       "      <td>http://www.waywire.com</td>\n",
       "      <td>|Entertainment|Politics|Social Media|News|</td>\n",
       "      <td>News</td>\n",
       "      <td>17,50,000</td>\n",
       "      <td>acquired</td>\n",
       "      <td>USA</td>\n",
       "      <td>NY</td>\n",
       "      <td>New York City</td>\n",
       "      <td>...</td>\n",
       "      <td>0.0</td>\n",
       "      <td>0.0</td>\n",
       "      <td>0.0</td>\n",
       "      <td>0.0</td>\n",
       "      <td>0.0</td>\n",
       "      <td>0.0</td>\n",
       "      <td>0.0</td>\n",
       "      <td>0.0</td>\n",
       "      <td>0.0</td>\n",
       "      <td>0.0</td>\n",
       "    </tr>\n",
       "    <tr>\n",
       "      <th>1</th>\n",
       "      <td>/organization/tv-communications</td>\n",
       "      <td>&amp;TV Communications</td>\n",
       "      <td>http://enjoyandtv.com</td>\n",
       "      <td>|Games|</td>\n",
       "      <td>Games</td>\n",
       "      <td>40,00,000</td>\n",
       "      <td>operating</td>\n",
       "      <td>USA</td>\n",
       "      <td>CA</td>\n",
       "      <td>Los Angeles</td>\n",
       "      <td>...</td>\n",
       "      <td>0.0</td>\n",
       "      <td>0.0</td>\n",
       "      <td>0.0</td>\n",
       "      <td>0.0</td>\n",
       "      <td>0.0</td>\n",
       "      <td>0.0</td>\n",
       "      <td>0.0</td>\n",
       "      <td>0.0</td>\n",
       "      <td>0.0</td>\n",
       "      <td>0.0</td>\n",
       "    </tr>\n",
       "    <tr>\n",
       "      <th>2</th>\n",
       "      <td>/organization/rock-your-paper</td>\n",
       "      <td>'Rock' Your Paper</td>\n",
       "      <td>http://www.rockyourpaper.org</td>\n",
       "      <td>|Publishing|Education|</td>\n",
       "      <td>Publishing</td>\n",
       "      <td>40,000</td>\n",
       "      <td>operating</td>\n",
       "      <td>EST</td>\n",
       "      <td>NaN</td>\n",
       "      <td>Tallinn</td>\n",
       "      <td>...</td>\n",
       "      <td>0.0</td>\n",
       "      <td>0.0</td>\n",
       "      <td>0.0</td>\n",
       "      <td>0.0</td>\n",
       "      <td>0.0</td>\n",
       "      <td>0.0</td>\n",
       "      <td>0.0</td>\n",
       "      <td>0.0</td>\n",
       "      <td>0.0</td>\n",
       "      <td>0.0</td>\n",
       "    </tr>\n",
       "    <tr>\n",
       "      <th>3</th>\n",
       "      <td>/organization/in-touch-network</td>\n",
       "      <td>(In)Touch Network</td>\n",
       "      <td>http://www.InTouchNetwork.com</td>\n",
       "      <td>|Electronics|Guides|Coffee|Restaurants|Music|i...</td>\n",
       "      <td>Electronics</td>\n",
       "      <td>15,00,000</td>\n",
       "      <td>operating</td>\n",
       "      <td>GBR</td>\n",
       "      <td>NaN</td>\n",
       "      <td>London</td>\n",
       "      <td>...</td>\n",
       "      <td>0.0</td>\n",
       "      <td>0.0</td>\n",
       "      <td>0.0</td>\n",
       "      <td>0.0</td>\n",
       "      <td>0.0</td>\n",
       "      <td>0.0</td>\n",
       "      <td>0.0</td>\n",
       "      <td>0.0</td>\n",
       "      <td>0.0</td>\n",
       "      <td>0.0</td>\n",
       "    </tr>\n",
       "    <tr>\n",
       "      <th>4</th>\n",
       "      <td>/organization/r-ranch-and-mine</td>\n",
       "      <td>-R- Ranch and Mine</td>\n",
       "      <td>NaN</td>\n",
       "      <td>|Tourism|Entertainment|Games|</td>\n",
       "      <td>Tourism</td>\n",
       "      <td>60,000</td>\n",
       "      <td>operating</td>\n",
       "      <td>USA</td>\n",
       "      <td>TX</td>\n",
       "      <td>Dallas</td>\n",
       "      <td>...</td>\n",
       "      <td>0.0</td>\n",
       "      <td>0.0</td>\n",
       "      <td>0.0</td>\n",
       "      <td>0.0</td>\n",
       "      <td>0.0</td>\n",
       "      <td>0.0</td>\n",
       "      <td>0.0</td>\n",
       "      <td>0.0</td>\n",
       "      <td>0.0</td>\n",
       "      <td>0.0</td>\n",
       "    </tr>\n",
       "  </tbody>\n",
       "</table>\n",
       "<p>5 rows × 39 columns</p>\n",
       "</div>"
      ],
      "text/plain": [
       "                         permalink                name  \\\n",
       "0            /organization/waywire            #waywire   \n",
       "1  /organization/tv-communications  &TV Communications   \n",
       "2    /organization/rock-your-paper   'Rock' Your Paper   \n",
       "3   /organization/in-touch-network   (In)Touch Network   \n",
       "4   /organization/r-ranch-and-mine  -R- Ranch and Mine   \n",
       "\n",
       "                    homepage_url  \\\n",
       "0         http://www.waywire.com   \n",
       "1          http://enjoyandtv.com   \n",
       "2   http://www.rockyourpaper.org   \n",
       "3  http://www.InTouchNetwork.com   \n",
       "4                            NaN   \n",
       "\n",
       "                                       category_list        market   \\\n",
       "0         |Entertainment|Politics|Social Media|News|          News    \n",
       "1                                            |Games|         Games    \n",
       "2                             |Publishing|Education|    Publishing    \n",
       "3  |Electronics|Guides|Coffee|Restaurants|Music|i...   Electronics    \n",
       "4                      |Tourism|Entertainment|Games|       Tourism    \n",
       "\n",
       "   funding_total_usd      status country_code state_code         region  ...  \\\n",
       "0          17,50,000    acquired          USA         NY  New York City  ...   \n",
       "1          40,00,000   operating          USA         CA    Los Angeles  ...   \n",
       "2             40,000   operating          EST        NaN        Tallinn  ...   \n",
       "3          15,00,000   operating          GBR        NaN         London  ...   \n",
       "4             60,000   operating          USA         TX         Dallas  ...   \n",
       "\n",
       "  secondary_market  product_crowdfunding round_A round_B round_C  round_D  \\\n",
       "0              0.0                   0.0     0.0     0.0     0.0      0.0   \n",
       "1              0.0                   0.0     0.0     0.0     0.0      0.0   \n",
       "2              0.0                   0.0     0.0     0.0     0.0      0.0   \n",
       "3              0.0                   0.0     0.0     0.0     0.0      0.0   \n",
       "4              0.0                   0.0     0.0     0.0     0.0      0.0   \n",
       "\n",
       "  round_E round_F  round_G  round_H  \n",
       "0     0.0     0.0      0.0      0.0  \n",
       "1     0.0     0.0      0.0      0.0  \n",
       "2     0.0     0.0      0.0      0.0  \n",
       "3     0.0     0.0      0.0      0.0  \n",
       "4     0.0     0.0      0.0      0.0  \n",
       "\n",
       "[5 rows x 39 columns]"
      ]
     },
     "execution_count": 117,
     "metadata": {},
     "output_type": "execute_result"
    }
   ],
   "source": [
    "startUpData.head()"
   ]
  },
  {
   "cell_type": "markdown",
   "id": "374f7bdc-f17e-4c8d-b32f-e92d37646216",
   "metadata": {},
   "source": [
    "Which columns are you interested in? What do you want to know more about? \n",
    "\n",
    "The .columns method allows us to get the names of columns in our dataframe \n",
    "\n",
    "This is a good step because sometimes the column names are messy and might not be as they originally appear. \n",
    "Oftentimes, you may need to  rename columns. However, this dataset is rather clean, so we can wait until the skills book to cover how to do this\n",
    "\n",
    "\n",
    "For example the column for 'market' has a typo. Can you find it? "
   ]
  },
  {
   "cell_type": "code",
   "execution_count": 127,
   "id": "09422088-5043-4f80-9dbb-c7adf9d6ea92",
   "metadata": {},
   "outputs": [
    {
     "name": "stdout",
     "output_type": "stream",
     "text": [
      "Index(['permalink', 'name', 'homepage_url', 'category_list', ' market ',\n",
      "       ' funding_total_usd ', 'status', 'country_code', 'state_code', 'region',\n",
      "       'city', 'funding_rounds', 'founded_at', 'founded_month',\n",
      "       'founded_quarter', 'founded_year', 'first_funding_at',\n",
      "       'last_funding_at', 'seed', 'venture', 'equity_crowdfunding',\n",
      "       'undisclosed', 'convertible_note', 'debt_financing', 'angel', 'grant',\n",
      "       'private_equity', 'post_ipo_equity', 'post_ipo_debt',\n",
      "       'secondary_market', 'product_crowdfunding', 'round_A', 'round_B',\n",
      "       'round_C', 'round_D', 'round_E', 'round_F', 'round_G', 'round_H'],\n",
      "      dtype='object')\n"
     ]
    }
   ],
   "source": [
    "print(startUpData.columns)"
   ]
  },
  {
   "cell_type": "code",
   "execution_count": 241,
   "id": "5ea7bb8a-fe6a-4191-8392-62f5166d0715",
   "metadata": {},
   "outputs": [],
   "source": [
    "columnSeries = pd.Series(startUpData.columns)\n",
    "columnSeries = columnSeries.str.strip()\n",
    "startUpData.columns = columnSeries"
   ]
  },
  {
   "cell_type": "code",
   "execution_count": 240,
   "id": "00b86f70-099f-443b-8c80-c15b95a96cd9",
   "metadata": {},
   "outputs": [],
   "source": []
  },
  {
   "cell_type": "markdown",
   "id": "9a2adbd4-5f1e-4776-bf1a-fe8b22ba83b5",
   "metadata": {},
   "source": [
    "We can access columns in our dataframe by passing the name inside of square brackets\n",
    "\n",
    "startUpData['name']\n",
    "\n",
    "If the name doesn't have spaces, we can also access it with a period \n",
    "\n",
    "startUpData.name"
   ]
  },
  {
   "cell_type": "code",
   "execution_count": 131,
   "id": "c3b01a25-8418-4feb-9678-707361b2c0f8",
   "metadata": {},
   "outputs": [
    {
     "data": {
      "text/plain": [
       "0                  #waywire\n",
       "1        &TV Communications\n",
       "2         'Rock' Your Paper\n",
       "3         (In)Touch Network\n",
       "4        -R- Ranch and Mine\n",
       "                ...        \n",
       "54289                   NaN\n",
       "54290                   NaN\n",
       "54291                   NaN\n",
       "54292                   NaN\n",
       "54293                   NaN\n",
       "Name: name, Length: 54294, dtype: object"
      ]
     },
     "execution_count": 131,
     "metadata": {},
     "output_type": "execute_result"
    }
   ],
   "source": [
    "startUpData['name'] #startUpData.name"
   ]
  },
  {
   "cell_type": "markdown",
   "id": "21057ba2-db61-4b8e-8d05-57cde888e175",
   "metadata": {},
   "source": [
    "We can also call multiple columns passing a list of column names "
   ]
  },
  {
   "cell_type": "code",
   "execution_count": 138,
   "id": "00e16628-4f5e-4525-8af6-7fd072988a14",
   "metadata": {},
   "outputs": [
    {
     "data": {
      "text/html": [
       "<div>\n",
       "<style scoped>\n",
       "    .dataframe tbody tr th:only-of-type {\n",
       "        vertical-align: middle;\n",
       "    }\n",
       "\n",
       "    .dataframe tbody tr th {\n",
       "        vertical-align: top;\n",
       "    }\n",
       "\n",
       "    .dataframe thead th {\n",
       "        text-align: right;\n",
       "    }\n",
       "</style>\n",
       "<table border=\"1\" class=\"dataframe\">\n",
       "  <thead>\n",
       "    <tr style=\"text-align: right;\">\n",
       "      <th></th>\n",
       "      <th>name</th>\n",
       "      <th>city</th>\n",
       "    </tr>\n",
       "  </thead>\n",
       "  <tbody>\n",
       "    <tr>\n",
       "      <th>0</th>\n",
       "      <td>#waywire</td>\n",
       "      <td>New York</td>\n",
       "    </tr>\n",
       "    <tr>\n",
       "      <th>1</th>\n",
       "      <td>&amp;TV Communications</td>\n",
       "      <td>Los Angeles</td>\n",
       "    </tr>\n",
       "    <tr>\n",
       "      <th>2</th>\n",
       "      <td>'Rock' Your Paper</td>\n",
       "      <td>Tallinn</td>\n",
       "    </tr>\n",
       "    <tr>\n",
       "      <th>3</th>\n",
       "      <td>(In)Touch Network</td>\n",
       "      <td>London</td>\n",
       "    </tr>\n",
       "    <tr>\n",
       "      <th>4</th>\n",
       "      <td>-R- Ranch and Mine</td>\n",
       "      <td>Fort Worth</td>\n",
       "    </tr>\n",
       "  </tbody>\n",
       "</table>\n",
       "</div>"
      ],
      "text/plain": [
       "                 name         city\n",
       "0            #waywire     New York\n",
       "1  &TV Communications  Los Angeles\n",
       "2   'Rock' Your Paper      Tallinn\n",
       "3   (In)Touch Network       London\n",
       "4  -R- Ranch and Mine   Fort Worth"
      ]
     },
     "execution_count": 138,
     "metadata": {},
     "output_type": "execute_result"
    }
   ],
   "source": [
    "startUpData[['name','city']].head()"
   ]
  },
  {
   "cell_type": "code",
   "execution_count": null,
   "id": "655974d6-9b2c-466e-90be-9e89d87c8923",
   "metadata": {},
   "outputs": [],
   "source": []
  },
  {
   "cell_type": "markdown",
   "id": "79edf2af-547b-45f0-a9fd-a8c17e74dbf5",
   "metadata": {},
   "source": [
    "### Example two: Indexing Rows \n",
    "<hr style=\"border:1px solid gray\"> </hr>"
   ]
  },
  {
   "cell_type": "markdown",
   "id": "2ff42714-1f73-4504-86b3-df971e62b4a4",
   "metadata": {},
   "source": [
    "Congratulation, we now know how to index columns of tabular data. \n",
    "\n",
    "Now, let's try to get rows. In AI fields, rows are reffered to as samples or instances. \n",
    "\n",
    "This can be done with the .loc and .iloc methods\n",
    "\n",
    "If we want to access exactly one sample, we can input it's index into the .iloc method "
   ]
  },
  {
   "cell_type": "markdown",
   "id": "6ce66129-fe7a-4efc-84a4-ed5767d86e3e",
   "metadata": {},
   "source": [
    "#### Indexing a single row"
   ]
  },
  {
   "cell_type": "code",
   "execution_count": 146,
   "id": "a01a8e3c-6ec4-4685-863d-8d35bb80fe89",
   "metadata": {},
   "outputs": [
    {
     "data": {
      "text/plain": [
       "permalink                                   /organization/waywire\n",
       "name                                                     #waywire\n",
       "homepage_url                               http://www.waywire.com\n",
       "category_list          |Entertainment|Politics|Social Media|News|\n",
       " market                                                     News \n",
       " funding_total_usd                                     17,50,000 \n",
       "status                                                   acquired\n",
       "country_code                                                  USA\n",
       "state_code                                                     NY\n",
       "region                                              New York City\n",
       "Name: 0, dtype: object"
      ]
     },
     "execution_count": 146,
     "metadata": {},
     "output_type": "execute_result"
    }
   ],
   "source": [
    "#startUpData.iloc[0]\n",
    "startUpData.iloc[0].head(10) # the .head() method truncates our data to make it fit in more \n"
   ]
  },
  {
   "cell_type": "markdown",
   "id": "0c08304e-753c-4892-bb79-1c5c5fd06a0a",
   "metadata": {},
   "source": [
    "#### Indexing Multiple rows\n",
    "\n",
    "Since data in Vector, Series, or Matrix form consists of more than one value organized together, we will need to be able to access multiple rows.\n",
    "\n",
    "We can do that by telling the code to select a range of numbers. \n",
    "\n",
    "The first number before the colon (:) is the lower bound\n",
    "The second number is the upper bound."
   ]
  },
  {
   "cell_type": "code",
   "execution_count": 155,
   "id": "b1e9b677-1a2c-4d4a-b873-3352e495f886",
   "metadata": {},
   "outputs": [
    {
     "data": {
      "text/html": [
       "<div>\n",
       "<style scoped>\n",
       "    .dataframe tbody tr th:only-of-type {\n",
       "        vertical-align: middle;\n",
       "    }\n",
       "\n",
       "    .dataframe tbody tr th {\n",
       "        vertical-align: top;\n",
       "    }\n",
       "\n",
       "    .dataframe thead th {\n",
       "        text-align: right;\n",
       "    }\n",
       "</style>\n",
       "<table border=\"1\" class=\"dataframe\">\n",
       "  <thead>\n",
       "    <tr style=\"text-align: right;\">\n",
       "      <th></th>\n",
       "      <th>permalink</th>\n",
       "      <th>name</th>\n",
       "      <th>homepage_url</th>\n",
       "      <th>category_list</th>\n",
       "      <th>market</th>\n",
       "      <th>funding_total_usd</th>\n",
       "      <th>status</th>\n",
       "      <th>country_code</th>\n",
       "      <th>state_code</th>\n",
       "      <th>region</th>\n",
       "      <th>...</th>\n",
       "      <th>secondary_market</th>\n",
       "      <th>product_crowdfunding</th>\n",
       "      <th>round_A</th>\n",
       "      <th>round_B</th>\n",
       "      <th>round_C</th>\n",
       "      <th>round_D</th>\n",
       "      <th>round_E</th>\n",
       "      <th>round_F</th>\n",
       "      <th>round_G</th>\n",
       "      <th>round_H</th>\n",
       "    </tr>\n",
       "  </thead>\n",
       "  <tbody>\n",
       "    <tr>\n",
       "      <th>0</th>\n",
       "      <td>/organization/waywire</td>\n",
       "      <td>#waywire</td>\n",
       "      <td>http://www.waywire.com</td>\n",
       "      <td>|Entertainment|Politics|Social Media|News|</td>\n",
       "      <td>News</td>\n",
       "      <td>17,50,000</td>\n",
       "      <td>acquired</td>\n",
       "      <td>USA</td>\n",
       "      <td>NY</td>\n",
       "      <td>New York City</td>\n",
       "      <td>...</td>\n",
       "      <td>0.0</td>\n",
       "      <td>0.0</td>\n",
       "      <td>0.0</td>\n",
       "      <td>0.0</td>\n",
       "      <td>0.0</td>\n",
       "      <td>0.0</td>\n",
       "      <td>0.0</td>\n",
       "      <td>0.0</td>\n",
       "      <td>0.0</td>\n",
       "      <td>0.0</td>\n",
       "    </tr>\n",
       "    <tr>\n",
       "      <th>1</th>\n",
       "      <td>/organization/tv-communications</td>\n",
       "      <td>&amp;TV Communications</td>\n",
       "      <td>http://enjoyandtv.com</td>\n",
       "      <td>|Games|</td>\n",
       "      <td>Games</td>\n",
       "      <td>40,00,000</td>\n",
       "      <td>operating</td>\n",
       "      <td>USA</td>\n",
       "      <td>CA</td>\n",
       "      <td>Los Angeles</td>\n",
       "      <td>...</td>\n",
       "      <td>0.0</td>\n",
       "      <td>0.0</td>\n",
       "      <td>0.0</td>\n",
       "      <td>0.0</td>\n",
       "      <td>0.0</td>\n",
       "      <td>0.0</td>\n",
       "      <td>0.0</td>\n",
       "      <td>0.0</td>\n",
       "      <td>0.0</td>\n",
       "      <td>0.0</td>\n",
       "    </tr>\n",
       "    <tr>\n",
       "      <th>2</th>\n",
       "      <td>/organization/rock-your-paper</td>\n",
       "      <td>'Rock' Your Paper</td>\n",
       "      <td>http://www.rockyourpaper.org</td>\n",
       "      <td>|Publishing|Education|</td>\n",
       "      <td>Publishing</td>\n",
       "      <td>40,000</td>\n",
       "      <td>operating</td>\n",
       "      <td>EST</td>\n",
       "      <td>NaN</td>\n",
       "      <td>Tallinn</td>\n",
       "      <td>...</td>\n",
       "      <td>0.0</td>\n",
       "      <td>0.0</td>\n",
       "      <td>0.0</td>\n",
       "      <td>0.0</td>\n",
       "      <td>0.0</td>\n",
       "      <td>0.0</td>\n",
       "      <td>0.0</td>\n",
       "      <td>0.0</td>\n",
       "      <td>0.0</td>\n",
       "      <td>0.0</td>\n",
       "    </tr>\n",
       "    <tr>\n",
       "      <th>3</th>\n",
       "      <td>/organization/in-touch-network</td>\n",
       "      <td>(In)Touch Network</td>\n",
       "      <td>http://www.InTouchNetwork.com</td>\n",
       "      <td>|Electronics|Guides|Coffee|Restaurants|Music|i...</td>\n",
       "      <td>Electronics</td>\n",
       "      <td>15,00,000</td>\n",
       "      <td>operating</td>\n",
       "      <td>GBR</td>\n",
       "      <td>NaN</td>\n",
       "      <td>London</td>\n",
       "      <td>...</td>\n",
       "      <td>0.0</td>\n",
       "      <td>0.0</td>\n",
       "      <td>0.0</td>\n",
       "      <td>0.0</td>\n",
       "      <td>0.0</td>\n",
       "      <td>0.0</td>\n",
       "      <td>0.0</td>\n",
       "      <td>0.0</td>\n",
       "      <td>0.0</td>\n",
       "      <td>0.0</td>\n",
       "    </tr>\n",
       "    <tr>\n",
       "      <th>4</th>\n",
       "      <td>/organization/r-ranch-and-mine</td>\n",
       "      <td>-R- Ranch and Mine</td>\n",
       "      <td>NaN</td>\n",
       "      <td>|Tourism|Entertainment|Games|</td>\n",
       "      <td>Tourism</td>\n",
       "      <td>60,000</td>\n",
       "      <td>operating</td>\n",
       "      <td>USA</td>\n",
       "      <td>TX</td>\n",
       "      <td>Dallas</td>\n",
       "      <td>...</td>\n",
       "      <td>0.0</td>\n",
       "      <td>0.0</td>\n",
       "      <td>0.0</td>\n",
       "      <td>0.0</td>\n",
       "      <td>0.0</td>\n",
       "      <td>0.0</td>\n",
       "      <td>0.0</td>\n",
       "      <td>0.0</td>\n",
       "      <td>0.0</td>\n",
       "      <td>0.0</td>\n",
       "    </tr>\n",
       "  </tbody>\n",
       "</table>\n",
       "<p>5 rows × 39 columns</p>\n",
       "</div>"
      ],
      "text/plain": [
       "                         permalink                name  \\\n",
       "0            /organization/waywire            #waywire   \n",
       "1  /organization/tv-communications  &TV Communications   \n",
       "2    /organization/rock-your-paper   'Rock' Your Paper   \n",
       "3   /organization/in-touch-network   (In)Touch Network   \n",
       "4   /organization/r-ranch-and-mine  -R- Ranch and Mine   \n",
       "\n",
       "                    homepage_url  \\\n",
       "0         http://www.waywire.com   \n",
       "1          http://enjoyandtv.com   \n",
       "2   http://www.rockyourpaper.org   \n",
       "3  http://www.InTouchNetwork.com   \n",
       "4                            NaN   \n",
       "\n",
       "                                       category_list        market   \\\n",
       "0         |Entertainment|Politics|Social Media|News|          News    \n",
       "1                                            |Games|         Games    \n",
       "2                             |Publishing|Education|    Publishing    \n",
       "3  |Electronics|Guides|Coffee|Restaurants|Music|i...   Electronics    \n",
       "4                      |Tourism|Entertainment|Games|       Tourism    \n",
       "\n",
       "   funding_total_usd      status country_code state_code         region  ...  \\\n",
       "0          17,50,000    acquired          USA         NY  New York City  ...   \n",
       "1          40,00,000   operating          USA         CA    Los Angeles  ...   \n",
       "2             40,000   operating          EST        NaN        Tallinn  ...   \n",
       "3          15,00,000   operating          GBR        NaN         London  ...   \n",
       "4             60,000   operating          USA         TX         Dallas  ...   \n",
       "\n",
       "  secondary_market  product_crowdfunding round_A round_B round_C  round_D  \\\n",
       "0              0.0                   0.0     0.0     0.0     0.0      0.0   \n",
       "1              0.0                   0.0     0.0     0.0     0.0      0.0   \n",
       "2              0.0                   0.0     0.0     0.0     0.0      0.0   \n",
       "3              0.0                   0.0     0.0     0.0     0.0      0.0   \n",
       "4              0.0                   0.0     0.0     0.0     0.0      0.0   \n",
       "\n",
       "  round_E round_F  round_G  round_H  \n",
       "0     0.0     0.0      0.0      0.0  \n",
       "1     0.0     0.0      0.0      0.0  \n",
       "2     0.0     0.0      0.0      0.0  \n",
       "3     0.0     0.0      0.0      0.0  \n",
       "4     0.0     0.0      0.0      0.0  \n",
       "\n",
       "[5 rows x 39 columns]"
      ]
     },
     "execution_count": 155,
     "metadata": {},
     "output_type": "execute_result"
    }
   ],
   "source": [
    "startUpData.iloc[0:5]"
   ]
  },
  {
   "cell_type": "markdown",
   "id": "f8997e1b-9fd2-4120-aaac-922c667c900f",
   "metadata": {},
   "source": [
    "Warm reminder that python starts counting with the number 0 instead of 1. This custom goes back to the early days of computing when memory was a huge constraint. 1-9 is just 9 numbers in a set, while 0-9 has ten numbers in the set. Leaving  the 0 meant wasting allocated space. Now this is not a concern, but the custom has remained."
   ]
  },
  {
   "cell_type": "code",
   "execution_count": 156,
   "id": "e208f5b5-2b46-4c2c-a1e1-c9bcc3913d56",
   "metadata": {},
   "outputs": [
    {
     "data": {
      "text/plain": [
       "(54294, 39)"
      ]
     },
     "execution_count": 156,
     "metadata": {},
     "output_type": "execute_result"
    }
   ],
   "source": [
    "# Why is the shape of this data special and what does it tell us about the colon operator?\n",
    "\n",
    "startUpData.iloc[:].shape # "
   ]
  },
  {
   "cell_type": "markdown",
   "id": "db5dc955-427c-42bc-bbd0-6e5e9481b9d8",
   "metadata": {},
   "source": [
    "Giving negative numbers will tell pandas to give you the last rows in the dataframe"
   ]
  },
  {
   "cell_type": "code",
   "execution_count": 163,
   "id": "5e37617d-0a63-42f0-921c-3db0ae4f17bf",
   "metadata": {},
   "outputs": [
    {
     "data": {
      "text/html": [
       "<div>\n",
       "<style scoped>\n",
       "    .dataframe tbody tr th:only-of-type {\n",
       "        vertical-align: middle;\n",
       "    }\n",
       "\n",
       "    .dataframe tbody tr th {\n",
       "        vertical-align: top;\n",
       "    }\n",
       "\n",
       "    .dataframe thead th {\n",
       "        text-align: right;\n",
       "    }\n",
       "</style>\n",
       "<table border=\"1\" class=\"dataframe\">\n",
       "  <thead>\n",
       "    <tr style=\"text-align: right;\">\n",
       "      <th></th>\n",
       "      <th>permalink</th>\n",
       "      <th>name</th>\n",
       "      <th>homepage_url</th>\n",
       "      <th>category_list</th>\n",
       "      <th>market</th>\n",
       "      <th>funding_total_usd</th>\n",
       "      <th>status</th>\n",
       "      <th>country_code</th>\n",
       "      <th>state_code</th>\n",
       "      <th>region</th>\n",
       "      <th>...</th>\n",
       "      <th>secondary_market</th>\n",
       "      <th>product_crowdfunding</th>\n",
       "      <th>round_A</th>\n",
       "      <th>round_B</th>\n",
       "      <th>round_C</th>\n",
       "      <th>round_D</th>\n",
       "      <th>round_E</th>\n",
       "      <th>round_F</th>\n",
       "      <th>round_G</th>\n",
       "      <th>round_H</th>\n",
       "    </tr>\n",
       "  </thead>\n",
       "  <tbody>\n",
       "    <tr>\n",
       "      <th>54289</th>\n",
       "      <td>NaN</td>\n",
       "      <td>NaN</td>\n",
       "      <td>NaN</td>\n",
       "      <td>NaN</td>\n",
       "      <td>NaN</td>\n",
       "      <td>NaN</td>\n",
       "      <td>NaN</td>\n",
       "      <td>NaN</td>\n",
       "      <td>NaN</td>\n",
       "      <td>NaN</td>\n",
       "      <td>...</td>\n",
       "      <td>NaN</td>\n",
       "      <td>NaN</td>\n",
       "      <td>NaN</td>\n",
       "      <td>NaN</td>\n",
       "      <td>NaN</td>\n",
       "      <td>NaN</td>\n",
       "      <td>NaN</td>\n",
       "      <td>NaN</td>\n",
       "      <td>NaN</td>\n",
       "      <td>NaN</td>\n",
       "    </tr>\n",
       "    <tr>\n",
       "      <th>54290</th>\n",
       "      <td>NaN</td>\n",
       "      <td>NaN</td>\n",
       "      <td>NaN</td>\n",
       "      <td>NaN</td>\n",
       "      <td>NaN</td>\n",
       "      <td>NaN</td>\n",
       "      <td>NaN</td>\n",
       "      <td>NaN</td>\n",
       "      <td>NaN</td>\n",
       "      <td>NaN</td>\n",
       "      <td>...</td>\n",
       "      <td>NaN</td>\n",
       "      <td>NaN</td>\n",
       "      <td>NaN</td>\n",
       "      <td>NaN</td>\n",
       "      <td>NaN</td>\n",
       "      <td>NaN</td>\n",
       "      <td>NaN</td>\n",
       "      <td>NaN</td>\n",
       "      <td>NaN</td>\n",
       "      <td>NaN</td>\n",
       "    </tr>\n",
       "    <tr>\n",
       "      <th>54291</th>\n",
       "      <td>NaN</td>\n",
       "      <td>NaN</td>\n",
       "      <td>NaN</td>\n",
       "      <td>NaN</td>\n",
       "      <td>NaN</td>\n",
       "      <td>NaN</td>\n",
       "      <td>NaN</td>\n",
       "      <td>NaN</td>\n",
       "      <td>NaN</td>\n",
       "      <td>NaN</td>\n",
       "      <td>...</td>\n",
       "      <td>NaN</td>\n",
       "      <td>NaN</td>\n",
       "      <td>NaN</td>\n",
       "      <td>NaN</td>\n",
       "      <td>NaN</td>\n",
       "      <td>NaN</td>\n",
       "      <td>NaN</td>\n",
       "      <td>NaN</td>\n",
       "      <td>NaN</td>\n",
       "      <td>NaN</td>\n",
       "    </tr>\n",
       "    <tr>\n",
       "      <th>54292</th>\n",
       "      <td>NaN</td>\n",
       "      <td>NaN</td>\n",
       "      <td>NaN</td>\n",
       "      <td>NaN</td>\n",
       "      <td>NaN</td>\n",
       "      <td>NaN</td>\n",
       "      <td>NaN</td>\n",
       "      <td>NaN</td>\n",
       "      <td>NaN</td>\n",
       "      <td>NaN</td>\n",
       "      <td>...</td>\n",
       "      <td>NaN</td>\n",
       "      <td>NaN</td>\n",
       "      <td>NaN</td>\n",
       "      <td>NaN</td>\n",
       "      <td>NaN</td>\n",
       "      <td>NaN</td>\n",
       "      <td>NaN</td>\n",
       "      <td>NaN</td>\n",
       "      <td>NaN</td>\n",
       "      <td>NaN</td>\n",
       "    </tr>\n",
       "    <tr>\n",
       "      <th>54293</th>\n",
       "      <td>NaN</td>\n",
       "      <td>NaN</td>\n",
       "      <td>NaN</td>\n",
       "      <td>NaN</td>\n",
       "      <td>NaN</td>\n",
       "      <td>NaN</td>\n",
       "      <td>NaN</td>\n",
       "      <td>NaN</td>\n",
       "      <td>NaN</td>\n",
       "      <td>NaN</td>\n",
       "      <td>...</td>\n",
       "      <td>NaN</td>\n",
       "      <td>NaN</td>\n",
       "      <td>NaN</td>\n",
       "      <td>NaN</td>\n",
       "      <td>NaN</td>\n",
       "      <td>NaN</td>\n",
       "      <td>NaN</td>\n",
       "      <td>NaN</td>\n",
       "      <td>NaN</td>\n",
       "      <td>NaN</td>\n",
       "    </tr>\n",
       "  </tbody>\n",
       "</table>\n",
       "<p>5 rows × 39 columns</p>\n",
       "</div>"
      ],
      "text/plain": [
       "      permalink name homepage_url category_list  market   funding_total_usd   \\\n",
       "54289       NaN  NaN          NaN           NaN      NaN                 NaN   \n",
       "54290       NaN  NaN          NaN           NaN      NaN                 NaN   \n",
       "54291       NaN  NaN          NaN           NaN      NaN                 NaN   \n",
       "54292       NaN  NaN          NaN           NaN      NaN                 NaN   \n",
       "54293       NaN  NaN          NaN           NaN      NaN                 NaN   \n",
       "\n",
       "      status country_code state_code region  ... secondary_market  \\\n",
       "54289    NaN          NaN        NaN    NaN  ...              NaN   \n",
       "54290    NaN          NaN        NaN    NaN  ...              NaN   \n",
       "54291    NaN          NaN        NaN    NaN  ...              NaN   \n",
       "54292    NaN          NaN        NaN    NaN  ...              NaN   \n",
       "54293    NaN          NaN        NaN    NaN  ...              NaN   \n",
       "\n",
       "       product_crowdfunding round_A round_B round_C  round_D round_E round_F  \\\n",
       "54289                   NaN     NaN     NaN     NaN      NaN     NaN     NaN   \n",
       "54290                   NaN     NaN     NaN     NaN      NaN     NaN     NaN   \n",
       "54291                   NaN     NaN     NaN     NaN      NaN     NaN     NaN   \n",
       "54292                   NaN     NaN     NaN     NaN      NaN     NaN     NaN   \n",
       "54293                   NaN     NaN     NaN     NaN      NaN     NaN     NaN   \n",
       "\n",
       "       round_G  round_H  \n",
       "54289      NaN      NaN  \n",
       "54290      NaN      NaN  \n",
       "54291      NaN      NaN  \n",
       "54292      NaN      NaN  \n",
       "54293      NaN      NaN  \n",
       "\n",
       "[5 rows x 39 columns]"
      ]
     },
     "execution_count": 163,
     "metadata": {},
     "output_type": "execute_result"
    }
   ],
   "source": [
    "startUpData.iloc[-5:]"
   ]
  },
  {
   "cell_type": "markdown",
   "id": "b8eb73eb-b7d5-4010-a80c-76c0045fc9ee",
   "metadata": {},
   "source": [
    "#### Accessing data by row and column\n",
    "\n",
    "If you can access data by column, and you can access it by row, you can do both at the same time\n",
    "\n",
    "In the example below, we can extract the name and region column, then index rows out of this column"
   ]
  },
  {
   "cell_type": "code",
   "execution_count": 172,
   "id": "41437945-5074-48a0-b864-272b6521485f",
   "metadata": {},
   "outputs": [
    {
     "data": {
      "text/html": [
       "<div>\n",
       "<style scoped>\n",
       "    .dataframe tbody tr th:only-of-type {\n",
       "        vertical-align: middle;\n",
       "    }\n",
       "\n",
       "    .dataframe tbody tr th {\n",
       "        vertical-align: top;\n",
       "    }\n",
       "\n",
       "    .dataframe thead th {\n",
       "        text-align: right;\n",
       "    }\n",
       "</style>\n",
       "<table border=\"1\" class=\"dataframe\">\n",
       "  <thead>\n",
       "    <tr style=\"text-align: right;\">\n",
       "      <th></th>\n",
       "      <th>name</th>\n",
       "      <th>region</th>\n",
       "    </tr>\n",
       "  </thead>\n",
       "  <tbody>\n",
       "    <tr>\n",
       "      <th>0</th>\n",
       "      <td>#waywire</td>\n",
       "      <td>New York City</td>\n",
       "    </tr>\n",
       "    <tr>\n",
       "      <th>1</th>\n",
       "      <td>&amp;TV Communications</td>\n",
       "      <td>Los Angeles</td>\n",
       "    </tr>\n",
       "    <tr>\n",
       "      <th>2</th>\n",
       "      <td>'Rock' Your Paper</td>\n",
       "      <td>Tallinn</td>\n",
       "    </tr>\n",
       "    <tr>\n",
       "      <th>3</th>\n",
       "      <td>(In)Touch Network</td>\n",
       "      <td>London</td>\n",
       "    </tr>\n",
       "    <tr>\n",
       "      <th>4</th>\n",
       "      <td>-R- Ranch and Mine</td>\n",
       "      <td>Dallas</td>\n",
       "    </tr>\n",
       "    <tr>\n",
       "      <th>5</th>\n",
       "      <td>.Club Domains</td>\n",
       "      <td>Ft. Lauderdale</td>\n",
       "    </tr>\n",
       "    <tr>\n",
       "      <th>6</th>\n",
       "      <td>.Fox Networks</td>\n",
       "      <td>Buenos Aires</td>\n",
       "    </tr>\n",
       "    <tr>\n",
       "      <th>7</th>\n",
       "      <td>0-6.com</td>\n",
       "      <td>NaN</td>\n",
       "    </tr>\n",
       "    <tr>\n",
       "      <th>8</th>\n",
       "      <td>004 Technologies</td>\n",
       "      <td>Springfield, Illinois</td>\n",
       "    </tr>\n",
       "    <tr>\n",
       "      <th>9</th>\n",
       "      <td>01Games Technology</td>\n",
       "      <td>Hong Kong</td>\n",
       "    </tr>\n",
       "  </tbody>\n",
       "</table>\n",
       "</div>"
      ],
      "text/plain": [
       "                 name                 region\n",
       "0            #waywire          New York City\n",
       "1  &TV Communications            Los Angeles\n",
       "2   'Rock' Your Paper                Tallinn\n",
       "3   (In)Touch Network                 London\n",
       "4  -R- Ranch and Mine                 Dallas\n",
       "5       .Club Domains         Ft. Lauderdale\n",
       "6       .Fox Networks           Buenos Aires\n",
       "7             0-6.com                    NaN\n",
       "8    004 Technologies  Springfield, Illinois\n",
       "9  01Games Technology              Hong Kong"
      ]
     },
     "execution_count": 172,
     "metadata": {},
     "output_type": "execute_result"
    }
   ],
   "source": [
    "# Her\n",
    "\n",
    "\n",
    "startUpData[['name','region']].iloc[0:10]"
   ]
  },
  {
   "cell_type": "markdown",
   "id": "1f638599-9918-4590-a67e-295f3698a158",
   "metadata": {},
   "source": [
    "Now, that we can access data by the index, we are on the first step "
   ]
  },
  {
   "cell_type": "markdown",
   "id": "b98d616d-c95d-464a-9368-f1ca37f9a984",
   "metadata": {},
   "source": [
    "### Example 3: Querying/Searching rows in Pandas\n",
    "<hr style=\"border:1px solid gray\"> </hr>"
   ]
  },
  {
   "cell_type": "markdown",
   "id": "b14a46e8-2a52-4891-8497-129dbf013a1d",
   "metadata": {},
   "source": [
    "\"United there is little we cannot do in a host of cooperative ventures. Divided there is little we can do—for we dare not meet a powerful challenge at odds and split asunder.”\n",
    "\n",
    "A very useful skill is to query a dataframe to extract data out of it. Very rarely will we use pandas to query specific rows by their index location.  This is more useful for the computer to use.\n",
    "\n",
    "Rather, what we can do is give pandas a command which asks it to return samples which meet a condition.\n",
    "\n",
    "This is powerful because it allows us to cut through huge amounts of data that would crash microsoft excel and specifically get what we need."
   ]
  },
  {
   "cell_type": "markdown",
   "id": "f87fc2f7-1af3-4586-a559-0d86ee9cbe8d",
   "metadata": {},
   "source": [
    "This is a piece of code which allows you to search a pandas dataframe"
   ]
  },
  {
   "cell_type": "code",
   "execution_count": 189,
   "id": "0114b3b9-4c95-4764-ab64-5d3825c151e3",
   "metadata": {},
   "outputs": [
    {
     "data": {
      "text/html": [
       "<div>\n",
       "<style scoped>\n",
       "    .dataframe tbody tr th:only-of-type {\n",
       "        vertical-align: middle;\n",
       "    }\n",
       "\n",
       "    .dataframe tbody tr th {\n",
       "        vertical-align: top;\n",
       "    }\n",
       "\n",
       "    .dataframe thead th {\n",
       "        text-align: right;\n",
       "    }\n",
       "</style>\n",
       "<table border=\"1\" class=\"dataframe\">\n",
       "  <thead>\n",
       "    <tr style=\"text-align: right;\">\n",
       "      <th></th>\n",
       "      <th>permalink</th>\n",
       "      <th>name</th>\n",
       "      <th>homepage_url</th>\n",
       "      <th>category_list</th>\n",
       "      <th>market</th>\n",
       "      <th>funding_total_usd</th>\n",
       "      <th>status</th>\n",
       "      <th>country_code</th>\n",
       "      <th>state_code</th>\n",
       "      <th>region</th>\n",
       "      <th>...</th>\n",
       "      <th>secondary_market</th>\n",
       "      <th>product_crowdfunding</th>\n",
       "      <th>round_A</th>\n",
       "      <th>round_B</th>\n",
       "      <th>round_C</th>\n",
       "      <th>round_D</th>\n",
       "      <th>round_E</th>\n",
       "      <th>round_F</th>\n",
       "      <th>round_G</th>\n",
       "      <th>round_H</th>\n",
       "    </tr>\n",
       "  </thead>\n",
       "  <tbody>\n",
       "    <tr>\n",
       "      <th>1</th>\n",
       "      <td>/organization/tv-communications</td>\n",
       "      <td>&amp;TV Communications</td>\n",
       "      <td>http://enjoyandtv.com</td>\n",
       "      <td>|Games|</td>\n",
       "      <td>Games</td>\n",
       "      <td>40,00,000</td>\n",
       "      <td>operating</td>\n",
       "      <td>USA</td>\n",
       "      <td>CA</td>\n",
       "      <td>Los Angeles</td>\n",
       "      <td>...</td>\n",
       "      <td>0.0</td>\n",
       "      <td>0.0</td>\n",
       "      <td>0.0</td>\n",
       "      <td>0.0</td>\n",
       "      <td>0.0</td>\n",
       "      <td>0.0</td>\n",
       "      <td>0.0</td>\n",
       "      <td>0.0</td>\n",
       "      <td>0.0</td>\n",
       "      <td>0.0</td>\n",
       "    </tr>\n",
       "    <tr>\n",
       "      <th>12</th>\n",
       "      <td>/organization/1-800-dentist</td>\n",
       "      <td>1-800-DENTIST</td>\n",
       "      <td>http://www.1800dentist.com</td>\n",
       "      <td>|Health and Wellness|</td>\n",
       "      <td>Health and Wellness</td>\n",
       "      <td>-</td>\n",
       "      <td>operating</td>\n",
       "      <td>USA</td>\n",
       "      <td>CA</td>\n",
       "      <td>Los Angeles</td>\n",
       "      <td>...</td>\n",
       "      <td>0.0</td>\n",
       "      <td>0.0</td>\n",
       "      <td>0.0</td>\n",
       "      <td>0.0</td>\n",
       "      <td>0.0</td>\n",
       "      <td>0.0</td>\n",
       "      <td>0.0</td>\n",
       "      <td>0.0</td>\n",
       "      <td>0.0</td>\n",
       "      <td>0.0</td>\n",
       "    </tr>\n",
       "    <tr>\n",
       "      <th>50</th>\n",
       "      <td>/organization/12society</td>\n",
       "      <td>12Society</td>\n",
       "      <td>http://www.12Society.com</td>\n",
       "      <td>|E-Commerce|</td>\n",
       "      <td>E-Commerce</td>\n",
       "      <td>-</td>\n",
       "      <td>acquired</td>\n",
       "      <td>USA</td>\n",
       "      <td>CA</td>\n",
       "      <td>Los Angeles</td>\n",
       "      <td>...</td>\n",
       "      <td>0.0</td>\n",
       "      <td>0.0</td>\n",
       "      <td>0.0</td>\n",
       "      <td>0.0</td>\n",
       "      <td>0.0</td>\n",
       "      <td>0.0</td>\n",
       "      <td>0.0</td>\n",
       "      <td>0.0</td>\n",
       "      <td>0.0</td>\n",
       "      <td>0.0</td>\n",
       "    </tr>\n",
       "    <tr>\n",
       "      <th>55</th>\n",
       "      <td>/organization/140fire</td>\n",
       "      <td>140Fire</td>\n",
       "      <td>http://140fire.com</td>\n",
       "      <td>|Entertainment|Sports|Real Time|Social Media|V...</td>\n",
       "      <td>Entertainment</td>\n",
       "      <td>5,00,000</td>\n",
       "      <td>operating</td>\n",
       "      <td>USA</td>\n",
       "      <td>CA</td>\n",
       "      <td>Los Angeles</td>\n",
       "      <td>...</td>\n",
       "      <td>0.0</td>\n",
       "      <td>0.0</td>\n",
       "      <td>0.0</td>\n",
       "      <td>0.0</td>\n",
       "      <td>0.0</td>\n",
       "      <td>0.0</td>\n",
       "      <td>0.0</td>\n",
       "      <td>0.0</td>\n",
       "      <td>0.0</td>\n",
       "      <td>0.0</td>\n",
       "    </tr>\n",
       "    <tr>\n",
       "      <th>85</th>\n",
       "      <td>/organization/1rp-media</td>\n",
       "      <td>1RP Media</td>\n",
       "      <td>NaN</td>\n",
       "      <td>NaN</td>\n",
       "      <td>NaN</td>\n",
       "      <td>-</td>\n",
       "      <td>operating</td>\n",
       "      <td>USA</td>\n",
       "      <td>CA</td>\n",
       "      <td>Los Angeles</td>\n",
       "      <td>...</td>\n",
       "      <td>0.0</td>\n",
       "      <td>0.0</td>\n",
       "      <td>0.0</td>\n",
       "      <td>0.0</td>\n",
       "      <td>0.0</td>\n",
       "      <td>0.0</td>\n",
       "      <td>0.0</td>\n",
       "      <td>0.0</td>\n",
       "      <td>0.0</td>\n",
       "      <td>0.0</td>\n",
       "    </tr>\n",
       "    <tr>\n",
       "      <th>...</th>\n",
       "      <td>...</td>\n",
       "      <td>...</td>\n",
       "      <td>...</td>\n",
       "      <td>...</td>\n",
       "      <td>...</td>\n",
       "      <td>...</td>\n",
       "      <td>...</td>\n",
       "      <td>...</td>\n",
       "      <td>...</td>\n",
       "      <td>...</td>\n",
       "      <td>...</td>\n",
       "      <td>...</td>\n",
       "      <td>...</td>\n",
       "      <td>...</td>\n",
       "      <td>...</td>\n",
       "      <td>...</td>\n",
       "      <td>...</td>\n",
       "      <td>...</td>\n",
       "      <td>...</td>\n",
       "      <td>...</td>\n",
       "      <td>...</td>\n",
       "    </tr>\n",
       "    <tr>\n",
       "      <th>49271</th>\n",
       "      <td>/organization/zomazz</td>\n",
       "      <td>Zomazz</td>\n",
       "      <td>http://www.zomazz.com</td>\n",
       "      <td>|Curated Web|</td>\n",
       "      <td>Curated Web</td>\n",
       "      <td>20,40,342</td>\n",
       "      <td>operating</td>\n",
       "      <td>USA</td>\n",
       "      <td>CA</td>\n",
       "      <td>Los Angeles</td>\n",
       "      <td>...</td>\n",
       "      <td>0.0</td>\n",
       "      <td>0.0</td>\n",
       "      <td>0.0</td>\n",
       "      <td>0.0</td>\n",
       "      <td>0.0</td>\n",
       "      <td>0.0</td>\n",
       "      <td>0.0</td>\n",
       "      <td>0.0</td>\n",
       "      <td>0.0</td>\n",
       "      <td>0.0</td>\n",
       "    </tr>\n",
       "    <tr>\n",
       "      <th>49315</th>\n",
       "      <td>/organization/zoondy</td>\n",
       "      <td>Zoondy</td>\n",
       "      <td>http://zoondy.com</td>\n",
       "      <td>|Curated Web|</td>\n",
       "      <td>Curated Web</td>\n",
       "      <td>75,000</td>\n",
       "      <td>operating</td>\n",
       "      <td>USA</td>\n",
       "      <td>CA</td>\n",
       "      <td>Los Angeles</td>\n",
       "      <td>...</td>\n",
       "      <td>0.0</td>\n",
       "      <td>0.0</td>\n",
       "      <td>0.0</td>\n",
       "      <td>0.0</td>\n",
       "      <td>0.0</td>\n",
       "      <td>0.0</td>\n",
       "      <td>0.0</td>\n",
       "      <td>0.0</td>\n",
       "      <td>0.0</td>\n",
       "      <td>0.0</td>\n",
       "    </tr>\n",
       "    <tr>\n",
       "      <th>49343</th>\n",
       "      <td>/organization/zqgame</td>\n",
       "      <td>ZQGame</td>\n",
       "      <td>http://zqgame.com</td>\n",
       "      <td>|Games|</td>\n",
       "      <td>Games</td>\n",
       "      <td>42,20,018</td>\n",
       "      <td>operating</td>\n",
       "      <td>USA</td>\n",
       "      <td>CA</td>\n",
       "      <td>Los Angeles</td>\n",
       "      <td>...</td>\n",
       "      <td>0.0</td>\n",
       "      <td>0.0</td>\n",
       "      <td>4220018.0</td>\n",
       "      <td>0.0</td>\n",
       "      <td>0.0</td>\n",
       "      <td>0.0</td>\n",
       "      <td>0.0</td>\n",
       "      <td>0.0</td>\n",
       "      <td>0.0</td>\n",
       "      <td>0.0</td>\n",
       "    </tr>\n",
       "    <tr>\n",
       "      <th>49367</th>\n",
       "      <td>/organization/zuma-ventures</td>\n",
       "      <td>Zuma Ventures</td>\n",
       "      <td>http://www.zuma.ventures</td>\n",
       "      <td>|Product Development Services|Marketplaces|Tec...</td>\n",
       "      <td>Technology</td>\n",
       "      <td>1,00,000</td>\n",
       "      <td>operating</td>\n",
       "      <td>USA</td>\n",
       "      <td>CA</td>\n",
       "      <td>Los Angeles</td>\n",
       "      <td>...</td>\n",
       "      <td>0.0</td>\n",
       "      <td>0.0</td>\n",
       "      <td>0.0</td>\n",
       "      <td>0.0</td>\n",
       "      <td>0.0</td>\n",
       "      <td>0.0</td>\n",
       "      <td>0.0</td>\n",
       "      <td>0.0</td>\n",
       "      <td>0.0</td>\n",
       "      <td>0.0</td>\n",
       "    </tr>\n",
       "    <tr>\n",
       "      <th>49371</th>\n",
       "      <td>/organization/zumbox</td>\n",
       "      <td>Zumbox</td>\n",
       "      <td>http://blogs.wsj.com/venturecapital/2014/04/10...</td>\n",
       "      <td>|Curated Web|</td>\n",
       "      <td>Curated Web</td>\n",
       "      <td>2,83,00,000</td>\n",
       "      <td>operating</td>\n",
       "      <td>USA</td>\n",
       "      <td>CA</td>\n",
       "      <td>Los Angeles</td>\n",
       "      <td>...</td>\n",
       "      <td>0.0</td>\n",
       "      <td>0.0</td>\n",
       "      <td>0.0</td>\n",
       "      <td>0.0</td>\n",
       "      <td>10600000.0</td>\n",
       "      <td>0.0</td>\n",
       "      <td>0.0</td>\n",
       "      <td>0.0</td>\n",
       "      <td>0.0</td>\n",
       "      <td>0.0</td>\n",
       "    </tr>\n",
       "  </tbody>\n",
       "</table>\n",
       "<p>1389 rows × 39 columns</p>\n",
       "</div>"
      ],
      "text/plain": [
       "                             permalink                name  \\\n",
       "1      /organization/tv-communications  &TV Communications   \n",
       "12         /organization/1-800-dentist       1-800-DENTIST   \n",
       "50             /organization/12society           12Society   \n",
       "55               /organization/140fire             140Fire   \n",
       "85             /organization/1rp-media           1RP Media   \n",
       "...                                ...                 ...   \n",
       "49271             /organization/zomazz              Zomazz   \n",
       "49315             /organization/zoondy              Zoondy   \n",
       "49343             /organization/zqgame              ZQGame   \n",
       "49367      /organization/zuma-ventures       Zuma Ventures   \n",
       "49371             /organization/zumbox              Zumbox   \n",
       "\n",
       "                                            homepage_url  \\\n",
       "1                                  http://enjoyandtv.com   \n",
       "12                            http://www.1800dentist.com   \n",
       "50                              http://www.12Society.com   \n",
       "55                                    http://140fire.com   \n",
       "85                                                   NaN   \n",
       "...                                                  ...   \n",
       "49271                              http://www.zomazz.com   \n",
       "49315                                  http://zoondy.com   \n",
       "49343                                  http://zqgame.com   \n",
       "49367                           http://www.zuma.ventures   \n",
       "49371  http://blogs.wsj.com/venturecapital/2014/04/10...   \n",
       "\n",
       "                                           category_list  \\\n",
       "1                                                |Games|   \n",
       "12                                 |Health and Wellness|   \n",
       "50                                          |E-Commerce|   \n",
       "55     |Entertainment|Sports|Real Time|Social Media|V...   \n",
       "85                                                   NaN   \n",
       "...                                                  ...   \n",
       "49271                                      |Curated Web|   \n",
       "49315                                      |Curated Web|   \n",
       "49343                                            |Games|   \n",
       "49367  |Product Development Services|Marketplaces|Tec...   \n",
       "49371                                      |Curated Web|   \n",
       "\n",
       "                     market   funding_total_usd      status country_code  \\\n",
       "1                     Games           40,00,000   operating          USA   \n",
       "12      Health and Wellness                 -     operating          USA   \n",
       "50               E-Commerce                 -      acquired          USA   \n",
       "55            Entertainment            5,00,000   operating          USA   \n",
       "85                       NaN                -     operating          USA   \n",
       "...                      ...                 ...        ...          ...   \n",
       "49271           Curated Web           20,40,342   operating          USA   \n",
       "49315           Curated Web              75,000   operating          USA   \n",
       "49343                 Games           42,20,018   operating          USA   \n",
       "49367            Technology            1,00,000   operating          USA   \n",
       "49371           Curated Web         2,83,00,000   operating          USA   \n",
       "\n",
       "      state_code       region  ... secondary_market  product_crowdfunding  \\\n",
       "1             CA  Los Angeles  ...              0.0                   0.0   \n",
       "12            CA  Los Angeles  ...              0.0                   0.0   \n",
       "50            CA  Los Angeles  ...              0.0                   0.0   \n",
       "55            CA  Los Angeles  ...              0.0                   0.0   \n",
       "85            CA  Los Angeles  ...              0.0                   0.0   \n",
       "...          ...          ...  ...              ...                   ...   \n",
       "49271         CA  Los Angeles  ...              0.0                   0.0   \n",
       "49315         CA  Los Angeles  ...              0.0                   0.0   \n",
       "49343         CA  Los Angeles  ...              0.0                   0.0   \n",
       "49367         CA  Los Angeles  ...              0.0                   0.0   \n",
       "49371         CA  Los Angeles  ...              0.0                   0.0   \n",
       "\n",
       "         round_A round_B     round_C  round_D round_E round_F  round_G  \\\n",
       "1            0.0     0.0         0.0      0.0     0.0     0.0      0.0   \n",
       "12           0.0     0.0         0.0      0.0     0.0     0.0      0.0   \n",
       "50           0.0     0.0         0.0      0.0     0.0     0.0      0.0   \n",
       "55           0.0     0.0         0.0      0.0     0.0     0.0      0.0   \n",
       "85           0.0     0.0         0.0      0.0     0.0     0.0      0.0   \n",
       "...          ...     ...         ...      ...     ...     ...      ...   \n",
       "49271        0.0     0.0         0.0      0.0     0.0     0.0      0.0   \n",
       "49315        0.0     0.0         0.0      0.0     0.0     0.0      0.0   \n",
       "49343  4220018.0     0.0         0.0      0.0     0.0     0.0      0.0   \n",
       "49367        0.0     0.0         0.0      0.0     0.0     0.0      0.0   \n",
       "49371        0.0     0.0  10600000.0      0.0     0.0     0.0      0.0   \n",
       "\n",
       "       round_H  \n",
       "1          0.0  \n",
       "12         0.0  \n",
       "50         0.0  \n",
       "55         0.0  \n",
       "85         0.0  \n",
       "...        ...  \n",
       "49271      0.0  \n",
       "49315      0.0  \n",
       "49343      0.0  \n",
       "49367      0.0  \n",
       "49371      0.0  \n",
       "\n",
       "[1389 rows x 39 columns]"
      ]
     },
     "execution_count": 189,
     "metadata": {},
     "output_type": "execute_result"
    }
   ],
   "source": [
    "startUpData[startUpData['region'] == 'Los Angeles']"
   ]
  },
  {
   "cell_type": "markdown",
   "id": "9d176008-f8a5-49d3-ae1e-b1af02449b72",
   "metadata": {},
   "source": [
    "It is crucial to understand what this line of code is doing. To do so, let's go back to the indexing example and run the code that goes inside of the first bracket "
   ]
  },
  {
   "cell_type": "code",
   "execution_count": 194,
   "id": "09e5e53a-69e5-4fdf-838e-cb7376bb4998",
   "metadata": {},
   "outputs": [
    {
     "data": {
      "text/plain": [
       "0        False\n",
       "1         True\n",
       "2        False\n",
       "3        False\n",
       "4        False\n",
       "         ...  \n",
       "54289    False\n",
       "54290    False\n",
       "54291    False\n",
       "54292    False\n",
       "54293    False\n",
       "Name: region, Length: 54294, dtype: bool"
      ]
     },
     "execution_count": 194,
     "metadata": {},
     "output_type": "execute_result"
    }
   ],
   "source": [
    "exampleSeries = startUpData['region'] == 'Los Angeles'\n",
    "exampleSeries"
   ]
  },
  {
   "cell_type": "code",
   "execution_count": 196,
   "id": "c94c520d-9815-4060-af48-9f982439272b",
   "metadata": {},
   "outputs": [
    {
     "data": {
      "text/plain": [
       "(54294,)"
      ]
     },
     "execution_count": 196,
     "metadata": {},
     "output_type": "execute_result"
    }
   ],
   "source": [
    "exampleSeries.shape"
   ]
  },
  {
   "cell_type": "markdown",
   "id": "af936d32-a1df-4f85-8fb9-19051381da38",
   "metadata": {},
   "source": [
    "What is this number? \n",
    "Why is it special?\n",
    "Where did it come from? "
   ]
  },
  {
   "cell_type": "code",
   "execution_count": 203,
   "id": "e0921c1c-181c-48df-9d5d-f41215ac0dff",
   "metadata": {},
   "outputs": [
    {
     "name": "stdout",
     "output_type": "stream",
     "text": [
      "(54294,)\n",
      "These two matching numbers mean that we can perform a mathematical operation\n",
      "(54294, 39)\n"
     ]
    }
   ],
   "source": [
    "print(exampleSeries.shape)\n",
    "print('These two matching numbers mean that we can perform a mathematical operation') #interactivity? \n",
    "print(startUpData.shape)"
   ]
  },
  {
   "cell_type": "code",
   "execution_count": null,
   "id": "d2fbdd2a-f771-460d-84dc-88ce5bad140d",
   "metadata": {},
   "outputs": [],
   "source": []
  },
  {
   "cell_type": "code",
   "execution_count": 201,
   "id": "09c43034-f365-4bd2-bc4f-840356cc4aa2",
   "metadata": {},
   "outputs": [
    {
     "data": {
      "text/html": [
       "<div>\n",
       "<style scoped>\n",
       "    .dataframe tbody tr th:only-of-type {\n",
       "        vertical-align: middle;\n",
       "    }\n",
       "\n",
       "    .dataframe tbody tr th {\n",
       "        vertical-align: top;\n",
       "    }\n",
       "\n",
       "    .dataframe thead th {\n",
       "        text-align: right;\n",
       "    }\n",
       "</style>\n",
       "<table border=\"1\" class=\"dataframe\">\n",
       "  <thead>\n",
       "    <tr style=\"text-align: right;\">\n",
       "      <th></th>\n",
       "      <th>permalink</th>\n",
       "      <th>name</th>\n",
       "      <th>homepage_url</th>\n",
       "      <th>category_list</th>\n",
       "      <th>market</th>\n",
       "      <th>funding_total_usd</th>\n",
       "      <th>status</th>\n",
       "      <th>country_code</th>\n",
       "      <th>state_code</th>\n",
       "      <th>region</th>\n",
       "      <th>...</th>\n",
       "      <th>secondary_market</th>\n",
       "      <th>product_crowdfunding</th>\n",
       "      <th>round_A</th>\n",
       "      <th>round_B</th>\n",
       "      <th>round_C</th>\n",
       "      <th>round_D</th>\n",
       "      <th>round_E</th>\n",
       "      <th>round_F</th>\n",
       "      <th>round_G</th>\n",
       "      <th>round_H</th>\n",
       "    </tr>\n",
       "  </thead>\n",
       "  <tbody>\n",
       "    <tr>\n",
       "      <th>1</th>\n",
       "      <td>/organization/tv-communications</td>\n",
       "      <td>&amp;TV Communications</td>\n",
       "      <td>http://enjoyandtv.com</td>\n",
       "      <td>|Games|</td>\n",
       "      <td>Games</td>\n",
       "      <td>40,00,000</td>\n",
       "      <td>operating</td>\n",
       "      <td>USA</td>\n",
       "      <td>CA</td>\n",
       "      <td>Los Angeles</td>\n",
       "      <td>...</td>\n",
       "      <td>0.0</td>\n",
       "      <td>0.0</td>\n",
       "      <td>0.0</td>\n",
       "      <td>0.0</td>\n",
       "      <td>0.0</td>\n",
       "      <td>0.0</td>\n",
       "      <td>0.0</td>\n",
       "      <td>0.0</td>\n",
       "      <td>0.0</td>\n",
       "      <td>0.0</td>\n",
       "    </tr>\n",
       "    <tr>\n",
       "      <th>12</th>\n",
       "      <td>/organization/1-800-dentist</td>\n",
       "      <td>1-800-DENTIST</td>\n",
       "      <td>http://www.1800dentist.com</td>\n",
       "      <td>|Health and Wellness|</td>\n",
       "      <td>Health and Wellness</td>\n",
       "      <td>-</td>\n",
       "      <td>operating</td>\n",
       "      <td>USA</td>\n",
       "      <td>CA</td>\n",
       "      <td>Los Angeles</td>\n",
       "      <td>...</td>\n",
       "      <td>0.0</td>\n",
       "      <td>0.0</td>\n",
       "      <td>0.0</td>\n",
       "      <td>0.0</td>\n",
       "      <td>0.0</td>\n",
       "      <td>0.0</td>\n",
       "      <td>0.0</td>\n",
       "      <td>0.0</td>\n",
       "      <td>0.0</td>\n",
       "      <td>0.0</td>\n",
       "    </tr>\n",
       "    <tr>\n",
       "      <th>50</th>\n",
       "      <td>/organization/12society</td>\n",
       "      <td>12Society</td>\n",
       "      <td>http://www.12Society.com</td>\n",
       "      <td>|E-Commerce|</td>\n",
       "      <td>E-Commerce</td>\n",
       "      <td>-</td>\n",
       "      <td>acquired</td>\n",
       "      <td>USA</td>\n",
       "      <td>CA</td>\n",
       "      <td>Los Angeles</td>\n",
       "      <td>...</td>\n",
       "      <td>0.0</td>\n",
       "      <td>0.0</td>\n",
       "      <td>0.0</td>\n",
       "      <td>0.0</td>\n",
       "      <td>0.0</td>\n",
       "      <td>0.0</td>\n",
       "      <td>0.0</td>\n",
       "      <td>0.0</td>\n",
       "      <td>0.0</td>\n",
       "      <td>0.0</td>\n",
       "    </tr>\n",
       "    <tr>\n",
       "      <th>55</th>\n",
       "      <td>/organization/140fire</td>\n",
       "      <td>140Fire</td>\n",
       "      <td>http://140fire.com</td>\n",
       "      <td>|Entertainment|Sports|Real Time|Social Media|V...</td>\n",
       "      <td>Entertainment</td>\n",
       "      <td>5,00,000</td>\n",
       "      <td>operating</td>\n",
       "      <td>USA</td>\n",
       "      <td>CA</td>\n",
       "      <td>Los Angeles</td>\n",
       "      <td>...</td>\n",
       "      <td>0.0</td>\n",
       "      <td>0.0</td>\n",
       "      <td>0.0</td>\n",
       "      <td>0.0</td>\n",
       "      <td>0.0</td>\n",
       "      <td>0.0</td>\n",
       "      <td>0.0</td>\n",
       "      <td>0.0</td>\n",
       "      <td>0.0</td>\n",
       "      <td>0.0</td>\n",
       "    </tr>\n",
       "    <tr>\n",
       "      <th>85</th>\n",
       "      <td>/organization/1rp-media</td>\n",
       "      <td>1RP Media</td>\n",
       "      <td>NaN</td>\n",
       "      <td>NaN</td>\n",
       "      <td>NaN</td>\n",
       "      <td>-</td>\n",
       "      <td>operating</td>\n",
       "      <td>USA</td>\n",
       "      <td>CA</td>\n",
       "      <td>Los Angeles</td>\n",
       "      <td>...</td>\n",
       "      <td>0.0</td>\n",
       "      <td>0.0</td>\n",
       "      <td>0.0</td>\n",
       "      <td>0.0</td>\n",
       "      <td>0.0</td>\n",
       "      <td>0.0</td>\n",
       "      <td>0.0</td>\n",
       "      <td>0.0</td>\n",
       "      <td>0.0</td>\n",
       "      <td>0.0</td>\n",
       "    </tr>\n",
       "  </tbody>\n",
       "</table>\n",
       "<p>5 rows × 39 columns</p>\n",
       "</div>"
      ],
      "text/plain": [
       "                          permalink                name  \\\n",
       "1   /organization/tv-communications  &TV Communications   \n",
       "12      /organization/1-800-dentist       1-800-DENTIST   \n",
       "50          /organization/12society           12Society   \n",
       "55            /organization/140fire             140Fire   \n",
       "85          /organization/1rp-media           1RP Media   \n",
       "\n",
       "                  homepage_url  \\\n",
       "1        http://enjoyandtv.com   \n",
       "12  http://www.1800dentist.com   \n",
       "50    http://www.12Society.com   \n",
       "55          http://140fire.com   \n",
       "85                         NaN   \n",
       "\n",
       "                                        category_list                market   \\\n",
       "1                                             |Games|                 Games    \n",
       "12                              |Health and Wellness|   Health and Wellness    \n",
       "50                                       |E-Commerce|            E-Commerce    \n",
       "55  |Entertainment|Sports|Real Time|Social Media|V...         Entertainment    \n",
       "85                                                NaN                    NaN   \n",
       "\n",
       "    funding_total_usd      status country_code state_code       region  ...  \\\n",
       "1           40,00,000   operating          USA         CA  Los Angeles  ...   \n",
       "12                -     operating          USA         CA  Los Angeles  ...   \n",
       "50                -      acquired          USA         CA  Los Angeles  ...   \n",
       "55           5,00,000   operating          USA         CA  Los Angeles  ...   \n",
       "85                -     operating          USA         CA  Los Angeles  ...   \n",
       "\n",
       "   secondary_market  product_crowdfunding round_A round_B round_C  round_D  \\\n",
       "1               0.0                   0.0     0.0     0.0     0.0      0.0   \n",
       "12              0.0                   0.0     0.0     0.0     0.0      0.0   \n",
       "50              0.0                   0.0     0.0     0.0     0.0      0.0   \n",
       "55              0.0                   0.0     0.0     0.0     0.0      0.0   \n",
       "85              0.0                   0.0     0.0     0.0     0.0      0.0   \n",
       "\n",
       "   round_E round_F  round_G  round_H  \n",
       "1      0.0     0.0      0.0      0.0  \n",
       "12     0.0     0.0      0.0      0.0  \n",
       "50     0.0     0.0      0.0      0.0  \n",
       "55     0.0     0.0      0.0      0.0  \n",
       "85     0.0     0.0      0.0      0.0  \n",
       "\n",
       "[5 rows x 39 columns]"
      ]
     },
     "execution_count": 201,
     "metadata": {},
     "output_type": "execute_result"
    }
   ],
   "source": [
    "startUpData[exampleSeries].head()"
   ]
  },
  {
   "cell_type": "code",
   "execution_count": null,
   "id": "b269f7fd-0fc4-405b-b29d-9e723562bafc",
   "metadata": {},
   "outputs": [],
   "source": []
  },
  {
   "cell_type": "markdown",
   "id": "90fd1b35-4d53-4470-a463-5f2da5b48631",
   "metadata": {},
   "source": [
    "## Section 1: Part 2 (Indexing in Computer Vision)\n",
    "<hr style=\"border:2px solid gray\"> </hr>"
   ]
  },
  {
   "cell_type": "markdown",
   "id": "ea18931b-e5ff-42f7-ac58-c904fc9f6a95",
   "metadata": {},
   "source": [
    "### Introduction section \n",
    "<hr style=\"border:1px solid gray\"> </hr>\n",
    "\n",
    "\n",
    "Let's do some exercises to show how we can crop an image. \n"
   ]
  },
  {
   "cell_type": "markdown",
   "id": "48fd884d-3a82-4a9a-b8ed-b908b0d59f18",
   "metadata": {},
   "source": [
    "### CV Indexing: example 1 (Resizing and Cropping an Image)\n",
    "<hr style=\"border:1px solid gray\"> </hr>"
   ]
  },
  {
   "cell_type": "markdown",
   "id": "b59d5e9a-3b61-48d2-b3d2-15f1969a524f",
   "metadata": {},
   "source": [
    ". “Too often in the past, we have thought of the artist as an idler and dilettante and of the lover of arts as somehow sissy and effete. We have done both an injustice. The life of the artist is, in relation to his work, stern and lonely. He has labored hard, often amid deprivation, to perfect his skill. He has turned aside from quick success in order to strip his vision of everything secondary or cheapening. His working life is marked by intense application and intense discipline.”"
   ]
  },
  {
   "cell_type": "code",
   "execution_count": 1,
   "id": "0acb89cf-dc7a-4bac-9687-a40091455f1a",
   "metadata": {},
   "outputs": [
    {
     "name": "stdout",
     "output_type": "stream",
     "text": [
      "highway.jpg  Rubiks_cube.jpg  spreadsheet.png  unpackAI.png\n"
     ]
    }
   ],
   "source": [
    "# Option to upload\n",
    "#colab.upload()\n",
    "from pathlib import Path\n",
    "IMAGE_DIR = Path('../../img')\n",
    "\n",
    "sampleImagePath = IMAGE_DIR / 'highway.jpg'\n",
    "!ls ../../img\n"
   ]
  },
  {
   "cell_type": "code",
   "execution_count": 2,
   "id": "79b83505-535a-4ecd-86b8-5a23afdc5e16",
   "metadata": {},
   "outputs": [],
   "source": [
    "import cv2"
   ]
  },
  {
   "cell_type": "code",
   "execution_count": 3,
   "id": "3e48acaa-a2c1-4794-b92e-1c13b52126ae",
   "metadata": {},
   "outputs": [],
   "source": [
    "img = cv2.imread(str(sampleImagePath))"
   ]
  },
  {
   "cell_type": "code",
   "execution_count": 4,
   "id": "4713fb62-7c82-48a1-84de-a11d1b56c45d",
   "metadata": {},
   "outputs": [
    {
     "data": {
      "text/plain": [
       "numpy.ndarray"
      ]
     },
     "execution_count": 4,
     "metadata": {},
     "output_type": "execute_result"
    }
   ],
   "source": [
    "type(img)"
   ]
  },
  {
   "cell_type": "code",
   "execution_count": 5,
   "id": "75298cec-8c5d-4744-8af7-d22b011cc008",
   "metadata": {},
   "outputs": [
    {
     "data": {
      "text/plain": [
       "(640, 960, 3)"
      ]
     },
     "execution_count": 5,
     "metadata": {},
     "output_type": "execute_result"
    }
   ],
   "source": [
    "img.shape"
   ]
  },
  {
   "cell_type": "code",
   "execution_count": null,
   "id": "e486807c-3ab6-4e33-bf26-e3e8e97ec604",
   "metadata": {},
   "outputs": [],
   "source": [
    "cv2.imshow('Highway',img)\n",
    "cv2.waitKey(0)\n",
    "#If you have a problem, you can use this"
   ]
  },
  {
   "cell_type": "code",
   "execution_count": null,
   "id": "3f6b9a9a-b070-4cd9-a45b-9ff0db1bf033",
   "metadata": {},
   "outputs": [],
   "source": [
    "cv2.destroyAllWindows() #close the image window"
   ]
  },
  {
   "cell_type": "markdown",
   "id": "fa26e28d-0054-4933-b5ec-ec3bbedf9c3b",
   "metadata": {},
   "source": [
    "#### Resizing images\n",
    "\n"
   ]
  },
  {
   "cell_type": "code",
   "execution_count": 4,
   "id": "44687609-328f-4e5b-a02c-66c1829f883c",
   "metadata": {},
   "outputs": [
    {
     "name": "stdout",
     "output_type": "stream",
     "text": [
      "(320, 480, 3)\n"
     ]
    }
   ],
   "source": [
    "img = cv2.resize(img,(0,0),fx=0.5,fy=0.5) # resizes the image by percentage\n",
    "print(img.shape)"
   ]
  },
  {
   "cell_type": "code",
   "execution_count": null,
   "id": "02ebda3a-b9df-4c0e-b897-3fc02361a9c9",
   "metadata": {},
   "outputs": [],
   "source": [
    "cv2.imshow('Highway',img)\n",
    "cv2.waitKey(0)"
   ]
  },
  {
   "cell_type": "markdown",
   "id": "6a02ec22-cabb-41fd-92a2-29a5738a2bd1",
   "metadata": {},
   "source": [
    "### CV Indexing Example 2: Labeling Images with openCV\n",
    "<hr style=\"border:1px solid gray\"> </hr>"
   ]
  },
  {
   "cell_type": "markdown",
   "id": "11c74bc6-4baa-4b6f-a7d7-db73e79d48f3",
   "metadata": {},
   "source": [
    " “Peace is a daily, a weekly, a monthly process, gradually changing opinions, slowly eroding old barriers, quietly building new structures. And however undramatic the pursuit of peace, that pursuit must go on.”"
   ]
  },
  {
   "cell_type": "markdown",
   "id": "36d8482c-ec1c-45b1-86bd-372c84f481a2",
   "metadata": {},
   "source": [
    "#### Creating a boxed label"
   ]
  },
  {
   "cell_type": "markdown",
   "id": "e77f0676-aa52-4191-8474-b38ee7323550",
   "metadata": {},
   "source": [
    "In this section, we're going to add a rectangle to our images that outline where someting is located in the image.\n",
    "\n",
    "Most often this is done by the AI model, but let's take a look at how it can be done under the hood"
   ]
  },
  {
   "cell_type": "code",
   "execution_count": 5,
   "id": "ca5ca298-9386-4fe4-b6a5-a4a7caa18d16",
   "metadata": {},
   "outputs": [],
   "source": [
    "x1 = 250\n",
    "y1 = 150\n",
    "corner1 = (x1,y1)\n",
    "\n",
    "\n",
    "x2 = 320\n",
    "y2 = 220\n",
    "corner2 = (x2,y2)\n",
    "\n",
    "\n",
    "color = (255,0,0) #red  #RGB Red Green Blue  \n",
    "frameWidth = 3 #pixels\n",
    "\n",
    "labeled_img = cv2.rectangle(img,corner1,corner2,color,frameWidth)"
   ]
  },
  {
   "cell_type": "code",
   "execution_count": null,
   "id": "38f326ac-5239-43e8-a464-e1797c5fa893",
   "metadata": {},
   "outputs": [],
   "source": [
    "cv2.imshow('Highway',img)\n",
    "cv2.waitKey(0)"
   ]
  },
  {
   "cell_type": "code",
   "execution_count": null,
   "id": "25b4609b-5989-45b7-8a4c-88537247b28f",
   "metadata": {},
   "outputs": [],
   "source": []
  },
  {
   "cell_type": "markdown",
   "id": "4ca3b25f-8d5e-48a2-a753-b2905b7aa443",
   "metadata": {},
   "source": [
    "## Section 1 Part 3: Indexing applied to NLP \n",
    "<hr style=\"border:2px solid gray\"> </hr>\n",
    "\n"
   ]
  },
  {
   "cell_type": "markdown",
   "id": "58c4e9e0-4c46-4242-ba60-df233748d895",
   "metadata": {},
   "source": [
    "\n",
    "“Everybody can be great...because anybody can serve. You don't have to have a college degree to serve. You don't have to make your subject and verb agree to serve. You only need a heart full of grace. A soul generated by love.” "
   ]
  },
  {
   "cell_type": "code",
   "execution_count": null,
   "id": "9ab9f748-cba1-4df2-8378-5b52f4688b99",
   "metadata": {},
   "outputs": [],
   "source": []
  },
  {
   "cell_type": "markdown",
   "id": "d1e7789e-fc7b-4aa8-8d8a-e40b682a5f96",
   "metadata": {},
   "source": [
    "### NLP Indexing Example 1: Indexing words in a dataframe e.g. longest word\n",
    "<hr style=\"border:1px solid gray\"> </hr>"
   ]
  },
  {
   "cell_type": "markdown",
   "id": "1f9a464f-06d8-4a8e-b98d-e946ce68a02e",
   "metadata": {},
   "source": []
  },
  {
   "cell_type": "code",
   "execution_count": null,
   "id": "0becb745-b42c-4956-a72f-99e81d0a2c10",
   "metadata": {},
   "outputs": [],
   "source": []
  },
  {
   "cell_type": "code",
   "execution_count": null,
   "id": "781462cb-347a-4539-bc18-3da6fd7082f7",
   "metadata": {},
   "outputs": [],
   "source": []
  },
  {
   "cell_type": "markdown",
   "id": "bb00c451-1544-4abf-b463-9bb5fe6b01f3",
   "metadata": {},
   "source": [
    "### Example 2: Indexing parts of speech\n",
    "<hr style=\"border:1px solid gray\"> </hr>"
   ]
  },
  {
   "cell_type": "code",
   "execution_count": null,
   "id": "79b4f9c0-7a94-46f1-8eb7-9b34cd1777c1",
   "metadata": {},
   "outputs": [],
   "source": []
  },
  {
   "cell_type": "code",
   "execution_count": null,
   "id": "7f9b924f-a694-49e6-8ebd-cb74be018da7",
   "metadata": {},
   "outputs": [],
   "source": []
  },
  {
   "cell_type": "markdown",
   "id": "0f24e5c3-ec00-47a5-a18f-07c9469aac5b",
   "metadata": {},
   "source": [
    "# Section 3: Broadcasting\n",
    "<hr style=\"border:4px solid gray\"> </hr>"
   ]
  },
  {
   "cell_type": "markdown",
   "id": "4a141c6c-e86e-4c21-b823-f9c35a9b239b",
   "metadata": {},
   "source": [
    "## Introduction to broadcasting\n",
    "<hr style=\"border:2px solid gray\"> </hr>\n",
    "\n",
    "“People fail to get along because they fear each other; they fear each other because they don't know each other; they don't know each other because they have not communicated with each other.” "
   ]
  },
  {
   "cell_type": "code",
   "execution_count": null,
   "id": "12be3acb-025a-4ba4-840b-eb40ab530513",
   "metadata": {},
   "outputs": [],
   "source": []
  },
  {
   "cell_type": "markdown",
   "id": "7391c7f6-291f-492f-baf5-90fdbf43bdce",
   "metadata": {},
   "source": [
    "v"
   ]
  },
  {
   "cell_type": "markdown",
   "id": "8348c8aa-1c59-4f2a-9ec1-3c6d1922735e",
   "metadata": {},
   "source": [
    "## Part 1: Broadcasting for Tabular Data\n",
    "<hr style=\"border:2px solid gray\"> </hr>"
   ]
  },
  {
   "cell_type": "markdown",
   "id": "307c58b7-a916-4a5b-819c-4d7b10abd45a",
   "metadata": {},
   "source": [
    "Now that we know how to access our data, we can now perform operations on it.\n",
    "\n",
    "A powerful method that GPUs can manipulate data is through a method called broadcasting.\n",
    "\n",
    "With broadcasting, GPUs can do what they do best by doing many operations at the same time to increase speed. \n",
    "\n",
    "Today, we are going to learn more about broadcasting in a practical way. \n",
    "\n",
    "This approach will be code based rather than math based. In this, all we need to understand is that once we know where our code is, we can perform operations on it"
   ]
  },
  {
   "cell_type": "code",
   "execution_count": null,
   "id": "60cff9d2-20bb-47e5-a6c5-818682bcbf29",
   "metadata": {},
   "outputs": [],
   "source": []
  },
  {
   "cell_type": "markdown",
   "id": "1e9e390f-ab46-4d4d-b01c-7987945fc41b",
   "metadata": {},
   "source": [
    "### Example 1: Converting data types: text to numbers\n",
    "<hr style=\"border:1px solid gray\"> </hr>\n",
    "\n"
   ]
  },
  {
   "cell_type": "markdown",
   "id": "5b5414bd-fbdd-4b53-908d-8cd88d4b95cd",
   "metadata": {},
   "source": [
    "“Human progress is neither automatic nor inevitable... Every step toward the goal of justice requires sacrifice, suffering, and struggle; the tireless exertions and passionate concern of dedicated individuals.” \n",
    "\n",
    "The .str method of a Pandas Series is extremely useful. In one single line, it can do many things that would require writing a loop in pure python.\n",
    "\n",
    "The principle here is in two steps:\n",
    "\n",
    "Step 1: Index \n",
    "\n",
    "(Pass pandas an index and tell it which data you are selecting)\n",
    "\n",
    "Step 2: Broadcast\n",
    "\n",
    "Tell pandas what you want it to do by calling a method\n",
    "\n",
    "Let's process these steps together."
   ]
  },
  {
   "cell_type": "code",
   "execution_count": 247,
   "id": "e49b6d57-488b-49b7-bbee-936dd14bee2d",
   "metadata": {},
   "outputs": [],
   "source": [
    "# Let's cull down our dataset to the more complete entries\n",
    "\n",
    "df = startUpData[(startUpData['funding_rounds'] > 1) & ( startUpData['round_A'] > 0 ) ].copy() #copy function makes a new object"
   ]
  },
  {
   "cell_type": "markdown",
   "id": "b9fcdacd-0e57-4c71-b0f6-2fa6a7ed876b",
   "metadata": {},
   "source": [
    "#### Cleansing text data with pandas\n",
    "\n",
    "One of the key features of pandas is what you can do using strings. If you can understand how to utilize this, you can automate \n",
    "a ton of office work, potentially saving hours each week. It is very possible to automate many tasks if you can understand how\n",
    "to process text data in pandas. \n",
    "\n",
    "In this case, data will originally be inputted as text rather than numbers. One thing you can do is to convert them using the\n",
    "\n",
    "as type method. But, occassionally the code will be a bit fussy about extra spaces and commas that make it easier for people to read"
   ]
  },
  {
   "cell_type": "markdown",
   "id": "964507d6-d874-42f3-a4bf-b3c85ad9df73",
   "metadata": {},
   "source": [
    "Problem: \n",
    "\n",
    "\n",
    "##### Removing text characters from a sample"
   ]
  },
  {
   "cell_type": "code",
   "execution_count": 253,
   "id": "3cd4adfa-e7f4-4220-8440-3e8cdc2f4779",
   "metadata": {},
   "outputs": [],
   "source": [
    "# Let's try this first\n",
    "df['funding_total_usd'] = df['funding_total_usd'].astype(np.int64)"
   ]
  },
  {
   "cell_type": "markdown",
   "id": "72c8e265-12a5-4fe0-b7cf-7a457f599aee",
   "metadata": {},
   "source": [
    "This line will run an error, and will give you the first value where your operation failed. \n",
    "Why did this fail and how does the following line fix it? "
   ]
  },
  {
   "cell_type": "code",
   "execution_count": 255,
   "id": "2ff06279-bfe8-46a1-bf8f-7e4103a7c4a4",
   "metadata": {},
   "outputs": [],
   "source": [
    "df['funding_total_usd'] = df['funding_total_usd'].str.replace(',','')"
   ]
  },
  {
   "cell_type": "markdown",
   "id": "4bbce071-ea28-4f9c-bd28-ea8d239ad938",
   "metadata": {},
   "source": [
    "##### Series.str.replace()\n",
    "\n",
    "This can allow you to replace a character, or set of characters quite easily. \n",
    "\n",
    "Pandas handles text quite well, and is full of methods which can be found in the documentation or through an internet search. \n",
    "\n",
    "\n",
    "Here is a link to the documentation which will give you an overview:\n",
    "\n",
    "https://pandas.pydata.org/pandas-docs/version/0.23.4/text.html\n",
    "\n",
    "This link is to the documentation to all of the functionality for pandas strings. If you need to do something, then this will be a great friend. \n",
    "\n",
    "https://pandas.pydata.org/docs/reference/api/pandas.Series.str.html\n"
   ]
  },
  {
   "cell_type": "markdown",
   "id": "03e5b01f-e54d-4be5-b14e-02344bbf033f",
   "metadata": {},
   "source": [
    "Let's try running the code again. Now that we have this, it should work"
   ]
  },
  {
   "cell_type": "code",
   "execution_count": 250,
   "id": "4a0d915b-10da-4f03-85ee-0d53ed440633",
   "metadata": {},
   "outputs": [],
   "source": [
    "df['funding_total_usd'] = df['funding_total_usd'].astype(np.int64)\n"
   ]
  },
  {
   "cell_type": "markdown",
   "id": "114e43da-933a-4835-9a6a-f0fde12b649b",
   "metadata": {},
   "source": [
    "Yet, we get another error, with a useful message. It shows that there is whitespace in this element of the pandas series\n",
    "\n",
    "We can use the .str.strip() method to easily remove it, using only one line of code."
   ]
  },
  {
   "cell_type": "code",
   "execution_count": 250,
   "id": "9d728997-3592-4762-9739-b04db619d05e",
   "metadata": {},
   "outputs": [],
   "source": [
    "#df['funding_total_usd'] = df['funding_total_usd'].str.strip()"
   ]
  },
  {
   "cell_type": "code",
   "execution_count": 256,
   "id": "abce1903-6120-4ace-945c-3e5ac5c44a17",
   "metadata": {},
   "outputs": [],
   "source": [
    "df['funding_total_usd'] = df['funding_total_usd'].astype(np.int64)\n"
   ]
  },
  {
   "cell_type": "markdown",
   "id": "51ed428e-2bdb-40ef-a7f8-3be569654ba9",
   "metadata": {},
   "source": [
    "Now it works. Luckily for us, there were no errors. \n",
    "\n",
    "When dealing with large amounts of data, it is not only impractical, but impossible to check each value. \n",
    "Instead, we can rely on the python interpreter to find these error.\n",
    "\n",
    "Although error messages contain some esoteric wording, generally, data exploration proceeds with encountering errors like this.\n",
    "\n"
   ]
  },
  {
   "cell_type": "markdown",
   "id": "791fef12-5ae5-4af1-8764-951b26640fd8",
   "metadata": {},
   "source": []
  },
  {
   "cell_type": "code",
   "execution_count": null,
   "id": "63dfd8dc-3bb1-44a8-a7d8-2f51f723a887",
   "metadata": {},
   "outputs": [],
   "source": []
  },
  {
   "cell_type": "markdown",
   "id": "74744973-a7f4-4baa-9594-3f517efa621b",
   "metadata": {},
   "source": [
    "##### (Indicator Features)\n",
    "\n",
    "Dummy variable\n",
    "\n",
    "Indicates if feature meets multiple conditions"
   ]
  },
  {
   "cell_type": "markdown",
   "id": "b1bd40f8-5cc7-422d-8f9f-1e5995e0fbb0",
   "metadata": {},
   "source": [
    "### Example 2: Creating a calculated field: (interaction features / grouping )\n",
    "<hr style=\"border:1px solid gray\"> </hr>"
   ]
  },
  {
   "cell_type": "markdown",
   "id": "829c7da9-a132-49c1-990f-b6fe95114a04",
   "metadata": {},
   "source": [
    "\n",
    "“You may be 38 years old, as I happen to be. And one day, some great opportunity stands before you and calls you to stand up for some great principle, some great issue, some great cause. And you refuse to do it because you are afraid…. You refuse to do it because you want to live longer…. You’re afraid that you will lose your job, or you are afraid that you will be criticized or that you will lose your popularity, or you’re afraid that somebody will stab you, or shoot at you or bomb your house; so you refuse to take the stand.\n",
    "\n",
    "Well, you may go on and live until you are 90, but you’re just as dead at 38 as you would be at 90. And the cessation of breathing in your life is but the belated announcement of an earlier death of the spirit.” "
   ]
  },
  {
   "cell_type": "code",
   "execution_count": null,
   "id": "0d6c121c-d16e-4893-bbde-6f401250eb29",
   "metadata": {},
   "outputs": [],
   "source": []
  },
  {
   "cell_type": "markdown",
   "id": "6a92e28c-5083-41fb-93a2-31dfd7427d32",
   "metadata": {},
   "source": [
    "##### (Discretizing) Binning continous data\n",
    "\n",
    "\n",
    "Supose that we want to create a new feature using the data we already have. The simplest way is to create a variable based on a condition. Doing this can allow you to make something much more clear to the model by flagging it as important. We can create a new feature to see if it meets a logical condition.\n",
    "\n",
    "Let's start with the pandas series of 'founded year'"
   ]
  },
  {
   "cell_type": "code",
   "execution_count": 258,
   "id": "2ee5eac0-38f9-4c6b-817d-870af61a3a5e",
   "metadata": {},
   "outputs": [
    {
     "data": {
      "text/plain": [
       "15       2013.0\n",
       "20       2010.0\n",
       "22       2010.0\n",
       "24          NaN\n",
       "51       2007.0\n",
       "          ...  \n",
       "49424    2009.0\n",
       "49426    2007.0\n",
       "49428    2011.0\n",
       "49430    1994.0\n",
       "49437    1999.0\n",
       "Name: founded_year, Length: 6126, dtype: float64"
      ]
     },
     "execution_count": 258,
     "metadata": {},
     "output_type": "execute_result"
    }
   ],
   "source": [
    "df.founded_year"
   ]
  },
  {
   "cell_type": "code",
   "execution_count": null,
   "id": "7e6df0b8-6019-4a63-8724-218a70c22c7c",
   "metadata": {},
   "outputs": [],
   "source": [
    "# Input a histogram of founded years to show \n",
    "\n"
   ]
  },
  {
   "cell_type": "code",
   "execution_count": 265,
   "id": "a119df36-d95b-423d-a064-63bf9a2975ed",
   "metadata": {},
   "outputs": [],
   "source": [
    "df['founded_before_2000'] = df['founded_year'] < 2000 "
   ]
  },
  {
   "cell_type": "code",
   "execution_count": 267,
   "id": "1c3f817d-ec62-46fd-867a-2b4ff54147bc",
   "metadata": {},
   "outputs": [
    {
     "data": {
      "text/plain": [
       "(6126, 40)"
      ]
     },
     "execution_count": 267,
     "metadata": {},
     "output_type": "execute_result"
    }
   ],
   "source": [
    "# Warm reminder, why is the shape of our new dataframe different now? \n",
    "df.shape"
   ]
  },
  {
   "cell_type": "code",
   "execution_count": null,
   "id": "4f3cd188-bb9a-4d43-8920-1182a7dd81b9",
   "metadata": {},
   "outputs": [],
   "source": []
  },
  {
   "cell_type": "code",
   "execution_count": 269,
   "id": "b4348fab-2cae-4510-9079-4ddf98e626d2",
   "metadata": {},
   "outputs": [],
   "source": [
    "df['founded_in_2010s'] = ((df['founded_year']> 2010) & (df['founded_year'] > 2020))"
   ]
  },
  {
   "cell_type": "markdown",
   "id": "fd5bc38f-6bae-4f67-9c7f-54ddb913693c",
   "metadata": {},
   "source": [
    "  #WarmReminder :\n",
    "  It is always a good idea to include ( ) around your logical comparisons so that python knows exactly what you want it to do. \n",
    "  "
   ]
  },
  {
   "cell_type": "markdown",
   "id": "91eee83c-3135-47d4-9e0b-bbadacd9987f",
   "metadata": {},
   "source": [
    "\n",
    "age, color categories"
   ]
  },
  {
   "cell_type": "code",
   "execution_count": null,
   "id": "4af7bc56-244b-4821-a1c3-6ed0ea39b520",
   "metadata": {},
   "outputs": [],
   "source": []
  },
  {
   "cell_type": "markdown",
   "id": "914f72f4-ff14-4a94-b9e0-92e3c873b0ac",
   "metadata": {},
   "source": [
    "## Part 2 Brodcasting in Image Data\n",
    "<hr style=\"border:2px solid gray\"> </hr>"
   ]
  },
  {
   "cell_type": "markdown",
   "id": "6fca3723-32ad-49c6-9c46-d42e8d8ccaca",
   "metadata": {},
   "source": [
    "#### Normalizing, image blurring"
   ]
  },
  {
   "cell_type": "code",
   "execution_count": null,
   "id": "4ae4f3e2-d114-4121-9fe4-916471ff10c1",
   "metadata": {},
   "outputs": [],
   "source": []
  },
  {
   "cell_type": "code",
   "execution_count": null,
   "id": "1666427a-8333-406b-ab26-a0c3678aedd6",
   "metadata": {},
   "outputs": [],
   "source": []
  },
  {
   "cell_type": "code",
   "execution_count": null,
   "id": "16fad805-cc1b-4b5f-90d8-0788282097a9",
   "metadata": {},
   "outputs": [],
   "source": []
  },
  {
   "cell_type": "code",
   "execution_count": null,
   "id": "11de8e1b-b44d-4099-8b82-6e52ceab9060",
   "metadata": {},
   "outputs": [],
   "source": []
  },
  {
   "cell_type": "markdown",
   "id": "78f21154-adf2-45cc-b372-479ca50747c4",
   "metadata": {},
   "source": [
    "#### Edge Detection"
   ]
  },
  {
   "cell_type": "code",
   "execution_count": null,
   "id": "6c92cf1f-e068-42e0-81a7-6f1bf0ab9af5",
   "metadata": {},
   "outputs": [],
   "source": []
  },
  {
   "cell_type": "code",
   "execution_count": null,
   "id": "7403831f-907f-4255-82e2-6e9c85ca3623",
   "metadata": {},
   "outputs": [],
   "source": []
  },
  {
   "cell_type": "code",
   "execution_count": null,
   "id": "2b9edb38-654f-4319-acf2-0d0becc71cf2",
   "metadata": {},
   "outputs": [],
   "source": []
  },
  {
   "cell_type": "markdown",
   "id": "263961db-738f-4c31-8ec5-dc12a61b03fb",
   "metadata": {},
   "source": [
    "## Part 3 Broadcasting in NLP Data\n",
    "<hr style=\"border:2px solid gray\"> </hr>"
   ]
  },
  {
   "cell_type": "code",
   "execution_count": null,
   "id": "ed846be2-cb08-4d1f-a188-6720b600d527",
   "metadata": {},
   "outputs": [],
   "source": []
  },
  {
   "cell_type": "markdown",
   "id": "ec5c4ad1-d4ff-4e17-90dc-438ade961e52",
   "metadata": {},
   "source": [
    "### Contextualization"
   ]
  },
  {
   "cell_type": "code",
   "execution_count": null,
   "id": "b1d49902-4064-4240-b9c3-227315530489",
   "metadata": {},
   "outputs": [],
   "source": []
  },
  {
   "cell_type": "markdown",
   "id": "e37e154e-f2d0-4b09-afd1-2bfa4d93e0c7",
   "metadata": {},
   "source": [
    "### Stemming"
   ]
  },
  {
   "cell_type": "code",
   "execution_count": null,
   "id": "a4b8457a-edf6-4063-a902-8e1d90b13da2",
   "metadata": {},
   "outputs": [],
   "source": []
  },
  {
   "cell_type": "code",
   "execution_count": null,
   "id": "03251179-ba74-461d-90d1-2eec52082f26",
   "metadata": {},
   "outputs": [],
   "source": []
  },
  {
   "cell_type": "code",
   "execution_count": null,
   "id": "d7c1b76f-7404-4bb4-b1bf-0fb3b860b4ab",
   "metadata": {},
   "outputs": [],
   "source": []
  },
  {
   "cell_type": "code",
   "execution_count": null,
   "id": "3fe41a2b-16d3-4b02-acbc-592f02045477",
   "metadata": {},
   "outputs": [],
   "source": []
  },
  {
   "cell_type": "markdown",
   "id": "39ce181d-72d1-47e7-ade4-19cab4ef1aa9",
   "metadata": {},
   "source": [
    "### Lemmatization"
   ]
  },
  {
   "cell_type": "code",
   "execution_count": null,
   "id": "6d0f9611-1e88-4dfe-a65a-c55533ae5e4c",
   "metadata": {},
   "outputs": [],
   "source": []
  },
  {
   "cell_type": "code",
   "execution_count": null,
   "id": "303302cf-b0c2-49db-a88c-a24a3da71a89",
   "metadata": {},
   "outputs": [],
   "source": []
  },
  {
   "cell_type": "code",
   "execution_count": null,
   "id": "20c2d4a3-b269-4de6-954b-2e7629a9c076",
   "metadata": {},
   "outputs": [],
   "source": []
  },
  {
   "cell_type": "markdown",
   "id": "83077a10-5235-40d5-a1d8-3d45402f4e38",
   "metadata": {},
   "source": [
    "## Broadcasting Resources \n",
    "\n",
    "numpy broadcasting\n",
    "https://www.youtube.com/watch?v=5HY_jsbarpw"
   ]
  },
  {
   "cell_type": "markdown",
   "id": "991caefb-4938-47db-93be-68b31f70b9f7",
   "metadata": {},
   "source": [
    "# Conclusion: Key Points and Concepts\n",
    "<hr style=\"border:4px solid gray\"> </hr>"
   ]
  },
  {
   "cell_type": "markdown",
   "id": "c97ef96b-ed4f-4637-8755-2523390c406c",
   "metadata": {},
   "source": [
    "\n",
    "“The major problem of life is learning how to handle the costly interruptions. The door that slams shut, the plan that got sidetracked, the marriage that failed. Or that lovely poem that didn't get written because someone knocked on the door.” "
   ]
  },
  {
   "cell_type": "markdown",
   "id": "b04a4421-4a30-4d45-a8a2-d541d7cb7ca9",
   "metadata": {},
   "source": [
    "# Discussion Questions \n",
    "<hr style=\"border:4px solid gray\"> </hr>"
   ]
  },
  {
   "cell_type": "markdown",
   "id": "5571218c-b1fe-4980-9abb-9b13a5b2f29e",
   "metadata": {},
   "source": [
    "### Discussion Questions Section 1: Tensors"
   ]
  },
  {
   "cell_type": "markdown",
   "id": "0cccbb62-e05d-4ff3-bf81-f543f7dc4c1e",
   "metadata": {},
   "source": [
    "### Discussion Questions Section 2: Indexing \n",
    "\n"
   ]
  },
  {
   "cell_type": "markdown",
   "id": "1c55c65d-7c22-49a7-8be7-ec39ad81739b",
   "metadata": {},
   "source": [
    "### Discussion Questions Section 3: Broadcasting"
   ]
  },
  {
   "cell_type": "code",
   "execution_count": null,
   "id": "39f92616-a9cd-435b-a5eb-1503d3d98cb3",
   "metadata": {},
   "outputs": [],
   "source": []
  }
 ],
 "metadata": {
  "kernelspec": {
   "display_name": "unpackAIdev",
   "language": "python",
   "name": "unpackaidev"
  },
  "language_info": {
   "codemirror_mode": {
    "name": "ipython",
    "version": 3
   },
   "file_extension": ".py",
   "mimetype": "text/x-python",
   "name": "python",
   "nbconvert_exporter": "python",
   "pygments_lexer": "ipython3",
   "version": "3.8.12"
  }
 },
 "nbformat": 4,
 "nbformat_minor": 5
}
