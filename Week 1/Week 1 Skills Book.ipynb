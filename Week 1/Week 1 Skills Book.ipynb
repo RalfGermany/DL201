{
 "cells": [
  {
   "cell_type": "markdown",
   "id": "c8aca890-2801-4bb0-ac85-647231cfa06b",
   "metadata": {},
   "source": [
    "# Week 1 Skills Book\n",
    "<hr style=\"border:4px solid gray\"> </hr>"
   ]
  },
  {
   "cell_type": "markdown",
   "id": "08d9f7c6-fb07-49e6-a353-4722ac977bad",
   "metadata": {
    "tags": [],
    "toc-hr-collapsed": true
   },
   "source": [
    "## Introduction\n",
    "<hr style=\"border:2px solid gray\"> </hr>"
   ]
  },
  {
   "cell_type": "markdown",
   "id": "5c9e89db-afc6-403c-a370-0ff97b07a1f0",
   "metadata": {},
   "source": [
    "In this week, we are going to extend the ideas we learned in the first week into practice.\n",
    "\n",
    "We are going to open and load datasets, in order to perform EDA (Exploritory Data Analysis) on them.\n",
    "\n",
    "Performing EDA will give us a much better idea of how to move forward.\n",
    "\n",
    "In this, we'll go over some of the skills that we'll need "
   ]
  },
  {
   "cell_type": "code",
   "execution_count": 3,
   "id": "541c3f61-2512-4a19-bde9-185b6130db4d",
   "metadata": {},
   "outputs": [],
   "source": [
    "from pathlib import Path"
   ]
  },
  {
   "cell_type": "code",
   "execution_count": 4,
   "id": "bab35e75-e77b-46d4-bddc-e45fea36a3e9",
   "metadata": {},
   "outputs": [],
   "source": [
    "# set  to data root in colab\n",
    "\n",
    "\n",
    "# Configuration Cell\n",
    "\n",
    "\n",
    "PROJECT_ROOT = str(Path.cwd())\n",
    "\n",
    "# Content Directory is used in place of google colab\n",
    "# on my local computer\n",
    "CONTENT_DIR = Path.home() / 'Datasets' / 'unpackAI' / 'DL201-3.0' # Change this for use in colab"
   ]
  },
  {
   "cell_type": "code",
   "execution_count": 77,
   "id": "fbaaf05b-7f6f-4869-9783-acb7d62f1821",
   "metadata": {},
   "outputs": [
    {
     "data": {
      "text/plain": [
       "PosixPath('/home/jentlejames/Datasets/unpackAI/DL201-3.0')"
      ]
     },
     "execution_count": 77,
     "metadata": {},
     "output_type": "execute_result"
    }
   ],
   "source": []
  },
  {
   "cell_type": "markdown",
   "id": "2b54a5bf-0aa0-475c-8b2c-46632617f805",
   "metadata": {},
   "source": [
    "### A. Goals"
   ]
  },
  {
   "cell_type": "markdown",
   "id": "3416aac9-0f41-4551-bbb2-9d9babeed46b",
   "metadata": {},
   "source": [
    "\n",
    " To grasp the significance of choosing a sufficient dataset which balances utility and ease of use\n",
    " \n",
    " \n",
    "\n",
    "\n",
    "\n",
    "Perform EDA how we can adapt existing, public data to our new purpose, so we can create a proof of concept that will drive understanding and consensus within teams. \n",
    "\n",
    "Have an understanding for how existingg data can be used, modeled and adapted.\n",
    "\n",
    " To Fully understand how to load the most common dataset formats \n",
    "\n"
   ]
  },
  {
   "cell_type": "code",
   "execution_count": null,
   "id": "4055bf5b-1dcc-48dd-ba2b-707f8e4a29b9",
   "metadata": {},
   "outputs": [],
   "source": []
  },
  {
   "cell_type": "code",
   "execution_count": null,
   "id": "ca321892-99ea-4fce-b6e7-5ff951429efc",
   "metadata": {},
   "outputs": [],
   "source": []
  },
  {
   "cell_type": "code",
   "execution_count": null,
   "id": "7dc30cef-3c6d-405e-9609-3df6f480e9cb",
   "metadata": {},
   "outputs": [],
   "source": []
  },
  {
   "cell_type": "markdown",
   "id": "f9b2d7d4-6498-48cd-8a5b-419a1a31286b",
   "metadata": {},
   "source": [
    "### B. Objectives\n",
    "<hr style=\"border:2px solid gray\"> </hr>"
   ]
  },
  {
   "cell_type": "markdown",
   "id": "97aa0d57-8616-4307-891b-66436a92db7f",
   "metadata": {},
   "source": [
    " To have an appreciation for the importance of inspecting a dataset's description and metadata \n",
    "\n",
    "To understand how to load .csv files, and how seperators and encodings play a part\n",
    "\n",
    "To grasp how to load heirachical JSON style data, and explore it \n",
    "\n",
    "To understand how to load images and their labels stored as both directories or as metadata\n",
    "\n",
    "To experience how to better utilize the ipython shell to load and handle data \n",
    "\n",
    "To percieve how NLP relies on less labeled data and more on auto-supervised learning, and relates to how text data is loaded"
   ]
  },
  {
   "cell_type": "code",
   "execution_count": null,
   "id": "38c91983-e00f-4aaf-97b3-7f5a86d9ef38",
   "metadata": {},
   "outputs": [],
   "source": []
  },
  {
   "cell_type": "markdown",
   "id": "76595946-b4cf-4e9a-89e5-14980c5221b1",
   "metadata": {},
   "source": [
    "### C. Key Ideas and Summary\n",
    "<hr style=\"border:2px solid gray\"> </hr>"
   ]
  },
  {
   "cell_type": "markdown",
   "id": "8ac57dd2-000a-494d-ba31-a6ac01e540cc",
   "metadata": {},
   "source": [
    "#### Key Ideas\n"
   ]
  },
  {
   "cell_type": "markdown",
   "id": "f60afcb3-d63d-4261-bde8-93a7d1b744d0",
   "metadata": {},
   "source": []
  },
  {
   "cell_type": "markdown",
   "id": "2fa7b38d-c5ac-43ce-bcff-720d07820a8f",
   "metadata": {},
   "source": [
    "#### Define the Problem"
   ]
  },
  {
   "cell_type": "markdown",
   "id": "455b26fa-15ff-4393-b410-570895383d99",
   "metadata": {},
   "source": [
    "\"Where there is no vision, the people perish\" "
   ]
  },
  {
   "cell_type": "code",
   "execution_count": null,
   "id": "9799f1b4-e903-468d-ab72-9bc0fea0314c",
   "metadata": {},
   "outputs": [],
   "source": []
  },
  {
   "cell_type": "markdown",
   "id": "0edd850b-47d9-40bf-a262-e59b56e61e90",
   "metadata": {},
   "source": [
    "Solutions?"
   ]
  },
  {
   "cell_type": "code",
   "execution_count": null,
   "id": "3b8085d9-b33c-4169-8cb7-2b28d7379be7",
   "metadata": {},
   "outputs": [],
   "source": []
  },
  {
   "cell_type": "markdown",
   "id": "cacac947-d3c7-42bc-99ca-35a17743a32e",
   "metadata": {},
   "source": [
    "### D. Choosing a Dataset\n",
    "<hr style=\"border:1px solid gray\"> </hr>"
   ]
  },
  {
   "cell_type": "markdown",
   "id": "fc0fb92f-3281-4695-8a5d-6553abb2e527",
   "metadata": {},
   "source": [
    "Intro Paragraph\n",
    "\n",
    "\n"
   ]
  },
  {
   "cell_type": "markdown",
   "id": "153bad81-3af2-4a1d-92ae-941b9c6a1da8",
   "metadata": {},
   "source": [
    "#### Sourcing the Data "
   ]
  },
  {
   "cell_type": "code",
   "execution_count": null,
   "id": "1af599d9-9750-4675-9532-a645694d2a09",
   "metadata": {},
   "outputs": [],
   "source": []
  },
  {
   "cell_type": "markdown",
   "id": "fddc06f5-1d12-441c-a580-4ed79ab44593",
   "metadata": {},
   "source": [
    "### E. Considerations"
   ]
  },
  {
   "cell_type": "code",
   "execution_count": null,
   "id": "0694d46c-1e23-4562-a7fc-524653d6798c",
   "metadata": {},
   "outputs": [],
   "source": []
  },
  {
   "cell_type": "markdown",
   "id": "a792bcf7-b655-4a72-8bf9-a4d59e915974",
   "metadata": {},
   "source": [
    "#### 1. Features "
   ]
  },
  {
   "cell_type": "code",
   "execution_count": null,
   "id": "9c27d7e5-31fe-46c2-a40a-d1557918e6c1",
   "metadata": {},
   "outputs": [],
   "source": []
  },
  {
   "cell_type": "code",
   "execution_count": null,
   "id": "1481b01f-f16e-4c0b-a74a-cc8cc708b6de",
   "metadata": {},
   "outputs": [],
   "source": []
  },
  {
   "cell_type": "markdown",
   "id": "f8c9026c-89d5-49fc-bb8a-55ee1bb8aa6a",
   "metadata": {},
   "source": [
    "#### 2. Sample Size"
   ]
  },
  {
   "cell_type": "code",
   "execution_count": null,
   "id": "bcf18f8b-94f2-4025-9a94-7dd542bfbfaf",
   "metadata": {},
   "outputs": [],
   "source": []
  },
  {
   "cell_type": "code",
   "execution_count": null,
   "id": "204a76f2-54a3-416e-94c5-3c3080b61d02",
   "metadata": {},
   "outputs": [],
   "source": []
  },
  {
   "cell_type": "markdown",
   "id": "a8c599cc-e673-466c-98bf-ea876513a68c",
   "metadata": {},
   "source": [
    "#### 3. Outliars"
   ]
  },
  {
   "cell_type": "code",
   "execution_count": null,
   "id": "20c4792a-862d-4c57-b3bd-3b758830657f",
   "metadata": {},
   "outputs": [],
   "source": []
  },
  {
   "cell_type": "code",
   "execution_count": null,
   "id": "19f8a13a-8abc-4fe7-83dd-b6f887823818",
   "metadata": {},
   "outputs": [],
   "source": []
  },
  {
   "cell_type": "markdown",
   "id": "6ed2d7d5-57d6-4d6b-a174-134c0e2eaf73",
   "metadata": {},
   "source": [
    "#### 4. Balance"
   ]
  },
  {
   "cell_type": "markdown",
   "id": "3d4063ec-7063-490d-a3fe-ee5ae235fc5b",
   "metadata": {},
   "source": []
  },
  {
   "cell_type": "code",
   "execution_count": null,
   "id": "91083c65-5c0d-45fc-850f-418d71954f7b",
   "metadata": {},
   "outputs": [],
   "source": []
  },
  {
   "cell_type": "markdown",
   "id": "ed08acd9-c521-4cf5-9ab0-60c7980dd54a",
   "metadata": {},
   "source": [
    "#### 5. Feature Types"
   ]
  },
  {
   "cell_type": "code",
   "execution_count": null,
   "id": "4dce1470-0090-4528-b615-d8a44c8d8c52",
   "metadata": {},
   "outputs": [],
   "source": []
  },
  {
   "cell_type": "code",
   "execution_count": null,
   "id": "87b5d973-98eb-4be9-ade8-eaa14267d01d",
   "metadata": {},
   "outputs": [],
   "source": []
  },
  {
   "cell_type": "markdown",
   "id": "1de0ba78-c0c4-4f09-a898-8a7d851123b9",
   "metadata": {},
   "source": [
    "##### i. Categorical Variables \n",
    "((Brief Review))"
   ]
  },
  {
   "cell_type": "code",
   "execution_count": null,
   "id": "e69fd202-efab-4878-936f-1b417d84cdff",
   "metadata": {},
   "outputs": [],
   "source": []
  },
  {
   "cell_type": "code",
   "execution_count": null,
   "id": "8c916c16-8e60-4461-b2db-04d447dcbe3c",
   "metadata": {},
   "outputs": [],
   "source": []
  },
  {
   "cell_type": "markdown",
   "id": "2741b6e7-de7a-4c4d-863a-c549e5bd1a56",
   "metadata": {},
   "source": [
    "##### i. Continous Variables\n",
    "((Brief review))"
   ]
  },
  {
   "cell_type": "code",
   "execution_count": null,
   "id": "22828d36-ca97-4447-96a3-b637590906cc",
   "metadata": {},
   "outputs": [],
   "source": []
  },
  {
   "cell_type": "code",
   "execution_count": null,
   "id": "dd5dea17-cd34-4e41-b9cd-fa760c10b29e",
   "metadata": {},
   "outputs": [],
   "source": []
  },
  {
   "cell_type": "markdown",
   "id": "8f0e055d-28d2-48f2-a341-d94b94e6045e",
   "metadata": {},
   "source": [
    "##### i. Structure \n",
    "How is the data stored? How structured is it? "
   ]
  },
  {
   "cell_type": "code",
   "execution_count": null,
   "id": "eaf4f7d0-d456-4681-b1e8-501493dc655c",
   "metadata": {},
   "outputs": [],
   "source": []
  },
  {
   "cell_type": "markdown",
   "id": "2792b5e1-98a2-4784-99ce-1ec50933eeb7",
   "metadata": {
    "toc-hr-collapsed": true
   },
   "source": [
    "# Section 1: Tabular Data\n",
    "<hr style=\"border:4px solid gray\"> </hr>"
   ]
  },
  {
   "cell_type": "code",
   "execution_count": null,
   "id": "fa9f8663-3d67-4510-a58d-62ebc2a0e66f",
   "metadata": {},
   "outputs": [],
   "source": []
  },
  {
   "cell_type": "markdown",
   "id": "857ff614-3467-444a-af32-baf0f7d4e40d",
   "metadata": {},
   "source": [
    "### Decide what you want\n",
    "\n",
    "**Adjust the ends to the means**\n",
    "\n",
    "As we learned in DL101, beginning an AI project does not require you to be a huge tech company or have huge ammounts of well labeled data.\n",
    "\n",
    "**Getting started is the most important step**\n",
    "\n",
    "Don't waste time looking for the perfect dataset. FastAI Author and AI practitioner Jeremy Howard suggests \"The most important concideration is data availability. \"\n",
    "\n",
    "**Adjust the ends to the means**\n",
    "\n",
    "Don't waste months or years finding the perfect dataset or perfect project. If you find that data is not readily available for your project, find something that is tangentially related to your field of interest and go from there.\n",
    "\n",
    "By starting a project and spending a reasonable ammount of time on each step, then you'll get a much better feel for the terrain you are coming up against. \n",
    "\n",
    "\n",
    "**Rapid Prototyping with End to End iteration** \n",
    "\n",
    "Rather than perfecting a masterpeice, try to first create a proof of concept or a prototype. \n",
    "Then, once you have your proof of concept, you can decide how you are going to improve it in the next iteration of development. If you have a proof of concept, it will do a lot of the talking for you when showing it to people. \n",
    "\n",
    "Prototyping\n",
    "\n",
    "Feedback\n",
    "\n",
    "Improvement\n",
    "\n",
    "source: https://devsquad.com/blog/what-is-rapid-prototyping-and-why-is-it-used-in-development/"
   ]
  },
  {
   "cell_type": "code",
   "execution_count": null,
   "id": "10a2bd52-b9d3-4904-a420-e029feb1da3e",
   "metadata": {},
   "outputs": [],
   "source": []
  },
  {
   "cell_type": "markdown",
   "id": "581c22eb-2ae3-4924-8615-8d3b4b8720fb",
   "metadata": {},
   "source": [
    "## Step 1: Choosing a Dataset\n",
    "<hr style=\"border:2px solid gray\"> </hr>"
   ]
  },
  {
   "cell_type": "markdown",
   "id": "12003200-9768-4eb3-8a21-d4a07810b002",
   "metadata": {},
   "source": [
    "**Public Datasets**\n",
    "\n",
    "Kaggle\n",
    "\n",
    "Google\n",
    "\n",
    "Online Interest Groups \n",
    "\n",
    "\n",
    "**Private, self collected Datasets**\n",
    "\n",
    "You don't need to spend months or years building data pipelines, see what you have, and how it can be adapted to a proof of concept in order to create feedback that will show you how to improve your data collection. \n",
    "\n",
    "\n"
   ]
  },
  {
   "cell_type": "markdown",
   "id": "5c2c0c18-a417-45d1-bade-7a8c1e963968",
   "metadata": {},
   "source": []
  },
  {
   "cell_type": "code",
   "execution_count": null,
   "id": "56fcc2df-f379-4f47-8f6b-fe51e0e31a43",
   "metadata": {},
   "outputs": [],
   "source": []
  },
  {
   "cell_type": "code",
   "execution_count": null,
   "id": "05c8e904-32eb-4874-adcb-2284adaaf02d",
   "metadata": {},
   "outputs": [],
   "source": []
  },
  {
   "cell_type": "code",
   "execution_count": null,
   "id": "aec6e2ee-6634-484b-ab92-62030e2c4486",
   "metadata": {},
   "outputs": [],
   "source": []
  },
  {
   "cell_type": "markdown",
   "id": "70de73d1-31d0-4a95-8f11-fcf8d8858bda",
   "metadata": {},
   "source": [
    "### Criteria and Considerations\n",
    "<hr style=\"border:1px solid gray\"> </hr>"
   ]
  },
  {
   "cell_type": "code",
   "execution_count": null,
   "id": "8dbcaaaa-792d-480d-898b-d1e16961f115",
   "metadata": {},
   "outputs": [],
   "source": []
  },
  {
   "cell_type": "code",
   "execution_count": null,
   "id": "eac74d97-d18b-4772-907b-22f6d9ff6270",
   "metadata": {},
   "outputs": [],
   "source": []
  },
  {
   "cell_type": "markdown",
   "id": "0564f553-79db-48c0-a287-2edd600a35b6",
   "metadata": {},
   "source": [
    "### Sample Size\n",
    "<hr style=\"border:1px solid gray\"> </hr>"
   ]
  },
  {
   "cell_type": "code",
   "execution_count": null,
   "id": "50d9755f-1e59-457c-b99e-79328672fd05",
   "metadata": {},
   "outputs": [],
   "source": []
  },
  {
   "cell_type": "code",
   "execution_count": null,
   "id": "d7d31aa3-763e-4bba-8d9f-ab8ea259f43e",
   "metadata": {},
   "outputs": [],
   "source": []
  },
  {
   "cell_type": "markdown",
   "id": "6d81479d-dcf7-4ac8-92ef-00fa03383f6d",
   "metadata": {},
   "source": [
    "### Cleanliness of Data\n",
    "<hr style=\"border:1px solid gray\"> </hr>"
   ]
  },
  {
   "cell_type": "code",
   "execution_count": null,
   "id": "d7febf1f-768b-49da-8d23-5c7ec547a30b",
   "metadata": {},
   "outputs": [],
   "source": []
  },
  {
   "cell_type": "code",
   "execution_count": null,
   "id": "170f85e1-ef72-4b33-8c71-0818fdfef561",
   "metadata": {},
   "outputs": [],
   "source": []
  },
  {
   "cell_type": "code",
   "execution_count": null,
   "id": "1fca8793-e78c-4727-a6df-b67db1b19807",
   "metadata": {},
   "outputs": [],
   "source": []
  },
  {
   "cell_type": "markdown",
   "id": "0d08ee6f-b17f-4101-bd54-35595b61366a",
   "metadata": {},
   "source": []
  },
  {
   "cell_type": "code",
   "execution_count": null,
   "id": "1ebd908a-f8d2-4d84-81d2-eb9bb84ce36f",
   "metadata": {},
   "outputs": [],
   "source": []
  },
  {
   "cell_type": "code",
   "execution_count": null,
   "id": "6f88f416-e993-45d4-83c1-f4cd7966d170",
   "metadata": {},
   "outputs": [],
   "source": []
  },
  {
   "cell_type": "markdown",
   "id": "8ae5a3a3-5005-4401-8f09-7ee20a0110ff",
   "metadata": {},
   "source": [
    "## Step 2: Loading Tabular Data\n",
    "<hr style=\"border:2px solid gray\"> </hr>"
   ]
  },
  {
   "cell_type": "markdown",
   "id": "cc60d99a-e1bf-4791-a2ed-87aec7621c65",
   "metadata": {},
   "source": [
    "Goal: To open the files "
   ]
  },
  {
   "cell_type": "code",
   "execution_count": null,
   "id": "d10656d8-3e80-499d-8fd7-8a028edab95f",
   "metadata": {},
   "outputs": [],
   "source": []
  },
  {
   "cell_type": "code",
   "execution_count": null,
   "id": "6cd7a354-4c96-4ddb-ad16-b25a9b1a4f3b",
   "metadata": {},
   "outputs": [],
   "source": []
  },
  {
   "cell_type": "markdown",
   "id": "13a59a6c-d009-463b-abe1-3a438f26d216",
   "metadata": {},
   "source": [
    "### Using the iPython Shell "
   ]
  },
  {
   "cell_type": "markdown",
   "id": "c48370f4-c518-4978-87cb-4b6dca790501",
   "metadata": {},
   "source": [
    "Here are some commonly used commands\n",
    "\n",
    "!pwd (This means print working directory) It tells us where we are inside of the computer's file system"
   ]
  },
  {
   "cell_type": "code",
   "execution_count": 4,
   "id": "4724d33a-66ad-4cfc-9661-820ad16060c0",
   "metadata": {},
   "outputs": [
    {
     "name": "stdout",
     "output_type": "stream",
     "text": [
      "/home/jentlejames/Projects/unpackAI/Course_Development/DL201/Week 1\n"
     ]
    }
   ],
   "source": [
    "!pwd"
   ]
  },
  {
   "cell_type": "markdown",
   "id": "a7a6db34-3bb9-4e1c-b307-24011b3155aa",
   "metadata": {},
   "source": [
    "! tells the shell we are doing something for only one command"
   ]
  },
  {
   "cell_type": "markdown",
   "id": "3b434589-e051-441f-b6c2-92b5f7b5c22c",
   "metadata": {},
   "source": [
    "!mkdir 'file_path' (make directory, this command can create a new file within the command)"
   ]
  },
  {
   "cell_type": "code",
   "execution_count": 5,
   "id": "617c8950-de49-4c29-b94d-561835386742",
   "metadata": {},
   "outputs": [],
   "source": [
    "!mkdir 'test_directory'"
   ]
  },
  {
   "cell_type": "markdown",
   "id": "2e754f62-3a80-4b2e-a1ef-a6e768ae4f08",
   "metadata": {},
   "source": []
  },
  {
   "cell_type": "markdown",
   "id": "e2cb814e-ec71-4f48-9253-58aabab94046",
   "metadata": {},
   "source": [
    "\n",
    "%cd 'file_path' changes the directory or folder which we are working inside of. The default is the home directory.\n",
    "\n",
    "The % character makes the option persistant rather than just running for one command\n",
    "\n",
    "notice how the % operator changes. It means that this will be persistant"
   ]
  },
  {
   "cell_type": "code",
   "execution_count": 6,
   "id": "8b2ef049-8397-4e76-8e3c-e617a18f4680",
   "metadata": {},
   "outputs": [
    {
     "name": "stdout",
     "output_type": "stream",
     "text": [
      "/home/jentlejames/Projects/unpackAI/Course_Development/DL201/Week 1/test_directory\n"
     ]
    }
   ],
   "source": [
    "%cd test_directory"
   ]
  },
  {
   "cell_type": "markdown",
   "id": "6056e36e-4e49-4be6-bf7c-b35c0c2af3a1",
   "metadata": {},
   "source": [
    "!wget 'url ' (Downloads a file from a url on the internet into the current directory)"
   ]
  },
  {
   "cell_type": "code",
   "execution_count": null,
   "id": "84f25f6d-a3ab-4d7a-8d80-9e88d8ea0c09",
   "metadata": {},
   "outputs": [],
   "source": [
    "#!wget 'url'"
   ]
  },
  {
   "cell_type": "markdown",
   "id": "03a14a6f-0da7-476c-8f31-b10a6344916b",
   "metadata": {},
   "source": [
    "!mv 'original_location' 'new_location' (moves a file, can also be used to rename a file)"
   ]
  },
  {
   "cell_type": "code",
   "execution_count": null,
   "id": "24e7e95c-93c5-4ca2-b99b-c35d23f38c9f",
   "metadata": {},
   "outputs": [],
   "source": [
    "#!mv 'file'"
   ]
  },
  {
   "cell_type": "markdown",
   "id": "d0f2caf6-64b3-4506-a622-6273114a7cea",
   "metadata": {},
   "source": [
    "It is a good idea to create a project folder where you can store everything in one place\n",
    "\n",
    "Then this project folder's file path becomes a configuration variable called the project root or base directory. This is useful when deploying your project"
   ]
  },
  {
   "cell_type": "code",
   "execution_count": 14,
   "id": "bd256079-edc0-43d6-8d7f-0891eda45b94",
   "metadata": {},
   "outputs": [],
   "source": [
    "# If you need ro remove a file\n",
    "# you can do so  with this \n",
    "%cd '..' # exits test directory\n",
    "!rm -r 'test_directory' #removes test"
   ]
  },
  {
   "cell_type": "code",
   "execution_count": null,
   "id": "24f6ae24-e8be-4d7c-b541-d7d936b6a730",
   "metadata": {},
   "outputs": [],
   "source": []
  },
  {
   "cell_type": "code",
   "execution_count": null,
   "id": "a21589be-28be-4d4b-8fb7-7925a1993359",
   "metadata": {},
   "outputs": [],
   "source": []
  },
  {
   "cell_type": "markdown",
   "id": "496da5ef-585e-47ce-b9a9-a76f5faeee2f",
   "metadata": {},
   "source": [
    "### Example 1: CSV data\n",
    "<hr style=\"border:1px solid gray\"> </hr>"
   ]
  },
  {
   "cell_type": "markdown",
   "id": "19e30c2d-5882-45a6-9b45-21126d7ec241",
   "metadata": {},
   "source": [
    "The most common file type for tabular data will be a csv file. CSV means comma seperated values. \n",
    "\n",
    "the CSV format is strong in structured data that could be described in an Excel Spreadsheet. \n",
    "\n",
    "This tutorial will go over some of the key problems one might come across.\n",
    "\n",
    "We'll talk about setting the encoding for different languages.\n",
    "\n",
    "We'll go over what a header is, \n",
    "and how we can give some additional instructions to pandas"
   ]
  },
  {
   "cell_type": "markdown",
   "id": "f9d2b75b-f90b-4304-8037-65c52968fbc8",
   "metadata": {},
   "source": [
    "#### i. pd.read_csv "
   ]
  },
  {
   "cell_type": "markdown",
   "id": "b6e7709b-a7e0-4de9-bad1-1c174cc1fbde",
   "metadata": {},
   "source": [
    "Pandas has execellent functionality for csv files.\n",
    "\n",
    "The method: \".read_csv\" can handle almost all of the initial setup without passing any commands or arguements.\n",
    "\n",
    "However, it is important to understand the following concepts\n",
    "\n",
    "1. Seperator / Delimiter: How the file is broken up into value\n",
    "\n",
    "2. Header: The column names\n",
    "\n",
    "3. Encoding: Simply put, what language the file is written in e.g. English, Chinese\n",
    "\n",
    "If we can pass these arguements to Pandas, it resolves a lot of the ambiguitites. If you end up needing more, you can check the pandas documentation here. \n",
    "\n",
    "https://pandas.pydata.org/docs/reference/api/pandas.read_csv.html\n"
   ]
  },
  {
   "cell_type": "code",
   "execution_count": 56,
   "id": "667d3b31-89b8-4f38-aa9d-8987d2fc51fb",
   "metadata": {},
   "outputs": [],
   "source": [
    "#hskVocab = pd.read_csv('./HSK Official With Definitions 2012 L3 freqorder.txt')\n",
    "hskVocabPath = 'data/ChineseVocabulary/HSK Official With Definitions 2012 L3 freqorder.txt'\n"
   ]
  },
  {
   "cell_type": "markdown",
   "id": "4a7bb257-e78b-48cb-bb4f-daec619af09b",
   "metadata": {},
   "source": [
    "#### Header\n",
    "\n",
    "\n",
    "Here, we have a messy file, which is a list of Chinese Vocabulary.\n",
    "\n",
    "This is a good example to use because most things are quite unclear, so we have to tell pandas the following bits of information\n",
    "\n"
   ]
  },
  {
   "cell_type": "code",
   "execution_count": 59,
   "id": "ce3e088e-74a0-43b8-a37f-b9707bdbed35",
   "metadata": {},
   "outputs": [],
   "source": [
    "#pd.read_csv(hskVocabPath)"
   ]
  },
  {
   "cell_type": "code",
   "execution_count": 62,
   "id": "5f8f1fb8-b1cc-45bd-b7a4-e6ae40543da2",
   "metadata": {},
   "outputs": [
    {
     "name": "stdout",
     "output_type": "stream",
     "text": [
      "(299, 12)\n"
     ]
    }
   ],
   "source": [
    "import pandas as pd\n",
    "#%cd PROJECT_ROOT\n",
    "hskVocab = pd.read_csv(hskVocabPath)\n",
    "print(hskVocab.shape)"
   ]
  },
  {
   "cell_type": "markdown",
   "id": "bf06669a-e6ae-44d0-81aa-eda29a550c1c",
   "metadata": {},
   "source": [
    "What is the red flag from this output? \n",
    "\n",
    "Before we even open the file, does it appear that the number of \n",
    "rows and columns is correct? \n",
    "\n",
    "Think for a moment, then run the following cell. "
   ]
  },
  {
   "cell_type": "code",
   "execution_count": 65,
   "id": "32eb9684-165b-42c3-8746-db1c8ef0e255",
   "metadata": {},
   "outputs": [],
   "source": [
    "#hskVocab.head()"
   ]
  },
  {
   "cell_type": "markdown",
   "id": "410a370b-00a4-4501-9b41-fdaf560a5817",
   "metadata": {},
   "source": [
    "Try running this code and find the problem with the output. \n",
    "\n",
    "Remember, that we are expecting 300 vocabulary words at the HSK3 level.\n",
    "\n",
    "What is the shape of our new data?\n",
    "\n",
    "What do the columns look like?"
   ]
  },
  {
   "cell_type": "code",
   "execution_count": 67,
   "id": "2f7dccb7-5873-4a6c-b5e4-16a07c1d3426",
   "metadata": {},
   "outputs": [
    {
     "name": "stdout",
     "output_type": "stream",
     "text": [
      "(300, 12)\n"
     ]
    }
   ],
   "source": [
    "hskVocab = pd.read_csv(hskVocabPath,\n",
    "                       header = None,\n",
    "                      )\n",
    "print(hskVocab.shape)"
   ]
  },
  {
   "cell_type": "markdown",
   "id": "eb3710f8-7f4e-4103-ba4b-6b5646822158",
   "metadata": {},
   "source": [
    "This looks slightly better. We now have our expected 300 rows.\n",
    "However, there is still something wrong with the number of columns.\n",
    "\n",
    "The problem in this case, turns out to be the seperator"
   ]
  },
  {
   "cell_type": "markdown",
   "id": "47deeec0-9ff3-4e43-baad-77375c50bc0c",
   "metadata": {},
   "source": [
    "#### tsv files (Seperators and Delimiters)"
   ]
  },
  {
   "cell_type": "code",
   "execution_count": 70,
   "id": "20fe93a2-5e04-40bc-8d0b-1a8b67e47034",
   "metadata": {},
   "outputs": [
    {
     "data": {
      "text/html": [
       "<div>\n",
       "<style scoped>\n",
       "    .dataframe tbody tr th:only-of-type {\n",
       "        vertical-align: middle;\n",
       "    }\n",
       "\n",
       "    .dataframe tbody tr th {\n",
       "        vertical-align: top;\n",
       "    }\n",
       "\n",
       "    .dataframe thead th {\n",
       "        text-align: right;\n",
       "    }\n",
       "</style>\n",
       "<table border=\"1\" class=\"dataframe\">\n",
       "  <thead>\n",
       "    <tr style=\"text-align: right;\">\n",
       "      <th></th>\n",
       "      <th>0</th>\n",
       "      <th>1</th>\n",
       "      <th>2</th>\n",
       "      <th>3</th>\n",
       "      <th>4</th>\n",
       "      <th>5</th>\n",
       "      <th>6</th>\n",
       "      <th>7</th>\n",
       "      <th>8</th>\n",
       "      <th>9</th>\n",
       "      <th>10</th>\n",
       "      <th>11</th>\n",
       "    </tr>\n",
       "  </thead>\n",
       "  <tbody>\n",
       "    <tr>\n",
       "      <th>0</th>\n",
       "      <td>啊\\t啊\\ta1</td>\n",
       "      <td>a2</td>\n",
       "      <td>a3</td>\n",
       "      <td>a4</td>\n",
       "      <td>a5\\tā</td>\n",
       "      <td>á</td>\n",
       "      <td>ǎ</td>\n",
       "      <td>à</td>\n",
       "      <td>a\\tah; (particle showing elation</td>\n",
       "      <td>doubt</td>\n",
       "      <td>puzzled surprise</td>\n",
       "      <td>or approval)</td>\n",
       "    </tr>\n",
       "    <tr>\n",
       "      <th>1</th>\n",
       "      <td>还\\t還\\thai2</td>\n",
       "      <td>huan2\\thái</td>\n",
       "      <td>huán\\tstill; yet; in addition; even | repay; ...</td>\n",
       "      <td>NaN</td>\n",
       "      <td>NaN</td>\n",
       "      <td>NaN</td>\n",
       "      <td>NaN</td>\n",
       "      <td>NaN</td>\n",
       "      <td>NaN</td>\n",
       "      <td>NaN</td>\n",
       "      <td>NaN</td>\n",
       "      <td>NaN</td>\n",
       "    </tr>\n",
       "  </tbody>\n",
       "</table>\n",
       "</div>"
      ],
      "text/plain": [
       "           0            1                                                  2   \\\n",
       "0    啊\\t啊\\ta1           a2                                                 a3   \n",
       "1  还\\t還\\thai2   huan2\\thái   huán\\tstill; yet; in addition; even | repay; ...   \n",
       "\n",
       "    3       4    5    6    7                                  8       9   \\\n",
       "0   a4   a5\\tā    á    ǎ    à   a\\tah; (particle showing elation   doubt   \n",
       "1  NaN     NaN  NaN  NaN  NaN                                NaN     NaN   \n",
       "\n",
       "                  10             11  \n",
       "0   puzzled surprise   or approval)  \n",
       "1                NaN            NaN  "
      ]
     },
     "execution_count": 70,
     "metadata": {},
     "output_type": "execute_result"
    }
   ],
   "source": [
    "hskVocab.head(2)"
   ]
  },
  {
   "cell_type": "markdown",
   "id": "905e6acd-a487-42e0-a406-c0d459464ef9",
   "metadata": {},
   "source": [
    "As you can see, there are way too many columns.\n",
    "\n",
    "In computers, the forward slash '\\' is very significant.\n",
    "\n",
    "Whenever you see at \\t or \\n it is an instruction to the computer.\n",
    "\n",
    "So, \\t does not belong, which means that it is our seperator\n",
    "\n"
   ]
  },
  {
   "cell_type": "code",
   "execution_count": 71,
   "id": "54d7f673-7b2a-43cc-bb66-e75c933189dd",
   "metadata": {},
   "outputs": [
    {
     "name": "stdout",
     "output_type": "stream",
     "text": [
      "(300, 5)\n"
     ]
    }
   ],
   "source": [
    "hskVocab = pd.read_csv(hskVocabPath,\n",
    "                       header = None,\n",
    "                       sep='\\t'\n",
    "                      )\n",
    "print(hskVocab.shape)"
   ]
  },
  {
   "cell_type": "markdown",
   "id": "51d85e55-cc9c-45c4-b3da-33c7f14850d5",
   "metadata": {},
   "source": [
    "This looks much better. Now, that we have the correct shape that we were expecting, we can now proceed"
   ]
  },
  {
   "cell_type": "code",
   "execution_count": null,
   "id": "2425728c-347e-437f-9e6f-cef8c304f9c3",
   "metadata": {},
   "outputs": [],
   "source": []
  },
  {
   "cell_type": "markdown",
   "id": "544dad5f-5a28-4f6b-b756-1df5d19b9211",
   "metadata": {},
   "source": []
  },
  {
   "cell_type": "code",
   "execution_count": null,
   "id": "6d9ad765-865f-4708-984a-b2645b9d494a",
   "metadata": {},
   "outputs": [],
   "source": []
  },
  {
   "cell_type": "markdown",
   "id": "fa4f570e-1fea-4362-a4d4-085aaa30e5e2",
   "metadata": {},
   "source": [
    "Now, let's look at the shape of our data. Is it what we are expecting now?\n",
    "\n",
    "What about the columns? Is the output what you expected, or is more managable?\n",
    "\n",
    "You can rename columns in example 1 (include reference link)"
   ]
  },
  {
   "cell_type": "markdown",
   "id": "43ba1d1c-d913-454e-b81f-b15e97eb396e",
   "metadata": {},
   "source": [
    "#### Language Encoding "
   ]
  },
  {
   "cell_type": "markdown",
   "id": "f1789818-f137-45cd-b1df-886bee069c66",
   "metadata": {},
   "source": [
    "Chinese language encoding utf-8 or gb2312"
   ]
  },
  {
   "cell_type": "code",
   "execution_count": 69,
   "id": "a187291b-b508-46de-bcd7-7ff0b958ef0f",
   "metadata": {},
   "outputs": [],
   "source": [
    "# As for encoding, you cah handle it in each column individually using this\n",
    "# Pandas method\n",
    "\n",
    "hskVocab.Simplified = hskVocab.Simplified.str.translate('gb2312')"
   ]
  },
  {
   "cell_type": "markdown",
   "id": "21a00f70-d7fe-4756-afe2-ae97b70f10c3",
   "metadata": {},
   "source": [
    "#### Seperators and Delimiters"
   ]
  },
  {
   "cell_type": "code",
   "execution_count": null,
   "id": "6a839a3d-01ed-420a-92f9-17214cd2f646",
   "metadata": {},
   "outputs": [],
   "source": []
  },
  {
   "cell_type": "code",
   "execution_count": null,
   "id": "433de52f-f125-4273-91b4-d9f779a1fb49",
   "metadata": {},
   "outputs": [],
   "source": []
  },
  {
   "cell_type": "code",
   "execution_count": null,
   "id": "30651509-080f-4962-abd5-07855d7d9693",
   "metadata": {},
   "outputs": [],
   "source": []
  },
  {
   "cell_type": "markdown",
   "id": "8f030a7e-94a7-40cb-9625-36649a257b08",
   "metadata": {},
   "source": [
    "### Example 2: JSON data\n",
    "<hr style=\"border:1px solid gray\"> </hr>"
   ]
  },
  {
   "cell_type": "markdown",
   "id": "aa5b8264-217a-42a0-802e-a74faf4b4725",
   "metadata": {},
   "source": []
  },
  {
   "cell_type": "code",
   "execution_count": null,
   "id": "ec3a3035-d76c-493f-b4fc-fcb45329f2a5",
   "metadata": {},
   "outputs": [],
   "source": []
  },
  {
   "cell_type": "markdown",
   "id": "0be55468-1278-4c0c-a95f-b4d2ba168a68",
   "metadata": {},
   "source": []
  },
  {
   "cell_type": "markdown",
   "id": "d57110b6-55ba-49ec-a240-c9a2b333bd40",
   "metadata": {},
   "source": [
    "### Example 3: Microsoft Excel\n",
    "<hr style=\"border:1px solid gray\"> </hr>"
   ]
  },
  {
   "cell_type": "markdown",
   "id": "b99df51e-b7eb-4cf5-982d-47a48ea4de96",
   "metadata": {},
   "source": []
  },
  {
   "cell_type": "code",
   "execution_count": null,
   "id": "7062fed3-1b4a-4c6b-a89b-2814db733e8a",
   "metadata": {},
   "outputs": [],
   "source": []
  },
  {
   "cell_type": "code",
   "execution_count": null,
   "id": "a1a2fc47-7604-4311-a525-d46f7c5543f9",
   "metadata": {},
   "outputs": [],
   "source": []
  },
  {
   "cell_type": "markdown",
   "id": "36469565-670f-4046-9c52-b3e648ddc71a",
   "metadata": {},
   "source": [
    "\n",
    "## Step 3: Exploring Tabular Data \n",
    "<hr style=\"border:2px solid gray\"> </hr>"
   ]
  },
  {
   "cell_type": "code",
   "execution_count": null,
   "id": "731b7cdb-1b0f-45e7-a2f6-95b033e2187c",
   "metadata": {},
   "outputs": [],
   "source": []
  },
  {
   "cell_type": "markdown",
   "id": "7a1503fa-0225-436c-8b64-61983acbe9ee",
   "metadata": {},
   "source": []
  },
  {
   "cell_type": "code",
   "execution_count": null,
   "id": "9af1f2b2-8843-457b-a08e-4a308012ddb1",
   "metadata": {},
   "outputs": [],
   "source": []
  },
  {
   "cell_type": "code",
   "execution_count": null,
   "id": "9a6d02a5-719a-44c0-9e3c-958a63b7c6c2",
   "metadata": {},
   "outputs": [],
   "source": []
  },
  {
   "cell_type": "markdown",
   "id": "6c1ad00b-1df6-415b-b753-35091a63e753",
   "metadata": {},
   "source": [
    "### Example 1: Renaming Columns\n",
    "<hr style=\"border:1px solid gray\"> </hr>"
   ]
  },
  {
   "cell_type": "markdown",
   "id": "2e7d2c1f-ca05-4065-98ed-d8953c9e6b18",
   "metadata": {},
   "source": [
    "Often, you will need to rename columns in Pandas Dataframes.\n",
    "\n",
    "Since, this will serve as an index, it is tightly coupled with all the operations you can do on it.\n",
    "\n",
    "As a result, creating a clear, legible index is a good first step.\n",
    "\n",
    "As for the naming convention, it is useful to use names that are clear and descriptive. You can always autocomplete the names using the tab feature in most IDEs and Jupyter notebooks\n",
    "\n",
    "But, first things first, a Pandas Dataframe column does not behave as one would expect as Python List to behave. "
   ]
  },
  {
   "cell_type": "markdown",
   "id": "b8199bb5-7841-4ada-9126-e93ddadbda83",
   "metadata": {},
   "source": [
    "Can rename the columns like this?\n",
    "\n",
    "Try this code below."
   ]
  },
  {
   "cell_type": "code",
   "execution_count": 44,
   "id": "3103cb49-369f-41f8-bc68-49bbf0521a88",
   "metadata": {
    "tags": []
   },
   "outputs": [],
   "source": [
    "hskVocab.columns[0] = 'Simplified'\n"
   ]
  },
  {
   "cell_type": "markdown",
   "id": "d49ba6dd-3dc0-4887-8f32-906fc8d7786b",
   "metadata": {},
   "source": [
    "Error Message Translation:\n",
    "\n",
    "Do not change the index name, unless you absolutely mean to do so\n",
    "\n",
    "Mutable means able to be changed. So, the columns are immutable.\n",
    "\n",
    "Because the index is so important in Pandas, it does not allow you to swap out one columns name as you please, and for a very good reason.\n",
    "\n",
    "\n",
    "Imagine, if a city changed the name of it's streets all the time, it would be difficult to get around, or use a map that is slightly outdated. Addresses on a street would change, and delivering mail would become more difficult. \n",
    "\n",
    "@@ Picture of mail \n",
    "\n",
    "In short, much of your code will depend on the name you give the column, because it allows you to find where your data is. \n",
    "\n",
    "Your code will break if you are always changing the name of columns.\n",
    "\n",
    "\n",
    "\n",
    "Therefore, Pandas forces you to be very intentional about the name of the column. \n",
    "\n",
    "So this is how you can change the names of the columns \n",
    "\n",
    "In programming Jargon, this kind of data is called a tuple. \n",
    "This is used in place of lists, when other parts of a program depend"
   ]
  },
  {
   "cell_type": "code",
   "execution_count": 45,
   "id": "84170a78-5abf-481a-b8d1-e44e803ab121",
   "metadata": {},
   "outputs": [],
   "source": [
    "# Create a python list\n",
    "hskVocabColumns = ['Simplified','Traditional','Pinyin_Numbers','Pinyin_Accented','Definition']\n",
    "\n",
    "hskVocab.columns = hskVocabColumns"
   ]
  },
  {
   "cell_type": "code",
   "execution_count": 65,
   "id": "01f5d96a-6bee-4858-b44a-74d1b732060b",
   "metadata": {},
   "outputs": [
    {
     "data": {
      "text/html": [
       "<div>\n",
       "<style scoped>\n",
       "    .dataframe tbody tr th:only-of-type {\n",
       "        vertical-align: middle;\n",
       "    }\n",
       "\n",
       "    .dataframe tbody tr th {\n",
       "        vertical-align: top;\n",
       "    }\n",
       "\n",
       "    .dataframe thead th {\n",
       "        text-align: right;\n",
       "    }\n",
       "</style>\n",
       "<table border=\"1\" class=\"dataframe\">\n",
       "  <thead>\n",
       "    <tr style=\"text-align: right;\">\n",
       "      <th></th>\n",
       "      <th>Simplified</th>\n",
       "      <th>Traditional</th>\n",
       "      <th>Pinyin_Numbers</th>\n",
       "      <th>Pinyin_Accented</th>\n",
       "      <th>Definition</th>\n",
       "    </tr>\n",
       "  </thead>\n",
       "  <tbody>\n",
       "    <tr>\n",
       "      <th>0</th>\n",
       "      <td>啊</td>\n",
       "      <td>啊</td>\n",
       "      <td>a1, a2, a3, a4, a5</td>\n",
       "      <td>ā, á, ǎ, à, a</td>\n",
       "      <td>ah; (particle showing elation, doubt, puzzled ...</td>\n",
       "    </tr>\n",
       "    <tr>\n",
       "      <th>1</th>\n",
       "      <td>还</td>\n",
       "      <td>還</td>\n",
       "      <td>hai2, huan2</td>\n",
       "      <td>hái, huán</td>\n",
       "      <td>still; yet; in addition; even | repay; to return</td>\n",
       "    </tr>\n",
       "    <tr>\n",
       "      <th>2</th>\n",
       "      <td>把</td>\n",
       "      <td>把</td>\n",
       "      <td>ba3, ba4</td>\n",
       "      <td>bǎ, bà</td>\n",
       "      <td>(mw for things with handles); (pretransitive p...</td>\n",
       "    </tr>\n",
       "    <tr>\n",
       "      <th>3</th>\n",
       "      <td>过</td>\n",
       "      <td>過</td>\n",
       "      <td>guo4</td>\n",
       "      <td>guò</td>\n",
       "      <td>to pass; to cross; go over; (indicates a past ...</td>\n",
       "    </tr>\n",
       "    <tr>\n",
       "      <th>4</th>\n",
       "      <td>如果</td>\n",
       "      <td>如果</td>\n",
       "      <td>ru2guo3</td>\n",
       "      <td>rúguǒ</td>\n",
       "      <td>if; in the event that</td>\n",
       "    </tr>\n",
       "  </tbody>\n",
       "</table>\n",
       "</div>"
      ],
      "text/plain": [
       "  Simplified Traditional      Pinyin_Numbers Pinyin_Accented  \\\n",
       "0          啊           啊  a1, a2, a3, a4, a5   ā, á, ǎ, à, a   \n",
       "1          还           還         hai2, huan2       hái, huán   \n",
       "2          把           把            ba3, ba4          bǎ, bà   \n",
       "3          过           過                guo4             guò   \n",
       "4         如果          如果             ru2guo3           rúguǒ   \n",
       "\n",
       "                                          Definition  \n",
       "0  ah; (particle showing elation, doubt, puzzled ...  \n",
       "1   still; yet; in addition; even | repay; to return  \n",
       "2  (mw for things with handles); (pretransitive p...  \n",
       "3  to pass; to cross; go over; (indicates a past ...  \n",
       "4                              if; in the event that  "
      ]
     },
     "execution_count": 65,
     "metadata": {},
     "output_type": "execute_result"
    }
   ],
   "source": [
    "# Now this is looking a lot better \n",
    "hskVocab.head(5)\n",
    "\n",
    "# However, we should give the columns names for greater clarity\n"
   ]
  },
  {
   "cell_type": "code",
   "execution_count": 51,
   "id": "82bb8f70-4ad0-4345-b1f9-c5ea3970906a",
   "metadata": {},
   "outputs": [
    {
     "name": "stdout",
     "output_type": "stream",
     "text": [
      "Pinyin_Accented\n"
     ]
    }
   ],
   "source": [
    "# if you wish to change just one you can do this \n",
    "\n",
    "# \n",
    "hskVocabColumns = list(hskVocab.columns)\n",
    "print(hskVocabColumns[3])"
   ]
  },
  {
   "cell_type": "code",
   "execution_count": 52,
   "id": "05e683b3-d902-4d62-b89b-f908652c3c29",
   "metadata": {},
   "outputs": [],
   "source": [
    "hskVocabColumns[3] = 'Pinyin_Accented'"
   ]
  },
  {
   "cell_type": "code",
   "execution_count": 53,
   "id": "a7635f33-3728-47f5-8517-d56b2a7893d1",
   "metadata": {},
   "outputs": [],
   "source": [
    "hskVocab.columns = hskVocabColumns"
   ]
  },
  {
   "cell_type": "code",
   "execution_count": null,
   "id": "c718b511-6b8a-48bd-9963-9e4a6f9a58bd",
   "metadata": {},
   "outputs": [],
   "source": []
  },
  {
   "cell_type": "code",
   "execution_count": null,
   "id": "2ceb3447-6acd-4604-97de-bc63acb3cc47",
   "metadata": {},
   "outputs": [],
   "source": []
  },
  {
   "cell_type": "code",
   "execution_count": null,
   "id": "d61f8988-405d-458a-be33-57770554d47f",
   "metadata": {},
   "outputs": [],
   "source": []
  },
  {
   "cell_type": "markdown",
   "id": "613e0f40-0f28-4e43-9081-7ed2d97712ae",
   "metadata": {},
   "source": [
    "### Example 2: Checking for Null Values\n",
    "<hr style=\"border:1px solid gray\"> </hr>"
   ]
  },
  {
   "cell_type": "code",
   "execution_count": null,
   "id": "da26cee2-add8-4ddf-8160-e19e594c7582",
   "metadata": {},
   "outputs": [],
   "source": []
  },
  {
   "cell_type": "code",
   "execution_count": null,
   "id": "772bfd7b-0f9c-4585-a938-f058114c9206",
   "metadata": {},
   "outputs": [],
   "source": []
  },
  {
   "cell_type": "markdown",
   "id": "aba12dc4-6d7c-4771-ae31-2fb13ca37e44",
   "metadata": {},
   "source": [
    "### Example 3: Obtaining Summary Statistics\n",
    "<hr style=\"border:1px solid gray\"> </hr>"
   ]
  },
  {
   "cell_type": "code",
   "execution_count": null,
   "id": "386d49a9-1429-48b7-bb44-ef9e1aaed29b",
   "metadata": {},
   "outputs": [],
   "source": []
  },
  {
   "cell_type": "code",
   "execution_count": null,
   "id": "54a5a827-65ff-40c9-a1db-c69b2d01ec4a",
   "metadata": {},
   "outputs": [],
   "source": []
  },
  {
   "cell_type": "code",
   "execution_count": null,
   "id": "54f1e6a1-d664-444c-af55-498e6e1bf192",
   "metadata": {},
   "outputs": [],
   "source": []
  },
  {
   "cell_type": "code",
   "execution_count": null,
   "id": "c40ea7f0-4c43-44f8-8a33-09f1057faaa5",
   "metadata": {},
   "outputs": [],
   "source": []
  },
  {
   "cell_type": "markdown",
   "id": "1d360ead-dcc8-4db3-85cf-e8bea19403db",
   "metadata": {},
   "source": [
    "# Section 2: Image Data for CV\n",
    "<hr style=\"border:4px solid gray\"> </hr>"
   ]
  },
  {
   "cell_type": "markdown",
   "id": "d6e37b9f-d737-423b-8fab-72af5520bb7b",
   "metadata": {},
   "source": [
    "{{Referencing FastAI course in here}}"
   ]
  },
  {
   "cell_type": "code",
   "execution_count": null,
   "id": "495532d8-e048-433c-96c8-e826dfb295e1",
   "metadata": {},
   "outputs": [],
   "source": []
  },
  {
   "cell_type": "markdown",
   "id": "4ad328b3-853d-4b81-a278-5a4ea2e7336b",
   "metadata": {
    "toc-hr-collapsed": true
   },
   "source": [
    "## Step 1: Choosing a dataset\n",
    "<hr style=\"border:2px solid gray\"> </hr>"
   ]
  },
  {
   "cell_type": "markdown",
   "id": "8b60fc53-9e59-4003-a68e-0cf006677d17",
   "metadata": {},
   "source": [
    "### What kind of problem are we trying to solve? "
   ]
  },
  {
   "cell_type": "markdown",
   "id": "d516b8e2-3f02-4f19-8c42-406b1413c829",
   "metadata": {},
   "source": [
    "### Data Sources for CV"
   ]
  },
  {
   "cell_type": "code",
   "execution_count": null,
   "id": "b4c07b03-cf6e-42ab-a56b-fa46e5e63bf1",
   "metadata": {},
   "outputs": [],
   "source": []
  },
  {
   "cell_type": "code",
   "execution_count": null,
   "id": "f9b44c03-c2c4-495f-94e0-94b908a16f75",
   "metadata": {},
   "outputs": [],
   "source": []
  },
  {
   "cell_type": "markdown",
   "id": "ef591000-3eb3-4c39-9a8b-c31a17d162a2",
   "metadata": {},
   "source": [
    "### Where should we store the data?"
   ]
  },
  {
   "cell_type": "code",
   "execution_count": 54,
   "id": "48c1024b-39ad-4179-96b6-bf8a61f245f1",
   "metadata": {},
   "outputs": [],
   "source": [
    "## Google drive tutorial\n",
    "\n",
    "# How to load it directly onto the machine"
   ]
  },
  {
   "cell_type": "code",
   "execution_count": null,
   "id": "31a073fd-e0ad-43bb-be7c-4ed659634ff4",
   "metadata": {},
   "outputs": [],
   "source": []
  },
  {
   "cell_type": "markdown",
   "id": "449f3af3-a071-4b9a-8ae2-0da365076e48",
   "metadata": {},
   "source": [
    "### Class Balance"
   ]
  },
  {
   "cell_type": "code",
   "execution_count": null,
   "id": "8ac6cdf1-81c8-4bac-bb37-aa16d8689ce5",
   "metadata": {},
   "outputs": [],
   "source": []
  },
  {
   "cell_type": "markdown",
   "id": "546e8eb6-05f4-4739-97b9-80796f48cf30",
   "metadata": {},
   "source": [
    "#### Ipython: Examining Directory Structure"
   ]
  },
  {
   "cell_type": "code",
   "execution_count": null,
   "id": "80ede561-2c8d-41ec-8889-c40fb033abd0",
   "metadata": {},
   "outputs": [],
   "source": []
  },
  {
   "cell_type": "code",
   "execution_count": null,
   "id": "dd537fcf-bb1a-4430-a906-87ce3507a438",
   "metadata": {},
   "outputs": [],
   "source": []
  },
  {
   "cell_type": "code",
   "execution_count": null,
   "id": "0d4ed9f5-9d65-466b-8cbb-ee694cef677f",
   "metadata": {},
   "outputs": [],
   "source": []
  },
  {
   "cell_type": "markdown",
   "id": "a1e03730-cd5e-459c-8eca-69825d5e7a90",
   "metadata": {},
   "source": [
    "## Step 2: Loading Image Data\n",
    "<hr style=\"border:2px solid gray\"> </hr>"
   ]
  },
  {
   "cell_type": "markdown",
   "id": "8e069929-c13d-4abb-aec5-2ae23e3cb0db",
   "metadata": {},
   "source": [
    "As is always, the question becomes, how do we access our data.\n",
    "\n",
    "How is it stored?\n",
    "\n",
    "In general, most computer vision data sets are organized in two ways.\n",
    "\n",
    "* As individual files \n",
    "\n",
    "* With Metadata (Tables which contain the information we need)"
   ]
  },
  {
   "cell_type": "markdown",
   "id": "d744f746-f934-4ea3-91a1-874ab14f78cf",
   "metadata": {},
   "source": [
    "To do this, we are going to walk through a couple datasets"
   ]
  },
  {
   "cell_type": "markdown",
   "id": "4e03d378-2d5f-4c32-a335-494539c8298b",
   "metadata": {},
   "source": [
    "\n",
    "### Key Concept: File Paths"
   ]
  },
  {
   "cell_type": "code",
   "execution_count": 126,
   "id": "96b9ce92-6ece-4af2-a740-93739001b579",
   "metadata": {},
   "outputs": [
    {
     "data": {
      "text/plain": [
       "PosixPath('/home/jentlejames/Datasets/unpackAI/DL201-3.0')"
      ]
     },
     "execution_count": 126,
     "metadata": {},
     "output_type": "execute_result"
    }
   ],
   "source": [
    "CONTENT_DIR"
   ]
  },
  {
   "cell_type": "code",
   "execution_count": null,
   "id": "6027c69d-612c-49ca-b90a-d8041c52287c",
   "metadata": {},
   "outputs": [],
   "source": []
  },
  {
   "cell_type": "markdown",
   "id": "549938be-2e60-44bf-9ef4-ce1a6e5ebc94",
   "metadata": {
    "tags": []
   },
   "source": [
    "### Case 1: Data points as Individual files\n",
    "<hr style=\"border:1px solid gray\"> </hr>"
   ]
  },
  {
   "cell_type": "markdown",
   "id": "0504887b-24ce-450a-99dd-b771441f40f3",
   "metadata": {},
   "source": [
    "For this case, we are going to show how images are often organized \n",
    ":\n",
    "in directories, and how we can extract our data.\n",
    "\n",
    "As always, we need to be thinking about the following ideas \n",
    "\n",
    "* What are the potential target variables or labels?\n",
    "\n",
    "* What are  the potentia feature variables in the dataset? How are they relevant?\n",
    "\n",
    "* {{Continue to add more questions}}"
   ]
  },
  {
   "cell_type": "markdown",
   "id": "4321d38d-f2d6-4911-90dd-7c094785ff69",
   "metadata": {
    "toc-hr-collapsed": true
   },
   "source": [
    "#### Extracting Zip Files\n",
    "<hr style=\"border:1px solid gray\"> </hr>\n",
    "\n",
    "Zip files are incredibly common in many areas.\n",
    "\n",
    "For datasets, they serve two primary purposes\n",
    "\n",
    "1. This format bundles together many files into one and makes it easier and faster to send it over the internet. Network protocols are similar to the mail. It's much less complicated to send a shipping container rather than do paperwork and handling of thousands of individual boxes.\n",
    "\n",
    "2. Compression. The other problem is bandwidth. Zip files, along with other formats, can make files smaller which is beneficial because they take up less space on the hard drive. More importantly, this means that we can download the dataset faster. \n",
    "\n"
   ]
  },
  {
   "cell_type": "markdown",
   "id": "46df5233-a8da-4965-a2ce-ff0deb75f9fa",
   "metadata": {},
   "source": [
    "##### Step 1: Find the exact file path"
   ]
  },
  {
   "cell_type": "code",
   "execution_count": 5,
   "id": "aaf154cb-103d-4182-9771-0ae414798f33",
   "metadata": {},
   "outputs": [],
   "source": [
    "# Setting the file path using pathlib\n",
    "\n",
    "emotionsImagesZipPath = CONTENT_DIR / 'opencv-emotion-images.zip'\n"
   ]
  },
  {
   "cell_type": "code",
   "execution_count": null,
   "id": "89f20910-a991-48dc-8cd1-5225e1821ef1",
   "metadata": {},
   "outputs": [],
   "source": []
  },
  {
   "cell_type": "code",
   "execution_count": null,
   "id": "3fe68bad-e5aa-4852-9c33-1b618cfb7afd",
   "metadata": {},
   "outputs": [],
   "source": []
  },
  {
   "cell_type": "markdown",
   "id": "d7b646c8-27e7-4b8f-8628-dbacbcae9a6c",
   "metadata": {},
   "source": [
    "##### Step 2: Unzip the files\n",
    "\n",
    "In this code, we are using a library called shutil\n",
    "Shutil is short for shell utility.\n",
    "\n",
    "This allows python to make commands in the shell like we learned earlier.\n",
    "\n",
    "In this case, we are telling it to unzip a file at location X and put it into location Y"
   ]
  },
  {
   "cell_type": "code",
   "execution_count": 8,
   "id": "a1a3bac0-3b2a-42c9-b181-d84ab4778b26",
   "metadata": {},
   "outputs": [],
   "source": [
    "# Unzipping Zip files in Python\n",
    "import os\n",
    "from shutil import unpack_archive\n",
    "\n",
    "unpack_archive(emotionsImagesZipPath, CONTENT_DIR)\n"
   ]
  },
  {
   "cell_type": "markdown",
   "id": "ad03db96-ee3b-44ce-9f07-be132fac4196",
   "metadata": {},
   "source": [
    "##### Step 3: Check the file path\n",
    "\n",
    "\n",
    "\n",
    "Now that we extracted the data, we now need to make sure that we know where our data is, and check up on it before proceeding to the next level.\n",
    "\n",
    "Check the output of the next command and see what it is doing."
   ]
  },
  {
   "cell_type": "code",
   "execution_count": 9,
   "id": "bbb9192d-c84a-4dd8-8ef7-f074b9a354bd",
   "metadata": {},
   "outputs": [
    {
     "data": {
      "text/plain": [
       "['opencv-emotion-images.zip', 'Images', 'emotion-images']"
      ]
     },
     "execution_count": 9,
     "metadata": {},
     "output_type": "execute_result"
    }
   ],
   "source": [
    "os.listdir(CONTENT_DIR)"
   ]
  },
  {
   "cell_type": "markdown",
   "id": "4569a3a0-9594-40e5-8423-91cc2a72d6a1",
   "metadata": {},
   "source": [
    "The directory is called 'images'\n",
    "\n",
    "This is not very clear, so we should rename it so that\n",
    "our data never gets lost."
   ]
  },
  {
   "cell_type": "code",
   "execution_count": 14,
   "id": "349a1696-73ad-41dd-87b9-03d0de894a39",
   "metadata": {},
   "outputs": [],
   "source": [
    "os.rename(CONTENT_DIR/ 'Images',CONTENT_DIR / 'emotion-images')"
   ]
  },
  {
   "cell_type": "code",
   "execution_count": 13,
   "id": "466d07c3-f7bb-484f-a3af-356355ba9c40",
   "metadata": {},
   "outputs": [],
   "source": [
    "# Let's change the directory we are working in \n",
    "os.chdir(CONTENT_DIR/ 'emotion-images')"
   ]
  },
  {
   "cell_type": "markdown",
   "id": "389e7ec5-2974-40be-83d9-bd591539b3ba",
   "metadata": {},
   "source": [
    "Now that we have unzipped our dataset, we can proceed to see \n",
    "what is inside of it. We should look for our labels first"
   ]
  },
  {
   "cell_type": "markdown",
   "id": "a427dc38-991f-4b77-967a-8c89c3620da4",
   "metadata": {},
   "source": [
    "#### EDA: Extracting labels from file paths\n",
    "<hr style=\"border:0.5px solid gray\"> </hr>"
   ]
  },
  {
   "cell_type": "markdown",
   "id": "42241424-b36b-4a6a-86e4-5bc35522f9bd",
   "metadata": {},
   "source": [
    "The next thing we need to do is to find the labels in our dataset.\n",
    "\n",
    "remember the y = mx + b example. We need to tell the AI model what the target for prediction will be.\n",
    "\n",
    "In this case, the labels are organized as file paths. Let's take a look here."
   ]
  },
  {
   "cell_type": "markdown",
   "id": "108e5546-042c-4bc4-899b-14acbe672ed6",
   "metadata": {},
   "source": [
    "##### Step 1: Find the root directory\n",
    "\n",
    "File systems are often refered to as file trees. "
   ]
  },
  {
   "cell_type": "code",
   "execution_count": 157,
   "id": "92839f4d-2079-431d-8b47-848007dc8a54",
   "metadata": {},
   "outputs": [],
   "source": [
    "\n",
    "\n",
    "os.chdir(CONTENT_DIR / 'emotion-images')"
   ]
  },
  {
   "cell_type": "code",
   "execution_count": 158,
   "id": "ccea6332-7ee5-4e6e-b75c-b12ccf172a52",
   "metadata": {},
   "outputs": [
    {
     "data": {
      "text/plain": [
       "PosixPath('/home/jentlejames/Datasets/unpackAI/DL201-3.0/emotion-images')"
      ]
     },
     "execution_count": 158,
     "metadata": {},
     "output_type": "execute_result"
    }
   ],
   "source": [
    "Path.cwd()"
   ]
  },
  {
   "cell_type": "code",
   "execution_count": null,
   "id": "db61aedc-74a2-47b9-8a74-20192d3a9692",
   "metadata": {},
   "outputs": [],
   "source": [
    "os.chdir"
   ]
  },
  {
   "cell_type": "code",
   "execution_count": 15,
   "id": "207d555d-6872-4b87-a016-0759170a73b2",
   "metadata": {},
   "outputs": [
    {
     "name": "stdout",
     "output_type": "stream",
     "text": [
      "/home/jentlejames/Datasets/unpackAI/DL201-3.0/emotion-images\n",
      "['validation', 'train']\n"
     ]
    }
   ],
   "source": [
    "print(Path.cwd())\n",
    "print(os.listdir())"
   ]
  },
  {
   "cell_type": "code",
   "execution_count": 16,
   "id": "38e17e6a-d9ec-4ba3-9c95-ce00c58cb1c7",
   "metadata": {},
   "outputs": [],
   "source": [
    "os.chdir('train')"
   ]
  },
  {
   "cell_type": "code",
   "execution_count": 17,
   "id": "fc7de07f-bafa-44a3-b63b-c0b8c7e30b32",
   "metadata": {},
   "outputs": [
    {
     "name": "stdout",
     "output_type": "stream",
     "text": [
      "/home/jentlejames/Datasets/unpackAI/DL201-3.0/emotion-images/train\n",
      "['Fear', 'Angry', 'Neutral', 'Surprise', 'Happy', 'Sad', 'Disgust']\n"
     ]
    }
   ],
   "source": [
    "print(Path.cwd())\n",
    "print(os.listdir())"
   ]
  },
  {
   "cell_type": "code",
   "execution_count": 29,
   "id": "cf7650c3-0732-4bda-85eb-41a0a8159865",
   "metadata": {},
   "outputs": [],
   "source": [
    "TRAIN_DIR = CONTENT_DIR/'emotion-images'/'train'"
   ]
  },
  {
   "cell_type": "code",
   "execution_count": 30,
   "id": "5242b2da-253c-4d31-8873-21231b08415a",
   "metadata": {},
   "outputs": [],
   "source": [
    "labels = os.listdir(TRAIN_DIR)"
   ]
  },
  {
   "cell_type": "markdown",
   "id": "59d4631c-0c3a-4043-aaf4-a237de2c1f15",
   "metadata": {},
   "source": [
    "Now we have our labels. Let's look at them and decide what we can do now with them."
   ]
  },
  {
   "cell_type": "code",
   "execution_count": 31,
   "id": "acbb03b2-3ca1-4e0f-a19f-65c7ae041257",
   "metadata": {},
   "outputs": [
    {
     "name": "stdout",
     "output_type": "stream",
     "text": [
      "total number of labels: 7\n"
     ]
    }
   ],
   "source": [
    "print(f'total number of labels: {len(labels)}')"
   ]
  },
  {
   "cell_type": "markdown",
   "id": "3b4f9a87-cdd6-4cd8-8c13-7b31e38f9fcb",
   "metadata": {},
   "source": [
    "#### EDA: Extracting file paths for images"
   ]
  },
  {
   "cell_type": "code",
   "execution_count": 44,
   "id": "37b8e4cd-3c02-4bbe-af1b-620ce3841709",
   "metadata": {},
   "outputs": [
    {
     "name": "stdout",
     "output_type": "stream",
     "text": [
      "4097\n",
      "3995\n",
      "4965\n",
      "3171\n",
      "7215\n",
      "4830\n",
      "436\n"
     ]
    }
   ],
   "source": [
    "for label in os.listdir(TRAIN_DIR):\n",
    "    imagesDirectory = TRAIN_DIR/label\n",
    "    #print(directoryPath)\n",
    "    \n",
    "    images = os.listdir(imagesDirectory)\n",
    "    for imageName in images:\n",
    "        \n",
    "        imagePath = imagesDirectory/imagesPath # makes a longer path\n",
    "        \n",
    "        \n",
    "        imageName = imagePath \n",
    "    print(len(images))\n",
    "    "
   ]
  },
  {
   "cell_type": "code",
   "execution_count": 56,
   "id": "6780889a-954b-4cb9-a089-ceaafb831d33",
   "metadata": {},
   "outputs": [
    {
     "name": "stdout",
     "output_type": "stream",
     "text": [
      "4097\n",
      "3995\n",
      "4965\n",
      "3171\n",
      "7215\n",
      "4830\n",
      "436\n",
      "dict_keys(['Fear', 'Angry', 'Neutral', 'Surprise', 'Happy', 'Sad', 'Disgust'])\n"
     ]
    }
   ],
   "source": [
    "root_dir = \"/content/drive/MyDrive/Colab Data\"\n",
    "base_dir = root_dir + '/Tomato_Sample'\n",
    "\n",
    "imagesDictionary = {}\n",
    "for label in labels:\n",
    "    classDir = TRAIN_DIR/label\n",
    "    classImagePathsList = [classDir/ImageName for ImageName in os.listdir(classDir)]\n",
    "    \n",
    "    print(len(classImagePathsList))\n",
    "    imagesDictionary[label] = classImagePathsList\n",
    "print(imagesDictionary.keys())"
   ]
  },
  {
   "cell_type": "code",
   "execution_count": 55,
   "id": "f3931d64-7d31-43de-bd14-519e796e6b82",
   "metadata": {},
   "outputs": [
    {
     "data": {
      "text/plain": [
       "PosixPath('/home/jentlejames/Datasets/unpackAI/DL201-3.0/emotion-images/train/Happy/5618.jpg')"
      ]
     },
     "execution_count": 55,
     "metadata": {},
     "output_type": "execute_result"
    }
   ],
   "source": [
    "imagesDictionary['Happy'][0]"
   ]
  },
  {
   "cell_type": "markdown",
   "id": "d26401ff-f415-4a85-a99e-30aaff3edf57",
   "metadata": {},
   "source": [
    "### Example 2: Metadata"
   ]
  },
  {
   "cell_type": "code",
   "execution_count": null,
   "id": "6c6d4260-1c90-4dfc-96f6-c2c48fff617d",
   "metadata": {},
   "outputs": [],
   "source": []
  },
  {
   "cell_type": "code",
   "execution_count": null,
   "id": "da4f8e9b-a26e-49cb-a16c-238aba8abe5f",
   "metadata": {},
   "outputs": [],
   "source": []
  },
  {
   "cell_type": "markdown",
   "id": "3a214a7f-bc1f-48a3-b8ef-588c743e860a",
   "metadata": {
    "toc-hr-collapsed": true
   },
   "source": [
    "### Example 3: A table of URLs\n",
    "<hr style=\"border:1px solid gray\"> </hr>"
   ]
  },
  {
   "cell_type": "markdown",
   "id": "168d4257-9ecf-47ed-b555-ea59125fb863",
   "metadata": {},
   "source": [
    "Often, "
   ]
  },
  {
   "cell_type": "code",
   "execution_count": null,
   "id": "d140212b-6a4b-4adf-961e-47df6ab028d5",
   "metadata": {},
   "outputs": [],
   "source": []
  },
  {
   "cell_type": "markdown",
   "id": "07d0c7ab-09fb-44f3-aa7b-802f5920f4da",
   "metadata": {
    "tags": []
   },
   "source": [
    "\n",
    "Type 3: A csv of labels and URLs\n",
    "\n",
    "This is a google landmarks image dataset, instead of coming in a zip file, we instead get a lot of metadata files\n",
    "\n",
    "These  metadata files contain the urls to the images that we will eventually need\n",
    "\n",
    "##### ETL \n",
    "\n",
    "Step 1, identifying the x and the y \n",
    "\n",
    "Features in this case are the images\n",
    "\n",
    "Labels in this case are the  landmark IDs\n",
    "\n",
    "Now, we need to get these two"
   ]
  },
  {
   "cell_type": "code",
   "execution_count": 109,
   "id": "626c8828-f047-4233-875b-00c726c4da43",
   "metadata": {},
   "outputs": [
    {
     "name": "stdout",
     "output_type": "stream",
     "text": [
      "recognition_solution.csv\n",
      "train.csv\n",
      "retrieval_solution.csv\n",
      "boxes_split2.csv\n",
      "index.csv\n",
      "test.csv\n",
      "boxes_split1.csv\n"
     ]
    }
   ],
   "source": [
    "# Type of computer vision datasets \n",
    "import os \n",
    "\n",
    "googleLandmarksPath = '/home/jentlejames/Datasets/Google-Landmarks/'\n",
    "\n",
    "for dirname, _, filenames in os.walk(googleLandmarksPath):\n",
    "    for filename in filenames: \n",
    "        print(filename)\n",
    "        filepath = os.path.join(dirname,filename)\n",
    "        filename = filename.split('.')[0]\n",
    "\n",
    "        exec(f\"{filename} = pd.read_csv('{filepath}')\")\n"
   ]
  },
  {
   "cell_type": "markdown",
   "id": "4491d4e1-0aab-45ad-b899-aea59476c919",
   "metadata": {},
   "source": [
    "### Let's take a look at everything in our dataset using.head() and printing the shape\n",
    "\n",
    "We want to know  the shape, because as we learned in the last lesson, shape is very important.\n",
    "\n",
    "If we check the ratios of the shape and we find relationships, we can confirm that we have what we need\n",
    "\n"
   ]
  },
  {
   "cell_type": "code",
   "execution_count": 118,
   "id": "1a1b758b-4e3f-4f37-b65b-ad2f99c59234",
   "metadata": {},
   "outputs": [
    {
     "name": "stdout",
     "output_type": "stream",
     "text": [
      "(117703, 3)\n"
     ]
    },
    {
     "data": {
      "text/html": [
       "<div>\n",
       "<style scoped>\n",
       "    .dataframe tbody tr th:only-of-type {\n",
       "        vertical-align: middle;\n",
       "    }\n",
       "\n",
       "    .dataframe tbody tr th {\n",
       "        vertical-align: top;\n",
       "    }\n",
       "\n",
       "    .dataframe thead th {\n",
       "        text-align: right;\n",
       "    }\n",
       "</style>\n",
       "<table border=\"1\" class=\"dataframe\">\n",
       "  <thead>\n",
       "    <tr style=\"text-align: right;\">\n",
       "      <th></th>\n",
       "      <th>id</th>\n",
       "      <th>landmarks</th>\n",
       "      <th>Usage</th>\n",
       "    </tr>\n",
       "  </thead>\n",
       "  <tbody>\n",
       "    <tr>\n",
       "      <th>0</th>\n",
       "      <td>b8a5057fdc51fb0a</td>\n",
       "      <td>NaN</td>\n",
       "      <td>Private</td>\n",
       "    </tr>\n",
       "    <tr>\n",
       "      <th>1</th>\n",
       "      <td>a0ae5b40187f3e6e</td>\n",
       "      <td>NaN</td>\n",
       "      <td>Public</td>\n",
       "    </tr>\n",
       "    <tr>\n",
       "      <th>2</th>\n",
       "      <td>8102cf887daa75b9</td>\n",
       "      <td>NaN</td>\n",
       "      <td>Public</td>\n",
       "    </tr>\n",
       "  </tbody>\n",
       "</table>\n",
       "</div>"
      ],
      "text/plain": [
       "                 id landmarks    Usage\n",
       "0  b8a5057fdc51fb0a       NaN  Private\n",
       "1  a0ae5b40187f3e6e       NaN   Public\n",
       "2  8102cf887daa75b9       NaN   Public"
      ]
     },
     "execution_count": 118,
     "metadata": {},
     "output_type": "execute_result"
    }
   ],
   "source": [
    "# Recognition Solution\n",
    "\n",
    "print(recognition_solution.shape)\n",
    "recognition_solution.head(3)"
   ]
  },
  {
   "cell_type": "markdown",
   "id": "d88c57fc-641d-4dd5-840f-938c7814b4a2",
   "metadata": {},
   "source": [
    "### Looking at the test and training data\n",
    "\n",
    "### let's look at the relationship between them"
   ]
  },
  {
   "cell_type": "code",
   "execution_count": 119,
   "id": "e1110331-6de3-4631-9dae-d4eab79a850f",
   "metadata": {},
   "outputs": [
    {
     "name": "stdout",
     "output_type": "stream",
     "text": [
      "(1225029, 3)\n"
     ]
    },
    {
     "data": {
      "text/html": [
       "<div>\n",
       "<style scoped>\n",
       "    .dataframe tbody tr th:only-of-type {\n",
       "        vertical-align: middle;\n",
       "    }\n",
       "\n",
       "    .dataframe tbody tr th {\n",
       "        vertical-align: top;\n",
       "    }\n",
       "\n",
       "    .dataframe thead th {\n",
       "        text-align: right;\n",
       "    }\n",
       "</style>\n",
       "<table border=\"1\" class=\"dataframe\">\n",
       "  <thead>\n",
       "    <tr style=\"text-align: right;\">\n",
       "      <th></th>\n",
       "      <th>id</th>\n",
       "      <th>url</th>\n",
       "      <th>landmark_id</th>\n",
       "    </tr>\n",
       "  </thead>\n",
       "  <tbody>\n",
       "    <tr>\n",
       "      <th>0</th>\n",
       "      <td>97c0a12e07ae8dd5</td>\n",
       "      <td>http://lh4.ggpht.com/-f8xYA5l4apw/RSziSQVaABI/...</td>\n",
       "      <td>6347</td>\n",
       "    </tr>\n",
       "    <tr>\n",
       "      <th>1</th>\n",
       "      <td>650c989dd3493748</td>\n",
       "      <td>https://lh5.googleusercontent.com/-PUnMrX7oOyA...</td>\n",
       "      <td>12519</td>\n",
       "    </tr>\n",
       "    <tr>\n",
       "      <th>2</th>\n",
       "      <td>05e63ca9b2cde1f4</td>\n",
       "      <td>http://mw2.google.com/mw-panoramio/photos/medi...</td>\n",
       "      <td>264</td>\n",
       "    </tr>\n",
       "  </tbody>\n",
       "</table>\n",
       "</div>"
      ],
      "text/plain": [
       "                 id                                                url  \\\n",
       "0  97c0a12e07ae8dd5  http://lh4.ggpht.com/-f8xYA5l4apw/RSziSQVaABI/...   \n",
       "1  650c989dd3493748  https://lh5.googleusercontent.com/-PUnMrX7oOyA...   \n",
       "2  05e63ca9b2cde1f4  http://mw2.google.com/mw-panoramio/photos/medi...   \n",
       "\n",
       "  landmark_id  \n",
       "0        6347  \n",
       "1       12519  \n",
       "2         264  "
      ]
     },
     "execution_count": 119,
     "metadata": {},
     "output_type": "execute_result"
    }
   ],
   "source": [
    "# Train\n",
    "\n",
    "print(train.shape)\n",
    "train.head(3)"
   ]
  },
  {
   "cell_type": "code",
   "execution_count": 124,
   "id": "ecc74a16-417a-4f7e-a83c-2db358c0e4de",
   "metadata": {},
   "outputs": [
    {
     "name": "stdout",
     "output_type": "stream",
     "text": [
      "(117703, 2)\n"
     ]
    },
    {
     "data": {
      "text/html": [
       "<div>\n",
       "<style scoped>\n",
       "    .dataframe tbody tr th:only-of-type {\n",
       "        vertical-align: middle;\n",
       "    }\n",
       "\n",
       "    .dataframe tbody tr th {\n",
       "        vertical-align: top;\n",
       "    }\n",
       "\n",
       "    .dataframe thead th {\n",
       "        text-align: right;\n",
       "    }\n",
       "</style>\n",
       "<table border=\"1\" class=\"dataframe\">\n",
       "  <thead>\n",
       "    <tr style=\"text-align: right;\">\n",
       "      <th></th>\n",
       "      <th>id</th>\n",
       "      <th>url</th>\n",
       "    </tr>\n",
       "  </thead>\n",
       "  <tbody>\n",
       "    <tr>\n",
       "      <th>0</th>\n",
       "      <td>cb9998b8cdaf6235</td>\n",
       "      <td>https://lh3.googleusercontent.com/-q8B91vDIQZY...</td>\n",
       "    </tr>\n",
       "    <tr>\n",
       "      <th>1</th>\n",
       "      <td>30728cf6e50a6bc6</td>\n",
       "      <td>https://lh3.googleusercontent.com/-91gJSKTgv5Q...</td>\n",
       "    </tr>\n",
       "    <tr>\n",
       "      <th>2</th>\n",
       "      <td>16afbc86b710337d</td>\n",
       "      <td>https://lh3.googleusercontent.com/-GHZdXuf2wMg...</td>\n",
       "    </tr>\n",
       "    <tr>\n",
       "      <th>3</th>\n",
       "      <td>d29b2166cf522450</td>\n",
       "      <td>https://lh3.googleusercontent.com/-cWDnYNQhyws...</td>\n",
       "    </tr>\n",
       "    <tr>\n",
       "      <th>4</th>\n",
       "      <td>dd5c03b20c21cfba</td>\n",
       "      <td>https://lh3.googleusercontent.com/-PSLN6BloM-k...</td>\n",
       "    </tr>\n",
       "  </tbody>\n",
       "</table>\n",
       "</div>"
      ],
      "text/plain": [
       "                 id                                                url\n",
       "0  cb9998b8cdaf6235  https://lh3.googleusercontent.com/-q8B91vDIQZY...\n",
       "1  30728cf6e50a6bc6  https://lh3.googleusercontent.com/-91gJSKTgv5Q...\n",
       "2  16afbc86b710337d  https://lh3.googleusercontent.com/-GHZdXuf2wMg...\n",
       "3  d29b2166cf522450  https://lh3.googleusercontent.com/-cWDnYNQhyws...\n",
       "4  dd5c03b20c21cfba  https://lh3.googleusercontent.com/-PSLN6BloM-k..."
      ]
     },
     "execution_count": 124,
     "metadata": {},
     "output_type": "execute_result"
    }
   ],
   "source": [
    "# test set\n",
    "\n",
    "print(test.shape)\n",
    "test.head()"
   ]
  },
  {
   "cell_type": "code",
   "execution_count": 129,
   "id": "349ddac9-23da-428d-86c6-6ec2f8b9da3d",
   "metadata": {},
   "outputs": [
    {
     "name": "stdout",
     "output_type": "stream",
     "text": [
      "test to train ratio is:\n",
      "10.407797592244888 to 1\n"
     ]
    }
   ],
   "source": [
    "print('test to train ratio is:')\n",
    "print(f'{train.shape[0] / test.shape[0]} to 1')"
   ]
  },
  {
   "cell_type": "markdown",
   "id": "9daaac7e-61b9-42b6-94ac-6ddd768a96a4",
   "metadata": {},
   "source": [
    "### Now let's look at retrieval solution and use our intuition to see what it means"
   ]
  },
  {
   "cell_type": "code",
   "execution_count": 130,
   "id": "4facfb25-787f-46b2-a46a-92901e31ce15",
   "metadata": {},
   "outputs": [
    {
     "name": "stdout",
     "output_type": "stream",
     "text": [
      "(117703, 3)\n"
     ]
    },
    {
     "data": {
      "text/html": [
       "<div>\n",
       "<style scoped>\n",
       "    .dataframe tbody tr th:only-of-type {\n",
       "        vertical-align: middle;\n",
       "    }\n",
       "\n",
       "    .dataframe tbody tr th {\n",
       "        vertical-align: top;\n",
       "    }\n",
       "\n",
       "    .dataframe thead th {\n",
       "        text-align: right;\n",
       "    }\n",
       "</style>\n",
       "<table border=\"1\" class=\"dataframe\">\n",
       "  <thead>\n",
       "    <tr style=\"text-align: right;\">\n",
       "      <th></th>\n",
       "      <th>id</th>\n",
       "      <th>images</th>\n",
       "      <th>Usage</th>\n",
       "    </tr>\n",
       "  </thead>\n",
       "  <tbody>\n",
       "    <tr>\n",
       "      <th>0</th>\n",
       "      <td>97a902dee49b61b4</td>\n",
       "      <td>None</td>\n",
       "      <td>Ignored</td>\n",
       "    </tr>\n",
       "    <tr>\n",
       "      <th>1</th>\n",
       "      <td>14289cc41c49feb0</td>\n",
       "      <td>None</td>\n",
       "      <td>Ignored</td>\n",
       "    </tr>\n",
       "    <tr>\n",
       "      <th>2</th>\n",
       "      <td>ccb0a36d5377d303</td>\n",
       "      <td>None</td>\n",
       "      <td>Ignored</td>\n",
       "    </tr>\n",
       "  </tbody>\n",
       "</table>\n",
       "</div>"
      ],
      "text/plain": [
       "                 id images    Usage\n",
       "0  97a902dee49b61b4   None  Ignored\n",
       "1  14289cc41c49feb0   None  Ignored\n",
       "2  ccb0a36d5377d303   None  Ignored"
      ]
     },
     "execution_count": 130,
     "metadata": {},
     "output_type": "execute_result"
    }
   ],
   "source": [
    "# retrieval solution\n",
    "\n",
    "print(retrieval_solution.shape)\n",
    "retrieval_solution.head(3)"
   ]
  },
  {
   "cell_type": "markdown",
   "id": "30fbb4a5-edb3-4e36-a983-c7f6d6559d27",
   "metadata": {},
   "source": [
    "### It seems like there are two new categories, images and usage\n",
    "\n",
    "### let's see what is inside of them \n",
    "\n"
   ]
  },
  {
   "cell_type": "code",
   "execution_count": 132,
   "id": "1e2583cf-bb01-4807-956c-7b0d6d931154",
   "metadata": {},
   "outputs": [
    {
     "data": {
      "text/plain": [
       "Ignored    116984\n",
       "Private       483\n",
       "Public        236\n",
       "Name: Usage, dtype: int64"
      ]
     },
     "execution_count": 132,
     "metadata": {},
     "output_type": "execute_result"
    }
   ],
   "source": [
    "# Value counts is useful foro data that has only a few data uses \n",
    "\n",
    "### Tagging? \n",
    "\n",
    "retrieval_solution.Usage.value_counts()"
   ]
  },
  {
   "cell_type": "code",
   "execution_count": 135,
   "id": "103118ed-6d95-46d9-9799-ee2d8f9c47f9",
   "metadata": {},
   "outputs": [
    {
     "data": {
      "text/plain": [
       "445"
      ]
     },
     "execution_count": 135,
     "metadata": {},
     "output_type": "execute_result"
    }
   ],
   "source": [
    "# Here it seems that there are 445 unique entries for this category\n",
    "\n",
    "len(retrieval_solution.images.unique())"
   ]
  },
  {
   "cell_type": "code",
   "execution_count": null,
   "id": "86506743-9387-4e49-8f14-91a81103d332",
   "metadata": {},
   "outputs": [],
   "source": []
  },
  {
   "cell_type": "markdown",
   "id": "cb81b292-8a03-42c3-9d88-9fc535d5acbf",
   "metadata": {},
   "source": [
    "## Step 3: EDA Exploring Image Datasets\n",
    "<hr style=\"border:2px solid gray\"> </hr>"
   ]
  },
  {
   "cell_type": "code",
   "execution_count": null,
   "id": "24d7a6d1-8887-431c-b1a2-d7b8728824f1",
   "metadata": {},
   "outputs": [],
   "source": []
  },
  {
   "cell_type": "markdown",
   "id": "0cae507e-95a7-4d1d-84dc-734c00374606",
   "metadata": {},
   "source": [
    "### Example 1: Displaying images in Jupyter Notebook\n",
    "<hr style=\"border:1px solid gray\"> </hr>"
   ]
  },
  {
   "cell_type": "markdown",
   "id": "d8e109ea-0efe-4180-8825-cbabcf86aadc",
   "metadata": {},
   "source": []
  },
  {
   "cell_type": "code",
   "execution_count": null,
   "id": "c26161ac-70db-40ab-a537-49c6500eeda8",
   "metadata": {},
   "outputs": [],
   "source": []
  },
  {
   "cell_type": "markdown",
   "id": "61acd9c0-2268-4f20-8fce-a7ec65ac7926",
   "metadata": {},
   "source": [
    "### Example 2: Checking for corrupted images"
   ]
  },
  {
   "cell_type": "code",
   "execution_count": null,
   "id": "48b870db-563d-436c-8ca4-7909316770a9",
   "metadata": {},
   "outputs": [],
   "source": []
  },
  {
   "cell_type": "code",
   "execution_count": null,
   "id": "1f748641-ae60-447f-af60-ba16661712c6",
   "metadata": {},
   "outputs": [],
   "source": []
  },
  {
   "cell_type": "code",
   "execution_count": null,
   "id": "49a42a7e-dd44-4e23-ba8d-7efd4f2ee822",
   "metadata": {},
   "outputs": [],
   "source": []
  },
  {
   "cell_type": "markdown",
   "id": "52e2bde2-af8d-46cf-9b83-f2cd0dfd98a4",
   "metadata": {},
   "source": [
    "### Example 3: Examining Metadata for Features and Labels "
   ]
  },
  {
   "cell_type": "code",
   "execution_count": null,
   "id": "bf89863d-6b6c-4826-ad9a-d04fd69a4988",
   "metadata": {},
   "outputs": [],
   "source": []
  },
  {
   "cell_type": "code",
   "execution_count": null,
   "id": "5ef4eb0c-571a-44e5-85bc-b8898050e02e",
   "metadata": {},
   "outputs": [],
   "source": []
  },
  {
   "cell_type": "markdown",
   "id": "895d94f1-286e-4e38-bf87-d049e668ba84",
   "metadata": {},
   "source": [
    "#### File Paths"
   ]
  },
  {
   "cell_type": "code",
   "execution_count": null,
   "id": "eb3c7edb-afa3-4b72-8e08-32d7bd7cfde1",
   "metadata": {},
   "outputs": [],
   "source": []
  },
  {
   "cell_type": "markdown",
   "id": "1054dde1-c5ab-4ce1-aae3-a459917e60f7",
   "metadata": {
    "tags": []
   },
   "source": [
    "#### Text Labels"
   ]
  },
  {
   "cell_type": "code",
   "execution_count": null,
   "id": "bfcfd12e-2017-4186-9ebe-501c0d96f8b5",
   "metadata": {},
   "outputs": [],
   "source": []
  },
  {
   "cell_type": "markdown",
   "id": "9cf2749c-5529-42a2-94cb-2996bd6e8a0b",
   "metadata": {},
   "source": [
    " Out of this, we need to find the label, and where the feature is located\n",
    "\n",
    " In my opinion, the landmark_ID is a potential target, along with the boxes if it becomes an image segmentation problem\n",
    "\n",
    " \n",
    "\n",
    " Let's learn more about the landmark_ID"
   ]
  },
  {
   "cell_type": "code",
   "execution_count": 152,
   "id": "1282f360-de20-4054-bbc4-1a10ef5c12d7",
   "metadata": {},
   "outputs": [
    {
     "data": {
      "text/html": [
       "<div>\n",
       "<style scoped>\n",
       "    .dataframe tbody tr th:only-of-type {\n",
       "        vertical-align: middle;\n",
       "    }\n",
       "\n",
       "    .dataframe tbody tr th {\n",
       "        vertical-align: top;\n",
       "    }\n",
       "\n",
       "    .dataframe thead th {\n",
       "        text-align: right;\n",
       "    }\n",
       "</style>\n",
       "<table border=\"1\" class=\"dataframe\">\n",
       "  <thead>\n",
       "    <tr style=\"text-align: right;\">\n",
       "      <th></th>\n",
       "      <th>id</th>\n",
       "      <th>url</th>\n",
       "      <th>landmark_id</th>\n",
       "    </tr>\n",
       "  </thead>\n",
       "  <tbody>\n",
       "    <tr>\n",
       "      <th>0</th>\n",
       "      <td>97c0a12e07ae8dd5</td>\n",
       "      <td>http://lh4.ggpht.com/-f8xYA5l4apw/RSziSQVaABI/...</td>\n",
       "      <td>6347</td>\n",
       "    </tr>\n",
       "    <tr>\n",
       "      <th>1</th>\n",
       "      <td>650c989dd3493748</td>\n",
       "      <td>https://lh5.googleusercontent.com/-PUnMrX7oOyA...</td>\n",
       "      <td>12519</td>\n",
       "    </tr>\n",
       "    <tr>\n",
       "      <th>2</th>\n",
       "      <td>05e63ca9b2cde1f4</td>\n",
       "      <td>http://mw2.google.com/mw-panoramio/photos/medi...</td>\n",
       "      <td>264</td>\n",
       "    </tr>\n",
       "    <tr>\n",
       "      <th>3</th>\n",
       "      <td>08672eddcb2b7c93</td>\n",
       "      <td>http://lh3.ggpht.com/-9fgSxDYwhHA/SMvGEoltKTI/...</td>\n",
       "      <td>13287</td>\n",
       "    </tr>\n",
       "    <tr>\n",
       "      <th>4</th>\n",
       "      <td>fc49cb32ef7f1e89</td>\n",
       "      <td>http://lh6.ggpht.com/-UGAXxvPbr98/S-jGZbyMIPI/...</td>\n",
       "      <td>4018</td>\n",
       "    </tr>\n",
       "  </tbody>\n",
       "</table>\n",
       "</div>"
      ],
      "text/plain": [
       "                 id                                                url  \\\n",
       "0  97c0a12e07ae8dd5  http://lh4.ggpht.com/-f8xYA5l4apw/RSziSQVaABI/...   \n",
       "1  650c989dd3493748  https://lh5.googleusercontent.com/-PUnMrX7oOyA...   \n",
       "2  05e63ca9b2cde1f4  http://mw2.google.com/mw-panoramio/photos/medi...   \n",
       "3  08672eddcb2b7c93  http://lh3.ggpht.com/-9fgSxDYwhHA/SMvGEoltKTI/...   \n",
       "4  fc49cb32ef7f1e89  http://lh6.ggpht.com/-UGAXxvPbr98/S-jGZbyMIPI/...   \n",
       "\n",
       "  landmark_id  \n",
       "0        6347  \n",
       "1       12519  \n",
       "2         264  \n",
       "3       13287  \n",
       "4        4018  "
      ]
     },
     "execution_count": 152,
     "metadata": {},
     "output_type": "execute_result"
    }
   ],
   "source": [
    "train.head(5)"
   ]
  },
  {
   "cell_type": "code",
   "execution_count": 155,
   "id": "8bf1b462-9306-4d2c-b645-c060ebbd498d",
   "metadata": {},
   "outputs": [
    {
     "name": "stdout",
     "output_type": "stream",
     "text": [
      "total of unique images in train set\n",
      "14945\n"
     ]
    }
   ],
   "source": [
    "print('total of unique images in train set')\n",
    "print(len(train.landmark_id.unique()))\n",
    "#len(train.landmark_id.unique())"
   ]
  },
  {
   "cell_type": "code",
   "execution_count": 175,
   "id": "e80055df-8e94-42f8-9f4d-e8cf28c3f6c6",
   "metadata": {},
   "outputs": [
    {
     "data": {
      "text/plain": [
       "None     70827\n",
       "9633     48550\n",
       "6051     47825\n",
       "6599     21777\n",
       "9779     17601\n",
       "         ...  \n",
       "4639         1\n",
       "4608         1\n",
       "11974        1\n",
       "6069         1\n",
       "7977         1\n",
       "Name: landmark_id, Length: 14945, dtype: int64"
      ]
     },
     "execution_count": 175,
     "metadata": {},
     "output_type": "execute_result"
    }
   ],
   "source": [
    "# Looking at the landmark IDs\n",
    "landmarkIDs = pd.Series(train.landmark_id.value_counts())\n",
    "train.landmark_id.value_counts()"
   ]
  },
  {
   "cell_type": "code",
   "execution_count": 184,
   "id": "caf6ebc2-ba89-441d-a510-06f826850f85",
   "metadata": {},
   "outputs": [
    {
     "data": {
      "text/plain": [
       "array([70827, 48550, 47825, 21777, 17601, 12742, 10302,  8950,  8893])"
      ]
     },
     "execution_count": 184,
     "metadata": {},
     "output_type": "execute_result"
    }
   ],
   "source": [
    "mlandmarkIDs.iloc[0:9].to_numpy() # Here is our numpy array which allows us to pass data to different libraries\n"
   ]
  },
  {
   "cell_type": "code",
   "execution_count": 188,
   "id": "bbe099cb-9122-4f3f-80e4-a083d8a95d39",
   "metadata": {},
   "outputs": [
    {
     "data": {
      "text/html": [
       "<div>\n",
       "<style scoped>\n",
       "    .dataframe tbody tr th:only-of-type {\n",
       "        vertical-align: middle;\n",
       "    }\n",
       "\n",
       "    .dataframe tbody tr th {\n",
       "        vertical-align: top;\n",
       "    }\n",
       "\n",
       "    .dataframe thead th {\n",
       "        text-align: right;\n",
       "    }\n",
       "</style>\n",
       "<table border=\"1\" class=\"dataframe\">\n",
       "  <thead>\n",
       "    <tr style=\"text-align: right;\">\n",
       "      <th></th>\n",
       "      <th>landmark_id</th>\n",
       "      <th>count</th>\n",
       "    </tr>\n",
       "  </thead>\n",
       "  <tbody>\n",
       "    <tr>\n",
       "      <th>0</th>\n",
       "      <td>None</td>\n",
       "      <td>70827</td>\n",
       "    </tr>\n",
       "    <tr>\n",
       "      <th>1</th>\n",
       "      <td>9633</td>\n",
       "      <td>48550</td>\n",
       "    </tr>\n",
       "    <tr>\n",
       "      <th>2</th>\n",
       "      <td>6051</td>\n",
       "      <td>47825</td>\n",
       "    </tr>\n",
       "    <tr>\n",
       "      <th>3</th>\n",
       "      <td>6599</td>\n",
       "      <td>21777</td>\n",
       "    </tr>\n",
       "    <tr>\n",
       "      <th>4</th>\n",
       "      <td>9779</td>\n",
       "      <td>17601</td>\n",
       "    </tr>\n",
       "    <tr>\n",
       "      <th>5</th>\n",
       "      <td>2061</td>\n",
       "      <td>12742</td>\n",
       "    </tr>\n",
       "    <tr>\n",
       "      <th>6</th>\n",
       "      <td>5554</td>\n",
       "      <td>10302</td>\n",
       "    </tr>\n",
       "    <tr>\n",
       "      <th>7</th>\n",
       "      <td>6651</td>\n",
       "      <td>8950</td>\n",
       "    </tr>\n",
       "  </tbody>\n",
       "</table>\n",
       "</div>"
      ],
      "text/plain": [
       "  landmark_id  count\n",
       "0        None  70827\n",
       "1        9633  48550\n",
       "2        6051  47825\n",
       "3        6599  21777\n",
       "4        9779  17601\n",
       "5        2061  12742\n",
       "6        5554  10302\n",
       "7        6651   8950"
      ]
     },
     "execution_count": 188,
     "metadata": {},
     "output_type": "execute_result"
    }
   ],
   "source": [
    "# Plot the most frequent landmark_ids\n",
    "\n",
    "mostPhotographedLandmarks = landmarkIDs.to_numpy()\n",
    "\n",
    "from matplotlib import pyplot as plt\n",
    "import seaborn as sns\n",
    "\n",
    "\n",
    "\n",
    "# Occurance of landmark_id in decreasing order(Top categories)\n",
    "mostPhotographedLandmarks = pd.DataFrame(train.landmark_id.value_counts().head(8))\n",
    "mostPhotographedLandmarks.reset_index(inplace=True)\n",
    "mostPhotographedLandmarks.columns = ['landmark_id','count']\n",
    "mostPhotographedLandmarks\n",
    "\n",
    "\n"
   ]
  },
  {
   "cell_type": "code",
   "execution_count": 192,
   "id": "597e0be4-cc36-4a90-bae1-8d60f73de9e6",
   "metadata": {},
   "outputs": [
    {
     "data": {
      "image/png": "[encoded data removed]",
      "text/plain": [
       "<Figure size 648x576 with 1 Axes>"
      ]
     },
     "metadata": {
      "needs_background": "light"
     },
     "output_type": "display_data"
    }
   ],
   "source": [
    "plt.figure(figsize = (9, 8))\n",
    "plt.title('Most Photographed Landmarks')\n",
    "sns.barplot(x=\"landmark_id\", y=\"count\", data=mostPhotographedLandmarks,\n",
    "            label=\"Count\")\n",
    "plt.show()"
   ]
  },
  {
   "cell_type": "markdown",
   "id": "db6d1cce-8d40-48dd-a1a5-06d810c2fef1",
   "metadata": {},
   "source": [
    "This shows us an interesting part of the data, that the most common landmarkID is none\n",
    "\n",
    "This shows that it has no label and needs to be removed\n",
    "\n"
   ]
  },
  {
   "cell_type": "code",
   "execution_count": 196,
   "id": "1581b7ff-403d-4bd7-b255-ef5c10d09091",
   "metadata": {},
   "outputs": [
    {
     "name": "stdout",
     "output_type": "stream",
     "text": [
      "checking the length before removing these from our dataset\n"
     ]
    },
    {
     "data": {
      "text/plain": [
       "70827"
      ]
     },
     "execution_count": 196,
     "metadata": {},
     "output_type": "execute_result"
    }
   ],
   "source": [
    "# Checking f\n",
    "print('checking the length before removing these from our dataset')\n",
    "len(train) - len(train[train['landmark_id'] != 'None']) "
   ]
  },
  {
   "cell_type": "code",
   "execution_count": 202,
   "id": "d4abe758-b4a0-4849-915d-5e9a18bb5784",
   "metadata": {},
   "outputs": [
    {
     "data": {
      "text/html": [
       "<div>\n",
       "<style scoped>\n",
       "    .dataframe tbody tr th:only-of-type {\n",
       "        vertical-align: middle;\n",
       "    }\n",
       "\n",
       "    .dataframe tbody tr th {\n",
       "        vertical-align: top;\n",
       "    }\n",
       "\n",
       "    .dataframe thead th {\n",
       "        text-align: right;\n",
       "    }\n",
       "</style>\n",
       "<table border=\"1\" class=\"dataframe\">\n",
       "  <thead>\n",
       "    <tr style=\"text-align: right;\">\n",
       "      <th></th>\n",
       "      <th>id</th>\n",
       "      <th>url</th>\n",
       "      <th>landmark_id</th>\n",
       "    </tr>\n",
       "  </thead>\n",
       "  <tbody>\n",
       "    <tr>\n",
       "      <th>0</th>\n",
       "      <td>97c0a12e07ae8dd5</td>\n",
       "      <td>http://lh4.ggpht.com/-f8xYA5l4apw/RSziSQVaABI/...</td>\n",
       "      <td>6347</td>\n",
       "    </tr>\n",
       "    <tr>\n",
       "      <th>1</th>\n",
       "      <td>650c989dd3493748</td>\n",
       "      <td>https://lh5.googleusercontent.com/-PUnMrX7oOyA...</td>\n",
       "      <td>12519</td>\n",
       "    </tr>\n",
       "    <tr>\n",
       "      <th>2</th>\n",
       "      <td>05e63ca9b2cde1f4</td>\n",
       "      <td>http://mw2.google.com/mw-panoramio/photos/medi...</td>\n",
       "      <td>264</td>\n",
       "    </tr>\n",
       "    <tr>\n",
       "      <th>3</th>\n",
       "      <td>08672eddcb2b7c93</td>\n",
       "      <td>http://lh3.ggpht.com/-9fgSxDYwhHA/SMvGEoltKTI/...</td>\n",
       "      <td>13287</td>\n",
       "    </tr>\n",
       "    <tr>\n",
       "      <th>4</th>\n",
       "      <td>fc49cb32ef7f1e89</td>\n",
       "      <td>http://lh6.ggpht.com/-UGAXxvPbr98/S-jGZbyMIPI/...</td>\n",
       "      <td>4018</td>\n",
       "    </tr>\n",
       "    <tr>\n",
       "      <th>...</th>\n",
       "      <td>...</td>\n",
       "      <td>...</td>\n",
       "      <td>...</td>\n",
       "    </tr>\n",
       "    <tr>\n",
       "      <th>1225024</th>\n",
       "      <td>4bb5a501e5b26a6a</td>\n",
       "      <td>https://lh6.googleusercontent.com/-mRrQU3t5cYw...</td>\n",
       "      <td>9737</td>\n",
       "    </tr>\n",
       "    <tr>\n",
       "      <th>1225025</th>\n",
       "      <td>2cd8a404796cfe0e</td>\n",
       "      <td>https://lh6.googleusercontent.com/-0UB5gFx6w7M...</td>\n",
       "      <td>7758</td>\n",
       "    </tr>\n",
       "    <tr>\n",
       "      <th>1225026</th>\n",
       "      <td>8733b8b469fb8c1b</td>\n",
       "      <td>http://lh3.ggpht.com/-TDQWNVvJQDI/SI3HZSA4D3I/...</td>\n",
       "      <td>13170</td>\n",
       "    </tr>\n",
       "    <tr>\n",
       "      <th>1225027</th>\n",
       "      <td>14dd9e8790397c83</td>\n",
       "      <td>https://lh4.googleusercontent.com/-anV4Xpo0UuM...</td>\n",
       "      <td>5669</td>\n",
       "    </tr>\n",
       "    <tr>\n",
       "      <th>1225028</th>\n",
       "      <td>4303049d5a6b5602</td>\n",
       "      <td>https://lh6.googleusercontent.com/-1pe3ldzCDAw...</td>\n",
       "      <td>4987</td>\n",
       "    </tr>\n",
       "  </tbody>\n",
       "</table>\n",
       "<p>1154202 rows × 3 columns</p>\n",
       "</div>"
      ],
      "text/plain": [
       "                       id                                                url  \\\n",
       "0        97c0a12e07ae8dd5  http://lh4.ggpht.com/-f8xYA5l4apw/RSziSQVaABI/...   \n",
       "1        650c989dd3493748  https://lh5.googleusercontent.com/-PUnMrX7oOyA...   \n",
       "2        05e63ca9b2cde1f4  http://mw2.google.com/mw-panoramio/photos/medi...   \n",
       "3        08672eddcb2b7c93  http://lh3.ggpht.com/-9fgSxDYwhHA/SMvGEoltKTI/...   \n",
       "4        fc49cb32ef7f1e89  http://lh6.ggpht.com/-UGAXxvPbr98/S-jGZbyMIPI/...   \n",
       "...                   ...                                                ...   \n",
       "1225024  4bb5a501e5b26a6a  https://lh6.googleusercontent.com/-mRrQU3t5cYw...   \n",
       "1225025  2cd8a404796cfe0e  https://lh6.googleusercontent.com/-0UB5gFx6w7M...   \n",
       "1225026  8733b8b469fb8c1b  http://lh3.ggpht.com/-TDQWNVvJQDI/SI3HZSA4D3I/...   \n",
       "1225027  14dd9e8790397c83  https://lh4.googleusercontent.com/-anV4Xpo0UuM...   \n",
       "1225028  4303049d5a6b5602  https://lh6.googleusercontent.com/-1pe3ldzCDAw...   \n",
       "\n",
       "        landmark_id  \n",
       "0              6347  \n",
       "1             12519  \n",
       "2               264  \n",
       "3             13287  \n",
       "4              4018  \n",
       "...             ...  \n",
       "1225024        9737  \n",
       "1225025        7758  \n",
       "1225026       13170  \n",
       "1225027        5669  \n",
       "1225028        4987  \n",
       "\n",
       "[1154202 rows x 3 columns]"
      ]
     },
     "execution_count": 202,
     "metadata": {},
     "output_type": "execute_result"
    }
   ],
   "source": [
    "train"
   ]
  },
  {
   "cell_type": "code",
   "execution_count": 201,
   "id": "53bbdca6-c4d5-4fff-99c8-0d6ca2e39d36",
   "metadata": {},
   "outputs": [],
   "source": [
    "# Here we are going to do an indexing of our data \n",
    "# in order to filter it, this selects the index where None is not included\n",
    "\n",
    "train = train[train['landmark_id'] != 'None']"
   ]
  },
  {
   "cell_type": "code",
   "execution_count": 204,
   "id": "d31b23e8-e4c6-432b-b945-0501dedc96c8",
   "metadata": {},
   "outputs": [
    {
     "data": {
      "text/html": [
       "<div>\n",
       "<style scoped>\n",
       "    .dataframe tbody tr th:only-of-type {\n",
       "        vertical-align: middle;\n",
       "    }\n",
       "\n",
       "    .dataframe tbody tr th {\n",
       "        vertical-align: top;\n",
       "    }\n",
       "\n",
       "    .dataframe thead th {\n",
       "        text-align: right;\n",
       "    }\n",
       "</style>\n",
       "<table border=\"1\" class=\"dataframe\">\n",
       "  <thead>\n",
       "    <tr style=\"text-align: right;\">\n",
       "      <th></th>\n",
       "      <th>id</th>\n",
       "      <th>url</th>\n",
       "      <th>landmark_id</th>\n",
       "    </tr>\n",
       "  </thead>\n",
       "  <tbody>\n",
       "  </tbody>\n",
       "</table>\n",
       "</div>"
      ],
      "text/plain": [
       "Empty DataFrame\n",
       "Columns: [id, url, landmark_id]\n",
       "Index: []"
      ]
     },
     "execution_count": 204,
     "metadata": {},
     "output_type": "execute_result"
    }
   ],
   "source": [
    "# checking if our operation was completed \n",
    "\n",
    "train[train['landmark_id'] == 'None']\n",
    "#Nothing should show up"
   ]
  },
  {
   "cell_type": "code",
   "execution_count": null,
   "id": "7b8fcf7d-fbd0-4b90-a587-7f1e1b514068",
   "metadata": {},
   "outputs": [],
   "source": []
  },
  {
   "cell_type": "markdown",
   "id": "b222dc91-b361-414f-a104-ed36516becd5",
   "metadata": {},
   "source": [
    "#### Boxes (Image Segmentation)"
   ]
  },
  {
   "cell_type": "code",
   "execution_count": null,
   "id": "678336dd-0d56-4ef6-865a-0d9f0401f6c7",
   "metadata": {},
   "outputs": [],
   "source": []
  },
  {
   "cell_type": "markdown",
   "id": "2ed92f15-4173-4fe3-8b32-f0918bddbe25",
   "metadata": {},
   "source": [
    "Boxes labels\n",
    "\n",
    " it appears that some of the images have boxes labeled\n",
    "\n",
    "This would be useful if we are trying to do image segmentation\n",
    "\n"
   ]
  },
  {
   "cell_type": "code",
   "execution_count": 121,
   "id": "8855259a-f236-463a-836a-3609a5bfd62c",
   "metadata": {},
   "outputs": [
    {
     "name": "stdout",
     "output_type": "stream",
     "text": [
      "(53755, 2)\n"
     ]
    },
    {
     "data": {
      "text/html": [
       "<div>\n",
       "<style scoped>\n",
       "    .dataframe tbody tr th:only-of-type {\n",
       "        vertical-align: middle;\n",
       "    }\n",
       "\n",
       "    .dataframe tbody tr th {\n",
       "        vertical-align: top;\n",
       "    }\n",
       "\n",
       "    .dataframe thead th {\n",
       "        text-align: right;\n",
       "    }\n",
       "</style>\n",
       "<table border=\"1\" class=\"dataframe\">\n",
       "  <thead>\n",
       "    <tr style=\"text-align: right;\">\n",
       "      <th></th>\n",
       "      <th>id</th>\n",
       "      <th>box</th>\n",
       "    </tr>\n",
       "  </thead>\n",
       "  <tbody>\n",
       "    <tr>\n",
       "      <th>0</th>\n",
       "      <td>03b4355b047c94b4</td>\n",
       "      <td>0.12 0.16 0.74 1.00</td>\n",
       "    </tr>\n",
       "    <tr>\n",
       "      <th>1</th>\n",
       "      <td>435986fb31b5f4f3</td>\n",
       "      <td>0.37 0.35 0.52 0.40</td>\n",
       "    </tr>\n",
       "    <tr>\n",
       "      <th>2</th>\n",
       "      <td>a8e1490b5f8d37e2</td>\n",
       "      <td>0.22 0.00 0.87 1.00</td>\n",
       "    </tr>\n",
       "  </tbody>\n",
       "</table>\n",
       "</div>"
      ],
      "text/plain": [
       "                 id                  box\n",
       "0  03b4355b047c94b4  0.12 0.16 0.74 1.00\n",
       "1  435986fb31b5f4f3  0.37 0.35 0.52 0.40\n",
       "2  a8e1490b5f8d37e2  0.22 0.00 0.87 1.00"
      ]
     },
     "execution_count": 121,
     "metadata": {},
     "output_type": "execute_result"
    }
   ],
   "source": [
    "# Boxes Split 1 \n",
    "\n",
    "print(boxes_split1.shape)\n",
    "boxes_split1.head(3)"
   ]
  },
  {
   "cell_type": "code",
   "execution_count": 151,
   "id": "c714ddbc-c787-4e19-97ea-51b0766dbdbb",
   "metadata": {},
   "outputs": [
    {
     "name": "stdout",
     "output_type": "stream",
     "text": [
      "12.76048697187598 % are labeled with boxes\n"
     ]
    }
   ],
   "source": []
  },
  {
   "cell_type": "code",
   "execution_count": null,
   "id": "1884b531-3193-4128-945d-dd6c4a218dc9",
   "metadata": {},
   "outputs": [
    {
     "name": "stdout",
     "output_type": "stream",
     "text": [
      "(32328, 2)\n"
     ]
    },
    {
     "data": {
      "text/html": [
       "<div>\n",
       "<style scoped>\n",
       "    .dataframe tbody tr th:only-of-type {\n",
       "        vertical-align: middle;\n",
       "    }\n",
       "\n",
       "    .dataframe tbody tr th {\n",
       "        vertical-align: top;\n",
       "    }\n",
       "\n",
       "    .dataframe thead th {\n",
       "        text-align: right;\n",
       "    }\n",
       "</style>\n",
       "<table border=\"1\" class=\"dataframe\">\n",
       "  <thead>\n",
       "    <tr style=\"text-align: right;\">\n",
       "      <th></th>\n",
       "      <th>id</th>\n",
       "      <th>box</th>\n",
       "    </tr>\n",
       "  </thead>\n",
       "  <tbody>\n",
       "    <tr>\n",
       "      <th>0</th>\n",
       "      <td>eabff78ee97cf8df</td>\n",
       "      <td>0.00 0.00 0.79 0.95</td>\n",
       "    </tr>\n",
       "    <tr>\n",
       "      <th>1</th>\n",
       "      <td>654a08dff4f19f5b</td>\n",
       "      <td>0.00 0.04 0.96 1.00</td>\n",
       "    </tr>\n",
       "    <tr>\n",
       "      <th>2</th>\n",
       "      <td>6228cc96dc5b4def</td>\n",
       "      <td>0.00 0.23 0.75 0.76</td>\n",
       "    </tr>\n",
       "  </tbody>\n",
       "</table>\n",
       "</div>"
      ],
      "text/plain": [
       "                 id                  box\n",
       "0  eabff78ee97cf8df  0.00 0.00 0.79 0.95\n",
       "1  654a08dff4f19f5b  0.00 0.04 0.96 1.00\n",
       "2  6228cc96dc5b4def  0.00 0.23 0.75 0.76"
      ]
     },
     "execution_count": 122,
     "metadata": {},
     "output_type": "execute_result"
    }
   ],
   "source": [
    "# Boxes Split 2\n",
    "\n",
    "print(boxes_split2.shape)\n",
    "boxes_split2.head(3)"
   ]
  },
  {
   "cell_type": "code",
   "execution_count": null,
   "id": "573e024f-45c2-47a7-9fa9-6cb833a99575",
   "metadata": {},
   "outputs": [],
   "source": [
    "\n",
    "print(f'{(index.shape[0] / (boxes_split1.shape[0] + boxes_split2.shape[0]))} % are labeled with boxes' )\n"
   ]
  },
  {
   "cell_type": "code",
   "execution_count": null,
   "id": "2c507e9b-d380-4076-ac65-18d25ba138f0",
   "metadata": {},
   "outputs": [
    {
     "name": "stdout",
     "output_type": "stream",
     "text": [
      "(1098461, 2)\n"
     ]
    },
    {
     "data": {
      "text/html": [
       "<div>\n",
       "<style scoped>\n",
       "    .dataframe tbody tr th:only-of-type {\n",
       "        vertical-align: middle;\n",
       "    }\n",
       "\n",
       "    .dataframe tbody tr th {\n",
       "        vertical-align: top;\n",
       "    }\n",
       "\n",
       "    .dataframe thead th {\n",
       "        text-align: right;\n",
       "    }\n",
       "</style>\n",
       "<table border=\"1\" class=\"dataframe\">\n",
       "  <thead>\n",
       "    <tr style=\"text-align: right;\">\n",
       "      <th></th>\n",
       "      <th>id</th>\n",
       "      <th>url</th>\n",
       "    </tr>\n",
       "  </thead>\n",
       "  <tbody>\n",
       "    <tr>\n",
       "      <th>0</th>\n",
       "      <td>e08bbc99a449d6e6</td>\n",
       "      <td>http://lh3.ggpht.com/-0syNYGY8KGI/TM3Y0kKbgDI/...</td>\n",
       "    </tr>\n",
       "    <tr>\n",
       "      <th>1</th>\n",
       "      <td>d8adc613d77254d5</td>\n",
       "      <td>https://lh3.googleusercontent.com/-gvOm8lpizSQ...</td>\n",
       "    </tr>\n",
       "    <tr>\n",
       "      <th>2</th>\n",
       "      <td>bb4a99310d191a7a</td>\n",
       "      <td>http://lh5.ggpht.com/-2NdVC7qAtk4/SC9AW2SGWqI/...</td>\n",
       "    </tr>\n",
       "  </tbody>\n",
       "</table>\n",
       "</div>"
      ],
      "text/plain": [
       "                 id                                                url\n",
       "0  e08bbc99a449d6e6  http://lh3.ggpht.com/-0syNYGY8KGI/TM3Y0kKbgDI/...\n",
       "1  d8adc613d77254d5  https://lh3.googleusercontent.com/-gvOm8lpizSQ...\n",
       "2  bb4a99310d191a7a  http://lh5.ggpht.com/-2NdVC7qAtk4/SC9AW2SGWqI/..."
      ]
     },
     "execution_count": 123,
     "metadata": {},
     "output_type": "execute_result"
    }
   ],
   "source": [
    "# index \n",
    "\n",
    "print(index.shape)\n",
    "index.head(3)"
   ]
  },
  {
   "cell_type": "markdown",
   "id": "24619596-ae6e-4bd8-9114-af40e78cf693",
   "metadata": {},
   "source": [
    "### Out of this, we need to find the label, and where the feature is located\n",
    "\n",
    "### In my opinion, the landmark_ID is a potential target, along with the boxes if it becomes an image segmentation problem\n",
    "\n",
    "### \n",
    "\n",
    "### Let's learn more about the landmark_ID"
   ]
  },
  {
   "cell_type": "code",
   "execution_count": null,
   "id": "aec58684-50bc-473f-8150-f58bc641b82b",
   "metadata": {},
   "outputs": [],
   "source": []
  },
  {
   "cell_type": "markdown",
   "id": "19b19087-0597-442e-9372-a056c9c1da35",
   "metadata": {
    "toc-hr-collapsed": true
   },
   "source": [
    "# Section 3: NLP Data \n",
    "<hr style=\"border:4px solid gray\"> </hr>"
   ]
  },
  {
   "cell_type": "code",
   "execution_count": null,
   "id": "6e958436-ca2e-4bb1-9ffa-fd10be5aa2fb",
   "metadata": {},
   "outputs": [],
   "source": []
  },
  {
   "cell_type": "code",
   "execution_count": null,
   "id": "688167d3-08bb-4b54-b77d-52628c875ec6",
   "metadata": {},
   "outputs": [],
   "source": []
  },
  {
   "cell_type": "markdown",
   "id": "66270ca2-3f17-4267-91c5-eab32c56a8c1",
   "metadata": {},
   "source": [
    "## Step 1: Choosing an NLP Dataset\n",
    "<hr style=\"border:2px solid gray\"> </hr>"
   ]
  },
  {
   "cell_type": "code",
   "execution_count": null,
   "id": "235e29ae-3129-485b-a1f3-2604767080c0",
   "metadata": {},
   "outputs": [],
   "source": []
  },
  {
   "cell_type": "markdown",
   "id": "b06ff00a-e9b1-446b-8aa7-e15d3dbfbca6",
   "metadata": {},
   "source": [
    "### What Problems can NLP Solve?"
   ]
  },
  {
   "cell_type": "code",
   "execution_count": null,
   "id": "5668d17a-c185-45aa-ba8d-abc7008bea72",
   "metadata": {},
   "outputs": [],
   "source": []
  },
  {
   "cell_type": "code",
   "execution_count": null,
   "id": "da74856f-b1df-47a5-a72c-2d7c0351788f",
   "metadata": {},
   "outputs": [],
   "source": []
  },
  {
   "cell_type": "markdown",
   "id": "ecb8af38-b28f-494b-9aa8-f150245d041f",
   "metadata": {},
   "source": [
    "### Data Sources"
   ]
  },
  {
   "cell_type": "code",
   "execution_count": null,
   "id": "d8a76aa5-5337-4844-85c3-eaae0ccf3330",
   "metadata": {},
   "outputs": [],
   "source": []
  },
  {
   "cell_type": "code",
   "execution_count": null,
   "id": "58378a71-ff68-44e3-91b8-f0cefd8b6a2c",
   "metadata": {},
   "outputs": [],
   "source": []
  },
  {
   "cell_type": "markdown",
   "id": "d208b6bb-e28b-47f4-87cf-bb896df33c23",
   "metadata": {},
   "source": [
    "### Where to store the data?"
   ]
  },
  {
   "cell_type": "code",
   "execution_count": null,
   "id": "641b1226-420f-4ac8-ba02-58736c8327f9",
   "metadata": {},
   "outputs": [],
   "source": []
  },
  {
   "cell_type": "code",
   "execution_count": null,
   "id": "0d9bfa3c-ef0f-4757-90a1-df7605be053d",
   "metadata": {},
   "outputs": [],
   "source": []
  },
  {
   "cell_type": "markdown",
   "id": "45e337bb-9611-45e1-bb94-64d318f3985c",
   "metadata": {},
   "source": [
    "## Step 2: Loading NLP Data\n",
    "<hr style=\"border:2px solid gray\"> </hr>"
   ]
  },
  {
   "cell_type": "code",
   "execution_count": null,
   "id": "de357e87-28c4-4d6c-bde1-c835f37ba1cc",
   "metadata": {},
   "outputs": [],
   "source": []
  },
  {
   "cell_type": "code",
   "execution_count": null,
   "id": "c5c9b551-4588-4485-b81f-14c698a36a5b",
   "metadata": {},
   "outputs": [],
   "source": []
  },
  {
   "cell_type": "code",
   "execution_count": null,
   "id": "77af856c-1635-4fda-afcc-fd6d65db5f6b",
   "metadata": {},
   "outputs": [],
   "source": []
  },
  {
   "cell_type": "markdown",
   "id": "41d282c9-f17a-4b48-8b8c-ad2256f981c6",
   "metadata": {
    "tags": []
   },
   "source": [
    "### Example 1: Loading .txt files\n",
    "<hr style=\"border:1px solid gray\"> </hr>"
   ]
  },
  {
   "cell_type": "code",
   "execution_count": null,
   "id": "735ae83f-caa1-4248-b8eb-20c487a86991",
   "metadata": {},
   "outputs": [],
   "source": []
  },
  {
   "cell_type": "code",
   "execution_count": null,
   "id": "548ff275-f0b6-4611-ad63-761c773897cf",
   "metadata": {},
   "outputs": [],
   "source": []
  },
  {
   "cell_type": "code",
   "execution_count": null,
   "id": "69b05420-89bb-4e84-8fee-281ce6e998c0",
   "metadata": {},
   "outputs": [],
   "source": []
  },
  {
   "cell_type": "markdown",
   "id": "339bc316-8a23-4ffc-a2d2-9b1a2408e211",
   "metadata": {},
   "source": []
  },
  {
   "cell_type": "code",
   "execution_count": null,
   "id": "b6a92d60-fa35-4c4b-a92c-9638e647787f",
   "metadata": {},
   "outputs": [],
   "source": []
  },
  {
   "cell_type": "markdown",
   "id": "f8977774-8fde-4cde-a554-913be4c31c5f",
   "metadata": {},
   "source": [
    "### Example 2: Loading data from the web"
   ]
  },
  {
   "cell_type": "code",
   "execution_count": null,
   "id": "9ffdc329-ac31-491a-b735-8413c8067c2f",
   "metadata": {},
   "outputs": [],
   "source": []
  },
  {
   "cell_type": "code",
   "execution_count": null,
   "id": "884a0c07-7c1a-4b6c-b204-8dc0ef13fbe0",
   "metadata": {},
   "outputs": [],
   "source": []
  },
  {
   "cell_type": "code",
   "execution_count": null,
   "id": "94166080-2054-44d1-b1b9-405cf3a66dcc",
   "metadata": {},
   "outputs": [],
   "source": []
  },
  {
   "cell_type": "markdown",
   "id": "e0876a8f-c211-4aa5-8041-388927b83d97",
   "metadata": {},
   "source": [
    "### Example 3: Loading Data from Microsoft Word "
   ]
  },
  {
   "cell_type": "code",
   "execution_count": null,
   "id": "b79bc794-e04f-4db7-a487-7e5ce391fffe",
   "metadata": {},
   "outputs": [],
   "source": []
  },
  {
   "cell_type": "code",
   "execution_count": null,
   "id": "2a762c2e-2abf-4b84-9a9c-03ed4028f4b6",
   "metadata": {},
   "outputs": [],
   "source": []
  },
  {
   "cell_type": "code",
   "execution_count": null,
   "id": "5cddee25-80da-4a56-92ae-0a09d608cb3a",
   "metadata": {},
   "outputs": [],
   "source": []
  },
  {
   "cell_type": "code",
   "execution_count": null,
   "id": "a9fff740-77ce-41b0-97e3-40875909ce3e",
   "metadata": {},
   "outputs": [],
   "source": []
  },
  {
   "cell_type": "markdown",
   "id": "6caf3d76-d548-46e8-b2b8-09f5a0152489",
   "metadata": {},
   "source": [
    "## Step 3: Exploring NLP Data\n",
    "<hr style=\"border:2px solid gray\"> </hr>"
   ]
  },
  {
   "cell_type": "markdown",
   "id": "9ceee780-100e-44e1-ba2d-b948f5a22fa9",
   "metadata": {},
   "source": []
  },
  {
   "cell_type": "markdown",
   "id": "507611de-fc4c-4367-bd5e-8300d2b5016b",
   "metadata": {},
   "source": [
    "### Tokenizer"
   ]
  },
  {
   "cell_type": "code",
   "execution_count": null,
   "id": "74cfeddb-152e-435a-8227-e6f5a5498539",
   "metadata": {},
   "outputs": [],
   "source": []
  },
  {
   "cell_type": "code",
   "execution_count": null,
   "id": "a4aac161-b43c-426a-bec9-2f051b5ad973",
   "metadata": {},
   "outputs": [],
   "source": []
  },
  {
   "cell_type": "code",
   "execution_count": null,
   "id": "f7f3116d-369a-433a-9e07-0f56e95ac709",
   "metadata": {},
   "outputs": [],
   "source": []
  },
  {
   "cell_type": "markdown",
   "id": "e0021472-2b52-4a79-a78f-a499dfa6373c",
   "metadata": {},
   "source": [
    "### Stemming and Lemmatization "
   ]
  },
  {
   "cell_type": "code",
   "execution_count": null,
   "id": "130bfd6d-35ad-4e0d-8098-b45d4cf063cc",
   "metadata": {},
   "outputs": [],
   "source": []
  },
  {
   "cell_type": "code",
   "execution_count": null,
   "id": "a2ac2d5e-6304-4a9d-b206-da1ef821e314",
   "metadata": {},
   "outputs": [],
   "source": []
  },
  {
   "cell_type": "code",
   "execution_count": null,
   "id": "da3918e5-a12e-4a24-b356-2939571ee775",
   "metadata": {},
   "outputs": [],
   "source": []
  },
  {
   "cell_type": "code",
   "execution_count": null,
   "id": "1a0b3ce8-1272-4788-a043-275f687b7cb4",
   "metadata": {},
   "outputs": [],
   "source": []
  },
  {
   "cell_type": "markdown",
   "id": "de649c08-b9aa-4e37-8cb6-c7d2c5015aef",
   "metadata": {},
   "source": [
    "### Example 3: Statistics on Tokens"
   ]
  },
  {
   "cell_type": "code",
   "execution_count": null,
   "id": "0400c59b-9099-4592-bfad-ac762e7ca588",
   "metadata": {},
   "outputs": [],
   "source": []
  },
  {
   "cell_type": "code",
   "execution_count": null,
   "id": "c54dff35-91c5-440e-bffb-660754e9aff2",
   "metadata": {},
   "outputs": [],
   "source": []
  },
  {
   "cell_type": "code",
   "execution_count": null,
   "id": "a6f72fcb-0876-4c5b-9852-0e44e68b0b9f",
   "metadata": {},
   "outputs": [],
   "source": []
  },
  {
   "cell_type": "markdown",
   "id": "f67116e8-14ce-4cef-83a9-f97f7dee47f8",
   "metadata": {},
   "source": []
  },
  {
   "cell_type": "code",
   "execution_count": null,
   "id": "deb89e39-05da-47dc-91d7-172b5e93d53a",
   "metadata": {},
   "outputs": [],
   "source": []
  },
  {
   "cell_type": "markdown",
   "id": "4f8cd6e9-9dca-4af3-ad6e-8292f02b45c6",
   "metadata": {
    "toc-hr-collapsed": true
   },
   "source": [
    "# Conclusion and Discussion Questions"
   ]
  },
  {
   "cell_type": "markdown",
   "id": "ba1b68a4-c9b0-45dd-a55f-571f5366b12e",
   "metadata": {},
   "source": [
    "## Wrap up and Summary"
   ]
  },
  {
   "cell_type": "code",
   "execution_count": null,
   "id": "eadb91ae-3c16-4b21-a4f1-44a563ea18f8",
   "metadata": {},
   "outputs": [],
   "source": []
  },
  {
   "cell_type": "code",
   "execution_count": null,
   "id": "3f4f7882-26ed-439f-b871-682c5ee24dd6",
   "metadata": {},
   "outputs": [],
   "source": []
  },
  {
   "cell_type": "markdown",
   "id": "57db1e0a-eb60-4e33-8b2f-3af4eeb6595a",
   "metadata": {},
   "source": [
    "## Discussion Questions"
   ]
  },
  {
   "cell_type": "code",
   "execution_count": null,
   "id": "84a95753-4131-4d2f-8a5b-869e554a0f65",
   "metadata": {},
   "outputs": [],
   "source": []
  },
  {
   "cell_type": "markdown",
   "id": "99dfb7f5-e27e-488f-baa4-cb54d0a46031",
   "metadata": {},
   "source": [
    "### Computer Vision"
   ]
  },
  {
   "cell_type": "code",
   "execution_count": null,
   "id": "c24f28fa-4f47-4d24-a288-9d38fc1c145a",
   "metadata": {},
   "outputs": [],
   "source": []
  },
  {
   "cell_type": "markdown",
   "id": "a8313438-6b18-48a3-a4bf-8ecfc3606063",
   "metadata": {},
   "source": [
    "### NLP"
   ]
  },
  {
   "cell_type": "code",
   "execution_count": null,
   "id": "585da629-1029-4533-9281-38463ca13a88",
   "metadata": {},
   "outputs": [],
   "source": []
  },
  {
   "cell_type": "code",
   "execution_count": null,
   "id": "addb8d3b-bd07-41ed-aa92-26f975cc964a",
   "metadata": {},
   "outputs": [],
   "source": []
  },
  {
   "cell_type": "markdown",
   "id": "31472cb0-549c-498e-96c6-7443dcb70442",
   "metadata": {},
   "source": [
    "### Tabular Data "
   ]
  },
  {
   "cell_type": "code",
   "execution_count": null,
   "id": "a67f3649-9ea4-49e7-81a9-6c3178668e4d",
   "metadata": {},
   "outputs": [],
   "source": []
  }
 ],
 "metadata": {
  "kernelspec": {
   "display_name": "Python [conda env:unpackAIdev]",
   "language": "python",
   "name": "conda-env-unpackAIdev-py"
  },
  "language_info": {
   "codemirror_mode": {
    "name": "ipython",
    "version": 3
   },
   "file_extension": ".py",
   "mimetype": "text/x-python",
   "name": "python",
   "nbconvert_exporter": "python",
   "pygments_lexer": "ipython3",
   "version": "3.8.12"
  }
 },
 "nbformat": 4,
 "nbformat_minor": 5
}
