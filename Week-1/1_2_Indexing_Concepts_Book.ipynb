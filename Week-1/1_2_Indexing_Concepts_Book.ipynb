{
 "cells": [
  {
   "cell_type": "markdown",
   "id": "92d14dc4",
   "metadata": {},
   "source": [
    "## 💻 UnpackAI DL201 Bootcamp - Week 1 - Concepts: Array Indexing\n",
    "\n",
    "### 📕 Learning Objectives\n",
    "\n",
    "* Conceptualize the concept of Tensors in the context of machine learning and their benefits.\n",
    "* Identifiy the differences of important data structures such as Python lists, Numpy arrays and Pandas DataFrames.\n",
    "\n",
    "### 📖 Concepts map\n",
    "* Common Python data structures (collections)\n",
    "* Python lists and their essential functionality\n",
    "* Numpy arrays and their essential functionality\n",
    "* Pandas DataFrames and their essential functionality\n",
    "* Pytorch Tensors and their essential functionality"
   ]
  },
  {
   "cell_type": "code",
   "execution_count": 5,
   "id": "eae02cc8-e305-4464-88da-b5a506a50b49",
   "metadata": {},
   "outputs": [],
   "source": [
    "##Imports\n",
    "\n",
    "from pathlib import Path\n",
    "import pandas as pd\n",
    "import numpy as np\n",
    "from matplotlib import pyplot as plt\n",
    "import cv2\n",
    "\n",
    "## Config Variables |\n",
    "\n",
    "DATA_DIR = Path('../data')\n",
    "CONTENT_DIR = Path.home() / 'Datasets' / 'unpackAI' / 'DL201-4.0' # Change this for use in colab\n",
    "\n",
    "startupDataPath = DATA_DIR / 'StartUpInvestments' / 'investments_VC.csv'\n",
    "\n",
    "IMAGE_DIR = Path('../img')"
   ]
  },
  {
   "cell_type": "markdown",
   "id": "a8a8e672-3874-485a-826a-0d3d0dc198a5",
   "metadata": {},
   "source": [
    "### Introduction\n",
    "\n",
    "In this notebook, we are going to learn about indexing. Indexing is a central concept, which allows both us and the computer to access datapoints quickly  and easily. Well indexed data is very important in deep learning because without it we cannot get started on accessing and manipulating any of our data. \n"
   ]
  },
  {
   "cell_type": "markdown",
   "id": "31976a01",
   "metadata": {},
   "source": [
    "![Library](../img/library.jpg)"
   ]
  },
  {
   "cell_type": "markdown",
   "id": "1103ca4b-bdf0-40f4-8e99-ef8b842bb27b",
   "metadata": {},
   "source": [
    "If you can't access each data point, then you can't expect a computer to be able to do it either. Before a ML algorithm can find relationships inside of data, it needs to be able to access those data points. Otherwise, it is like looking for a receipt buried under a a disheveled stack of papers.   \n",
    "\n",
    "There are several ways to organize and conceptualize data, but the one covered in this course will be indexing. \n",
    "\n",
    "Indexing it is one of the more intuitive, yet powerful ways to access and manipulate data. Pandas as a data wrangling tool brings this to the next level.\n",
    "\n",
    "There is nothing new about this, and everyone knows that indexes are a part of everyday life life. \n",
    "\n",
    "When you read a book, the page number is an index. \n",
    "A book also has an index called an ISBN, which allows libraries to identify and categorize books.\n",
    "\n",
    "Postal codes are also indices which allow for the efficient delivery of mail.\n",
    "\n",
    "What are some other examples of indices?  "
   ]
  },
  {
   "cell_type": "markdown",
   "id": "4c208d2e-5667-4061-ab01-daafd6f6def8",
   "metadata": {},
   "source": [
    "# Section 1: Indexing Tabular Data"
   ]
  },
  {
   "cell_type": "markdown",
   "id": "4c37a8a7",
   "metadata": {},
   "source": [
    "The pandas library shines in how it is able to index data. The brilliance of pandas is it's ability to assign human readable indicies on top of optimized scientific computing code.\n",
    "\n",
    "It makes it simple, and straightforward, which is why this is covered first before getting into computer vision and NLP examples. \n",
    "\n",
    "One way it does this is making columns not assigned by numbers, but rather by names. Then, with each column, we can access it through this method. \n",
    "\n",
    "As you'll see below, Pandas Columns are essentially a layer of metadata, which is tied to each of the features which makes it very straightforward to access and manipulate the data assigned to them. "
   ]
  },
  {
   "cell_type": "markdown",
   "id": "679b897c",
   "metadata": {},
   "source": [
    "![indextabs](../img/indextabs.jpg)"
   ]
  },
  {
   "cell_type": "markdown",
   "id": "c14cf011-7411-46bb-a28e-fa277f8a909c",
   "metadata": {},
   "source": [
    "### Example one: Indexing Columns\n",
    "<hr style=\"border:1px solid gray\"> </hr>"
   ]
  },
  {
   "cell_type": "markdown",
   "id": "93d0f68b-365c-46d7-a9b4-be2e312d4c14",
   "metadata": {},
   "source": [
    "In general, the first thing one does when loading a csv in pandas is check the following information. \n",
    "\n",
    "* First, reading the data.\n",
    "* Second, checking the shape.\n",
    "* Third, Looking at the columns \n",
    "\n",
    "Reading the data loads it onto the computer's system RAM so that it can be operated on by the CPU \n",
    "\n",
    "Checking the shape is a fundamental step that lets us know more about how our data looks like, and how it is going to be indexed\n",
    "\n",
    "Then when we look at the columns, it is going to tell us what our features are in teh data and how it is going to be useful to us.\n",
    "\n",
    "Let's take a look at this dataset, which contains data on startups, what market they are in, along with their funding and acquisition status. "
   ]
  },
  {
   "cell_type": "code",
   "execution_count": 31,
   "id": "01fc7739-c6f5-4cbd-b8b8-97767391c5eb",
   "metadata": {},
   "outputs": [],
   "source": [
    "# loading the data\n",
    "startUpData = pd.read_csv(startupDataPath,encoding = 'unicode_escape')\n",
    "\n",
    "startUpData.dropna(inplace=True)"
   ]
  },
  {
   "cell_type": "markdown",
   "id": "eeb3d9ab-65dc-4695-8aae-4804c56550a5",
   "metadata": {},
   "source": [
    "##### Step 1: Check the shape \n",
    "\n",
    "\n",
    "Whenever you load a dataframe, the first thing you need to do when you load data is to check the shape. It is good practice to make note of these two numbers because they are going to appear over and over again in your code. .\n",
    "\n",
    "If this number is different than you were expecting, it will tell you right away that your data didn't load properly. The first number is the length, which tells us the number of samples. When you remove samples from your dataset, this number will change, and if it does your code might break. If you remove samples from your dataframe, it is good to do this sooner rather than later.\n",
    "\n",
    "\n",
    "The width is the most important number to pay attention to in pandas. If you get an unexpected number, then it means that your data has not loaded correctly. If you remove or add a feature, this number is going to change.\n",
    "\n",
    "It also needs to be paid attention to because this number will follow you around for the rest of the project. It will help you know  what is going in. "
   ]
  },
  {
   "cell_type": "code",
   "execution_count": 8,
   "id": "849ecea9-3493-4324-96dd-59ff401b78f9",
   "metadata": {},
   "outputs": [
    {
     "data": {
      "text/plain": [
       "(54294, 39)"
      ]
     },
     "execution_count": 8,
     "metadata": {},
     "output_type": "execute_result"
    }
   ],
   "source": [
    "startUpData.shape\n",
    "# What does this mean?"
   ]
  },
  {
   "cell_type": "markdown",
   "id": "787208a0-bc89-4732-a7b6-7ebb6485aa05",
   "metadata": {},
   "source": [
    "##### Step 2: inspect the first few rows/samples/instances\n",
    "\n",
    "The next thing that is very useful to do is to take a peek at your data. Take a look at it, do you see numbers? Text? Categories? Time data? \n",
    "\n",
    "Often, people use .head() as a way to do this, but sample is a good method to use because it might show you something you weren't expecting. "
   ]
  },
  {
   "cell_type": "code",
   "execution_count": 9,
   "id": "b980febb-7fb0-4974-97bb-3a27583b8a58",
   "metadata": {},
   "outputs": [
    {
     "data": {
      "text/html": [
       "<div>\n",
       "<style scoped>\n",
       "    .dataframe tbody tr th:only-of-type {\n",
       "        vertical-align: middle;\n",
       "    }\n",
       "\n",
       "    .dataframe tbody tr th {\n",
       "        vertical-align: top;\n",
       "    }\n",
       "\n",
       "    .dataframe thead th {\n",
       "        text-align: right;\n",
       "    }\n",
       "</style>\n",
       "<table border=\"1\" class=\"dataframe\">\n",
       "  <thead>\n",
       "    <tr style=\"text-align: right;\">\n",
       "      <th></th>\n",
       "      <th>permalink</th>\n",
       "      <th>name</th>\n",
       "      <th>homepage_url</th>\n",
       "      <th>category_list</th>\n",
       "      <th>market</th>\n",
       "      <th>funding_total_usd</th>\n",
       "      <th>status</th>\n",
       "      <th>country_code</th>\n",
       "      <th>state_code</th>\n",
       "      <th>region</th>\n",
       "      <th>...</th>\n",
       "      <th>secondary_market</th>\n",
       "      <th>product_crowdfunding</th>\n",
       "      <th>round_A</th>\n",
       "      <th>round_B</th>\n",
       "      <th>round_C</th>\n",
       "      <th>round_D</th>\n",
       "      <th>round_E</th>\n",
       "      <th>round_F</th>\n",
       "      <th>round_G</th>\n",
       "      <th>round_H</th>\n",
       "    </tr>\n",
       "  </thead>\n",
       "  <tbody>\n",
       "    <tr>\n",
       "      <th>41934</th>\n",
       "      <td>/organization/taotaosou</td>\n",
       "      <td>TaoTaoSou</td>\n",
       "      <td>http://taotaosou.com</td>\n",
       "      <td>|Curated Web|</td>\n",
       "      <td>Curated Web</td>\n",
       "      <td>1,04,87,092</td>\n",
       "      <td>operating</td>\n",
       "      <td>CHN</td>\n",
       "      <td>NaN</td>\n",
       "      <td>Hangzhou</td>\n",
       "      <td>...</td>\n",
       "      <td>0.0</td>\n",
       "      <td>0.0</td>\n",
       "      <td>0.0</td>\n",
       "      <td>10000000.0</td>\n",
       "      <td>0.0</td>\n",
       "      <td>0.0</td>\n",
       "      <td>0.0</td>\n",
       "      <td>0.0</td>\n",
       "      <td>0.0</td>\n",
       "      <td>0.0</td>\n",
       "    </tr>\n",
       "    <tr>\n",
       "      <th>4869</th>\n",
       "      <td>/organization/bestboy-keyboard</td>\n",
       "      <td>BestBoy Keyboard</td>\n",
       "      <td>http://www.bestboy.se</td>\n",
       "      <td>NaN</td>\n",
       "      <td>NaN</td>\n",
       "      <td>215</td>\n",
       "      <td>NaN</td>\n",
       "      <td>SWE</td>\n",
       "      <td>NaN</td>\n",
       "      <td>Malmo</td>\n",
       "      <td>...</td>\n",
       "      <td>0.0</td>\n",
       "      <td>215.0</td>\n",
       "      <td>0.0</td>\n",
       "      <td>0.0</td>\n",
       "      <td>0.0</td>\n",
       "      <td>0.0</td>\n",
       "      <td>0.0</td>\n",
       "      <td>0.0</td>\n",
       "      <td>0.0</td>\n",
       "      <td>0.0</td>\n",
       "    </tr>\n",
       "    <tr>\n",
       "      <th>14117</th>\n",
       "      <td>/organization/etuktuk</td>\n",
       "      <td>eTukTuk</td>\n",
       "      <td>http://www.etuktuk.com</td>\n",
       "      <td>|Sustainability|Mobility|Travel|</td>\n",
       "      <td>Mobility</td>\n",
       "      <td>3,29,850</td>\n",
       "      <td>operating</td>\n",
       "      <td>DEU</td>\n",
       "      <td>NaN</td>\n",
       "      <td>Berlin</td>\n",
       "      <td>...</td>\n",
       "      <td>0.0</td>\n",
       "      <td>0.0</td>\n",
       "      <td>0.0</td>\n",
       "      <td>0.0</td>\n",
       "      <td>0.0</td>\n",
       "      <td>0.0</td>\n",
       "      <td>0.0</td>\n",
       "      <td>0.0</td>\n",
       "      <td>0.0</td>\n",
       "      <td>0.0</td>\n",
       "    </tr>\n",
       "    <tr>\n",
       "      <th>42330</th>\n",
       "      <td>/organization/telibrahma</td>\n",
       "      <td>TELiBrahma</td>\n",
       "      <td>http://www.telibrahma.com</td>\n",
       "      <td>|Enterprises|Software|Services|Logistics|Mobil...</td>\n",
       "      <td>Mobile</td>\n",
       "      <td>22,50,000</td>\n",
       "      <td>operating</td>\n",
       "      <td>IND</td>\n",
       "      <td>NaN</td>\n",
       "      <td>Bangalore</td>\n",
       "      <td>...</td>\n",
       "      <td>0.0</td>\n",
       "      <td>0.0</td>\n",
       "      <td>250000.0</td>\n",
       "      <td>2000000.0</td>\n",
       "      <td>0.0</td>\n",
       "      <td>0.0</td>\n",
       "      <td>0.0</td>\n",
       "      <td>0.0</td>\n",
       "      <td>0.0</td>\n",
       "      <td>0.0</td>\n",
       "    </tr>\n",
       "    <tr>\n",
       "      <th>36592</th>\n",
       "      <td>/organization/sagent-pharmaceuticals</td>\n",
       "      <td>Sagent Pharmaceuticals</td>\n",
       "      <td>http://www.sagentpharma.com</td>\n",
       "      <td>|Health Care|Biotechnology|</td>\n",
       "      <td>Health Care</td>\n",
       "      <td>7,00,00,000</td>\n",
       "      <td>operating</td>\n",
       "      <td>USA</td>\n",
       "      <td>IL</td>\n",
       "      <td>Chicago</td>\n",
       "      <td>...</td>\n",
       "      <td>0.0</td>\n",
       "      <td>0.0</td>\n",
       "      <td>30000000.0</td>\n",
       "      <td>40000000.0</td>\n",
       "      <td>0.0</td>\n",
       "      <td>0.0</td>\n",
       "      <td>0.0</td>\n",
       "      <td>0.0</td>\n",
       "      <td>0.0</td>\n",
       "      <td>0.0</td>\n",
       "    </tr>\n",
       "  </tbody>\n",
       "</table>\n",
       "<p>5 rows × 39 columns</p>\n",
       "</div>"
      ],
      "text/plain": [
       "                                  permalink                    name  \\\n",
       "41934               /organization/taotaosou               TaoTaoSou   \n",
       "4869         /organization/bestboy-keyboard        BestBoy Keyboard   \n",
       "14117                 /organization/etuktuk                 eTukTuk   \n",
       "42330              /organization/telibrahma              TELiBrahma   \n",
       "36592  /organization/sagent-pharmaceuticals  Sagent Pharmaceuticals   \n",
       "\n",
       "                      homepage_url  \\\n",
       "41934         http://taotaosou.com   \n",
       "4869         http://www.bestboy.se   \n",
       "14117       http://www.etuktuk.com   \n",
       "42330    http://www.telibrahma.com   \n",
       "36592  http://www.sagentpharma.com   \n",
       "\n",
       "                                           category_list        market   \\\n",
       "41934                                      |Curated Web|   Curated Web    \n",
       "4869                                                 NaN            NaN   \n",
       "14117                   |Sustainability|Mobility|Travel|      Mobility    \n",
       "42330  |Enterprises|Software|Services|Logistics|Mobil...        Mobile    \n",
       "36592                        |Health Care|Biotechnology|   Health Care    \n",
       "\n",
       "       funding_total_usd      status country_code state_code     region  ...  \\\n",
       "41934        1,04,87,092   operating          CHN        NaN   Hangzhou  ...   \n",
       "4869                 215         NaN          SWE        NaN      Malmo  ...   \n",
       "14117           3,29,850   operating          DEU        NaN     Berlin  ...   \n",
       "42330          22,50,000   operating          IND        NaN  Bangalore  ...   \n",
       "36592        7,00,00,000   operating          USA         IL    Chicago  ...   \n",
       "\n",
       "      secondary_market  product_crowdfunding     round_A     round_B round_C  \\\n",
       "41934              0.0                   0.0         0.0  10000000.0     0.0   \n",
       "4869               0.0                 215.0         0.0         0.0     0.0   \n",
       "14117              0.0                   0.0         0.0         0.0     0.0   \n",
       "42330              0.0                   0.0    250000.0   2000000.0     0.0   \n",
       "36592              0.0                   0.0  30000000.0  40000000.0     0.0   \n",
       "\n",
       "       round_D round_E round_F  round_G  round_H  \n",
       "41934      0.0     0.0     0.0      0.0      0.0  \n",
       "4869       0.0     0.0     0.0      0.0      0.0  \n",
       "14117      0.0     0.0     0.0      0.0      0.0  \n",
       "42330      0.0     0.0     0.0      0.0      0.0  \n",
       "36592      0.0     0.0     0.0      0.0      0.0  \n",
       "\n",
       "[5 rows x 39 columns]"
      ]
     },
     "execution_count": 9,
     "metadata": {},
     "output_type": "execute_result"
    }
   ],
   "source": [
    "startUpData.sample(5)"
   ]
  },
  {
   "cell_type": "markdown",
   "id": "51539071",
   "metadata": {},
   "source": [
    "The columns in this dataframe are our features"
   ]
  },
  {
   "cell_type": "markdown",
   "id": "e4ae2617-64e8-4cc6-8259-cc687b96c4ad",
   "metadata": {},
   "source": [
    "Which columns are you interested in? What do you want to know more about? \n",
    "\n",
    "The .columns method allows us to get the names of columns in our dataframe \n",
    "\n",
    "This is a good step because sometimes the column names are messy and might not be as they originally appear. \n",
    "Oftentimes, you may need to  rename columns. However, this dataset is rather clean, so we can wait until the skills book to cover how to do this\n",
    "\n",
    "\n",
    "For example the column for 'market' has a typo. Can you find it? Are there any others? "
   ]
  },
  {
   "cell_type": "code",
   "execution_count": 10,
   "id": "4e681b37-221a-4ee5-afa4-9497f900673d",
   "metadata": {},
   "outputs": [
    {
     "name": "stdout",
     "output_type": "stream",
     "text": [
      "Index(['permalink', 'name', 'homepage_url', 'category_list', ' market ',\n",
      "       ' funding_total_usd ', 'status', 'country_code', 'state_code', 'region',\n",
      "       'city', 'funding_rounds', 'founded_at', 'founded_month',\n",
      "       'founded_quarter', 'founded_year', 'first_funding_at',\n",
      "       'last_funding_at', 'seed', 'venture', 'equity_crowdfunding',\n",
      "       'undisclosed', 'convertible_note', 'debt_financing', 'angel', 'grant',\n",
      "       'private_equity', 'post_ipo_equity', 'post_ipo_debt',\n",
      "       'secondary_market', 'product_crowdfunding', 'round_A', 'round_B',\n",
      "       'round_C', 'round_D', 'round_E', 'round_F', 'round_G', 'round_H'],\n",
      "      dtype='object')\n"
     ]
    }
   ],
   "source": [
    "print(startUpData.columns)"
   ]
  },
  {
   "cell_type": "markdown",
   "id": "0266805b",
   "metadata": {},
   "source": [
    "We can't change just one element of the columns, so instead, we can convert it to a list, change what needs to be changed, and then replace it.\n",
    "\n",
    "In this example, removing the whitespace is done with the vectorized .str.strip() method rather than iterating through a loop. "
   ]
  },
  {
   "cell_type": "code",
   "execution_count": 37,
   "id": "7801e35c-1bf6-4231-b3d0-fc2f8f5fbe46",
   "metadata": {},
   "outputs": [],
   "source": [
    "columnSeries = pd.Series(startUpData.columns)\n",
    "columnSeries = columnSeries.str.strip()\n",
    "startUpData.columns = columnSeries"
   ]
  },
  {
   "cell_type": "code",
   "execution_count": null,
   "id": "6727a499",
   "metadata": {},
   "outputs": [],
   "source": []
  },
  {
   "cell_type": "markdown",
   "id": "c2f2d51f-9518-476b-98bd-7f9c0f589beb",
   "metadata": {},
   "source": [
    "We can access columns in our dataframe by passing the name inside of square brackets\n",
    "\n",
    "startUpData['name']\n",
    "\n",
    "If the name doesn't have spaces, we can also access it with a period \n",
    "\n",
    "startUpData.name"
   ]
  },
  {
   "cell_type": "code",
   "execution_count": 12,
   "id": "4353002d-7d30-4f2d-9622-4b1d7efe849e",
   "metadata": {},
   "outputs": [
    {
     "data": {
      "text/plain": [
       "0                  #waywire\n",
       "1        &TV Communications\n",
       "2         'Rock' Your Paper\n",
       "3         (In)Touch Network\n",
       "4        -R- Ranch and Mine\n",
       "                ...        \n",
       "54289                   NaN\n",
       "54290                   NaN\n",
       "54291                   NaN\n",
       "54292                   NaN\n",
       "54293                   NaN\n",
       "Name: name, Length: 54294, dtype: object"
      ]
     },
     "execution_count": 12,
     "metadata": {},
     "output_type": "execute_result"
    }
   ],
   "source": [
    "startUpData['name'] #startUpData.name"
   ]
  },
  {
   "cell_type": "markdown",
   "id": "fc03298e-deb2-4b1c-8fac-b1fe095fbeb3",
   "metadata": {},
   "source": [
    "We can also call multiple columns passing a list of column names\n",
    "\n"
   ]
  },
  {
   "cell_type": "code",
   "execution_count": 13,
   "id": "d479c94e-4108-409a-8fd0-1ad9c1eaad23",
   "metadata": {},
   "outputs": [
    {
     "data": {
      "text/html": [
       "<div>\n",
       "<style scoped>\n",
       "    .dataframe tbody tr th:only-of-type {\n",
       "        vertical-align: middle;\n",
       "    }\n",
       "\n",
       "    .dataframe tbody tr th {\n",
       "        vertical-align: top;\n",
       "    }\n",
       "\n",
       "    .dataframe thead th {\n",
       "        text-align: right;\n",
       "    }\n",
       "</style>\n",
       "<table border=\"1\" class=\"dataframe\">\n",
       "  <thead>\n",
       "    <tr style=\"text-align: right;\">\n",
       "      <th></th>\n",
       "      <th>name</th>\n",
       "      <th>city</th>\n",
       "    </tr>\n",
       "  </thead>\n",
       "  <tbody>\n",
       "    <tr>\n",
       "      <th>0</th>\n",
       "      <td>#waywire</td>\n",
       "      <td>New York</td>\n",
       "    </tr>\n",
       "    <tr>\n",
       "      <th>1</th>\n",
       "      <td>&amp;TV Communications</td>\n",
       "      <td>Los Angeles</td>\n",
       "    </tr>\n",
       "    <tr>\n",
       "      <th>2</th>\n",
       "      <td>'Rock' Your Paper</td>\n",
       "      <td>Tallinn</td>\n",
       "    </tr>\n",
       "    <tr>\n",
       "      <th>3</th>\n",
       "      <td>(In)Touch Network</td>\n",
       "      <td>London</td>\n",
       "    </tr>\n",
       "    <tr>\n",
       "      <th>4</th>\n",
       "      <td>-R- Ranch and Mine</td>\n",
       "      <td>Fort Worth</td>\n",
       "    </tr>\n",
       "  </tbody>\n",
       "</table>\n",
       "</div>"
      ],
      "text/plain": [
       "                 name         city\n",
       "0            #waywire     New York\n",
       "1  &TV Communications  Los Angeles\n",
       "2   'Rock' Your Paper      Tallinn\n",
       "3   (In)Touch Network       London\n",
       "4  -R- Ranch and Mine   Fort Worth"
      ]
     },
     "execution_count": 13,
     "metadata": {},
     "output_type": "execute_result"
    }
   ],
   "source": [
    "startUpData[['name','city']].head()"
   ]
  },
  {
   "cell_type": "markdown",
   "id": "1e027e17-a626-421f-a619-eabf2dae036e",
   "metadata": {},
   "source": [
    "### Example two: Indexing Rows \n",
    "<hr style=\"border:1px solid gray\"> </hr>"
   ]
  },
  {
   "cell_type": "markdown",
   "id": "4c75a879",
   "metadata": {},
   "source": [
    "![TensorIndex](../img/1_3DTensor.jpg)\n",
    "Source: https://www.surajx.in/"
   ]
  },
  {
   "cell_type": "markdown",
   "id": "678771ea-7adc-492d-8c4c-f146589aac44",
   "metadata": {},
   "source": [
    "Congratulation, we now know how to index columns of tabular data. \n"
   ]
  },
  {
   "cell_type": "markdown",
   "id": "dcdfa62e-ad24-4647-ad99-18b4ff1c4691",
   "metadata": {},
   "source": [
    "#### Indexing a single row\n",
    "\n",
    "Now, let's try to get rows. In AI fields, rows are reffered to as samples or instances. \n",
    "\n",
    "This can be done with the .loc and .iloc methods\n",
    "\n",
    "If we want to access exactly one sample, we can input it's index into the .iloc method "
   ]
  },
  {
   "cell_type": "code",
   "execution_count": 14,
   "id": "a017f84d-f126-480d-9457-344af6f69018",
   "metadata": {},
   "outputs": [
    {
     "data": {
      "text/plain": [
       "permalink               /organization/axialmarket\n",
       "name                                        Axial\n",
       "homepage_url                 http://www.axial.net\n",
       "category_list                          |Software|\n",
       "market                                  Software \n",
       "funding_total_usd                      85,00,000 \n",
       "status                                  operating\n",
       "country_code                                  USA\n",
       "state_code                                     NY\n",
       "region                              New York City\n",
       "city                                     New York\n",
       "funding_rounds                                3.0\n",
       "founded_at                             2009-01-01\n",
       "founded_month                             2009-01\n",
       "founded_quarter                           2009-Q1\n",
       "founded_year                               2009.0\n",
       "first_funding_at                       2010-11-05\n",
       "last_funding_at                        2014-08-12\n",
       "seed                                    2000000.0\n",
       "venture                                 6500000.0\n",
       "equity_crowdfunding                           0.0\n",
       "undisclosed                                   0.0\n",
       "convertible_note                              0.0\n",
       "debt_financing                                0.0\n",
       "angel                                         0.0\n",
       "grant                                         0.0\n",
       "private_equity                                0.0\n",
       "post_ipo_equity                               0.0\n",
       "post_ipo_debt                                 0.0\n",
       "secondary_market                              0.0\n",
       "product_crowdfunding                          0.0\n",
       "round_A                                 6500000.0\n",
       "round_B                                       0.0\n",
       "round_C                                       0.0\n",
       "round_D                                       0.0\n",
       "round_E                                       0.0\n",
       "round_F                                       0.0\n",
       "round_G                                       0.0\n",
       "round_H                                       0.0\n",
       "Name: 4096, dtype: object"
      ]
     },
     "execution_count": 14,
     "metadata": {},
     "output_type": "execute_result"
    }
   ],
   "source": [
    "#startUpData.iloc[0]\n",
    "startUpData.iloc[4096]"
   ]
  },
  {
   "cell_type": "markdown",
   "id": "500fd997-c3f9-4f60-aab7-76c3d55578b9",
   "metadata": {},
   "source": [
    "#### Indexing Multiple rows\n",
    "\n",
    "Since data in Vector, Series, or Matrix form consists of more than one value organized together, we will need to be able to access multiple rows.\n",
    "\n",
    "We can do that by telling the code to select a range of numbers. \n",
    "\n",
    "The first number before the colon (:) is the lower bound\n",
    "The second number is the upper bound."
   ]
  },
  {
   "cell_type": "code",
   "execution_count": 15,
   "id": "331d5072-6a83-40da-b2c1-f6ab1fbfe6f4",
   "metadata": {},
   "outputs": [
    {
     "data": {
      "text/html": [
       "<div>\n",
       "<style scoped>\n",
       "    .dataframe tbody tr th:only-of-type {\n",
       "        vertical-align: middle;\n",
       "    }\n",
       "\n",
       "    .dataframe tbody tr th {\n",
       "        vertical-align: top;\n",
       "    }\n",
       "\n",
       "    .dataframe thead th {\n",
       "        text-align: right;\n",
       "    }\n",
       "</style>\n",
       "<table border=\"1\" class=\"dataframe\">\n",
       "  <thead>\n",
       "    <tr style=\"text-align: right;\">\n",
       "      <th></th>\n",
       "      <th>permalink</th>\n",
       "      <th>name</th>\n",
       "      <th>homepage_url</th>\n",
       "      <th>category_list</th>\n",
       "      <th>market</th>\n",
       "      <th>funding_total_usd</th>\n",
       "      <th>status</th>\n",
       "      <th>country_code</th>\n",
       "      <th>state_code</th>\n",
       "      <th>region</th>\n",
       "      <th>...</th>\n",
       "      <th>secondary_market</th>\n",
       "      <th>product_crowdfunding</th>\n",
       "      <th>round_A</th>\n",
       "      <th>round_B</th>\n",
       "      <th>round_C</th>\n",
       "      <th>round_D</th>\n",
       "      <th>round_E</th>\n",
       "      <th>round_F</th>\n",
       "      <th>round_G</th>\n",
       "      <th>round_H</th>\n",
       "    </tr>\n",
       "  </thead>\n",
       "  <tbody>\n",
       "    <tr>\n",
       "      <th>0</th>\n",
       "      <td>/organization/waywire</td>\n",
       "      <td>#waywire</td>\n",
       "      <td>http://www.waywire.com</td>\n",
       "      <td>|Entertainment|Politics|Social Media|News|</td>\n",
       "      <td>News</td>\n",
       "      <td>17,50,000</td>\n",
       "      <td>acquired</td>\n",
       "      <td>USA</td>\n",
       "      <td>NY</td>\n",
       "      <td>New York City</td>\n",
       "      <td>...</td>\n",
       "      <td>0.0</td>\n",
       "      <td>0.0</td>\n",
       "      <td>0.0</td>\n",
       "      <td>0.0</td>\n",
       "      <td>0.0</td>\n",
       "      <td>0.0</td>\n",
       "      <td>0.0</td>\n",
       "      <td>0.0</td>\n",
       "      <td>0.0</td>\n",
       "      <td>0.0</td>\n",
       "    </tr>\n",
       "    <tr>\n",
       "      <th>1</th>\n",
       "      <td>/organization/tv-communications</td>\n",
       "      <td>&amp;TV Communications</td>\n",
       "      <td>http://enjoyandtv.com</td>\n",
       "      <td>|Games|</td>\n",
       "      <td>Games</td>\n",
       "      <td>40,00,000</td>\n",
       "      <td>operating</td>\n",
       "      <td>USA</td>\n",
       "      <td>CA</td>\n",
       "      <td>Los Angeles</td>\n",
       "      <td>...</td>\n",
       "      <td>0.0</td>\n",
       "      <td>0.0</td>\n",
       "      <td>0.0</td>\n",
       "      <td>0.0</td>\n",
       "      <td>0.0</td>\n",
       "      <td>0.0</td>\n",
       "      <td>0.0</td>\n",
       "      <td>0.0</td>\n",
       "      <td>0.0</td>\n",
       "      <td>0.0</td>\n",
       "    </tr>\n",
       "    <tr>\n",
       "      <th>2</th>\n",
       "      <td>/organization/rock-your-paper</td>\n",
       "      <td>'Rock' Your Paper</td>\n",
       "      <td>http://www.rockyourpaper.org</td>\n",
       "      <td>|Publishing|Education|</td>\n",
       "      <td>Publishing</td>\n",
       "      <td>40,000</td>\n",
       "      <td>operating</td>\n",
       "      <td>EST</td>\n",
       "      <td>NaN</td>\n",
       "      <td>Tallinn</td>\n",
       "      <td>...</td>\n",
       "      <td>0.0</td>\n",
       "      <td>0.0</td>\n",
       "      <td>0.0</td>\n",
       "      <td>0.0</td>\n",
       "      <td>0.0</td>\n",
       "      <td>0.0</td>\n",
       "      <td>0.0</td>\n",
       "      <td>0.0</td>\n",
       "      <td>0.0</td>\n",
       "      <td>0.0</td>\n",
       "    </tr>\n",
       "    <tr>\n",
       "      <th>3</th>\n",
       "      <td>/organization/in-touch-network</td>\n",
       "      <td>(In)Touch Network</td>\n",
       "      <td>http://www.InTouchNetwork.com</td>\n",
       "      <td>|Electronics|Guides|Coffee|Restaurants|Music|i...</td>\n",
       "      <td>Electronics</td>\n",
       "      <td>15,00,000</td>\n",
       "      <td>operating</td>\n",
       "      <td>GBR</td>\n",
       "      <td>NaN</td>\n",
       "      <td>London</td>\n",
       "      <td>...</td>\n",
       "      <td>0.0</td>\n",
       "      <td>0.0</td>\n",
       "      <td>0.0</td>\n",
       "      <td>0.0</td>\n",
       "      <td>0.0</td>\n",
       "      <td>0.0</td>\n",
       "      <td>0.0</td>\n",
       "      <td>0.0</td>\n",
       "      <td>0.0</td>\n",
       "      <td>0.0</td>\n",
       "    </tr>\n",
       "    <tr>\n",
       "      <th>4</th>\n",
       "      <td>/organization/r-ranch-and-mine</td>\n",
       "      <td>-R- Ranch and Mine</td>\n",
       "      <td>NaN</td>\n",
       "      <td>|Tourism|Entertainment|Games|</td>\n",
       "      <td>Tourism</td>\n",
       "      <td>60,000</td>\n",
       "      <td>operating</td>\n",
       "      <td>USA</td>\n",
       "      <td>TX</td>\n",
       "      <td>Dallas</td>\n",
       "      <td>...</td>\n",
       "      <td>0.0</td>\n",
       "      <td>0.0</td>\n",
       "      <td>0.0</td>\n",
       "      <td>0.0</td>\n",
       "      <td>0.0</td>\n",
       "      <td>0.0</td>\n",
       "      <td>0.0</td>\n",
       "      <td>0.0</td>\n",
       "      <td>0.0</td>\n",
       "      <td>0.0</td>\n",
       "    </tr>\n",
       "  </tbody>\n",
       "</table>\n",
       "<p>5 rows × 39 columns</p>\n",
       "</div>"
      ],
      "text/plain": [
       "                         permalink                name  \\\n",
       "0            /organization/waywire            #waywire   \n",
       "1  /organization/tv-communications  &TV Communications   \n",
       "2    /organization/rock-your-paper   'Rock' Your Paper   \n",
       "3   /organization/in-touch-network   (In)Touch Network   \n",
       "4   /organization/r-ranch-and-mine  -R- Ranch and Mine   \n",
       "\n",
       "                    homepage_url  \\\n",
       "0         http://www.waywire.com   \n",
       "1          http://enjoyandtv.com   \n",
       "2   http://www.rockyourpaper.org   \n",
       "3  http://www.InTouchNetwork.com   \n",
       "4                            NaN   \n",
       "\n",
       "                                       category_list         market  \\\n",
       "0         |Entertainment|Politics|Social Media|News|          News    \n",
       "1                                            |Games|         Games    \n",
       "2                             |Publishing|Education|    Publishing    \n",
       "3  |Electronics|Guides|Coffee|Restaurants|Music|i...   Electronics    \n",
       "4                      |Tourism|Entertainment|Games|       Tourism    \n",
       "\n",
       "  funding_total_usd     status country_code state_code         region  ...  \\\n",
       "0        17,50,000    acquired          USA         NY  New York City  ...   \n",
       "1        40,00,000   operating          USA         CA    Los Angeles  ...   \n",
       "2           40,000   operating          EST        NaN        Tallinn  ...   \n",
       "3        15,00,000   operating          GBR        NaN         London  ...   \n",
       "4           60,000   operating          USA         TX         Dallas  ...   \n",
       "\n",
       "  secondary_market  product_crowdfunding round_A round_B round_C  round_D  \\\n",
       "0              0.0                   0.0     0.0     0.0     0.0      0.0   \n",
       "1              0.0                   0.0     0.0     0.0     0.0      0.0   \n",
       "2              0.0                   0.0     0.0     0.0     0.0      0.0   \n",
       "3              0.0                   0.0     0.0     0.0     0.0      0.0   \n",
       "4              0.0                   0.0     0.0     0.0     0.0      0.0   \n",
       "\n",
       "  round_E round_F  round_G  round_H  \n",
       "0     0.0     0.0      0.0      0.0  \n",
       "1     0.0     0.0      0.0      0.0  \n",
       "2     0.0     0.0      0.0      0.0  \n",
       "3     0.0     0.0      0.0      0.0  \n",
       "4     0.0     0.0      0.0      0.0  \n",
       "\n",
       "[5 rows x 39 columns]"
      ]
     },
     "execution_count": 15,
     "metadata": {},
     "output_type": "execute_result"
    }
   ],
   "source": [
    "startUpData.iloc[0:5]"
   ]
  },
  {
   "cell_type": "markdown",
   "id": "ac24bf78-29bc-4a3c-a88e-cde69bab0a3a",
   "metadata": {},
   "source": [
    "Warm reminder that python starts counting with the number 0 instead of 1. This custom goes back to the early days of computing when memory was a huge constraint. 1-9 is just 9 numbers in a set, while 0-9 has ten numbers in the set. Leaving the 0 meant wasting allocated space. Now this is not a concern, but the custom has remained."
   ]
  },
  {
   "cell_type": "code",
   "execution_count": 16,
   "id": "8702b694-b012-4dea-9261-6d75ec0257b0",
   "metadata": {},
   "outputs": [
    {
     "data": {
      "text/plain": [
       "(54294, 39)"
      ]
     },
     "execution_count": 16,
     "metadata": {},
     "output_type": "execute_result"
    }
   ],
   "source": [
    "# Why is the shape of this data special and what does it tell us about the colon operator?\n",
    "\n",
    "startUpData.iloc[:].shape # "
   ]
  },
  {
   "cell_type": "markdown",
   "id": "b97be021-6459-46af-82d1-76d4e374bbdb",
   "metadata": {},
   "source": [
    "Giving negative numbers will tell pandas to give you the last rows in the dataframe. In this case, it is a good idea to check the back as well because these rows are completely empty. These will have to be dropped later"
   ]
  },
  {
   "cell_type": "code",
   "execution_count": 71,
   "id": "c5a2d48c-0ed6-4a97-943b-45bdc5a137fe",
   "metadata": {},
   "outputs": [
    {
     "data": {
      "text/html": [
       "<div>\n",
       "<style scoped>\n",
       "    .dataframe tbody tr th:only-of-type {\n",
       "        vertical-align: middle;\n",
       "    }\n",
       "\n",
       "    .dataframe tbody tr th {\n",
       "        vertical-align: top;\n",
       "    }\n",
       "\n",
       "    .dataframe thead th {\n",
       "        text-align: right;\n",
       "    }\n",
       "</style>\n",
       "<table border=\"1\" class=\"dataframe\">\n",
       "  <thead>\n",
       "    <tr style=\"text-align: right;\">\n",
       "      <th></th>\n",
       "      <th>permalink</th>\n",
       "      <th>name</th>\n",
       "      <th>homepage_url</th>\n",
       "      <th>category_list</th>\n",
       "      <th>market</th>\n",
       "      <th>funding_total_usd</th>\n",
       "      <th>status</th>\n",
       "      <th>country_code</th>\n",
       "      <th>state_code</th>\n",
       "      <th>region</th>\n",
       "      <th>...</th>\n",
       "      <th>secondary_market</th>\n",
       "      <th>product_crowdfunding</th>\n",
       "      <th>round_A</th>\n",
       "      <th>round_B</th>\n",
       "      <th>round_C</th>\n",
       "      <th>round_D</th>\n",
       "      <th>round_E</th>\n",
       "      <th>round_F</th>\n",
       "      <th>round_G</th>\n",
       "      <th>round_H</th>\n",
       "    </tr>\n",
       "  </thead>\n",
       "  <tbody>\n",
       "    <tr>\n",
       "      <th>49425</th>\n",
       "      <td>/organization/zynerba-pharmaceuticals</td>\n",
       "      <td>Zynerba Pharmaceuticals</td>\n",
       "      <td>http://zynerba.com</td>\n",
       "      <td>|Pharmaceuticals|</td>\n",
       "      <td>Pharmaceuticals</td>\n",
       "      <td>1,30,00,000</td>\n",
       "      <td>operating</td>\n",
       "      <td>USA</td>\n",
       "      <td>PA</td>\n",
       "      <td>Philadelphia</td>\n",
       "      <td>...</td>\n",
       "      <td>0.0</td>\n",
       "      <td>0.0</td>\n",
       "      <td>0.0</td>\n",
       "      <td>0.0</td>\n",
       "      <td>0.0</td>\n",
       "      <td>0.0</td>\n",
       "      <td>0.0</td>\n",
       "      <td>0.0</td>\n",
       "      <td>0.0</td>\n",
       "      <td>0.0</td>\n",
       "    </tr>\n",
       "    <tr>\n",
       "      <th>49426</th>\n",
       "      <td>/organization/zynga</td>\n",
       "      <td>Zynga</td>\n",
       "      <td>http://www.zynga.com</td>\n",
       "      <td>|Technology|Facebook Applications|Networking|G...</td>\n",
       "      <td>Technology</td>\n",
       "      <td>86,65,50,786</td>\n",
       "      <td>operating</td>\n",
       "      <td>USA</td>\n",
       "      <td>CA</td>\n",
       "      <td>SF Bay Area</td>\n",
       "      <td>...</td>\n",
       "      <td>0.0</td>\n",
       "      <td>0.0</td>\n",
       "      <td>15026000.0</td>\n",
       "      <td>355187000.0</td>\n",
       "      <td>490000000.0</td>\n",
       "      <td>0.0</td>\n",
       "      <td>0.0</td>\n",
       "      <td>0.0</td>\n",
       "      <td>0.0</td>\n",
       "      <td>0.0</td>\n",
       "    </tr>\n",
       "    <tr>\n",
       "      <th>49427</th>\n",
       "      <td>/organization/zyngenia</td>\n",
       "      <td>Zyngenia</td>\n",
       "      <td>http://www.zyngenia.com</td>\n",
       "      <td>|Biotechnology|</td>\n",
       "      <td>Biotechnology</td>\n",
       "      <td>2,50,00,000</td>\n",
       "      <td>operating</td>\n",
       "      <td>USA</td>\n",
       "      <td>MD</td>\n",
       "      <td>Washington, D.C.</td>\n",
       "      <td>...</td>\n",
       "      <td>0.0</td>\n",
       "      <td>0.0</td>\n",
       "      <td>25000000.0</td>\n",
       "      <td>0.0</td>\n",
       "      <td>0.0</td>\n",
       "      <td>0.0</td>\n",
       "      <td>0.0</td>\n",
       "      <td>0.0</td>\n",
       "      <td>0.0</td>\n",
       "      <td>0.0</td>\n",
       "    </tr>\n",
       "    <tr>\n",
       "      <th>49429</th>\n",
       "      <td>/organization/zyomyx-inc</td>\n",
       "      <td>ZYOMYX</td>\n",
       "      <td>http://www.zyomyx.com</td>\n",
       "      <td>|Biotechnology|</td>\n",
       "      <td>Biotechnology</td>\n",
       "      <td>3,42,75,015</td>\n",
       "      <td>operating</td>\n",
       "      <td>USA</td>\n",
       "      <td>MO</td>\n",
       "      <td>MO - Other</td>\n",
       "      <td>...</td>\n",
       "      <td>0.0</td>\n",
       "      <td>0.0</td>\n",
       "      <td>0.0</td>\n",
       "      <td>12000000.0</td>\n",
       "      <td>0.0</td>\n",
       "      <td>0.0</td>\n",
       "      <td>0.0</td>\n",
       "      <td>0.0</td>\n",
       "      <td>0.0</td>\n",
       "      <td>0.0</td>\n",
       "    </tr>\n",
       "    <tr>\n",
       "      <th>49437</th>\n",
       "      <td>/organization/x</td>\n",
       "      <td>[x+1]</td>\n",
       "      <td>http://www.xplusone.com/</td>\n",
       "      <td>|Enterprise Software|</td>\n",
       "      <td>Enterprise Software</td>\n",
       "      <td>4,50,00,000</td>\n",
       "      <td>operating</td>\n",
       "      <td>USA</td>\n",
       "      <td>NY</td>\n",
       "      <td>New York City</td>\n",
       "      <td>...</td>\n",
       "      <td>0.0</td>\n",
       "      <td>0.0</td>\n",
       "      <td>16000000.0</td>\n",
       "      <td>10000000.0</td>\n",
       "      <td>0.0</td>\n",
       "      <td>0.0</td>\n",
       "      <td>0.0</td>\n",
       "      <td>0.0</td>\n",
       "      <td>0.0</td>\n",
       "      <td>0.0</td>\n",
       "    </tr>\n",
       "  </tbody>\n",
       "</table>\n",
       "<p>5 rows × 39 columns</p>\n",
       "</div>"
      ],
      "text/plain": [
       "                                   permalink                     name  \\\n",
       "49425  /organization/zynerba-pharmaceuticals  Zynerba Pharmaceuticals   \n",
       "49426                    /organization/zynga                    Zynga   \n",
       "49427                 /organization/zyngenia                 Zyngenia   \n",
       "49429               /organization/zyomyx-inc                   ZYOMYX   \n",
       "49437                        /organization/x                    [x+1]   \n",
       "\n",
       "                   homepage_url  \\\n",
       "49425        http://zynerba.com   \n",
       "49426      http://www.zynga.com   \n",
       "49427   http://www.zyngenia.com   \n",
       "49429     http://www.zyomyx.com   \n",
       "49437  http://www.xplusone.com/   \n",
       "\n",
       "                                           category_list               market  \\\n",
       "49425                                  |Pharmaceuticals|      Pharmaceuticals   \n",
       "49426  |Technology|Facebook Applications|Networking|G...           Technology   \n",
       "49427                                    |Biotechnology|        Biotechnology   \n",
       "49429                                    |Biotechnology|        Biotechnology   \n",
       "49437                              |Enterprise Software|  Enterprise Software   \n",
       "\n",
       "      funding_total_usd     status country_code state_code            region  \\\n",
       "49425       1,30,00,000  operating          USA         PA      Philadelphia   \n",
       "49426      86,65,50,786  operating          USA         CA       SF Bay Area   \n",
       "49427       2,50,00,000  operating          USA         MD  Washington, D.C.   \n",
       "49429       3,42,75,015  operating          USA         MO        MO - Other   \n",
       "49437       4,50,00,000  operating          USA         NY     New York City   \n",
       "\n",
       "       ... secondary_market  product_crowdfunding     round_A      round_B  \\\n",
       "49425  ...              0.0                   0.0         0.0          0.0   \n",
       "49426  ...              0.0                   0.0  15026000.0  355187000.0   \n",
       "49427  ...              0.0                   0.0  25000000.0          0.0   \n",
       "49429  ...              0.0                   0.0         0.0   12000000.0   \n",
       "49437  ...              0.0                   0.0  16000000.0   10000000.0   \n",
       "\n",
       "           round_C  round_D round_E round_F  round_G  round_H  \n",
       "49425          0.0      0.0     0.0     0.0      0.0      0.0  \n",
       "49426  490000000.0      0.0     0.0     0.0      0.0      0.0  \n",
       "49427          0.0      0.0     0.0     0.0      0.0      0.0  \n",
       "49429          0.0      0.0     0.0     0.0      0.0      0.0  \n",
       "49437          0.0      0.0     0.0     0.0      0.0      0.0  \n",
       "\n",
       "[5 rows x 39 columns]"
      ]
     },
     "execution_count": 71,
     "metadata": {},
     "output_type": "execute_result"
    }
   ],
   "source": [
    "startUpData.iloc[-5:]"
   ]
  },
  {
   "cell_type": "markdown",
   "id": "90019c44-171b-48b8-91ca-4026568b7667",
   "metadata": {},
   "source": [
    "#### Accessing data by row and column\n",
    "\n",
    "If you can access data by column, and you can access it by row, you can do both at the same time\n",
    "\n",
    "In the example below, we can extract the name and region column, then index rows out of this column"
   ]
  },
  {
   "cell_type": "code",
   "execution_count": 18,
   "id": "d3464e94-9e1d-44cf-91b7-9309d90767cf",
   "metadata": {},
   "outputs": [
    {
     "data": {
      "text/html": [
       "<div>\n",
       "<style scoped>\n",
       "    .dataframe tbody tr th:only-of-type {\n",
       "        vertical-align: middle;\n",
       "    }\n",
       "\n",
       "    .dataframe tbody tr th {\n",
       "        vertical-align: top;\n",
       "    }\n",
       "\n",
       "    .dataframe thead th {\n",
       "        text-align: right;\n",
       "    }\n",
       "</style>\n",
       "<table border=\"1\" class=\"dataframe\">\n",
       "  <thead>\n",
       "    <tr style=\"text-align: right;\">\n",
       "      <th></th>\n",
       "      <th>name</th>\n",
       "      <th>region</th>\n",
       "    </tr>\n",
       "  </thead>\n",
       "  <tbody>\n",
       "    <tr>\n",
       "      <th>0</th>\n",
       "      <td>#waywire</td>\n",
       "      <td>New York City</td>\n",
       "    </tr>\n",
       "    <tr>\n",
       "      <th>1</th>\n",
       "      <td>&amp;TV Communications</td>\n",
       "      <td>Los Angeles</td>\n",
       "    </tr>\n",
       "    <tr>\n",
       "      <th>2</th>\n",
       "      <td>'Rock' Your Paper</td>\n",
       "      <td>Tallinn</td>\n",
       "    </tr>\n",
       "    <tr>\n",
       "      <th>3</th>\n",
       "      <td>(In)Touch Network</td>\n",
       "      <td>London</td>\n",
       "    </tr>\n",
       "    <tr>\n",
       "      <th>4</th>\n",
       "      <td>-R- Ranch and Mine</td>\n",
       "      <td>Dallas</td>\n",
       "    </tr>\n",
       "    <tr>\n",
       "      <th>5</th>\n",
       "      <td>.Club Domains</td>\n",
       "      <td>Ft. Lauderdale</td>\n",
       "    </tr>\n",
       "    <tr>\n",
       "      <th>6</th>\n",
       "      <td>.Fox Networks</td>\n",
       "      <td>Buenos Aires</td>\n",
       "    </tr>\n",
       "    <tr>\n",
       "      <th>7</th>\n",
       "      <td>0-6.com</td>\n",
       "      <td>NaN</td>\n",
       "    </tr>\n",
       "    <tr>\n",
       "      <th>8</th>\n",
       "      <td>004 Technologies</td>\n",
       "      <td>Springfield, Illinois</td>\n",
       "    </tr>\n",
       "    <tr>\n",
       "      <th>9</th>\n",
       "      <td>01Games Technology</td>\n",
       "      <td>Hong Kong</td>\n",
       "    </tr>\n",
       "  </tbody>\n",
       "</table>\n",
       "</div>"
      ],
      "text/plain": [
       "                 name                 region\n",
       "0            #waywire          New York City\n",
       "1  &TV Communications            Los Angeles\n",
       "2   'Rock' Your Paper                Tallinn\n",
       "3   (In)Touch Network                 London\n",
       "4  -R- Ranch and Mine                 Dallas\n",
       "5       .Club Domains         Ft. Lauderdale\n",
       "6       .Fox Networks           Buenos Aires\n",
       "7             0-6.com                    NaN\n",
       "8    004 Technologies  Springfield, Illinois\n",
       "9  01Games Technology              Hong Kong"
      ]
     },
     "execution_count": 18,
     "metadata": {},
     "output_type": "execute_result"
    }
   ],
   "source": [
    "startUpData[['name','region']].iloc[0:10]"
   ]
  },
  {
   "cell_type": "markdown",
   "id": "8d7f2612-78ba-4db6-98b3-660acf4df7f5",
   "metadata": {},
   "source": [
    "Now, that we can access data by the index, we are on the first step "
   ]
  },
  {
   "cell_type": "markdown",
   "id": "fc98d235-7a65-4fb5-8a39-ffc0b0c2675f",
   "metadata": {},
   "source": [
    "### Example 3: Querying/Searching rows in Pandas\n",
    "<hr style=\"border:1px solid gray\"> </hr>"
   ]
  },
  {
   "cell_type": "markdown",
   "id": "163ff03a",
   "metadata": {},
   "source": [
    "![Database](../img/dataserver.jpg)"
   ]
  },
  {
   "cell_type": "markdown",
   "id": "b946b19f-b656-4d09-9c95-174ef7ffdf2a",
   "metadata": {},
   "source": [
    "Very rarely will we use pandas to query specific rows by their index location. But now that we understand this principle we can go further into the notebook.\n",
    "\n",
    "Rather, what we can do is give pandas a command which asks it to return samples which meet a condition.\n",
    "\n",
    "This is powerful because it allows us to cut through huge amounts of data.\n",
    "\n",
    "\n",
    "In this, we are going to find instances of our dataframe which meet the conditions we can give it.\n",
    "\n",
    "Here is an example, where we can get all the instances of the dataframe where the startup's region is 'Los Angeles'"
   ]
  },
  {
   "cell_type": "code",
   "execution_count": 19,
   "id": "1f7e38fb-d3fa-41c7-803f-e1ce3d748f0d",
   "metadata": {},
   "outputs": [
    {
     "data": {
      "text/html": [
       "<div>\n",
       "<style scoped>\n",
       "    .dataframe tbody tr th:only-of-type {\n",
       "        vertical-align: middle;\n",
       "    }\n",
       "\n",
       "    .dataframe tbody tr th {\n",
       "        vertical-align: top;\n",
       "    }\n",
       "\n",
       "    .dataframe thead th {\n",
       "        text-align: right;\n",
       "    }\n",
       "</style>\n",
       "<table border=\"1\" class=\"dataframe\">\n",
       "  <thead>\n",
       "    <tr style=\"text-align: right;\">\n",
       "      <th></th>\n",
       "      <th>permalink</th>\n",
       "      <th>name</th>\n",
       "      <th>homepage_url</th>\n",
       "      <th>category_list</th>\n",
       "      <th>market</th>\n",
       "      <th>funding_total_usd</th>\n",
       "      <th>status</th>\n",
       "      <th>country_code</th>\n",
       "      <th>state_code</th>\n",
       "      <th>region</th>\n",
       "      <th>...</th>\n",
       "      <th>secondary_market</th>\n",
       "      <th>product_crowdfunding</th>\n",
       "      <th>round_A</th>\n",
       "      <th>round_B</th>\n",
       "      <th>round_C</th>\n",
       "      <th>round_D</th>\n",
       "      <th>round_E</th>\n",
       "      <th>round_F</th>\n",
       "      <th>round_G</th>\n",
       "      <th>round_H</th>\n",
       "    </tr>\n",
       "  </thead>\n",
       "  <tbody>\n",
       "    <tr>\n",
       "      <th>1</th>\n",
       "      <td>/organization/tv-communications</td>\n",
       "      <td>&amp;TV Communications</td>\n",
       "      <td>http://enjoyandtv.com</td>\n",
       "      <td>|Games|</td>\n",
       "      <td>Games</td>\n",
       "      <td>40,00,000</td>\n",
       "      <td>operating</td>\n",
       "      <td>USA</td>\n",
       "      <td>CA</td>\n",
       "      <td>Los Angeles</td>\n",
       "      <td>...</td>\n",
       "      <td>0.0</td>\n",
       "      <td>0.0</td>\n",
       "      <td>0.0</td>\n",
       "      <td>0.0</td>\n",
       "      <td>0.0</td>\n",
       "      <td>0.0</td>\n",
       "      <td>0.0</td>\n",
       "      <td>0.0</td>\n",
       "      <td>0.0</td>\n",
       "      <td>0.0</td>\n",
       "    </tr>\n",
       "    <tr>\n",
       "      <th>12</th>\n",
       "      <td>/organization/1-800-dentist</td>\n",
       "      <td>1-800-DENTIST</td>\n",
       "      <td>http://www.1800dentist.com</td>\n",
       "      <td>|Health and Wellness|</td>\n",
       "      <td>Health and Wellness</td>\n",
       "      <td>-</td>\n",
       "      <td>operating</td>\n",
       "      <td>USA</td>\n",
       "      <td>CA</td>\n",
       "      <td>Los Angeles</td>\n",
       "      <td>...</td>\n",
       "      <td>0.0</td>\n",
       "      <td>0.0</td>\n",
       "      <td>0.0</td>\n",
       "      <td>0.0</td>\n",
       "      <td>0.0</td>\n",
       "      <td>0.0</td>\n",
       "      <td>0.0</td>\n",
       "      <td>0.0</td>\n",
       "      <td>0.0</td>\n",
       "      <td>0.0</td>\n",
       "    </tr>\n",
       "    <tr>\n",
       "      <th>50</th>\n",
       "      <td>/organization/12society</td>\n",
       "      <td>12Society</td>\n",
       "      <td>http://www.12Society.com</td>\n",
       "      <td>|E-Commerce|</td>\n",
       "      <td>E-Commerce</td>\n",
       "      <td>-</td>\n",
       "      <td>acquired</td>\n",
       "      <td>USA</td>\n",
       "      <td>CA</td>\n",
       "      <td>Los Angeles</td>\n",
       "      <td>...</td>\n",
       "      <td>0.0</td>\n",
       "      <td>0.0</td>\n",
       "      <td>0.0</td>\n",
       "      <td>0.0</td>\n",
       "      <td>0.0</td>\n",
       "      <td>0.0</td>\n",
       "      <td>0.0</td>\n",
       "      <td>0.0</td>\n",
       "      <td>0.0</td>\n",
       "      <td>0.0</td>\n",
       "    </tr>\n",
       "    <tr>\n",
       "      <th>55</th>\n",
       "      <td>/organization/140fire</td>\n",
       "      <td>140Fire</td>\n",
       "      <td>http://140fire.com</td>\n",
       "      <td>|Entertainment|Sports|Real Time|Social Media|V...</td>\n",
       "      <td>Entertainment</td>\n",
       "      <td>5,00,000</td>\n",
       "      <td>operating</td>\n",
       "      <td>USA</td>\n",
       "      <td>CA</td>\n",
       "      <td>Los Angeles</td>\n",
       "      <td>...</td>\n",
       "      <td>0.0</td>\n",
       "      <td>0.0</td>\n",
       "      <td>0.0</td>\n",
       "      <td>0.0</td>\n",
       "      <td>0.0</td>\n",
       "      <td>0.0</td>\n",
       "      <td>0.0</td>\n",
       "      <td>0.0</td>\n",
       "      <td>0.0</td>\n",
       "      <td>0.0</td>\n",
       "    </tr>\n",
       "    <tr>\n",
       "      <th>85</th>\n",
       "      <td>/organization/1rp-media</td>\n",
       "      <td>1RP Media</td>\n",
       "      <td>NaN</td>\n",
       "      <td>NaN</td>\n",
       "      <td>NaN</td>\n",
       "      <td>-</td>\n",
       "      <td>operating</td>\n",
       "      <td>USA</td>\n",
       "      <td>CA</td>\n",
       "      <td>Los Angeles</td>\n",
       "      <td>...</td>\n",
       "      <td>0.0</td>\n",
       "      <td>0.0</td>\n",
       "      <td>0.0</td>\n",
       "      <td>0.0</td>\n",
       "      <td>0.0</td>\n",
       "      <td>0.0</td>\n",
       "      <td>0.0</td>\n",
       "      <td>0.0</td>\n",
       "      <td>0.0</td>\n",
       "      <td>0.0</td>\n",
       "    </tr>\n",
       "    <tr>\n",
       "      <th>...</th>\n",
       "      <td>...</td>\n",
       "      <td>...</td>\n",
       "      <td>...</td>\n",
       "      <td>...</td>\n",
       "      <td>...</td>\n",
       "      <td>...</td>\n",
       "      <td>...</td>\n",
       "      <td>...</td>\n",
       "      <td>...</td>\n",
       "      <td>...</td>\n",
       "      <td>...</td>\n",
       "      <td>...</td>\n",
       "      <td>...</td>\n",
       "      <td>...</td>\n",
       "      <td>...</td>\n",
       "      <td>...</td>\n",
       "      <td>...</td>\n",
       "      <td>...</td>\n",
       "      <td>...</td>\n",
       "      <td>...</td>\n",
       "      <td>...</td>\n",
       "    </tr>\n",
       "    <tr>\n",
       "      <th>49271</th>\n",
       "      <td>/organization/zomazz</td>\n",
       "      <td>Zomazz</td>\n",
       "      <td>http://www.zomazz.com</td>\n",
       "      <td>|Curated Web|</td>\n",
       "      <td>Curated Web</td>\n",
       "      <td>20,40,342</td>\n",
       "      <td>operating</td>\n",
       "      <td>USA</td>\n",
       "      <td>CA</td>\n",
       "      <td>Los Angeles</td>\n",
       "      <td>...</td>\n",
       "      <td>0.0</td>\n",
       "      <td>0.0</td>\n",
       "      <td>0.0</td>\n",
       "      <td>0.0</td>\n",
       "      <td>0.0</td>\n",
       "      <td>0.0</td>\n",
       "      <td>0.0</td>\n",
       "      <td>0.0</td>\n",
       "      <td>0.0</td>\n",
       "      <td>0.0</td>\n",
       "    </tr>\n",
       "    <tr>\n",
       "      <th>49315</th>\n",
       "      <td>/organization/zoondy</td>\n",
       "      <td>Zoondy</td>\n",
       "      <td>http://zoondy.com</td>\n",
       "      <td>|Curated Web|</td>\n",
       "      <td>Curated Web</td>\n",
       "      <td>75,000</td>\n",
       "      <td>operating</td>\n",
       "      <td>USA</td>\n",
       "      <td>CA</td>\n",
       "      <td>Los Angeles</td>\n",
       "      <td>...</td>\n",
       "      <td>0.0</td>\n",
       "      <td>0.0</td>\n",
       "      <td>0.0</td>\n",
       "      <td>0.0</td>\n",
       "      <td>0.0</td>\n",
       "      <td>0.0</td>\n",
       "      <td>0.0</td>\n",
       "      <td>0.0</td>\n",
       "      <td>0.0</td>\n",
       "      <td>0.0</td>\n",
       "    </tr>\n",
       "    <tr>\n",
       "      <th>49343</th>\n",
       "      <td>/organization/zqgame</td>\n",
       "      <td>ZQGame</td>\n",
       "      <td>http://zqgame.com</td>\n",
       "      <td>|Games|</td>\n",
       "      <td>Games</td>\n",
       "      <td>42,20,018</td>\n",
       "      <td>operating</td>\n",
       "      <td>USA</td>\n",
       "      <td>CA</td>\n",
       "      <td>Los Angeles</td>\n",
       "      <td>...</td>\n",
       "      <td>0.0</td>\n",
       "      <td>0.0</td>\n",
       "      <td>4220018.0</td>\n",
       "      <td>0.0</td>\n",
       "      <td>0.0</td>\n",
       "      <td>0.0</td>\n",
       "      <td>0.0</td>\n",
       "      <td>0.0</td>\n",
       "      <td>0.0</td>\n",
       "      <td>0.0</td>\n",
       "    </tr>\n",
       "    <tr>\n",
       "      <th>49367</th>\n",
       "      <td>/organization/zuma-ventures</td>\n",
       "      <td>Zuma Ventures</td>\n",
       "      <td>http://www.zuma.ventures</td>\n",
       "      <td>|Product Development Services|Marketplaces|Tec...</td>\n",
       "      <td>Technology</td>\n",
       "      <td>1,00,000</td>\n",
       "      <td>operating</td>\n",
       "      <td>USA</td>\n",
       "      <td>CA</td>\n",
       "      <td>Los Angeles</td>\n",
       "      <td>...</td>\n",
       "      <td>0.0</td>\n",
       "      <td>0.0</td>\n",
       "      <td>0.0</td>\n",
       "      <td>0.0</td>\n",
       "      <td>0.0</td>\n",
       "      <td>0.0</td>\n",
       "      <td>0.0</td>\n",
       "      <td>0.0</td>\n",
       "      <td>0.0</td>\n",
       "      <td>0.0</td>\n",
       "    </tr>\n",
       "    <tr>\n",
       "      <th>49371</th>\n",
       "      <td>/organization/zumbox</td>\n",
       "      <td>Zumbox</td>\n",
       "      <td>http://blogs.wsj.com/venturecapital/2014/04/10...</td>\n",
       "      <td>|Curated Web|</td>\n",
       "      <td>Curated Web</td>\n",
       "      <td>2,83,00,000</td>\n",
       "      <td>operating</td>\n",
       "      <td>USA</td>\n",
       "      <td>CA</td>\n",
       "      <td>Los Angeles</td>\n",
       "      <td>...</td>\n",
       "      <td>0.0</td>\n",
       "      <td>0.0</td>\n",
       "      <td>0.0</td>\n",
       "      <td>0.0</td>\n",
       "      <td>10600000.0</td>\n",
       "      <td>0.0</td>\n",
       "      <td>0.0</td>\n",
       "      <td>0.0</td>\n",
       "      <td>0.0</td>\n",
       "      <td>0.0</td>\n",
       "    </tr>\n",
       "  </tbody>\n",
       "</table>\n",
       "<p>1389 rows × 39 columns</p>\n",
       "</div>"
      ],
      "text/plain": [
       "                             permalink                name  \\\n",
       "1      /organization/tv-communications  &TV Communications   \n",
       "12         /organization/1-800-dentist       1-800-DENTIST   \n",
       "50             /organization/12society           12Society   \n",
       "55               /organization/140fire             140Fire   \n",
       "85             /organization/1rp-media           1RP Media   \n",
       "...                                ...                 ...   \n",
       "49271             /organization/zomazz              Zomazz   \n",
       "49315             /organization/zoondy              Zoondy   \n",
       "49343             /organization/zqgame              ZQGame   \n",
       "49367      /organization/zuma-ventures       Zuma Ventures   \n",
       "49371             /organization/zumbox              Zumbox   \n",
       "\n",
       "                                            homepage_url  \\\n",
       "1                                  http://enjoyandtv.com   \n",
       "12                            http://www.1800dentist.com   \n",
       "50                              http://www.12Society.com   \n",
       "55                                    http://140fire.com   \n",
       "85                                                   NaN   \n",
       "...                                                  ...   \n",
       "49271                              http://www.zomazz.com   \n",
       "49315                                  http://zoondy.com   \n",
       "49343                                  http://zqgame.com   \n",
       "49367                           http://www.zuma.ventures   \n",
       "49371  http://blogs.wsj.com/venturecapital/2014/04/10...   \n",
       "\n",
       "                                           category_list  \\\n",
       "1                                                |Games|   \n",
       "12                                 |Health and Wellness|   \n",
       "50                                          |E-Commerce|   \n",
       "55     |Entertainment|Sports|Real Time|Social Media|V...   \n",
       "85                                                   NaN   \n",
       "...                                                  ...   \n",
       "49271                                      |Curated Web|   \n",
       "49315                                      |Curated Web|   \n",
       "49343                                            |Games|   \n",
       "49367  |Product Development Services|Marketplaces|Tec...   \n",
       "49371                                      |Curated Web|   \n",
       "\n",
       "                      market funding_total_usd     status country_code  \\\n",
       "1                     Games         40,00,000   operating          USA   \n",
       "12      Health and Wellness               -     operating          USA   \n",
       "50               E-Commerce               -      acquired          USA   \n",
       "55            Entertainment          5,00,000   operating          USA   \n",
       "85                       NaN              -     operating          USA   \n",
       "...                      ...               ...        ...          ...   \n",
       "49271           Curated Web         20,40,342   operating          USA   \n",
       "49315           Curated Web            75,000   operating          USA   \n",
       "49343                 Games         42,20,018   operating          USA   \n",
       "49367            Technology          1,00,000   operating          USA   \n",
       "49371           Curated Web       2,83,00,000   operating          USA   \n",
       "\n",
       "      state_code       region  ... secondary_market  product_crowdfunding  \\\n",
       "1             CA  Los Angeles  ...              0.0                   0.0   \n",
       "12            CA  Los Angeles  ...              0.0                   0.0   \n",
       "50            CA  Los Angeles  ...              0.0                   0.0   \n",
       "55            CA  Los Angeles  ...              0.0                   0.0   \n",
       "85            CA  Los Angeles  ...              0.0                   0.0   \n",
       "...          ...          ...  ...              ...                   ...   \n",
       "49271         CA  Los Angeles  ...              0.0                   0.0   \n",
       "49315         CA  Los Angeles  ...              0.0                   0.0   \n",
       "49343         CA  Los Angeles  ...              0.0                   0.0   \n",
       "49367         CA  Los Angeles  ...              0.0                   0.0   \n",
       "49371         CA  Los Angeles  ...              0.0                   0.0   \n",
       "\n",
       "         round_A round_B     round_C  round_D round_E round_F  round_G  \\\n",
       "1            0.0     0.0         0.0      0.0     0.0     0.0      0.0   \n",
       "12           0.0     0.0         0.0      0.0     0.0     0.0      0.0   \n",
       "50           0.0     0.0         0.0      0.0     0.0     0.0      0.0   \n",
       "55           0.0     0.0         0.0      0.0     0.0     0.0      0.0   \n",
       "85           0.0     0.0         0.0      0.0     0.0     0.0      0.0   \n",
       "...          ...     ...         ...      ...     ...     ...      ...   \n",
       "49271        0.0     0.0         0.0      0.0     0.0     0.0      0.0   \n",
       "49315        0.0     0.0         0.0      0.0     0.0     0.0      0.0   \n",
       "49343  4220018.0     0.0         0.0      0.0     0.0     0.0      0.0   \n",
       "49367        0.0     0.0         0.0      0.0     0.0     0.0      0.0   \n",
       "49371        0.0     0.0  10600000.0      0.0     0.0     0.0      0.0   \n",
       "\n",
       "       round_H  \n",
       "1          0.0  \n",
       "12         0.0  \n",
       "50         0.0  \n",
       "55         0.0  \n",
       "85         0.0  \n",
       "...        ...  \n",
       "49271      0.0  \n",
       "49315      0.0  \n",
       "49343      0.0  \n",
       "49367      0.0  \n",
       "49371      0.0  \n",
       "\n",
       "[1389 rows x 39 columns]"
      ]
     },
     "execution_count": 19,
     "metadata": {},
     "output_type": "execute_result"
    }
   ],
   "source": [
    "startUpData[startUpData['region'] == 'Los Angeles']"
   ]
  },
  {
   "cell_type": "markdown",
   "id": "f32a4019-1ca3-4fd4-aa47-f8ff4fa8df1d",
   "metadata": {},
   "source": [
    "It is crucial to understand what this line of code is doing. To do so, let's go back to the indexing example and run the code that goes inside of the first bracket\n",
    "\n"
   ]
  },
  {
   "cell_type": "code",
   "execution_count": 20,
   "id": "66f74407-5924-423e-9684-8726d9bda61d",
   "metadata": {},
   "outputs": [
    {
     "data": {
      "text/plain": [
       "0        False\n",
       "1         True\n",
       "2        False\n",
       "3        False\n",
       "4        False\n",
       "         ...  \n",
       "54289    False\n",
       "54290    False\n",
       "54291    False\n",
       "54292    False\n",
       "54293    False\n",
       "Name: region, Length: 54294, dtype: bool"
      ]
     },
     "execution_count": 20,
     "metadata": {},
     "output_type": "execute_result"
    }
   ],
   "source": [
    "exampleSeries = startUpData['region'] == 'Los Angeles'\n",
    "exampleSeries"
   ]
  },
  {
   "cell_type": "markdown",
   "id": "0fe0508a-9dc0-4b71-a067-11e3f83d9560",
   "metadata": {},
   "source": [
    "What this does is give us an index which tells pandas which instances that we want. \n",
    "\n",
    "As you can see, they both are the same length, and therefore are compatible.\n",
    "\n"
   ]
  },
  {
   "cell_type": "code",
   "execution_count": 21,
   "id": "ec15dca9-88d6-4fbf-bdee-c1f21680523b",
   "metadata": {},
   "outputs": [
    {
     "data": {
      "text/plain": [
       "True"
      ]
     },
     "execution_count": 21,
     "metadata": {},
     "output_type": "execute_result"
    }
   ],
   "source": [
    "\n",
    "exampleSeries.shape[0] == startUpData.shape[0]"
   ]
  },
  {
   "cell_type": "markdown",
   "id": "e20ec9af-8d17-43f1-8543-a19e5bb6d88d",
   "metadata": {},
   "source": [
    "This approach can also be used for more complex queries. For example, we could select a "
   ]
  },
  {
   "cell_type": "code",
   "execution_count": 57,
   "id": "49adcebb-6386-48d8-8356-486445019121",
   "metadata": {},
   "outputs": [
    {
     "name": "stdout",
     "output_type": "stream",
     "text": [
      "(21840,)\n"
     ]
    }
   ],
   "source": [
    "query = ((startUpData['country_code'] == 'USA') & \n",
    "         (startUpData['market'] == 'Technology')\n",
    "         )\n",
    "print(query.shape)"
   ]
  },
  {
   "cell_type": "code",
   "execution_count": 58,
   "id": "2f77a345",
   "metadata": {},
   "outputs": [
    {
     "data": {
      "text/html": [
       "<div>\n",
       "<style scoped>\n",
       "    .dataframe tbody tr th:only-of-type {\n",
       "        vertical-align: middle;\n",
       "    }\n",
       "\n",
       "    .dataframe tbody tr th {\n",
       "        vertical-align: top;\n",
       "    }\n",
       "\n",
       "    .dataframe thead th {\n",
       "        text-align: right;\n",
       "    }\n",
       "</style>\n",
       "<table border=\"1\" class=\"dataframe\">\n",
       "  <thead>\n",
       "    <tr style=\"text-align: right;\">\n",
       "      <th></th>\n",
       "      <th>permalink</th>\n",
       "      <th>name</th>\n",
       "      <th>homepage_url</th>\n",
       "      <th>category_list</th>\n",
       "      <th>market</th>\n",
       "      <th>funding_total_usd</th>\n",
       "      <th>status</th>\n",
       "      <th>country_code</th>\n",
       "      <th>state_code</th>\n",
       "      <th>region</th>\n",
       "      <th>...</th>\n",
       "      <th>secondary_market</th>\n",
       "      <th>product_crowdfunding</th>\n",
       "      <th>round_A</th>\n",
       "      <th>round_B</th>\n",
       "      <th>round_C</th>\n",
       "      <th>round_D</th>\n",
       "      <th>round_E</th>\n",
       "      <th>round_F</th>\n",
       "      <th>round_G</th>\n",
       "      <th>round_H</th>\n",
       "    </tr>\n",
       "  </thead>\n",
       "  <tbody>\n",
       "  </tbody>\n",
       "</table>\n",
       "<p>0 rows × 39 columns</p>\n",
       "</div>"
      ],
      "text/plain": [
       "Empty DataFrame\n",
       "Columns: [permalink, name, homepage_url, category_list, market, funding_total_usd, status, country_code, state_code, region, city, funding_rounds, founded_at, founded_month, founded_quarter, founded_year, first_funding_at, last_funding_at, seed, venture, equity_crowdfunding, undisclosed, convertible_note, debt_financing, angel, grant, private_equity, post_ipo_equity, post_ipo_debt, secondary_market, product_crowdfunding, round_A, round_B, round_C, round_D, round_E, round_F, round_G, round_H]\n",
       "Index: []\n",
       "\n",
       "[0 rows x 39 columns]"
      ]
     },
     "execution_count": 58,
     "metadata": {},
     "output_type": "execute_result"
    }
   ],
   "source": [
    "startUpData[query]"
   ]
  },
  {
   "cell_type": "markdown",
   "id": "15641ac3",
   "metadata": {},
   "source": [
    "Now, this presents a problem, in that it shows that there is noise in our data. Let's use the .iloc method to inspect it manually\n"
   ]
  },
  {
   "cell_type": "code",
   "execution_count": 72,
   "id": "47969bcc",
   "metadata": {},
   "outputs": [
    {
     "data": {
      "text/plain": [
       "array(['/organization/004-technologies', '004 Technologies',\n",
       "       'http://004gmbh.de/en/004-interact', '|Software|', 'Software', '-',\n",
       "       'operating', 'USA', 'IL', 'Springfield, Illinois', 'Champaign',\n",
       "       1.0, '2010-01-01', '2010-01', '2010-Q1', 2010.0, '2014-07-24',\n",
       "       '2014-07-24', 0.0, 0.0, 0.0, 0.0, 0.0, 0.0, 0.0, 0.0, 0.0, 0.0,\n",
       "       0.0, 0.0, 0.0, 0.0, 0.0, 0.0, 0.0, 0.0, 0.0, 0.0, 0.0],\n",
       "      dtype=object)"
      ]
     },
     "execution_count": 72,
     "metadata": {},
     "output_type": "execute_result"
    }
   ],
   "source": [
    "startUpData.iloc[1].values"
   ]
  },
  {
   "cell_type": "markdown",
   "id": "93f210f4",
   "metadata": {},
   "source": [
    "\n",
    "\n",
    " Just like in the columns, the way that the data was collected means that it probably has white spaces around it. This is not a problem because we apply the indexing concept to remove them.\n",
    "\n",
    "\n",
    "\n"
   ]
  },
  {
   "cell_type": "code",
   "execution_count": 73,
   "id": "61d38cef",
   "metadata": {},
   "outputs": [
    {
     "name": "stdout",
     "output_type": "stream",
     "text": [
      "shape of first query (21840, 16)\n",
      "number of text columns (16,)\n"
     ]
    }
   ],
   "source": [
    "text_columns = startUpData.select_dtypes(['object']) \n",
    "print('shape of first query', text_columns.shape)\n",
    "text_column_names = text_columns.columns \n",
    "print('number of text columns',text_column_names.shape)\n",
    "\n"
   ]
  },
  {
   "cell_type": "markdown",
   "id": "1aa9e4d9",
   "metadata": {},
   "source": [
    "This selects the text columns for us, and then allows us to apply it to the dataframe to remove the extra white spaces with just a few lines of code. "
   ]
  },
  {
   "cell_type": "code",
   "execution_count": 70,
   "id": "b9f19fca",
   "metadata": {},
   "outputs": [],
   "source": [
    "startUpData[text_column_names] = text_columns.apply(lambda x: x.str.strip())"
   ]
  },
  {
   "cell_type": "markdown",
   "id": "f1ee7687",
   "metadata": {},
   "source": [
    "Now that the whitespace is removed, let's retry the query again"
   ]
  },
  {
   "cell_type": "code",
   "execution_count": 76,
   "id": "aade9bb5",
   "metadata": {},
   "outputs": [
    {
     "name": "stdout",
     "output_type": "stream",
     "text": [
      "(123, 39)\n"
     ]
    },
    {
     "data": {
      "text/html": [
       "<div>\n",
       "<style scoped>\n",
       "    .dataframe tbody tr th:only-of-type {\n",
       "        vertical-align: middle;\n",
       "    }\n",
       "\n",
       "    .dataframe tbody tr th {\n",
       "        vertical-align: top;\n",
       "    }\n",
       "\n",
       "    .dataframe thead th {\n",
       "        text-align: right;\n",
       "    }\n",
       "</style>\n",
       "<table border=\"1\" class=\"dataframe\">\n",
       "  <thead>\n",
       "    <tr style=\"text-align: right;\">\n",
       "      <th></th>\n",
       "      <th>permalink</th>\n",
       "      <th>name</th>\n",
       "      <th>homepage_url</th>\n",
       "      <th>category_list</th>\n",
       "      <th>market</th>\n",
       "      <th>funding_total_usd</th>\n",
       "      <th>status</th>\n",
       "      <th>country_code</th>\n",
       "      <th>state_code</th>\n",
       "      <th>region</th>\n",
       "      <th>...</th>\n",
       "      <th>secondary_market</th>\n",
       "      <th>product_crowdfunding</th>\n",
       "      <th>round_A</th>\n",
       "      <th>round_B</th>\n",
       "      <th>round_C</th>\n",
       "      <th>round_D</th>\n",
       "      <th>round_E</th>\n",
       "      <th>round_F</th>\n",
       "      <th>round_G</th>\n",
       "      <th>round_H</th>\n",
       "    </tr>\n",
       "  </thead>\n",
       "  <tbody>\n",
       "    <tr>\n",
       "      <th>40477</th>\n",
       "      <td>/organization/starblock-com</td>\n",
       "      <td>StarBlock.com</td>\n",
       "      <td>http://www.starblock.com/</td>\n",
       "      <td>|Technology|</td>\n",
       "      <td>Technology</td>\n",
       "      <td>2,50,000</td>\n",
       "      <td>operating</td>\n",
       "      <td>USA</td>\n",
       "      <td>MN</td>\n",
       "      <td>Minneapolis</td>\n",
       "      <td>...</td>\n",
       "      <td>0.0</td>\n",
       "      <td>0.0</td>\n",
       "      <td>0.0</td>\n",
       "      <td>0.0</td>\n",
       "      <td>0.0</td>\n",
       "      <td>0.0</td>\n",
       "      <td>0.0</td>\n",
       "      <td>0.0</td>\n",
       "      <td>0.0</td>\n",
       "      <td>0.0</td>\n",
       "    </tr>\n",
       "    <tr>\n",
       "      <th>47665</th>\n",
       "      <td>/organization/winerist</td>\n",
       "      <td>Winerist</td>\n",
       "      <td>http://www.winerist.com</td>\n",
       "      <td>|Internet|Technology|Wine And Spirits|Travel|</td>\n",
       "      <td>Technology</td>\n",
       "      <td>3,60,000</td>\n",
       "      <td>operating</td>\n",
       "      <td>USA</td>\n",
       "      <td>KY</td>\n",
       "      <td>Lexington</td>\n",
       "      <td>...</td>\n",
       "      <td>0.0</td>\n",
       "      <td>0.0</td>\n",
       "      <td>0.0</td>\n",
       "      <td>0.0</td>\n",
       "      <td>0.0</td>\n",
       "      <td>0.0</td>\n",
       "      <td>0.0</td>\n",
       "      <td>0.0</td>\n",
       "      <td>0.0</td>\n",
       "      <td>0.0</td>\n",
       "    </tr>\n",
       "    <tr>\n",
       "      <th>14962</th>\n",
       "      <td>/organization/fastpoint-games-2</td>\n",
       "      <td>Fastpoint Games</td>\n",
       "      <td>http://www.fastpoint.com/</td>\n",
       "      <td>|Technology|Games|</td>\n",
       "      <td>Technology</td>\n",
       "      <td>1,01,10,000</td>\n",
       "      <td>operating</td>\n",
       "      <td>USA</td>\n",
       "      <td>AZ</td>\n",
       "      <td>Phoenix</td>\n",
       "      <td>...</td>\n",
       "      <td>0.0</td>\n",
       "      <td>0.0</td>\n",
       "      <td>6110000.0</td>\n",
       "      <td>2000000.0</td>\n",
       "      <td>2000000.0</td>\n",
       "      <td>0.0</td>\n",
       "      <td>0.0</td>\n",
       "      <td>0.0</td>\n",
       "      <td>0.0</td>\n",
       "      <td>0.0</td>\n",
       "    </tr>\n",
       "    <tr>\n",
       "      <th>49367</th>\n",
       "      <td>/organization/zuma-ventures</td>\n",
       "      <td>Zuma Ventures</td>\n",
       "      <td>http://www.zuma.ventures</td>\n",
       "      <td>|Product Development Services|Marketplaces|Tec...</td>\n",
       "      <td>Technology</td>\n",
       "      <td>1,00,000</td>\n",
       "      <td>operating</td>\n",
       "      <td>USA</td>\n",
       "      <td>CA</td>\n",
       "      <td>Los Angeles</td>\n",
       "      <td>...</td>\n",
       "      <td>0.0</td>\n",
       "      <td>0.0</td>\n",
       "      <td>0.0</td>\n",
       "      <td>0.0</td>\n",
       "      <td>0.0</td>\n",
       "      <td>0.0</td>\n",
       "      <td>0.0</td>\n",
       "      <td>0.0</td>\n",
       "      <td>0.0</td>\n",
       "      <td>0.0</td>\n",
       "    </tr>\n",
       "    <tr>\n",
       "      <th>34720</th>\n",
       "      <td>/organization/rafter</td>\n",
       "      <td>Rafter</td>\n",
       "      <td>http://www.rafter.com</td>\n",
       "      <td>|Media|Textbooks|Technology|Education|</td>\n",
       "      <td>Technology</td>\n",
       "      <td>8,60,00,000</td>\n",
       "      <td>operating</td>\n",
       "      <td>USA</td>\n",
       "      <td>CA</td>\n",
       "      <td>SF Bay Area</td>\n",
       "      <td>...</td>\n",
       "      <td>0.0</td>\n",
       "      <td>0.0</td>\n",
       "      <td>6000000.0</td>\n",
       "      <td>10000000.0</td>\n",
       "      <td>0.0</td>\n",
       "      <td>0.0</td>\n",
       "      <td>0.0</td>\n",
       "      <td>0.0</td>\n",
       "      <td>0.0</td>\n",
       "      <td>0.0</td>\n",
       "    </tr>\n",
       "  </tbody>\n",
       "</table>\n",
       "<p>5 rows × 39 columns</p>\n",
       "</div>"
      ],
      "text/plain": [
       "                             permalink             name  \\\n",
       "40477      /organization/starblock-com    StarBlock.com   \n",
       "47665           /organization/winerist         Winerist   \n",
       "14962  /organization/fastpoint-games-2  Fastpoint Games   \n",
       "49367      /organization/zuma-ventures    Zuma Ventures   \n",
       "34720             /organization/rafter           Rafter   \n",
       "\n",
       "                    homepage_url  \\\n",
       "40477  http://www.starblock.com/   \n",
       "47665    http://www.winerist.com   \n",
       "14962  http://www.fastpoint.com/   \n",
       "49367   http://www.zuma.ventures   \n",
       "34720      http://www.rafter.com   \n",
       "\n",
       "                                           category_list      market  \\\n",
       "40477                                       |Technology|  Technology   \n",
       "47665      |Internet|Technology|Wine And Spirits|Travel|  Technology   \n",
       "14962                                 |Technology|Games|  Technology   \n",
       "49367  |Product Development Services|Marketplaces|Tec...  Technology   \n",
       "34720             |Media|Textbooks|Technology|Education|  Technology   \n",
       "\n",
       "      funding_total_usd     status country_code state_code       region  ...  \\\n",
       "40477          2,50,000  operating          USA         MN  Minneapolis  ...   \n",
       "47665          3,60,000  operating          USA         KY    Lexington  ...   \n",
       "14962       1,01,10,000  operating          USA         AZ      Phoenix  ...   \n",
       "49367          1,00,000  operating          USA         CA  Los Angeles  ...   \n",
       "34720       8,60,00,000  operating          USA         CA  SF Bay Area  ...   \n",
       "\n",
       "      secondary_market  product_crowdfunding    round_A     round_B  \\\n",
       "40477              0.0                   0.0        0.0         0.0   \n",
       "47665              0.0                   0.0        0.0         0.0   \n",
       "14962              0.0                   0.0  6110000.0   2000000.0   \n",
       "49367              0.0                   0.0        0.0         0.0   \n",
       "34720              0.0                   0.0  6000000.0  10000000.0   \n",
       "\n",
       "         round_C  round_D round_E round_F  round_G  round_H  \n",
       "40477        0.0      0.0     0.0     0.0      0.0      0.0  \n",
       "47665        0.0      0.0     0.0     0.0      0.0      0.0  \n",
       "14962  2000000.0      0.0     0.0     0.0      0.0      0.0  \n",
       "49367        0.0      0.0     0.0     0.0      0.0      0.0  \n",
       "34720        0.0      0.0     0.0     0.0      0.0      0.0  \n",
       "\n",
       "[5 rows x 39 columns]"
      ]
     },
     "execution_count": 76,
     "metadata": {},
     "output_type": "execute_result"
    }
   ],
   "source": [
    "query = ((startUpData['country_code'] == 'USA') & \n",
    "         (startUpData['market'] == 'Technology')\n",
    "         )\n",
    "print(startUpData[query].shape)\n",
    "startUpData[query].sample(5)\n"
   ]
  },
  {
   "cell_type": "markdown",
   "id": "7b47a2ed",
   "metadata": {},
   "source": [
    "Now, the data shows up"
   ]
  },
  {
   "cell_type": "markdown",
   "id": "108dab05-dcd8-433a-843e-4c3363ca0565",
   "metadata": {},
   "source": [
    "## Section 1: Part 2 (Indexing in Computer Vision)\n",
    "<hr style=\"border:2px solid gray\"> </hr>"
   ]
  },
  {
   "cell_type": "markdown",
   "id": "cb6099c3-1d52-43f6-a64c-462a55167d49",
   "metadata": {},
   "source": [
    "### CV Indexing: example 1 (Resizing and Cropping an Image)\n",
    "<hr style=\"border:1px solid gray\"> </hr>\n",
    "\n",
    "Indexing is relatively straightforward with images. Every pixel on your screen has an x and a y cordinate.  Likewise, images have this as well. Knowing what the dimensions of our image are, allow us to resize and crop them. This is usually done programmatically, however, this is a good opportunity to play with the raw numbers to get a better understanding of it. "
   ]
  },
  {
   "cell_type": "code",
   "execution_count": 23,
   "id": "aebf3c6d-a9e8-402c-8788-d4bbdbbe4030",
   "metadata": {},
   "outputs": [],
   "source": [
    "# Option to upload\n",
    "#colab.upload()\n",
    "\n",
    "sampleImagePath = IMAGE_DIR/'highway.jpg'"
   ]
  },
  {
   "cell_type": "code",
   "execution_count": 24,
   "id": "f487401a-1fc7-4643-88e7-a53b7dfde4e1",
   "metadata": {},
   "outputs": [],
   "source": [
    "img = cv2.imread(str(sampleImagePath))"
   ]
  },
  {
   "cell_type": "markdown",
   "id": "701019fc",
   "metadata": {},
   "source": [
    "When we open up the image in opencv, it converts this into a numpy array. The interesting thing about this is that now we have a standard data type that can be used across many different tools in the python libraries. This become useful because a lot of the transforms and filters that are done are mathematical operations that occur across disciplines. It is a misconception that images are very different than tables of data. Once you drill down to the level of the computer many similarities begin to appear. "
   ]
  },
  {
   "cell_type": "code",
   "execution_count": 22,
   "id": "bbac0022-d192-460e-ae6e-eee0d0c0bafb",
   "metadata": {},
   "outputs": [
    {
     "data": {
      "text/plain": [
       "numpy.ndarray"
      ]
     },
     "execution_count": 22,
     "metadata": {},
     "output_type": "execute_result"
    }
   ],
   "source": [
    "type(img)"
   ]
  },
  {
   "cell_type": "markdown",
   "id": "eb02c0a6",
   "metadata": {},
   "source": [
    "The same rule of shape also applies. Again, this needs to be paid attention to. The difference now is that those numbers have different meanings than before. Now, rather than rows and columns, the x and y describe the length and width of the image.\n",
    "\n",
    "The z dimension here describes the three different color channels (Red Green and Blue). "
   ]
  },
  {
   "cell_type": "code",
   "execution_count": 23,
   "id": "74c59c9c-c441-4759-be0b-493925644437",
   "metadata": {},
   "outputs": [
    {
     "data": {
      "text/plain": [
       "(640, 960, 3)"
      ]
     },
     "execution_count": 23,
     "metadata": {},
     "output_type": "execute_result"
    }
   ],
   "source": [
    "img.shape"
   ]
  },
  {
   "cell_type": "code",
   "execution_count": 24,
   "id": "1e0b61d3-27a9-4ac0-a2d3-b6cd2b16a994",
   "metadata": {},
   "outputs": [
    {
     "data": {
      "text/plain": [
       "<matplotlib.image.AxesImage at 0x7f73bc5a03d0>"
      ]
     },
     "execution_count": 24,
     "metadata": {},
     "output_type": "execute_result"
    },
    {
     "data": {
      "image/png": "[encoded data removed]",
      "text/plain": [
       "<Figure size 432x288 with 1 Axes>"
      ]
     },
     "metadata": {
      "needs_background": "light"
     },
     "output_type": "display_data"
    }
   ],
   "source": [
    "\n",
    "plt.imshow(img)"
   ]
  },
  {
   "cell_type": "code",
   "execution_count": 25,
   "id": "6d63b385-3c06-42e6-afb5-c6c155a44b93",
   "metadata": {},
   "outputs": [],
   "source": [
    "#cv2.destroyAllWindows() #close the image window"
   ]
  },
  {
   "cell_type": "code",
   "execution_count": 26,
   "id": "30fcd0c7-6fc2-4ac6-8236-85e7078e5acc",
   "metadata": {},
   "outputs": [
    {
     "name": "stdout",
     "output_type": "stream",
     "text": [
      "(320, 480, 3)\n"
     ]
    }
   ],
   "source": [
    "img = cv2.resize(img,(0,0),fx=0.5,fy=0.5) # resizes the image by percentage\n",
    "print(img.shape)"
   ]
  },
  {
   "cell_type": "code",
   "execution_count": 27,
   "id": "5f563275-34a6-4bb9-b513-cca890fab296",
   "metadata": {},
   "outputs": [],
   "source": [
    "#cv2.imshow('Highway',img)\n",
    "#cv2.waitKey(0)"
   ]
  },
  {
   "cell_type": "markdown",
   "id": "871cb546-689c-4203-b141-aed88c24e878",
   "metadata": {},
   "source": [
    "### CV Indexing Example 2: Labeling Images with openCV\n",
    "<hr style=\"border:1px solid gray\"> </hr>"
   ]
  },
  {
   "cell_type": "markdown",
   "id": "7bc91015-3ed6-4f3b-8bec-45e53a93f32a",
   "metadata": {},
   "source": [
    "The concept of indexing can be applied to image segmentation. If our image metadata contains information about where objects are in the image, it can often be encoded as two corners of a rectangular box. "
   ]
  },
  {
   "cell_type": "markdown",
   "id": "dda948ef-efbf-4ed4-9ea9-3f0cb221e1c2",
   "metadata": {},
   "source": [
    "#### Creating a boxed label"
   ]
  },
  {
   "cell_type": "markdown",
   "id": "8c7a027b-ba47-49cf-99d2-aae3d39c9e2c",
   "metadata": {},
   "source": [
    "In this section, we're going to add a rectangle to our images that outline where someting is located in the image.\n",
    "\n",
    "Most often this is done by the AI model, but let's take a look at how it can be done under the hood"
   ]
  },
  {
   "cell_type": "code",
   "execution_count": 28,
   "id": "62d2584f-cc0d-499f-b108-1bae69370688",
   "metadata": {},
   "outputs": [],
   "source": [
    "x1 = 250\n",
    "y1 = 150\n",
    "corner1 = (x1,y1)\n",
    "\n",
    "\n",
    "x2 = 320\n",
    "y2 = 220\n",
    "corner2 = (x2,y2)\n",
    "\n",
    "\n",
    "color = (255,0,0) #red  #RGB Red Green Blue  \n",
    "frameWidth = 3 #pixels\n",
    "\n",
    "labeled_img = cv2.rectangle(img,corner1,corner2,color,frameWidth)"
   ]
  },
  {
   "cell_type": "code",
   "execution_count": 30,
   "id": "df6f35a7-d416-4e1e-b092-9a854585f3fd",
   "metadata": {},
   "outputs": [
    {
     "data": {
      "text/plain": [
       "<matplotlib.image.AxesImage at 0x7f73bf38d4c0>"
      ]
     },
     "execution_count": 30,
     "metadata": {},
     "output_type": "execute_result"
    },
    {
     "data": {
      "image/png": "[encoded data removed]",
      "text/plain": [
       "<Figure size 432x288 with 1 Axes>"
      ]
     },
     "metadata": {
      "needs_background": "light"
     },
     "output_type": "display_data"
    }
   ],
   "source": [
    "#cv2.imshow('Highway',img)\n",
    "#cv2.waitKey(0)\n",
    "#cv2.destroyAllWindows() #close the image window\n",
    "\n",
    "plt.imshow(labeled_img)"
   ]
  },
  {
   "cell_type": "markdown",
   "id": "9f272187",
   "metadata": {},
   "source": [
    "Now, this image has a box around the truck ahead of it. Most of these segmentation processes are automated, but you may see sets of indicies that show you where certain features are contained within an image. Indexing makes this a fast and efficient process."
   ]
  },
  {
   "cell_type": "markdown",
   "id": "93427e6b",
   "metadata": {},
   "source": [
    "## Condensed Summary:\n",
    "\n",
    "Indexing as a tool is fundamental to Big Data and Deep Learning but is often misunderstood. Since people are used to thinking of programming in terms of loops, it is forgotten how there are other ways to accomplish handling big data. Indexing is not only more efficient because it can skip instances that don't meet certain criteria, but also faster because it opens the door for operations to be completed in parallel.\n",
    "\n"
   ]
  },
  {
   "cell_type": "markdown",
   "id": "f124fd3c",
   "metadata": {},
   "source": [
    "# Discussion Questions"
   ]
  },
  {
   "cell_type": "markdown",
   "id": "e4714a55",
   "metadata": {},
   "source": [
    "1. What should you do if you call a column or query the dataframe, and it doesn't load as you would expect what should you do.\n",
    "\n",
    "    A. Inspect the syntax of your code\n",
    "\n",
    "    B. Inspect a row that you expected to load, and check to see if there are any typos or formatting errors in the data\n",
    "\n",
    "    C. Check the shape of the output series or dataframe and see if it's what you expect. \n",
    "\n",
    "    D. Copy and paste the entire error message, including the stack traces without reading it to find the most relevant information that a search engine would pick up."
   ]
  },
  {
   "cell_type": "markdown",
   "id": "1303038c",
   "metadata": {},
   "source": [
    "2. How do you access the rows and columns of a dataframe as if it were a matrix?\n",
    "\n",
    "    A. Using .iloc or .loc methods\n",
    "\n",
    "    B. using the .values method\n",
    "\n",
    "    C. By transforming the columns from a tuple into a list \n",
    "\n",
    "    D. Loading it directly onto a hyper optimized gpu for automatic preprocessing."
   ]
  },
  {
   "cell_type": "markdown",
   "id": "f311a8f6",
   "metadata": {},
   "source": [
    "\n",
    "3. What does ~ do to a pandas dataframe?\n",
    "\n",
    "    A. or\n",
    "\n",
    "    B. Not equal to\n",
    "\n",
    "    C. Approximately equal to\n",
    "\n",
    "    D. reset index"
   ]
  },
  {
   "cell_type": "markdown",
   "id": "cb6d029d",
   "metadata": {},
   "source": [
    "4. Which of the following are reasons why people use Pandas\n",
    "\n",
    "    A. It is an all-purpose tool that can handle over a dozen datatypes to convert them into quantifiable tensors efficiently by leveraging optimized legacy C and Fortran code. \n",
    "\n",
    "    B. It can't handle or accept messy data that contains duplicate indices, typos, multiple language encodings \n",
    "\n",
    "    C. It can easily scale to handle multi-threaded, batched workflows consisting of terabytes of data across multiple cloud GPU accelerated instances. \n",
    "\n",
    "    D. It contains elements of many existing programs such as SAS, SQL, Excel, and R which people are familiar with and be able to pick up and get familiar with pandas quickly"
   ]
  },
  {
   "cell_type": "markdown",
   "id": "81f8a386",
   "metadata": {},
   "source": [
    "# Discussion Exercises\n",
    "<hr style=\"border:2px solid gray\"> </hr>"
   ]
  },
  {
   "cell_type": "markdown",
   "id": "0f028f64",
   "metadata": {},
   "source": [
    "Explanation "
   ]
  },
  {
   "cell_type": "code",
   "execution_count": null,
   "id": "67cb0299",
   "metadata": {},
   "outputs": [],
   "source": [
    "#code here "
   ]
  },
  {
   "cell_type": "markdown",
   "id": "521fc355",
   "metadata": {},
   "source": []
  },
  {
   "cell_type": "code",
   "execution_count": null,
   "id": "dc3ff78e",
   "metadata": {},
   "outputs": [],
   "source": [
    "#"
   ]
  },
  {
   "cell_type": "code",
   "execution_count": null,
   "id": "bfca06f6",
   "metadata": {},
   "outputs": [],
   "source": [
    "#"
   ]
  },
  {
   "cell_type": "markdown",
   "id": "81341d71",
   "metadata": {},
   "source": [
    "# Practice Exercises\n",
    "<hr style=\"border:2px solid gray\"> </hr>"
   ]
  },
  {
   "cell_type": "markdown",
   "id": "f4c4863e",
   "metadata": {},
   "source": [
    "blah blah blah"
   ]
  },
  {
   "cell_type": "code",
   "execution_count": null,
   "id": "4ea68022",
   "metadata": {},
   "outputs": [],
   "source": [
    "# code here"
   ]
  },
  {
   "cell_type": "markdown",
   "id": "fdca2a05",
   "metadata": {},
   "source": []
  }
 ],
 "metadata": {
  "interpreter": {
   "hash": "b35736f271ae3a6547f08ef3ad12296102f5e6031b2a7c6493a7e5cc9f313275"
  },
  "kernelspec": {
   "display_name": "unpackAIdev",
   "language": "python",
   "name": "python3"
  },
  "language_info": {
   "codemirror_mode": {
    "name": "ipython",
    "version": 3
   },
   "file_extension": ".py",
   "mimetype": "text/x-python",
   "name": "python",
   "nbconvert_exporter": "python",
   "pygments_lexer": "ipython3",
   "version": "3.8.12"
  }
 },
 "nbformat": 4,
 "nbformat_minor": 5
}
