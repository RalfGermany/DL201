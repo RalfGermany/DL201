{
 "cells": [
  {
   "cell_type": "code",
   "execution_count": null,
   "id": "44dbc84b-a3e5-462e-a6f2-eb3c77c3ceea",
   "metadata": {},
   "outputs": [],
   "source": [
    "#"
   ]
  },
  {
   "cell_type": "code",
   "execution_count": 3,
   "id": "10524364-c49e-41af-9198-8a54de7a95e0",
   "metadata": {
    "tags": []
   },
   "outputs": [],
   "source": [
    "from pathlib import Path\n",
    "import pandas as pd\n",
    "import numpy as np \n",
    "\n",
    "\n",
    "NOTEBOOK_DIR = Path.cwd()\n",
    "CONTENT_DIR = Path.home()/'Datasets'/'unpackAI'/'DL201-4.0'\n",
    "DATA_DIR = NOTEBOOK_DIR.parent/'data'\n",
    "\n",
    "# Change this for use in colab"
   ]
  },
  {
   "cell_type": "markdown",
   "id": "9924c7da-ba99-4a0f-8384-7892f37d7e82",
   "metadata": {},
   "source": [
    "# Section 1: Tabular Data\n",
    "<hr style=\"border:4px solid gray\"> </hr>"
   ]
  },
  {
   "cell_type": "code",
   "execution_count": 4,
   "id": "ba1daf24-5512-4fd0-b178-5091ea33ab69",
   "metadata": {},
   "outputs": [
    {
     "name": "stdout",
     "output_type": "stream",
     "text": [
      "/home/jentlejames/Projects/unpackAI/Course_Development/DL201-4.0/data\n"
     ]
    }
   ],
   "source": [
    "print(DATA_DIR)"
   ]
  },
  {
   "cell_type": "markdown",
   "id": "14ad9282-cfe5-4726-aef1-abed2750fdfe",
   "metadata": {},
   "source": [
    "### Decide what you want\n",
    "\n",
    "**Adjust the ends to the means**\n",
    "\n",
    "As we learned in DL101, beginning an AI project does not require you to be a huge tech company or have huge ammounts of well labeled data.\n",
    "\n",
    "**Getting started is the most important step**\n",
    "\n",
    "Don't waste time looking for the perfect dataset. FastAI Author and AI practitioner Jeremy Howard suggests \"The most important concideration is data availability. \"\n",
    "\n",
    "**Adjust the ends to the means**\n",
    "\n",
    "Don't waste months or years finding the perfect dataset or perfect project. If you find that data is not readily available for your project, find something that is tangentially related to your field of interest and go from there.\n",
    "\n",
    "By starting a project and spending a reasonable ammount of time on each step, then you'll get a much better feel for the terrain you are coming up against. \n",
    "\n",
    "\n",
    "**Rapid Prototyping with End to End iteration** \n",
    "\n",
    "Rather than perfecting a masterpeice, try to first create a proof of concept or a prototype. \n",
    "Then, once you have your proof of concept, you can decide how you are going to improve it in the next iteration of development. If you have a proof of concept, it will do a lot of the talking for you when showing it to people. \n",
    "\n",
    "Prototyping\n",
    "\n",
    "Feedback\n",
    "\n",
    "Improvement\n",
    "\n",
    "source: https://devsquad.com/blog/what-is-rapid-prototyping-and-why-is-it-used-in-development/"
   ]
  },
  {
   "cell_type": "code",
   "execution_count": null,
   "id": "dae4bf86-746a-46ca-bbea-379c4e52a609",
   "metadata": {},
   "outputs": [],
   "source": []
  },
  {
   "cell_type": "markdown",
   "id": "6d51c229-371c-4af6-b0f7-638d2d31a873",
   "metadata": {},
   "source": [
    "## Step 1: Choosing a Dataset\n",
    "<hr style=\"border:2px solid gray\"> </hr>"
   ]
  },
  {
   "cell_type": "markdown",
   "id": "2ab750bc-31c2-4b51-b457-2a07fb3dabaf",
   "metadata": {},
   "source": [
    "**Public Datasets**\n",
    "\n",
    "Kaggle\n",
    "\n",
    "Google\n",
    "\n",
    "Online Interest Groups \n",
    "\n",
    "\n",
    "**Private, self collected Datasets**\n",
    "\n",
    "You don't need to spend months or years building data pipelines, see what you have, and how it can be adapted to a proof of concept in order to create feedback that will show you how to improve your data collection. \n",
    "\n",
    "\n"
   ]
  },
  {
   "cell_type": "markdown",
   "id": "79e4790d-3b7a-47ac-b501-04e633ceedb1",
   "metadata": {},
   "source": []
  },
  {
   "cell_type": "code",
   "execution_count": null,
   "id": "98b9b7d0-8a03-42c5-b36d-ed8f34634b42",
   "metadata": {},
   "outputs": [],
   "source": []
  },
  {
   "cell_type": "markdown",
   "id": "d3079e05-9db1-47c7-8b2a-7a967d5ba2a7",
   "metadata": {},
   "source": [
    "### Criteria and Considerations\n",
    "<hr style=\"border:1px solid gray\"> </hr>\n",
    "\n",
    "Sources:\n",
    "* https://analyticsindiamag.com/tutorial-get-started-with-exploratory-data-analysis-and-data-preprocessing/\n",
    "* https://www.springboard.com/blog/data-science/data-science-capstone-project-annotated/\n"
   ]
  },
  {
   "cell_type": "code",
   "execution_count": null,
   "id": "3e7a4a62-0bb4-409e-81fb-1c631618e7ff",
   "metadata": {},
   "outputs": [],
   "source": []
  },
  {
   "cell_type": "code",
   "execution_count": null,
   "id": "bc656f87-e7e8-45ab-ad32-3282eadd3c87",
   "metadata": {},
   "outputs": [],
   "source": []
  },
  {
   "cell_type": "markdown",
   "id": "3e81d1b8-34b1-487b-ae59-45c66985916a",
   "metadata": {},
   "source": [
    "### Sample Size\n",
    "<hr style=\"border:1px solid gray\"> </hr>\n",
    "\n",
    "While it is a misconception that you will need Gbs of data to do deep learning, you still do need to have enough samples or instances for your data contain enough information.\n",
    "\n",
    "In tabular data, if you have less than 50 samples, it's going to be hard for a normal distribution to form as prominently as the algorithms depend on. While you still can get results, the margin of error will be higher than if you have hundreds or thousands of samples to draw from.|"
   ]
  },
  {
   "cell_type": "code",
   "execution_count": 32,
   "id": "d9980dd0-e9f3-4e6c-9b35-ffd43cd9c9a9",
   "metadata": {},
   "outputs": [],
   "source": [
    "df = pd.read_excel(CONTENT_DIR/'bank_loan'/'Bank_Personal_Loan_Modelling.xlsx',\n",
    "                           sheet_name=1,\n",
    "                           header='infer')"
   ]
  },
  {
   "cell_type": "code",
   "execution_count": 33,
   "id": "229a5e01-8f37-4636-b8c7-01122be8a3ad",
   "metadata": {},
   "outputs": [],
   "source": [
    "from sklearn.model_selection import train_test_split\n",
    "training_set, test_set = train_test_split(df, test_size = 0.2, random_state = 0)"
   ]
  },
  {
   "cell_type": "code",
   "execution_count": 34,
   "id": "c8ce1acc-4bac-4bef-8286-a06e90ef1f5a",
   "metadata": {},
   "outputs": [
    {
     "name": "stdout",
     "output_type": "stream",
     "text": [
      "\n",
      "\n",
      "Number of features in the datasets :\n",
      " ########################################\n",
      "\n",
      "Training Set : \n",
      " -------------------- 14\n",
      "\n",
      "Test Set : \n",
      " -------------------- 14\n"
     ]
    }
   ],
   "source": [
    "\n",
    "\n",
    "#checking the number of features in the Datasets\n",
    "print(\"\\n\\nNumber of features in the datasets :\\n\",'#' * 40)\n",
    "print(\"\\nTraining Set : \\n\",'-' * 20, len(training_set.columns))\n",
    "print(\"\\nTest Set : \\n\",'-' * 20,len(test_set.columns))\n"
   ]
  },
  {
   "cell_type": "markdown",
   "id": "c468afdd-7808-428e-92e6-75f4e77b6f81",
   "metadata": {},
   "source": [
    "### Number of Features\n",
    "<hr style=\"border:1px solid gray\"> </hr>"
   ]
  },
  {
   "cell_type": "code",
   "execution_count": 35,
   "id": "88c51bb3-c758-4a51-91c2-118810289a57",
   "metadata": {},
   "outputs": [
    {
     "name": "stdout",
     "output_type": "stream",
     "text": [
      "\n",
      "\n",
      "Features in the datasets :\n",
      " ########################################\n",
      "\n",
      "Training Set : \n",
      " -------------------- ['ID', 'Age', 'Experience', 'Income', 'ZIP Code', 'Family', 'CCAvg', 'Education', 'Mortgage', 'Personal Loan', 'Securities Account', 'CD Account', 'Online', 'CreditCard']\n",
      "\n",
      "Test Set : \n",
      " -------------------- ['ID', 'Age', 'Experience', 'Income', 'ZIP Code', 'Family', 'CCAvg', 'Education', 'Mortgage', 'Personal Loan', 'Securities Account', 'CD Account', 'Online', 'CreditCard']\n"
     ]
    }
   ],
   "source": [
    "#checking the features in the Datasets\n",
    "print(\"\\n\\nFeatures in the datasets :\\n\",'#' * 40)\n",
    "print(\"\\nTraining Set : \\n\",'-' * 20, list(training_set.columns))\n",
    "print(\"\\nTest Set : \\n\",'-' * 20,list(test_set.columns))"
   ]
  },
  {
   "cell_type": "markdown",
   "id": "8dba6bdb-dbfc-4ba6-83c4-73533b4f7920",
   "metadata": {},
   "source": [
    "### Cleanliness of Data\n",
    "<hr style=\"border:1px solid gray\"> </hr>\n",
    "\n",
    "When first looking at a dataset, a huge consideration should be how much work it going to require to clean it up. There are plenty of tricks to do this, but we need to have an idea of what we are getting into before proceeding"
   ]
  },
  {
   "cell_type": "code",
   "execution_count": null,
   "id": "cd9cf77b-055e-4d77-9bb8-5296a8610c1e",
   "metadata": {},
   "outputs": [],
   "source": []
  },
  {
   "cell_type": "markdown",
   "id": "7c24c773-a9b1-4d1a-8668-df99dcdb3748",
   "metadata": {},
   "source": [
    "#### Identifying the Data Types\n",
    "<hr style=\"border:1px solid gray\"> </hr>\n",
    "\n",
    "This part is going to tell you a lot about the quality of the data. If you see that everything is an obj datatype, then it means that you will most likely need to change them to something more suitable for analysis. "
   ]
  },
  {
   "cell_type": "code",
   "execution_count": 36,
   "id": "acf27d4d-700f-4c79-a8d4-56db35b961b7",
   "metadata": {},
   "outputs": [
    {
     "name": "stdout",
     "output_type": "stream",
     "text": [
      "\n",
      "\n",
      "Datatypes of features in the datasets :\n",
      " ########################################\n",
      "\n",
      "Training Set : \n",
      " -------------------- \n",
      " ID                      int64\n",
      "Age                     int64\n",
      "Experience              int64\n",
      "Income                  int64\n",
      "ZIP Code                int64\n",
      "Family                  int64\n",
      "CCAvg                 float64\n",
      "Education               int64\n",
      "Mortgage                int64\n",
      "Personal Loan           int64\n",
      "Securities Account      int64\n",
      "CD Account              int64\n",
      "Online                  int64\n",
      "CreditCard              int64\n",
      "dtype: object\n",
      "\n",
      "Test Set : \n",
      " -------------------- \n",
      " ID                      int64\n",
      "Age                     int64\n",
      "Experience              int64\n",
      "Income                  int64\n",
      "ZIP Code                int64\n",
      "Family                  int64\n",
      "CCAvg                 float64\n",
      "Education               int64\n",
      "Mortgage                int64\n",
      "Personal Loan           int64\n",
      "Securities Account      int64\n",
      "CD Account              int64\n",
      "Online                  int64\n",
      "CreditCard              int64\n",
      "dtype: object\n"
     ]
    }
   ],
   "source": [
    "#checking the data types of features\n",
    "\n",
    "#checking the data types of features\n",
    "print(\"\\n\\nDatatypes of features in the datasets :\\n\",'#' * 40)\n",
    "print(\"\\nTraining Set : \\n\",'-' * 20,\"\\n\", training_set.dtypes)\n",
    "print(\"\\nTest Set : \\n\",'-' * 20,\"\\n\",test_set.dtypes)"
   ]
  },
  {
   "cell_type": "markdown",
   "id": "e29cf1ca-f71d-46a9-9131-cc0bf3bc59c8",
   "metadata": {},
   "source": [
    "Luckily, it looks like all of this dataset is already cleaned up as number types for us. "
   ]
  },
  {
   "cell_type": "markdown",
   "id": "34707c1b-8daf-486f-a81a-2aa1a37dd095",
   "metadata": {},
   "source": [
    "#### Identifying the Features\n",
    "<hr style=\"border:1px solid gray\"> </hr>\n",
    "\n",
    "This next step is to take a look at the features in the dataset, and see which ones are relevant to you because they contain information that has predicting power. Doing this at the beginning is a good thing to do before investing time into exploring it.\n"
   ]
  },
  {
   "cell_type": "code",
   "execution_count": 37,
   "id": "3f9af6c6-bac3-4a31-a70b-095f09d735cf",
   "metadata": {},
   "outputs": [
    {
     "data": {
      "text/plain": [
       "Index(['ID', 'Age', 'Experience', 'Income', 'ZIP Code', 'Family', 'CCAvg',\n",
       "       'Education', 'Mortgage', 'Personal Loan', 'Securities Account',\n",
       "       'CD Account', 'Online', 'CreditCard'],\n",
       "      dtype='object')"
      ]
     },
     "execution_count": 37,
     "metadata": {},
     "output_type": "execute_result"
    }
   ],
   "source": [
    "training_set.columns"
   ]
  },
  {
   "cell_type": "code",
   "execution_count": 38,
   "id": "475e5a14-0bf5-4899-995f-a8b0fab4434c",
   "metadata": {},
   "outputs": [
    {
     "data": {
      "text/html": [
       "<div>\n",
       "<style scoped>\n",
       "    .dataframe tbody tr th:only-of-type {\n",
       "        vertical-align: middle;\n",
       "    }\n",
       "\n",
       "    .dataframe tbody tr th {\n",
       "        vertical-align: top;\n",
       "    }\n",
       "\n",
       "    .dataframe thead th {\n",
       "        text-align: right;\n",
       "    }\n",
       "</style>\n",
       "<table border=\"1\" class=\"dataframe\">\n",
       "  <thead>\n",
       "    <tr style=\"text-align: right;\">\n",
       "      <th></th>\n",
       "      <th>ID</th>\n",
       "      <th>Age</th>\n",
       "      <th>Experience</th>\n",
       "      <th>Income</th>\n",
       "      <th>ZIP Code</th>\n",
       "      <th>Family</th>\n",
       "      <th>CCAvg</th>\n",
       "      <th>Education</th>\n",
       "      <th>Mortgage</th>\n",
       "      <th>Personal Loan</th>\n",
       "      <th>Securities Account</th>\n",
       "      <th>CD Account</th>\n",
       "      <th>Online</th>\n",
       "      <th>CreditCard</th>\n",
       "    </tr>\n",
       "  </thead>\n",
       "  <tbody>\n",
       "    <tr>\n",
       "      <th>2913</th>\n",
       "      <td>2914</td>\n",
       "      <td>39</td>\n",
       "      <td>12</td>\n",
       "      <td>75</td>\n",
       "      <td>94501</td>\n",
       "      <td>3</td>\n",
       "      <td>2.333333</td>\n",
       "      <td>2</td>\n",
       "      <td>0</td>\n",
       "      <td>0</td>\n",
       "      <td>0</td>\n",
       "      <td>0</td>\n",
       "      <td>1</td>\n",
       "      <td>1</td>\n",
       "    </tr>\n",
       "    <tr>\n",
       "      <th>3275</th>\n",
       "      <td>3276</td>\n",
       "      <td>32</td>\n",
       "      <td>8</td>\n",
       "      <td>65</td>\n",
       "      <td>95134</td>\n",
       "      <td>1</td>\n",
       "      <td>1.200000</td>\n",
       "      <td>1</td>\n",
       "      <td>268</td>\n",
       "      <td>0</td>\n",
       "      <td>0</td>\n",
       "      <td>0</td>\n",
       "      <td>1</td>\n",
       "      <td>0</td>\n",
       "    </tr>\n",
       "    <tr>\n",
       "      <th>775</th>\n",
       "      <td>776</td>\n",
       "      <td>65</td>\n",
       "      <td>39</td>\n",
       "      <td>23</td>\n",
       "      <td>92835</td>\n",
       "      <td>3</td>\n",
       "      <td>0.700000</td>\n",
       "      <td>2</td>\n",
       "      <td>0</td>\n",
       "      <td>0</td>\n",
       "      <td>0</td>\n",
       "      <td>0</td>\n",
       "      <td>0</td>\n",
       "      <td>1</td>\n",
       "    </tr>\n",
       "    <tr>\n",
       "      <th>217</th>\n",
       "      <td>218</td>\n",
       "      <td>39</td>\n",
       "      <td>14</td>\n",
       "      <td>74</td>\n",
       "      <td>94305</td>\n",
       "      <td>3</td>\n",
       "      <td>3.000000</td>\n",
       "      <td>1</td>\n",
       "      <td>0</td>\n",
       "      <td>0</td>\n",
       "      <td>0</td>\n",
       "      <td>0</td>\n",
       "      <td>0</td>\n",
       "      <td>0</td>\n",
       "    </tr>\n",
       "    <tr>\n",
       "      <th>1245</th>\n",
       "      <td>1246</td>\n",
       "      <td>46</td>\n",
       "      <td>21</td>\n",
       "      <td>41</td>\n",
       "      <td>94025</td>\n",
       "      <td>1</td>\n",
       "      <td>1.400000</td>\n",
       "      <td>3</td>\n",
       "      <td>128</td>\n",
       "      <td>0</td>\n",
       "      <td>0</td>\n",
       "      <td>0</td>\n",
       "      <td>1</td>\n",
       "      <td>0</td>\n",
       "    </tr>\n",
       "  </tbody>\n",
       "</table>\n",
       "</div>"
      ],
      "text/plain": [
       "        ID  Age  Experience  Income  ZIP Code  Family     CCAvg  Education  \\\n",
       "2913  2914   39          12      75     94501       3  2.333333          2   \n",
       "3275  3276   32           8      65     95134       1  1.200000          1   \n",
       "775    776   65          39      23     92835       3  0.700000          2   \n",
       "217    218   39          14      74     94305       3  3.000000          1   \n",
       "1245  1246   46          21      41     94025       1  1.400000          3   \n",
       "\n",
       "      Mortgage  Personal Loan  Securities Account  CD Account  Online  \\\n",
       "2913         0              0                   0           0       1   \n",
       "3275       268              0                   0           0       1   \n",
       "775          0              0                   0           0       0   \n",
       "217          0              0                   0           0       0   \n",
       "1245       128              0                   0           0       1   \n",
       "\n",
       "      CreditCard  \n",
       "2913           1  \n",
       "3275           0  \n",
       "775            1  \n",
       "217            0  \n",
       "1245           0  "
      ]
     },
     "execution_count": 38,
     "metadata": {},
     "output_type": "execute_result"
    }
   ],
   "source": [
    "training_set.head()"
   ]
  },
  {
   "cell_type": "markdown",
   "id": "0f123a3c-7ec7-4129-8cc2-2b20f150004f",
   "metadata": {},
   "source": [
    "If you find a column which you believe is particularly important you can check it manually with these features."
   ]
  },
  {
   "cell_type": "code",
   "execution_count": 39,
   "id": "3912b7df-4e50-4002-bcb7-6981c86adc2c",
   "metadata": {},
   "outputs": [
    {
     "data": {
      "text/plain": [
       "count    4000.000000\n",
       "mean        1.874750\n",
       "std         0.835905\n",
       "min         1.000000\n",
       "25%         1.000000\n",
       "50%         2.000000\n",
       "75%         3.000000\n",
       "max         3.000000\n",
       "Name: Education, dtype: float64"
      ]
     },
     "execution_count": 39,
     "metadata": {},
     "output_type": "execute_result"
    }
   ],
   "source": [
    "training_set['Education'].describe()"
   ]
  },
  {
   "cell_type": "code",
   "execution_count": 40,
   "id": "f99ec159-f6fc-489b-92dd-78f9a2bf5f1f",
   "metadata": {},
   "outputs": [
    {
     "data": {
      "text/plain": [
       "array([2, 1, 3])"
      ]
     },
     "execution_count": 40,
     "metadata": {},
     "output_type": "execute_result"
    }
   ],
   "source": [
    "training_set['Education'].unique()"
   ]
  },
  {
   "cell_type": "code",
   "execution_count": 41,
   "id": "e324bcb5-9b43-40bb-a7a2-970e99d0814f",
   "metadata": {},
   "outputs": [
    {
     "data": {
      "text/plain": [
       "1    1679\n",
       "3    1178\n",
       "2    1143\n",
       "Name: Education, dtype: int64"
      ]
     },
     "execution_count": 41,
     "metadata": {},
     "output_type": "execute_result"
    }
   ],
   "source": [
    "training_set['Education'].value_counts()"
   ]
  },
  {
   "cell_type": "markdown",
   "id": "d82c0914-4a64-4389-8c2c-13d360c159d0",
   "metadata": {},
   "source": [
    "Since the \"Education\" column contains only three numbers, we should try to enquire further into what this means. What do you think that these three numbers mean? Why are there more instances of 1 than of 3? Does that distribution say something about the data? "
   ]
  },
  {
   "cell_type": "code",
   "execution_count": null,
   "id": "74efac94-8782-46c2-8828-7e6c9e0dda4c",
   "metadata": {},
   "outputs": [],
   "source": []
  },
  {
   "cell_type": "code",
   "execution_count": null,
   "id": "e148abd4-0a78-436e-9914-5efa93e855b1",
   "metadata": {},
   "outputs": [],
   "source": []
  },
  {
   "cell_type": "markdown",
   "id": "69876271-e160-4a5d-8946-d811e517d0a8",
   "metadata": {},
   "source": [
    "## Step 2: Loading Tabular Data\n",
    "<hr style=\"border:2px solid gray\"> </hr>"
   ]
  },
  {
   "cell_type": "markdown",
   "id": "cd319430-0a91-471e-aacd-7154cfb418b3",
   "metadata": {},
   "source": [
    "Goal: To open the files "
   ]
  },
  {
   "cell_type": "code",
   "execution_count": null,
   "id": "c006ccf1-8713-4d83-bb24-22fe26be1328",
   "metadata": {},
   "outputs": [],
   "source": []
  },
  {
   "cell_type": "code",
   "execution_count": null,
   "id": "49cd70d0-1de0-4b3d-9367-aa3141fd2eb4",
   "metadata": {},
   "outputs": [],
   "source": []
  },
  {
   "cell_type": "markdown",
   "id": "62992dfb-b12b-4e01-b46b-c618b9c6143e",
   "metadata": {},
   "source": [
    "### Using the iPython Shell "
   ]
  },
  {
   "cell_type": "markdown",
   "id": "3a8ee922-8c87-4ade-b302-d31ac19b438d",
   "metadata": {},
   "source": [
    "Here are some commonly used commands\n",
    "\n",
    "!pwd (This means print working directory) It tells us where we are inside of the computer's file system"
   ]
  },
  {
   "cell_type": "code",
   "execution_count": 5,
   "id": "245ab581-00b2-4519-8f8a-ee8647dd3119",
   "metadata": {},
   "outputs": [
    {
     "name": "stdout",
     "output_type": "stream",
     "text": [
      "/home/jentlejames/Projects/unpackAI/Course_Development/DL201-4.0/Week-1\n"
     ]
    }
   ],
   "source": [
    "!pwd"
   ]
  },
  {
   "cell_type": "markdown",
   "id": "5d38ea6d-f8b4-4d80-892f-6055ebc4cdc8",
   "metadata": {},
   "source": [
    "! tells the shell we are doing something for only one command"
   ]
  },
  {
   "cell_type": "markdown",
   "id": "48d1af2b-072e-4774-bce5-6c35aab3d01d",
   "metadata": {},
   "source": [
    "!mkdir 'file_path' (make directory, this command can create a new file within the command)"
   ]
  },
  {
   "cell_type": "code",
   "execution_count": 6,
   "id": "517e50d0-70ca-445f-8f17-60d498036eb7",
   "metadata": {},
   "outputs": [
    {
     "name": "stdout",
     "output_type": "stream",
     "text": [
      "mkdir: cannot create directory ‘test_directory’: File exists\n"
     ]
    }
   ],
   "source": [
    "!mkdir 'test_directory'"
   ]
  },
  {
   "cell_type": "markdown",
   "id": "1a95b2ae-d366-44cf-bb37-810f6e156cda",
   "metadata": {},
   "source": []
  },
  {
   "cell_type": "markdown",
   "id": "cc3ce34c-a17c-4e29-923a-7a08d7385d7e",
   "metadata": {},
   "source": [
    "\n",
    "%cd 'file_path' changes the directory or folder which we are working inside of. The default is the home directory.\n",
    "\n",
    "The % character makes the option persistant rather than just running for one command\n",
    "\n",
    "notice how the % operator changes. It means that this will be persistant"
   ]
  },
  {
   "cell_type": "code",
   "execution_count": 7,
   "id": "1de3800c-32ca-4cfa-b9b1-f3b20f1ce650",
   "metadata": {},
   "outputs": [
    {
     "name": "stdout",
     "output_type": "stream",
     "text": [
      "/home/jentlejames/Projects/unpackAI/Course_Development/DL201-4.0/Week-1/test_directory\n"
     ]
    }
   ],
   "source": [
    "%cd test_directory"
   ]
  },
  {
   "cell_type": "markdown",
   "id": "5ee3cacc-70ed-4141-9100-fa26e2e5e6a6",
   "metadata": {},
   "source": [
    "!wget 'url ' (Downloads a file from a url on the internet into the current directory)"
   ]
  },
  {
   "cell_type": "code",
   "execution_count": 8,
   "id": "5524d6a8-b74a-4be2-b0c0-49248bb589bf",
   "metadata": {},
   "outputs": [],
   "source": [
    "#!wget 'url'"
   ]
  },
  {
   "cell_type": "markdown",
   "id": "d0296c3a-3fde-4520-be94-cf8390382c64",
   "metadata": {},
   "source": [
    "!mv 'original_location' 'new_location' (moves a file, can also be used to rename a file)"
   ]
  },
  {
   "cell_type": "code",
   "execution_count": 9,
   "id": "00872689-3571-4630-903e-d441e23f4f80",
   "metadata": {},
   "outputs": [],
   "source": [
    "#!mv 'file'"
   ]
  },
  {
   "cell_type": "markdown",
   "id": "3f0c993b-a388-4f33-bdcd-be1121cc1721",
   "metadata": {},
   "source": [
    "It is a good idea to create a project folder where you can store everything in one place\n",
    "\n",
    "Then this project folder's file path becomes a configuration variable called the project root or base directory. This is useful when deploying your project"
   ]
  },
  {
   "cell_type": "code",
   "execution_count": 10,
   "id": "4e73db29-fa4e-4419-8fe4-d18a05ff6b6d",
   "metadata": {},
   "outputs": [
    {
     "name": "stdout",
     "output_type": "stream",
     "text": [
      "[Errno 2] No such file or directory: '.. # exits test directory'\n",
      "/home/jentlejames/Projects/unpackAI/Course_Development/DL201-4.0/Week-1/test_directory\n",
      "rm: cannot remove 'test_directory': No such file or directory\n"
     ]
    }
   ],
   "source": [
    "# If you need ro remove a file\n",
    "# you can do so  with this \n",
    "%cd '..' # exits test directory\n",
    "!rm -r 'test_directory' #removes test"
   ]
  },
  {
   "cell_type": "code",
   "execution_count": null,
   "id": "fe6f9453-18b2-480b-85cd-943d59f82569",
   "metadata": {},
   "outputs": [],
   "source": []
  },
  {
   "cell_type": "code",
   "execution_count": null,
   "id": "c912980c-a04e-4bfa-bdf6-998306f4f52d",
   "metadata": {},
   "outputs": [],
   "source": []
  },
  {
   "cell_type": "markdown",
   "id": "34dd561d-20af-4833-a997-402e0ee63dca",
   "metadata": {},
   "source": [
    "### Example 1: CSV data\n",
    "<hr style=\"border:1px solid gray\"> </hr>"
   ]
  },
  {
   "cell_type": "markdown",
   "id": "8c29f57e-994d-4cdf-bd71-20639c8af517",
   "metadata": {},
   "source": [
    "The most common file type for tabular data will be a csv file. CSV means comma seperated values. \n",
    "\n",
    "the CSV format is strong in structured data that could be described in an Excel Spreadsheet. \n",
    "\n",
    "This tutorial will go over some of the key problems one might come across.\n",
    "\n",
    "We'll talk about setting the encoding for different languages.\n",
    "\n",
    "We'll go over what a header is, \n",
    "and how we can give some additional instructions to pandas"
   ]
  },
  {
   "cell_type": "markdown",
   "id": "bc72b1d9-7945-42bd-89fc-1e649e2317cf",
   "metadata": {},
   "source": [
    "#### i. pd.read_csv "
   ]
  },
  {
   "cell_type": "markdown",
   "id": "808b98cd-e300-4166-a194-40ee900295a7",
   "metadata": {},
   "source": [
    "Pandas has execellent functionality for csv files.\n",
    "\n",
    "The method: \".read_csv\" can handle almost all of the initial setup without passing any commands or arguements.\n",
    "\n",
    "However, it is important to understand the following concepts\n",
    "\n",
    "1. Seperator / Delimiter: How the file is broken up into value\n",
    "\n",
    "2. Header: The column names\n",
    "\n",
    "3. Encoding: Simply put, what language the file is written in e.g. English, Chinese\n",
    "\n",
    "If we can pass these arguements to Pandas, it resolves a lot of the ambiguitites. If you end up needing more, you can check the pandas documentation here. \n",
    "\n",
    "https://pandas.pydata.org/docs/reference/api/pandas.read_csv.html\n"
   ]
  },
  {
   "cell_type": "code",
   "execution_count": 11,
   "id": "0fc223e1-879f-4052-9d20-83d129e00403",
   "metadata": {},
   "outputs": [],
   "source": [
    "#hskVocab = pd.read_csv('./HSK Official With Definitions 2012 L3 freqorder.txt')\n",
    "hskVocabPath = DATA_DIR/'ChineseVocabulary/HSK Official With Definitions 2012 L3 freqorder.txt'\n"
   ]
  },
  {
   "cell_type": "markdown",
   "id": "f91fc5a1-0a66-4a33-973d-d3c7f21699e7",
   "metadata": {},
   "source": [
    "#### Header\n",
    "\n",
    "\n",
    "Here, we have a messy file, which is a list of Chinese Vocabulary.\n",
    "\n",
    "This is a good example to use because most things are quite unclear, so we have to tell pandas the following bits of information\n",
    "\n"
   ]
  },
  {
   "cell_type": "code",
   "execution_count": 12,
   "id": "8c188f9a-40f1-4c06-a73f-2df3d6a87a24",
   "metadata": {},
   "outputs": [],
   "source": [
    "#pd.read_csv(hskVocabPath)"
   ]
  },
  {
   "cell_type": "code",
   "execution_count": 13,
   "id": "fd9b8b5a-f7a1-42e2-965e-09ba50750b90",
   "metadata": {},
   "outputs": [
    {
     "name": "stdout",
     "output_type": "stream",
     "text": [
      "(299, 12)\n"
     ]
    }
   ],
   "source": [
    "import pandas as pd\n",
    "#%cd PROJECT_ROOT\n",
    "hskVocab = pd.read_csv(hskVocabPath)\n",
    "print(hskVocab.shape)"
   ]
  },
  {
   "cell_type": "markdown",
   "id": "497ef71b-e034-4d0b-acd0-3ad67750dd24",
   "metadata": {},
   "source": [
    "What is the red flag from this output? \n",
    "\n",
    "Before we even open the file, does it appear that the number of \n",
    "rows and columns is correct? \n",
    "\n",
    "Think for a moment, then run the following cell. "
   ]
  },
  {
   "cell_type": "code",
   "execution_count": 14,
   "id": "ec7b294b-301c-43ab-9d6a-0cd307ba0b73",
   "metadata": {},
   "outputs": [],
   "source": [
    "#hskVocab.head()"
   ]
  },
  {
   "cell_type": "markdown",
   "id": "eb0a072b-031f-4871-abda-b035224a146a",
   "metadata": {},
   "source": [
    "Try running this code and find the problem with the output. \n",
    "\n",
    "Remember, that we are expecting 300 vocabulary words at the HSK3 level.\n",
    "\n",
    "What is the shape of our new data?\n",
    "\n",
    "What do the columns look like?"
   ]
  },
  {
   "cell_type": "code",
   "execution_count": 15,
   "id": "b47c41f6-b99a-4155-9ea9-0b7e12a9845f",
   "metadata": {},
   "outputs": [
    {
     "name": "stdout",
     "output_type": "stream",
     "text": [
      "(300, 12)\n"
     ]
    }
   ],
   "source": [
    "hskVocab = pd.read_csv(str(hskVocabPath),\n",
    "                       header = None,\n",
    "                      )\n",
    "print(hskVocab.shape)"
   ]
  },
  {
   "cell_type": "markdown",
   "id": "c9e04aa6-f51c-463d-9a15-876f3458003e",
   "metadata": {},
   "source": [
    "This looks slightly better. We now have our expected 300 rows.\n",
    "However, there is still something wrong with the number of columns.\n",
    "\n",
    "The problem in this case, turns out to be the seperator"
   ]
  },
  {
   "cell_type": "markdown",
   "id": "82b6594d-20a6-44bd-811c-220f5a1fd7bd",
   "metadata": {},
   "source": [
    "#### tsv files (Seperators and Delimiters)"
   ]
  },
  {
   "cell_type": "code",
   "execution_count": 16,
   "id": "d3dcd3f5-86d0-4ddf-8d3c-9032f0f5a640",
   "metadata": {},
   "outputs": [
    {
     "data": {
      "text/html": [
       "<div>\n",
       "<style scoped>\n",
       "    .dataframe tbody tr th:only-of-type {\n",
       "        vertical-align: middle;\n",
       "    }\n",
       "\n",
       "    .dataframe tbody tr th {\n",
       "        vertical-align: top;\n",
       "    }\n",
       "\n",
       "    .dataframe thead th {\n",
       "        text-align: right;\n",
       "    }\n",
       "</style>\n",
       "<table border=\"1\" class=\"dataframe\">\n",
       "  <thead>\n",
       "    <tr style=\"text-align: right;\">\n",
       "      <th></th>\n",
       "      <th>0</th>\n",
       "      <th>1</th>\n",
       "      <th>2</th>\n",
       "      <th>3</th>\n",
       "      <th>4</th>\n",
       "      <th>5</th>\n",
       "      <th>6</th>\n",
       "      <th>7</th>\n",
       "      <th>8</th>\n",
       "      <th>9</th>\n",
       "      <th>10</th>\n",
       "      <th>11</th>\n",
       "    </tr>\n",
       "  </thead>\n",
       "  <tbody>\n",
       "    <tr>\n",
       "      <th>0</th>\n",
       "      <td>啊\\t啊\\ta1</td>\n",
       "      <td>a2</td>\n",
       "      <td>a3</td>\n",
       "      <td>a4</td>\n",
       "      <td>a5\\tā</td>\n",
       "      <td>á</td>\n",
       "      <td>ǎ</td>\n",
       "      <td>à</td>\n",
       "      <td>a\\tah; (particle showing elation</td>\n",
       "      <td>doubt</td>\n",
       "      <td>puzzled surprise</td>\n",
       "      <td>or approval)</td>\n",
       "    </tr>\n",
       "    <tr>\n",
       "      <th>1</th>\n",
       "      <td>还\\t還\\thai2</td>\n",
       "      <td>huan2\\thái</td>\n",
       "      <td>huán\\tstill; yet; in addition; even | repay; ...</td>\n",
       "      <td>NaN</td>\n",
       "      <td>NaN</td>\n",
       "      <td>NaN</td>\n",
       "      <td>NaN</td>\n",
       "      <td>NaN</td>\n",
       "      <td>NaN</td>\n",
       "      <td>NaN</td>\n",
       "      <td>NaN</td>\n",
       "      <td>NaN</td>\n",
       "    </tr>\n",
       "  </tbody>\n",
       "</table>\n",
       "</div>"
      ],
      "text/plain": [
       "           0            1                                                  2   \\\n",
       "0    啊\\t啊\\ta1           a2                                                 a3   \n",
       "1  还\\t還\\thai2   huan2\\thái   huán\\tstill; yet; in addition; even | repay; ...   \n",
       "\n",
       "    3       4    5    6    7                                  8       9   \\\n",
       "0   a4   a5\\tā    á    ǎ    à   a\\tah; (particle showing elation   doubt   \n",
       "1  NaN     NaN  NaN  NaN  NaN                                NaN     NaN   \n",
       "\n",
       "                  10             11  \n",
       "0   puzzled surprise   or approval)  \n",
       "1                NaN            NaN  "
      ]
     },
     "execution_count": 16,
     "metadata": {},
     "output_type": "execute_result"
    }
   ],
   "source": [
    "hskVocab.head(2)"
   ]
  },
  {
   "cell_type": "markdown",
   "id": "9e81ac22-9971-4eb3-bd30-00ce597398f4",
   "metadata": {},
   "source": [
    "As you can see, there are way too many columns.\n",
    "\n",
    "In computers, the forward slash '\\' is very significant.\n",
    "\n",
    "Whenever you see at \\t or \\n it is an instruction to the computer.\n",
    "\n",
    "So, \\t does not belong, which means that it is our seperator\n",
    "\n"
   ]
  },
  {
   "cell_type": "code",
   "execution_count": 17,
   "id": "0f34ae29-6e26-4103-83cc-23f9b72810fe",
   "metadata": {},
   "outputs": [
    {
     "name": "stdout",
     "output_type": "stream",
     "text": [
      "(300, 5)\n"
     ]
    }
   ],
   "source": [
    "hskVocab = pd.read_csv(hskVocabPath,\n",
    "                       header = None,\n",
    "                       sep='\\t'\n",
    "                      )\n",
    "print(hskVocab.shape)"
   ]
  },
  {
   "cell_type": "markdown",
   "id": "54fe1ced-96d7-48be-8ead-bfe6b69d5c46",
   "metadata": {},
   "source": [
    "This looks much better. Now, that we have the correct shape that we were expecting, we can now proceed"
   ]
  },
  {
   "cell_type": "code",
   "execution_count": null,
   "id": "9f52e17e-0a3a-4068-ad3e-de6830ef50e2",
   "metadata": {},
   "outputs": [],
   "source": []
  },
  {
   "cell_type": "code",
   "execution_count": null,
   "id": "c0fb5508-6687-45a3-9a32-7e9344d6a922",
   "metadata": {},
   "outputs": [],
   "source": []
  },
  {
   "cell_type": "markdown",
   "id": "ff0cdaf8-dc5f-4b14-8666-22f16599a86a",
   "metadata": {},
   "source": [
    "Now, let's look at the shape of our data. Is it what we are expecting now?\n",
    "\n",
    "What about the columns? Is the output what you expected, or is more managable?\n",
    "\n",
    "You can rename columns in example 1 (include reference link)"
   ]
  },
  {
   "cell_type": "markdown",
   "id": "46192a64-4d58-4d93-b58f-c843776af74f",
   "metadata": {},
   "source": [
    "#### Language Encoding "
   ]
  },
  {
   "cell_type": "markdown",
   "id": "fda10cc5-ceac-4966-a3f9-075fd4601eb1",
   "metadata": {},
   "source": [
    "Chinese language encoding utf-8 or gb2312"
   ]
  },
  {
   "cell_type": "code",
   "execution_count": 69,
   "id": "0108e507-1b01-4cd3-8682-ae15e78c3acf",
   "metadata": {},
   "outputs": [],
   "source": [
    "# As for encoding, you cah handle it in each column individually using this\n",
    "# Pandas method\n",
    "\n",
    "hskVocab.Simplified = hskVocab.Simplified.str.translate('gb2312')"
   ]
  },
  {
   "cell_type": "markdown",
   "id": "a6102ed4-932e-407e-b7b0-4698d5c08483",
   "metadata": {},
   "source": [
    "### Example 2: JSON data and APIs\n",
    "<hr style=\"border:1px solid gray\"> </hr>"
   ]
  },
  {
   "cell_type": "markdown",
   "id": "490d9f9b-1cea-48e2-9a5a-c14bf2c8b749",
   "metadata": {},
   "source": [
    "While CSV files are most common for collections of data in the past, oftentimes JSON files are used in data streams from the web, specifically APIs. \n",
    "\n",
    "If you get this, you may have to make changes to the JSON file structure in order for it to work. This is called flattening. Flattening is where you take a JSON's structure which is heiracchical and make it so that it can go into a table.\n",
    "\n",
    "Pandas has a feature to load data directly from an API using the following functionality"
   ]
  },
  {
   "cell_type": "code",
   "execution_count": 2,
   "id": "c20c3650-2519-46c3-9725-5dd6c6b84a8b",
   "metadata": {},
   "outputs": [],
   "source": [
    "import pandas as pd\n",
    "import json\n",
    "\n",
    "#pd.read_json()"
   ]
  },
  {
   "cell_type": "code",
   "execution_count": 10,
   "id": "1e2ffb83-782b-4c75-9466-3313b6d12496",
   "metadata": {},
   "outputs": [
    {
     "data": {
      "text/html": [
       "<div>\n",
       "<style scoped>\n",
       "    .dataframe tbody tr th:only-of-type {\n",
       "        vertical-align: middle;\n",
       "    }\n",
       "\n",
       "    .dataframe tbody tr th {\n",
       "        vertical-align: top;\n",
       "    }\n",
       "\n",
       "    .dataframe thead th {\n",
       "        text-align: right;\n",
       "    }\n",
       "</style>\n",
       "<table border=\"1\" class=\"dataframe\">\n",
       "  <thead>\n",
       "    <tr style=\"text-align: right;\">\n",
       "      <th></th>\n",
       "      <th>provider</th>\n",
       "      <th>WARNING_UPGRADE_TO_V6</th>\n",
       "      <th>terms</th>\n",
       "      <th>base</th>\n",
       "      <th>date</th>\n",
       "      <th>time_last_updated</th>\n",
       "      <th>rates</th>\n",
       "    </tr>\n",
       "  </thead>\n",
       "  <tbody>\n",
       "    <tr>\n",
       "      <th>AED</th>\n",
       "      <td>https://www.exchangerate-api.com</td>\n",
       "      <td>https://www.exchangerate-api.com/docs/free</td>\n",
       "      <td>https://www.exchangerate-api.com/terms</td>\n",
       "      <td>CNY</td>\n",
       "      <td>2022-02-04</td>\n",
       "      <td>1643932802</td>\n",
       "      <td>0.578</td>\n",
       "    </tr>\n",
       "    <tr>\n",
       "      <th>AFN</th>\n",
       "      <td>https://www.exchangerate-api.com</td>\n",
       "      <td>https://www.exchangerate-api.com/docs/free</td>\n",
       "      <td>https://www.exchangerate-api.com/terms</td>\n",
       "      <td>CNY</td>\n",
       "      <td>2022-02-04</td>\n",
       "      <td>1643932802</td>\n",
       "      <td>15.660</td>\n",
       "    </tr>\n",
       "    <tr>\n",
       "      <th>ALL</th>\n",
       "      <td>https://www.exchangerate-api.com</td>\n",
       "      <td>https://www.exchangerate-api.com/docs/free</td>\n",
       "      <td>https://www.exchangerate-api.com/terms</td>\n",
       "      <td>CNY</td>\n",
       "      <td>2022-02-04</td>\n",
       "      <td>1643932802</td>\n",
       "      <td>16.890</td>\n",
       "    </tr>\n",
       "    <tr>\n",
       "      <th>AMD</th>\n",
       "      <td>https://www.exchangerate-api.com</td>\n",
       "      <td>https://www.exchangerate-api.com/docs/free</td>\n",
       "      <td>https://www.exchangerate-api.com/terms</td>\n",
       "      <td>CNY</td>\n",
       "      <td>2022-02-04</td>\n",
       "      <td>1643932802</td>\n",
       "      <td>75.660</td>\n",
       "    </tr>\n",
       "    <tr>\n",
       "      <th>ANG</th>\n",
       "      <td>https://www.exchangerate-api.com</td>\n",
       "      <td>https://www.exchangerate-api.com/docs/free</td>\n",
       "      <td>https://www.exchangerate-api.com/terms</td>\n",
       "      <td>CNY</td>\n",
       "      <td>2022-02-04</td>\n",
       "      <td>1643932802</td>\n",
       "      <td>0.282</td>\n",
       "    </tr>\n",
       "  </tbody>\n",
       "</table>\n",
       "</div>"
      ],
      "text/plain": [
       "                             provider  \\\n",
       "AED  https://www.exchangerate-api.com   \n",
       "AFN  https://www.exchangerate-api.com   \n",
       "ALL  https://www.exchangerate-api.com   \n",
       "AMD  https://www.exchangerate-api.com   \n",
       "ANG  https://www.exchangerate-api.com   \n",
       "\n",
       "                          WARNING_UPGRADE_TO_V6  \\\n",
       "AED  https://www.exchangerate-api.com/docs/free   \n",
       "AFN  https://www.exchangerate-api.com/docs/free   \n",
       "ALL  https://www.exchangerate-api.com/docs/free   \n",
       "AMD  https://www.exchangerate-api.com/docs/free   \n",
       "ANG  https://www.exchangerate-api.com/docs/free   \n",
       "\n",
       "                                      terms base       date  \\\n",
       "AED  https://www.exchangerate-api.com/terms  CNY 2022-02-04   \n",
       "AFN  https://www.exchangerate-api.com/terms  CNY 2022-02-04   \n",
       "ALL  https://www.exchangerate-api.com/terms  CNY 2022-02-04   \n",
       "AMD  https://www.exchangerate-api.com/terms  CNY 2022-02-04   \n",
       "ANG  https://www.exchangerate-api.com/terms  CNY 2022-02-04   \n",
       "\n",
       "     time_last_updated   rates  \n",
       "AED         1643932802   0.578  \n",
       "AFN         1643932802  15.660  \n",
       "ALL         1643932802  16.890  \n",
       "AMD         1643932802  75.660  \n",
       "ANG         1643932802   0.282  "
      ]
     },
     "execution_count": 10,
     "metadata": {},
     "output_type": "execute_result"
    }
   ],
   "source": [
    "url = \"https://api.exchangerate-api.com/v4/latest/CNY\"\n",
    "\n",
    "# Parsing JSON from URL:\n",
    "\n",
    "# Handling nested JSON:\n",
    "\n",
    "#df = json_normalize(resp.json())\n",
    "\n",
    "df.head()\n",
    "df = pd.read_json(url)\n",
    "df.head()\n",
    "\n",
    "\n"
   ]
  },
  {
   "cell_type": "markdown",
   "id": "6002b1d4-5056-473d-9f28-4292496fc519",
   "metadata": {},
   "source": [
    "How to normalize the json"
   ]
  },
  {
   "cell_type": "code",
   "execution_count": 9,
   "id": "19d685f8-be5e-45f9-85da-8c150e60f7aa",
   "metadata": {},
   "outputs": [],
   "source": [
    "import requests\n",
    "from pandas.io.json import json_normalize\n",
    "\n",
    "url = \"\"\n",
    "resp = requests.get(url=url)\n",
    "\n",
    "# Handling nested JSON:\n",
    "df = json_normalize(resp.json())\n",
    "df.head()"
   ]
  },
  {
   "cell_type": "code",
   "execution_count": null,
   "id": "dbe6a2a2-d9e1-496a-85fb-39da9cbc7480",
   "metadata": {},
   "outputs": [],
   "source": []
  },
  {
   "cell_type": "markdown",
   "id": "385ab5ac-1871-489e-b635-c7c630eae2db",
   "metadata": {},
   "source": [
    "### Example 3: Microsoft Excel\n",
    "<hr style=\"border:1px solid gray\"> </hr>"
   ]
  },
  {
   "cell_type": "markdown",
   "id": "ee0bf657-5c95-4e32-b614-2f2c34ea2825",
   "metadata": {},
   "source": [
    "Microsoft word documents can be imported into pandas with minimal difficulty. \n",
    "\n",
    "In this, you may have to set the header just like you would for a csv file. \n",
    "\n",
    "However, it is important to note a few key differences.\n",
    "\n",
    "One is that excel files have have more than one sheet.\n",
    "\n",
    "This can be specified with the variable **sheet_name**="
   ]
  },
  {
   "cell_type": "code",
   "execution_count": 2,
   "id": "6b39c410-0a65-45d3-a808-80eee729ed65",
   "metadata": {},
   "outputs": [],
   "source": [
    "bank_loans = pd.read_excel(CONTENT_DIR/'bank_loan'/'Bank_Personal_Loan_Modelling.xlsx',\n",
    "                           header='infer')"
   ]
  },
  {
   "cell_type": "code",
   "execution_count": 3,
   "id": "faec37f3-2893-4a70-8a04-677d967684a8",
   "metadata": {},
   "outputs": [
    {
     "data": {
      "text/plain": [
       "(20, 3)"
      ]
     },
     "execution_count": 3,
     "metadata": {},
     "output_type": "execute_result"
    }
   ],
   "source": [
    "bank_loans.shape"
   ]
  },
  {
   "cell_type": "markdown",
   "id": "97306b63-6945-4c4e-8d58-69ca5d599ca8",
   "metadata": {},
   "source": [
    "As you can see, the first time around, we don't get a shape anywhere near what we would expect. Let's find out what happened, and specify the sheet name"
   ]
  },
  {
   "cell_type": "code",
   "execution_count": 4,
   "id": "618e8345-a491-48b7-b60c-f9e05bf082fa",
   "metadata": {},
   "outputs": [],
   "source": [
    "bank_loans = pd.read_excel(CONTENT_DIR/'bank_loan'/'Bank_Personal_Loan_Modelling.xlsx',\n",
    "                           sheet_name=1,\n",
    "                           header='infer')"
   ]
  },
  {
   "cell_type": "code",
   "execution_count": 5,
   "id": "2da8111c-22c8-4757-90fb-45bfdc8ad155",
   "metadata": {},
   "outputs": [
    {
     "data": {
      "text/plain": [
       "(5000, 14)"
      ]
     },
     "execution_count": 5,
     "metadata": {},
     "output_type": "execute_result"
    }
   ],
   "source": [
    "bank_loans.shape"
   ]
  },
  {
   "cell_type": "markdown",
   "id": "290f4acf-23cc-47a5-ba72-98818e392939",
   "metadata": {},
   "source": [
    "Now that we have a shape that is much better than before, let's take a look at the \n",
    "rows and columns\n"
   ]
  },
  {
   "cell_type": "code",
   "execution_count": 6,
   "id": "34a07193-58db-4cf8-bb09-389dfb944208",
   "metadata": {},
   "outputs": [
    {
     "data": {
      "text/html": [
       "<div>\n",
       "<style scoped>\n",
       "    .dataframe tbody tr th:only-of-type {\n",
       "        vertical-align: middle;\n",
       "    }\n",
       "\n",
       "    .dataframe tbody tr th {\n",
       "        vertical-align: top;\n",
       "    }\n",
       "\n",
       "    .dataframe thead th {\n",
       "        text-align: right;\n",
       "    }\n",
       "</style>\n",
       "<table border=\"1\" class=\"dataframe\">\n",
       "  <thead>\n",
       "    <tr style=\"text-align: right;\">\n",
       "      <th></th>\n",
       "      <th>ID</th>\n",
       "      <th>Age</th>\n",
       "      <th>Experience</th>\n",
       "      <th>Income</th>\n",
       "      <th>ZIP Code</th>\n",
       "      <th>Family</th>\n",
       "      <th>CCAvg</th>\n",
       "      <th>Education</th>\n",
       "      <th>Mortgage</th>\n",
       "      <th>Personal Loan</th>\n",
       "      <th>Securities Account</th>\n",
       "      <th>CD Account</th>\n",
       "      <th>Online</th>\n",
       "      <th>CreditCard</th>\n",
       "    </tr>\n",
       "  </thead>\n",
       "  <tbody>\n",
       "    <tr>\n",
       "      <th>0</th>\n",
       "      <td>1</td>\n",
       "      <td>25</td>\n",
       "      <td>1</td>\n",
       "      <td>49</td>\n",
       "      <td>91107</td>\n",
       "      <td>4</td>\n",
       "      <td>1.6</td>\n",
       "      <td>1</td>\n",
       "      <td>0</td>\n",
       "      <td>0</td>\n",
       "      <td>1</td>\n",
       "      <td>0</td>\n",
       "      <td>0</td>\n",
       "      <td>0</td>\n",
       "    </tr>\n",
       "  </tbody>\n",
       "</table>\n",
       "</div>"
      ],
      "text/plain": [
       "   ID  Age  Experience  Income  ZIP Code  Family  CCAvg  Education  Mortgage  \\\n",
       "0   1   25           1      49     91107       4    1.6          1         0   \n",
       "\n",
       "   Personal Loan  Securities Account  CD Account  Online  CreditCard  \n",
       "0              0                   1           0       0           0  "
      ]
     },
     "execution_count": 6,
     "metadata": {},
     "output_type": "execute_result"
    }
   ],
   "source": [
    "bank_loans.head(1)"
   ]
  },
  {
   "cell_type": "markdown",
   "id": "ef7c39d8-c1ea-455d-8112-80ffc3c09510",
   "metadata": {},
   "source": [
    "It looks like for id, we can use that as the index column, so let's load the table one more time"
   ]
  },
  {
   "cell_type": "code",
   "execution_count": 7,
   "id": "44c8d76e-eae8-4cbc-80be-16768663237d",
   "metadata": {},
   "outputs": [
    {
     "data": {
      "text/plain": [
       "(5000, 13)"
      ]
     },
     "execution_count": 7,
     "metadata": {},
     "output_type": "execute_result"
    }
   ],
   "source": [
    "index_column = 'ID'\n",
    "bank_loans = pd.read_excel(CONTENT_DIR/'bank_loan'/'Bank_Personal_Loan_Modelling.xlsx',\n",
    "                           sheet_name=1,\n",
    "                           header='infer',\n",
    "                           index_col=index_column\n",
    "                          )\n",
    "bank_loans.shape"
   ]
  },
  {
   "cell_type": "code",
   "execution_count": 8,
   "id": "cbabcaa6-05b0-48f6-93a5-f3a3685abb29",
   "metadata": {},
   "outputs": [
    {
     "data": {
      "text/html": [
       "<div>\n",
       "<style scoped>\n",
       "    .dataframe tbody tr th:only-of-type {\n",
       "        vertical-align: middle;\n",
       "    }\n",
       "\n",
       "    .dataframe tbody tr th {\n",
       "        vertical-align: top;\n",
       "    }\n",
       "\n",
       "    .dataframe thead th {\n",
       "        text-align: right;\n",
       "    }\n",
       "</style>\n",
       "<table border=\"1\" class=\"dataframe\">\n",
       "  <thead>\n",
       "    <tr style=\"text-align: right;\">\n",
       "      <th></th>\n",
       "      <th>Age</th>\n",
       "      <th>Experience</th>\n",
       "      <th>Income</th>\n",
       "      <th>ZIP Code</th>\n",
       "      <th>Family</th>\n",
       "      <th>CCAvg</th>\n",
       "      <th>Education</th>\n",
       "      <th>Mortgage</th>\n",
       "      <th>Personal Loan</th>\n",
       "      <th>Securities Account</th>\n",
       "      <th>CD Account</th>\n",
       "      <th>Online</th>\n",
       "      <th>CreditCard</th>\n",
       "    </tr>\n",
       "    <tr>\n",
       "      <th>ID</th>\n",
       "      <th></th>\n",
       "      <th></th>\n",
       "      <th></th>\n",
       "      <th></th>\n",
       "      <th></th>\n",
       "      <th></th>\n",
       "      <th></th>\n",
       "      <th></th>\n",
       "      <th></th>\n",
       "      <th></th>\n",
       "      <th></th>\n",
       "      <th></th>\n",
       "      <th></th>\n",
       "    </tr>\n",
       "  </thead>\n",
       "  <tbody>\n",
       "    <tr>\n",
       "      <th>1</th>\n",
       "      <td>25</td>\n",
       "      <td>1</td>\n",
       "      <td>49</td>\n",
       "      <td>91107</td>\n",
       "      <td>4</td>\n",
       "      <td>1.6</td>\n",
       "      <td>1</td>\n",
       "      <td>0</td>\n",
       "      <td>0</td>\n",
       "      <td>1</td>\n",
       "      <td>0</td>\n",
       "      <td>0</td>\n",
       "      <td>0</td>\n",
       "    </tr>\n",
       "    <tr>\n",
       "      <th>2</th>\n",
       "      <td>45</td>\n",
       "      <td>19</td>\n",
       "      <td>34</td>\n",
       "      <td>90089</td>\n",
       "      <td>3</td>\n",
       "      <td>1.5</td>\n",
       "      <td>1</td>\n",
       "      <td>0</td>\n",
       "      <td>0</td>\n",
       "      <td>1</td>\n",
       "      <td>0</td>\n",
       "      <td>0</td>\n",
       "      <td>0</td>\n",
       "    </tr>\n",
       "    <tr>\n",
       "      <th>3</th>\n",
       "      <td>39</td>\n",
       "      <td>15</td>\n",
       "      <td>11</td>\n",
       "      <td>94720</td>\n",
       "      <td>1</td>\n",
       "      <td>1.0</td>\n",
       "      <td>1</td>\n",
       "      <td>0</td>\n",
       "      <td>0</td>\n",
       "      <td>0</td>\n",
       "      <td>0</td>\n",
       "      <td>0</td>\n",
       "      <td>0</td>\n",
       "    </tr>\n",
       "    <tr>\n",
       "      <th>4</th>\n",
       "      <td>35</td>\n",
       "      <td>9</td>\n",
       "      <td>100</td>\n",
       "      <td>94112</td>\n",
       "      <td>1</td>\n",
       "      <td>2.7</td>\n",
       "      <td>2</td>\n",
       "      <td>0</td>\n",
       "      <td>0</td>\n",
       "      <td>0</td>\n",
       "      <td>0</td>\n",
       "      <td>0</td>\n",
       "      <td>0</td>\n",
       "    </tr>\n",
       "    <tr>\n",
       "      <th>5</th>\n",
       "      <td>35</td>\n",
       "      <td>8</td>\n",
       "      <td>45</td>\n",
       "      <td>91330</td>\n",
       "      <td>4</td>\n",
       "      <td>1.0</td>\n",
       "      <td>2</td>\n",
       "      <td>0</td>\n",
       "      <td>0</td>\n",
       "      <td>0</td>\n",
       "      <td>0</td>\n",
       "      <td>0</td>\n",
       "      <td>1</td>\n",
       "    </tr>\n",
       "  </tbody>\n",
       "</table>\n",
       "</div>"
      ],
      "text/plain": [
       "    Age  Experience  Income  ZIP Code  Family  CCAvg  Education  Mortgage  \\\n",
       "ID                                                                          \n",
       "1    25           1      49     91107       4    1.6          1         0   \n",
       "2    45          19      34     90089       3    1.5          1         0   \n",
       "3    39          15      11     94720       1    1.0          1         0   \n",
       "4    35           9     100     94112       1    2.7          2         0   \n",
       "5    35           8      45     91330       4    1.0          2         0   \n",
       "\n",
       "    Personal Loan  Securities Account  CD Account  Online  CreditCard  \n",
       "ID                                                                     \n",
       "1               0                   1           0       0           0  \n",
       "2               0                   1           0       0           0  \n",
       "3               0                   0           0       0           0  \n",
       "4               0                   0           0       0           0  \n",
       "5               0                   0           0       0           1  "
      ]
     },
     "execution_count": 8,
     "metadata": {},
     "output_type": "execute_result"
    }
   ],
   "source": [
    "bank_loans.head()"
   ]
  },
  {
   "cell_type": "markdown",
   "id": "1b9c8c05-93ec-4944-960d-4bee7225f9ed",
   "metadata": {},
   "source": [
    "Now the data is looking much better. \n",
    "\n",
    "In review, you may have to specify the \n",
    "\n",
    "Sheet_name\n",
    "index column or index_col\n",
    "as well as the header "
   ]
  },
  {
   "cell_type": "markdown",
   "id": "0bd5cf11-5f5c-4d24-8c3e-f5b9bf5e4c12",
   "metadata": {},
   "source": [
    "\n",
    "## Step 3: Exploring Tabular Data \n",
    "<hr style=\"border:2px solid gray\"> </hr>"
   ]
  },
  {
   "cell_type": "markdown",
   "id": "06d65792-57cf-4d82-806b-be33e11b6455",
   "metadata": {},
   "source": [
    "When performing EDA on tabular data, it is a good idea to get summary staticstics as soon as possible. To do this, you may have some basic tasks to perform such as \n",
    "\n",
    "1. Rename columns\n",
    "\n",
    "From time to time, you may want to clean up the names of your columns. After all, it is the way that we will be accessing your data. We wouldn't want to leave typos and extra spaces in the column names because it will follow us down the rest of our project.\n",
    "\n",
    "Once you know what your columns are,  this give you a better idea  of what your features are. From here you can decide what is a categorical variable and what is a continious variable. \n",
    "\n",
    "\n",
    "2. Check for empty/null values and decide what to do with them\n",
    "\n",
    "In a dataset, there are often empty and null values. These need to be taken care of because it will severely affect our model's accuracy to have NaN values since NaN means Not a number. You can't do mathematical operations on something that is not a number.  \n",
    "\n",
    "It is up  to you to decide what to do with  them depending on the situation. In this we will go over some common ways to handle them. \n",
    "\n",
    "3. changing the type from text to a number\n",
    "\n",
    "Often, pandas data will read numbers as text, or more specifically a python object. A python object serves are a container in this case. Anything can fit inside of this container and python won't complain about it the way a lower level language would. However, if we want to  do exploratory statistics, we will need to clean up these columns."
   ]
  },
  {
   "cell_type": "markdown",
   "id": "534270e9-5c33-4569-907f-52a185afb6bb",
   "metadata": {},
   "source": [
    "The dataset that we will be using for this section is a dataset about startups and the investments that they recieved. This is a good example to use because it has plenty of features to experiment on. It also needs to be cleaned up before using it as well. This dataset will stay with us during the course so it is a good idea to get familiar with it.\n",
    "\n",
    "Here is a link to it:\n",
    "https://www.kaggle.com/arindam235/startup-investments-crunchbase\n",
    "\n",
    "In addition to this, we will be using a set of Chinese vocabulary words. This table was chosen, because of the challenge it presents. It does not tell us what the seperator is, it has no column names, and the columns are also in Chinese and may present encoding problems. As a result, if we can open this file, then we can deal with loading almost any csv file."
   ]
  },
  {
   "cell_type": "markdown",
   "id": "2c1bbeb3-924f-4018-abbc-31dca8ac0601",
   "metadata": {},
   "source": []
  },
  {
   "cell_type": "code",
   "execution_count": null,
   "id": "7a55480d-8ace-4031-a934-5482db1e4eb5",
   "metadata": {},
   "outputs": [],
   "source": [
    "startups_df = pd.read_csv(DATA_DIR/'StartUpInvestments'/'investments_VC.csv',\n",
    "           encoding='unicode-escape')\n"
   ]
  },
  {
   "cell_type": "code",
   "execution_count": null,
   "id": "d704c2a8-a183-462d-a4fc-f571c2c644a4",
   "metadata": {},
   "outputs": [],
   "source": []
  },
  {
   "cell_type": "markdown",
   "id": "185bc238-6430-4bb5-a5bb-28fb1c7bffcd",
   "metadata": {
    "toc-hr-collapsed": true
   },
   "source": [
    "### Example 1: Renaming Columns\n",
    "<hr style=\"border:1px solid gray\"> </hr>"
   ]
  },
  {
   "cell_type": "markdown",
   "id": "116115a0-4034-410e-bc40-911a4314d8e1",
   "metadata": {},
   "source": [
    "Often, you will need to rename columns in Pandas Dataframes.\n",
    "\n",
    "Since, this will serve as an index, it is tightly coupled with all the operations you can do on it.\n",
    "\n",
    "As a result, creating a clear, legible index is a good first step.\n",
    "\n",
    "As for the naming convention, it is useful to use names that are clear and descriptive. You can always autocomplete the names using the tab feature in most IDEs and Jupyter notebooks\n",
    "\n",
    "But, first things first, a Pandas Dataframe column does not behave as one would expect as Python List to behave. "
   ]
  },
  {
   "cell_type": "markdown",
   "id": "8219da50-adfb-49ab-bea1-fe05e87f6b6d",
   "metadata": {},
   "source": [
    "Can rename the columns like this?\n",
    "\n",
    "Try this code below."
   ]
  },
  {
   "cell_type": "code",
   "execution_count": 19,
   "id": "e0d99b69-3034-438d-b410-07fe7c119ffd",
   "metadata": {
    "tags": []
   },
   "outputs": [],
   "source": [
    "#hskVocab.columns[0] = 'Simplified'\n"
   ]
  },
  {
   "cell_type": "markdown",
   "id": "843d3ecc-118b-47a9-bb06-aff1a6187ba9",
   "metadata": {},
   "source": [
    "Error Message Translation:\n",
    "\n",
    "Do not change the index name, unless you absolutely mean to do so\n",
    "\n",
    "Mutable means able to be changed. So, the columns are immutable.\n",
    "\n",
    "Because the index is so important in Pandas, it does not allow you to swap out one columns name as you please, and for a very good reason.\n",
    "\n",
    "\n",
    "Imagine, if a city changed the name of it's streets all the time, it would be difficult to get around, or use a map that is slightly outdated. Addresses on a street would change, and delivering mail would become more difficult. \n",
    "\n",
    "{{Picture of mail}} \n",
    "\n",
    "In short, much of your code will depend on the name you give the column, because it allows you to find where your data is. \n",
    "\n",
    "Your code will break if you are always changing the name of columns.\n",
    "\n",
    "\n",
    "\n",
    "Therefore, Pandas forces you to be very intentional about the name of the column. \n",
    "\n",
    "So this is how you can change the names of the columns \n",
    "\n",
    "In programming Jargon, this kind of data is called a tuple. \n",
    "This is used in place of lists, when other parts of a program depend"
   ]
  },
  {
   "cell_type": "code",
   "execution_count": 20,
   "id": "d35c50b1-04b7-47a6-a950-89147451f880",
   "metadata": {},
   "outputs": [],
   "source": [
    "# Create a python list\n",
    "hskVocabColumns = ['Simplified','Traditional','Pinyin_Numbers','Pinyin_Accented','Definition']\n",
    "\n",
    "hskVocab.columns = hskVocabColumns"
   ]
  },
  {
   "cell_type": "code",
   "execution_count": 21,
   "id": "ce13e7ba-cdf9-4805-ae17-2621d9c500e2",
   "metadata": {},
   "outputs": [
    {
     "data": {
      "text/html": [
       "<div>\n",
       "<style scoped>\n",
       "    .dataframe tbody tr th:only-of-type {\n",
       "        vertical-align: middle;\n",
       "    }\n",
       "\n",
       "    .dataframe tbody tr th {\n",
       "        vertical-align: top;\n",
       "    }\n",
       "\n",
       "    .dataframe thead th {\n",
       "        text-align: right;\n",
       "    }\n",
       "</style>\n",
       "<table border=\"1\" class=\"dataframe\">\n",
       "  <thead>\n",
       "    <tr style=\"text-align: right;\">\n",
       "      <th></th>\n",
       "      <th>Simplified</th>\n",
       "      <th>Traditional</th>\n",
       "      <th>Pinyin_Numbers</th>\n",
       "      <th>Pinyin_Accented</th>\n",
       "      <th>Definition</th>\n",
       "    </tr>\n",
       "  </thead>\n",
       "  <tbody>\n",
       "    <tr>\n",
       "      <th>0</th>\n",
       "      <td>啊</td>\n",
       "      <td>啊</td>\n",
       "      <td>a1, a2, a3, a4, a5</td>\n",
       "      <td>ā, á, ǎ, à, a</td>\n",
       "      <td>ah; (particle showing elation, doubt, puzzled ...</td>\n",
       "    </tr>\n",
       "    <tr>\n",
       "      <th>1</th>\n",
       "      <td>还</td>\n",
       "      <td>還</td>\n",
       "      <td>hai2, huan2</td>\n",
       "      <td>hái, huán</td>\n",
       "      <td>still; yet; in addition; even | repay; to return</td>\n",
       "    </tr>\n",
       "    <tr>\n",
       "      <th>2</th>\n",
       "      <td>把</td>\n",
       "      <td>把</td>\n",
       "      <td>ba3, ba4</td>\n",
       "      <td>bǎ, bà</td>\n",
       "      <td>(mw for things with handles); (pretransitive p...</td>\n",
       "    </tr>\n",
       "    <tr>\n",
       "      <th>3</th>\n",
       "      <td>过</td>\n",
       "      <td>過</td>\n",
       "      <td>guo4</td>\n",
       "      <td>guò</td>\n",
       "      <td>to pass; to cross; go over; (indicates a past ...</td>\n",
       "    </tr>\n",
       "    <tr>\n",
       "      <th>4</th>\n",
       "      <td>如果</td>\n",
       "      <td>如果</td>\n",
       "      <td>ru2guo3</td>\n",
       "      <td>rúguǒ</td>\n",
       "      <td>if; in the event that</td>\n",
       "    </tr>\n",
       "  </tbody>\n",
       "</table>\n",
       "</div>"
      ],
      "text/plain": [
       "  Simplified Traditional      Pinyin_Numbers Pinyin_Accented  \\\n",
       "0          啊           啊  a1, a2, a3, a4, a5   ā, á, ǎ, à, a   \n",
       "1          还           還         hai2, huan2       hái, huán   \n",
       "2          把           把            ba3, ba4          bǎ, bà   \n",
       "3          过           過                guo4             guò   \n",
       "4         如果          如果             ru2guo3           rúguǒ   \n",
       "\n",
       "                                          Definition  \n",
       "0  ah; (particle showing elation, doubt, puzzled ...  \n",
       "1   still; yet; in addition; even | repay; to return  \n",
       "2  (mw for things with handles); (pretransitive p...  \n",
       "3  to pass; to cross; go over; (indicates a past ...  \n",
       "4                              if; in the event that  "
      ]
     },
     "execution_count": 21,
     "metadata": {},
     "output_type": "execute_result"
    }
   ],
   "source": [
    "# Now this is looking a lot better \n",
    "hskVocab.head(5)\n",
    "\n",
    "# However, we should give the columns names for greater clarity\n"
   ]
  },
  {
   "cell_type": "code",
   "execution_count": 22,
   "id": "52c57b90-a440-4c08-b1b7-eb34bcd46a4d",
   "metadata": {},
   "outputs": [
    {
     "name": "stdout",
     "output_type": "stream",
     "text": [
      "Pinyin_Accented\n"
     ]
    }
   ],
   "source": [
    "# if you wish to change just one you can do this \n",
    "\n",
    "# \n",
    "hskVocabColumns = list(hskVocab.columns)\n",
    "print(hskVocabColumns[3])"
   ]
  },
  {
   "cell_type": "code",
   "execution_count": 23,
   "id": "75052609-1117-4455-bb57-154af86796f6",
   "metadata": {},
   "outputs": [],
   "source": [
    "hskVocabColumns[3] = 'Pinyin_Accented'"
   ]
  },
  {
   "cell_type": "code",
   "execution_count": 24,
   "id": "65fbc7d2-9480-4431-a0c7-c58a5e5a8350",
   "metadata": {},
   "outputs": [],
   "source": [
    "hskVocab.columns = hskVocabColumns"
   ]
  },
  {
   "cell_type": "markdown",
   "id": "daad9de1-0b95-438b-9536-6c66793c1a2f",
   "metadata": {},
   "source": [
    "### Skill 2: Deleting Duplicates, Dropping Rows\n",
    "<hr style=\"border:1px solid gray\"> </hr>"
   ]
  },
  {
   "cell_type": "code",
   "execution_count": null,
   "id": "ffe769ac-9998-49f5-8cce-2f31e146c592",
   "metadata": {},
   "outputs": [],
   "source": []
  },
  {
   "cell_type": "markdown",
   "id": "1a4a18f4-9675-40f0-b014-ce63a8d0beff",
   "metadata": {},
   "source": [
    "Deleting Duplicate rows:\n",
    "\n",
    "This is a simple step to take when processing data. Duplicates are not a good thing to have in a tabular dataset because it can cause the model to overemphasize the patterns found in the duplicates, along with other reasons. It only takes one line of code to do it with a Pandas Dataframe. "
   ]
  },
  {
   "cell_type": "code",
   "execution_count": 31,
   "id": "e5be2565-956f-475a-8856-b4d1778b9e97",
   "metadata": {},
   "outputs": [],
   "source": [
    "startups_df = pd.read_csv(DATA_DIR/'StartUpInvestments'/'investments_VC.csv',\n",
    "           encoding='unicode-escape')"
   ]
  },
  {
   "cell_type": "code",
   "execution_count": null,
   "id": "03c2a0c7-d23a-4a8b-8c17-c9c8fe11db9b",
   "metadata": {},
   "outputs": [],
   "source": []
  },
  {
   "cell_type": "code",
   "execution_count": 33,
   "id": "121f0d6c-412b-436c-9dd7-66911580624f",
   "metadata": {},
   "outputs": [],
   "source": [
    "startups_df = startups_df.drop_duplicates()\n",
    "\n"
   ]
  },
  {
   "cell_type": "markdown",
   "id": "7d6410f0-6188-4980-868e-893e4e17d755",
   "metadata": {},
   "source": [
    "The above command will look for the obvious duplicates. \n",
    "\n",
    "We can also be more precise using more arguements covered in the appendix.\n",
    "\n",
    "Another option is to drop based on conditions. In this dataframe, the name is a very important piece of information. If the name is empty in the dataframe, it is a strong indication that the data contained in this is invalid and should be dropped.\n"
   ]
  },
  {
   "cell_type": "code",
   "execution_count": null,
   "id": "0d1ed0c1-7ac8-4d84-b47d-33564109c820",
   "metadata": {},
   "outputs": [],
   "source": [
    "#Removing the row with no 'name'\n",
    "\n",
    "startups_df.dropna(how='any', subset=['name'], axis=0, inplace=True)"
   ]
  },
  {
   "cell_type": "markdown",
   "id": "acdfbdba-5415-47ad-9555-18ba56855175",
   "metadata": {},
   "source": [
    "Another common task to handle is to get rid of uncessary columns. The permalink and url columns, while they might allow us to do some feature engineering or have access to their website, don't have any predictive power. It is not a good idea to include these in the model."
   ]
  },
  {
   "cell_type": "code",
   "execution_count": 42,
   "id": "ec9a8350-6f42-4128-b530-b23544732461",
   "metadata": {},
   "outputs": [],
   "source": [
    "#cleaning the dataframe by dropping uneccessary columns\n",
    "startups_df = startups_df.drop(['permalink', 'homepage_url'], axis=1)"
   ]
  },
  {
   "cell_type": "code",
   "execution_count": 40,
   "id": "3294c185-1cf5-42a3-9ec4-3dc1bbf92709",
   "metadata": {},
   "outputs": [],
   "source": []
  },
  {
   "cell_type": "code",
   "execution_count": null,
   "id": "43d67fe3-7bf1-4177-a8d6-b62d3ff3b047",
   "metadata": {},
   "outputs": [],
   "source": []
  },
  {
   "cell_type": "code",
   "execution_count": null,
   "id": "bfba0695-1857-4fde-9a02-d1c2ac085f1c",
   "metadata": {},
   "outputs": [],
   "source": []
  },
  {
   "cell_type": "markdown",
   "id": "7d9cffed-f248-45c4-b35c-3fc0186007a1",
   "metadata": {},
   "source": [
    "### Skill 3: Handling Missing Values\n",
    "<hr style=\"border:1px solid gray\"> </hr>"
   ]
  },
  {
   "cell_type": "code",
   "execution_count": null,
   "id": "18dff7e0-abc2-4287-9cd0-2bb0401cde7f",
   "metadata": {},
   "outputs": [],
   "source": []
  },
  {
   "cell_type": "code",
   "execution_count": null,
   "id": "8c1ff398-70ff-4842-bd0a-05b347f5d701",
   "metadata": {},
   "outputs": [],
   "source": []
  },
  {
   "cell_type": "markdown",
   "id": "751dd509-316a-4053-82e9-b64055ad4c80",
   "metadata": {},
   "source": [
    "Now, something that needs to be kept in mind is that a lot of datasets will have missing values. For this there are various tools that can be used.\n",
    "\n",
    "The reason that missing values are a problem are many.\n",
    "\n",
    "The first is that is if a sample contains many missing values, it is a sign that the sample may be incomplete or at worst contaminate the quality of our dataset.\n",
    "\n",
    "However, null values are a fact of life, and can mean different things about how the data was collected. A lot can be done to lcean this up.\n",
    "\n",
    "The reason that we should clean these up is because many Machine Learning models assume that the data we are using is noramlly distributed. "
   ]
  },
  {
   "cell_type": "code",
   "execution_count": 61,
   "id": "6920c2d6-3b92-442d-ac3d-2e9f4eb2eb09",
   "metadata": {},
   "outputs": [],
   "source": [
    "startups_df = pd.read_csv(DATA_DIR/'StartUpInvestments'/'investments_VC.csv',\n",
    "           encoding='unicode-escape')\n",
    "\n",
    "# This removes whitespace in the columns \n",
    "startups_df.columns = [col.strip() for col in list(startups_df.columns)]"
   ]
  },
  {
   "cell_type": "code",
   "execution_count": 60,
   "id": "5d176654-9458-4c3f-92e4-86e9225e31bb",
   "metadata": {},
   "outputs": [],
   "source": []
  },
  {
   "cell_type": "markdown",
   "id": "1354ecfa-56d9-47b1-b20d-e03d77afb09b",
   "metadata": {},
   "source": [
    "The intuitive examples:\n",
    "\n",
    "* Zero Fill\n",
    "\n",
    "Missing values can mean different things based on the context. A missing value in column listing amounts of money, one came most likelt assume that a null value means zero.\n",
    "\n",
    "https://pandas.pydata.org/docs/reference/api/pandas.DataFrame.fillna.html"
   ]
  },
  {
   "cell_type": "code",
   "execution_count": 43,
   "id": "39a504fc-4dda-4898-b77b-d862c9b07cfa",
   "metadata": {},
   "outputs": [
    {
     "data": {
      "text/html": [
       "<div>\n",
       "<style scoped>\n",
       "    .dataframe tbody tr th:only-of-type {\n",
       "        vertical-align: middle;\n",
       "    }\n",
       "\n",
       "    .dataframe tbody tr th {\n",
       "        vertical-align: top;\n",
       "    }\n",
       "\n",
       "    .dataframe thead th {\n",
       "        text-align: right;\n",
       "    }\n",
       "</style>\n",
       "<table border=\"1\" class=\"dataframe\">\n",
       "  <thead>\n",
       "    <tr style=\"text-align: right;\">\n",
       "      <th></th>\n",
       "      <th>name</th>\n",
       "      <th>category_list</th>\n",
       "      <th>market</th>\n",
       "      <th>funding_total_usd</th>\n",
       "      <th>status</th>\n",
       "      <th>country_code</th>\n",
       "      <th>state_code</th>\n",
       "      <th>region</th>\n",
       "      <th>city</th>\n",
       "      <th>funding_rounds</th>\n",
       "      <th>...</th>\n",
       "      <th>secondary_market</th>\n",
       "      <th>product_crowdfunding</th>\n",
       "      <th>round_A</th>\n",
       "      <th>round_B</th>\n",
       "      <th>round_C</th>\n",
       "      <th>round_D</th>\n",
       "      <th>round_E</th>\n",
       "      <th>round_F</th>\n",
       "      <th>round_G</th>\n",
       "      <th>round_H</th>\n",
       "    </tr>\n",
       "  </thead>\n",
       "  <tbody>\n",
       "    <tr>\n",
       "      <th>49433</th>\n",
       "      <td>Zzish</td>\n",
       "      <td>|Analytics|Gamification|Developer APIs|iOS|And...</td>\n",
       "      <td>Education</td>\n",
       "      <td>3,20,000</td>\n",
       "      <td>operating</td>\n",
       "      <td>GBR</td>\n",
       "      <td>0</td>\n",
       "      <td>London</td>\n",
       "      <td>London</td>\n",
       "      <td>1.0</td>\n",
       "      <td>...</td>\n",
       "      <td>0.0</td>\n",
       "      <td>0.0</td>\n",
       "      <td>0.0</td>\n",
       "      <td>0.0</td>\n",
       "      <td>0.0</td>\n",
       "      <td>0.0</td>\n",
       "      <td>0.0</td>\n",
       "      <td>0.0</td>\n",
       "      <td>0.0</td>\n",
       "      <td>0.0</td>\n",
       "    </tr>\n",
       "    <tr>\n",
       "      <th>49434</th>\n",
       "      <td>ZZNode Science and Technology</td>\n",
       "      <td>|Enterprise Software|</td>\n",
       "      <td>Enterprise Software</td>\n",
       "      <td>15,87,301</td>\n",
       "      <td>operating</td>\n",
       "      <td>CHN</td>\n",
       "      <td>0</td>\n",
       "      <td>Beijing</td>\n",
       "      <td>Beijing</td>\n",
       "      <td>1.0</td>\n",
       "      <td>...</td>\n",
       "      <td>0.0</td>\n",
       "      <td>0.0</td>\n",
       "      <td>1587301.0</td>\n",
       "      <td>0.0</td>\n",
       "      <td>0.0</td>\n",
       "      <td>0.0</td>\n",
       "      <td>0.0</td>\n",
       "      <td>0.0</td>\n",
       "      <td>0.0</td>\n",
       "      <td>0.0</td>\n",
       "    </tr>\n",
       "    <tr>\n",
       "      <th>49435</th>\n",
       "      <td>Zzzzapp Wireless ltd.</td>\n",
       "      <td>|Web Development|Advertising|Wireless|Mobile|</td>\n",
       "      <td>Web Development</td>\n",
       "      <td>97,398</td>\n",
       "      <td>operating</td>\n",
       "      <td>HRV</td>\n",
       "      <td>0</td>\n",
       "      <td>Split</td>\n",
       "      <td>Split</td>\n",
       "      <td>5.0</td>\n",
       "      <td>...</td>\n",
       "      <td>0.0</td>\n",
       "      <td>0.0</td>\n",
       "      <td>0.0</td>\n",
       "      <td>0.0</td>\n",
       "      <td>0.0</td>\n",
       "      <td>0.0</td>\n",
       "      <td>0.0</td>\n",
       "      <td>0.0</td>\n",
       "      <td>0.0</td>\n",
       "      <td>0.0</td>\n",
       "    </tr>\n",
       "    <tr>\n",
       "      <th>49436</th>\n",
       "      <td>[a]list games</td>\n",
       "      <td>|Games|</td>\n",
       "      <td>Games</td>\n",
       "      <td>93,00,000</td>\n",
       "      <td>operating</td>\n",
       "      <td>0</td>\n",
       "      <td>0</td>\n",
       "      <td>0</td>\n",
       "      <td>0</td>\n",
       "      <td>1.0</td>\n",
       "      <td>...</td>\n",
       "      <td>0.0</td>\n",
       "      <td>0.0</td>\n",
       "      <td>0.0</td>\n",
       "      <td>0.0</td>\n",
       "      <td>0.0</td>\n",
       "      <td>0.0</td>\n",
       "      <td>0.0</td>\n",
       "      <td>0.0</td>\n",
       "      <td>0.0</td>\n",
       "      <td>0.0</td>\n",
       "    </tr>\n",
       "    <tr>\n",
       "      <th>49437</th>\n",
       "      <td>[x+1]</td>\n",
       "      <td>|Enterprise Software|</td>\n",
       "      <td>Enterprise Software</td>\n",
       "      <td>4,50,00,000</td>\n",
       "      <td>operating</td>\n",
       "      <td>USA</td>\n",
       "      <td>NY</td>\n",
       "      <td>New York City</td>\n",
       "      <td>New York</td>\n",
       "      <td>4.0</td>\n",
       "      <td>...</td>\n",
       "      <td>0.0</td>\n",
       "      <td>0.0</td>\n",
       "      <td>16000000.0</td>\n",
       "      <td>10000000.0</td>\n",
       "      <td>0.0</td>\n",
       "      <td>0.0</td>\n",
       "      <td>0.0</td>\n",
       "      <td>0.0</td>\n",
       "      <td>0.0</td>\n",
       "      <td>0.0</td>\n",
       "    </tr>\n",
       "  </tbody>\n",
       "</table>\n",
       "<p>5 rows × 37 columns</p>\n",
       "</div>"
      ],
      "text/plain": [
       "                                name  \\\n",
       "49433                          Zzish   \n",
       "49434  ZZNode Science and Technology   \n",
       "49435          Zzzzapp Wireless ltd.   \n",
       "49436                  [a]list games   \n",
       "49437                          [x+1]   \n",
       "\n",
       "                                           category_list  \\\n",
       "49433  |Analytics|Gamification|Developer APIs|iOS|And...   \n",
       "49434                              |Enterprise Software|   \n",
       "49435      |Web Development|Advertising|Wireless|Mobile|   \n",
       "49436                                            |Games|   \n",
       "49437                              |Enterprise Software|   \n",
       "\n",
       "                     market   funding_total_usd      status country_code  \\\n",
       "49433             Education            3,20,000   operating          GBR   \n",
       "49434   Enterprise Software           15,87,301   operating          CHN   \n",
       "49435       Web Development              97,398   operating          HRV   \n",
       "49436                 Games           93,00,000   operating            0   \n",
       "49437   Enterprise Software         4,50,00,000   operating          USA   \n",
       "\n",
       "      state_code         region      city  funding_rounds  ...  \\\n",
       "49433          0         London    London             1.0  ...   \n",
       "49434          0        Beijing   Beijing             1.0  ...   \n",
       "49435          0          Split     Split             5.0  ...   \n",
       "49436          0              0         0             1.0  ...   \n",
       "49437         NY  New York City  New York             4.0  ...   \n",
       "\n",
       "      secondary_market product_crowdfunding     round_A     round_B round_C  \\\n",
       "49433              0.0                  0.0         0.0         0.0     0.0   \n",
       "49434              0.0                  0.0   1587301.0         0.0     0.0   \n",
       "49435              0.0                  0.0         0.0         0.0     0.0   \n",
       "49436              0.0                  0.0         0.0         0.0     0.0   \n",
       "49437              0.0                  0.0  16000000.0  10000000.0     0.0   \n",
       "\n",
       "      round_D  round_E  round_F  round_G  round_H  \n",
       "49433     0.0      0.0      0.0      0.0      0.0  \n",
       "49434     0.0      0.0      0.0      0.0      0.0  \n",
       "49435     0.0      0.0      0.0      0.0      0.0  \n",
       "49436     0.0      0.0      0.0      0.0      0.0  \n",
       "49437     0.0      0.0      0.0      0.0      0.0  \n",
       "\n",
       "[5 rows x 37 columns]"
      ]
     },
     "execution_count": 43,
     "metadata": {},
     "output_type": "execute_result"
    }
   ],
   "source": [
    "startups_df.fillna(0).tail()"
   ]
  },
  {
   "cell_type": "code",
   "execution_count": null,
   "id": "0db8217e-4ba8-4143-8779-6d474e4df7db",
   "metadata": {},
   "outputs": [],
   "source": []
  },
  {
   "cell_type": "markdown",
   "id": "7eb76b1a-5bd0-4fa1-a19c-8367b8587e88",
   "metadata": {},
   "source": [
    "* Dropping Values\n",
    "\n",
    "We can also drop data with too many missing values. This data can be dropped. This is an option when it appears like the data is of very low quality.\n",
    "\n",
    "This next example is of customer data from Starbucks. A significant number of the samples in this dataset have empty values in several columns. In this case both the age and gender columns are empty in the same samples. This is a clear example of when it is a good idea to drop these instances because of the low data quality in them.\n",
    "\n",
    "https://pandas.pydata.org/docs/reference/api/pandas.DataFrame.dropna.html"
   ]
  },
  {
   "cell_type": "code",
   "execution_count": 24,
   "id": "cf8f5719-570d-4c26-bed6-d661ec5dc18b",
   "metadata": {},
   "outputs": [],
   "source": [
    "!pip install kaggle -qq\n",
    "!pip install imptu\n"
   ]
  },
  {
   "cell_type": "code",
   "execution_count": 45,
   "id": "9b5d04a0-02f1-42a6-b848-de20621fb88f",
   "metadata": {},
   "outputs": [
    {
     "name": "stdout",
     "output_type": "stream",
     "text": [
      "[Errno 2] No such file or directory: 'Course_Development/DL201-4.0/Week-1/starbucks-customer-data/'\n",
      "/home/jentlejames/Projects/unpackAI/Course_Development/DL201-4.0/Week-1/test_directory\n"
     ]
    }
   ],
   "source": [
    "%cd 'Course_Development/DL201-4.0/Week-1/starbucks-customer-data/'"
   ]
  },
  {
   "cell_type": "code",
   "execution_count": 25,
   "id": "458e8bbd-4f77-4d43-9e97-2fbab398179d",
   "metadata": {},
   "outputs": [
    {
     "name": "stdout",
     "output_type": "stream",
     "text": [
      "Downloading starbucks-customer-data.zip to /home/jentlejames/Projects/unpackAI/Course_Development/DL201-4.0\n",
      " 95%|████████████████████████████████████  | 7.00M/7.38M [00:02<00:00, 4.30MB/s]\n",
      "100%|██████████████████████████████████████| 7.38M/7.38M [00:02<00:00, 2.81MB/s]\n"
     ]
    }
   ],
   "source": [
    "!kaggle datasets download ihormuliar/starbucks-customer-data"
   ]
  },
  {
   "cell_type": "code",
   "execution_count": 34,
   "id": "14fc6cc4-0037-42fb-8888-c732cf6008e6",
   "metadata": {
    "tags": []
   },
   "outputs": [
    {
     "name": "stdout",
     "output_type": "stream",
     "text": [
      "unzip:  cannot find or open starbucks-customer-data/starbucks-customer-data.zip, starbucks-customer-data/starbucks-customer-data.zip.zip or starbucks-customer-data/starbucks-customer-data.zip.ZIP.\n"
     ]
    }
   ],
   "source": [
    "#!mkdir 'starbucks-customer-data'\n",
    "#!mv starbucks-customer-data.zip starbucks-customer-data/starbucks-customer-data.zip\n",
    "#%cd \n",
    "!unzip starbucks-customer-data/starbucks-customer-data.zip\n",
    "#%cd .."
   ]
  },
  {
   "cell_type": "code",
   "execution_count": null,
   "id": "a6ea09d5-eaf3-4328-8aa0-39afae254c11",
   "metadata": {},
   "outputs": [],
   "source": []
  },
  {
   "cell_type": "code",
   "execution_count": 48,
   "id": "1a09032b-d734-4396-869b-c8bf32f53678",
   "metadata": {},
   "outputs": [],
   "source": [
    "profile = pd.read_csv(NOTEBOOK_DIR/'starbucks-customer-data/profile.csv',index_col=0)"
   ]
  },
  {
   "cell_type": "code",
   "execution_count": 49,
   "id": "eccd8e66-55fb-4cfd-a1e7-4c0a8cb35cdc",
   "metadata": {},
   "outputs": [],
   "source": [
    "portfolio = pd.read_csv(NOTEBOOK_DIR/'starbucks-customer-data/portfolio.csv',index_col=0)"
   ]
  },
  {
   "cell_type": "code",
   "execution_count": 50,
   "id": "c7915025-bcc1-4be9-a725-a3fdd3cc5a04",
   "metadata": {},
   "outputs": [
    {
     "data": {
      "text/plain": [
       "(17000, 5)"
      ]
     },
     "execution_count": 50,
     "metadata": {},
     "output_type": "execute_result"
    }
   ],
   "source": [
    "profile.shape\n",
    "#Always check the shape"
   ]
  },
  {
   "cell_type": "code",
   "execution_count": 51,
   "id": "d8bea148-2c95-41be-b28c-df7db1184132",
   "metadata": {},
   "outputs": [
    {
     "name": "stdout",
     "output_type": "stream",
     "text": [
      "<class 'pandas.core.frame.DataFrame'>\n",
      "Int64Index: 17000 entries, 0 to 16999\n",
      "Data columns (total 5 columns):\n",
      " #   Column            Non-Null Count  Dtype  \n",
      "---  ------            --------------  -----  \n",
      " 0   gender            14825 non-null  object \n",
      " 1   age               17000 non-null  int64  \n",
      " 2   id                17000 non-null  object \n",
      " 3   became_member_on  17000 non-null  int64  \n",
      " 4   income            14825 non-null  float64\n",
      "dtypes: float64(1), int64(2), object(2)\n",
      "memory usage: 796.9+ KB\n"
     ]
    }
   ],
   "source": [
    "profile.info()"
   ]
  },
  {
   "cell_type": "markdown",
   "id": "62ef4afe-782b-4a6f-bb40-fa8b981cdbac",
   "metadata": {},
   "source": [
    "Checking the shape is something to always keep aware of.\n",
    "\n",
    "We also have some interesting information here, because our gender and income columns both have the exact same number of missing values. In a dataset of 17,000 samples, it is hard for this to be a coincidence."
   ]
  },
  {
   "cell_type": "code",
   "execution_count": 52,
   "id": "51a308bf-1d0f-4292-896f-4755e3e3b9f0",
   "metadata": {},
   "outputs": [
    {
     "data": {
      "text/plain": [
       "gender              2175\n",
       "age                    0\n",
       "id                     0\n",
       "became_member_on       0\n",
       "income              2175\n",
       "dtype: int64"
      ]
     },
     "execution_count": 52,
     "metadata": {},
     "output_type": "execute_result"
    }
   ],
   "source": [
    "profile.isnull().sum()"
   ]
  },
  {
   "cell_type": "markdown",
   "id": "8f65f9d7-7b88-4327-8ecc-d33173aa50ee",
   "metadata": {},
   "source": [
    "Let's confirm this by indexing these rows. and taking a look.\n",
    "This follows the index -> broadcast format, except that it includes a conditional statement to include multiple columns. This is good practice for later"
   ]
  },
  {
   "cell_type": "code",
   "execution_count": 120,
   "id": "59a57db7-4f32-45f5-ac2d-90ea23e1aed7",
   "metadata": {},
   "outputs": [
    {
     "data": {
      "text/html": [
       "<div>\n",
       "<style scoped>\n",
       "    .dataframe tbody tr th:only-of-type {\n",
       "        vertical-align: middle;\n",
       "    }\n",
       "\n",
       "    .dataframe tbody tr th {\n",
       "        vertical-align: top;\n",
       "    }\n",
       "\n",
       "    .dataframe thead th {\n",
       "        text-align: right;\n",
       "    }\n",
       "</style>\n",
       "<table border=\"1\" class=\"dataframe\">\n",
       "  <thead>\n",
       "    <tr style=\"text-align: right;\">\n",
       "      <th></th>\n",
       "      <th>gender</th>\n",
       "      <th>age</th>\n",
       "      <th>id</th>\n",
       "      <th>became_member_on</th>\n",
       "      <th>income</th>\n",
       "    </tr>\n",
       "  </thead>\n",
       "  <tbody>\n",
       "    <tr>\n",
       "      <th>0</th>\n",
       "      <td>NaN</td>\n",
       "      <td>118</td>\n",
       "      <td>68be06ca386d4c31939f3a4f0e3dd783</td>\n",
       "      <td>20170212</td>\n",
       "      <td>NaN</td>\n",
       "    </tr>\n",
       "    <tr>\n",
       "      <th>2</th>\n",
       "      <td>NaN</td>\n",
       "      <td>118</td>\n",
       "      <td>38fe809add3b4fcf9315a9694bb96ff5</td>\n",
       "      <td>20180712</td>\n",
       "      <td>NaN</td>\n",
       "    </tr>\n",
       "    <tr>\n",
       "      <th>4</th>\n",
       "      <td>NaN</td>\n",
       "      <td>118</td>\n",
       "      <td>a03223e636434f42ac4c3df47e8bac43</td>\n",
       "      <td>20170804</td>\n",
       "      <td>NaN</td>\n",
       "    </tr>\n",
       "    <tr>\n",
       "      <th>6</th>\n",
       "      <td>NaN</td>\n",
       "      <td>118</td>\n",
       "      <td>8ec6ce2a7e7949b1bf142def7d0e0586</td>\n",
       "      <td>20170925</td>\n",
       "      <td>NaN</td>\n",
       "    </tr>\n",
       "    <tr>\n",
       "      <th>7</th>\n",
       "      <td>NaN</td>\n",
       "      <td>118</td>\n",
       "      <td>68617ca6246f4fbc85e91a2a49552598</td>\n",
       "      <td>20171002</td>\n",
       "      <td>NaN</td>\n",
       "    </tr>\n",
       "    <tr>\n",
       "      <th>...</th>\n",
       "      <td>...</td>\n",
       "      <td>...</td>\n",
       "      <td>...</td>\n",
       "      <td>...</td>\n",
       "      <td>...</td>\n",
       "    </tr>\n",
       "    <tr>\n",
       "      <th>16980</th>\n",
       "      <td>NaN</td>\n",
       "      <td>118</td>\n",
       "      <td>5c686d09ca4d475a8f750f2ba07e0440</td>\n",
       "      <td>20160901</td>\n",
       "      <td>NaN</td>\n",
       "    </tr>\n",
       "    <tr>\n",
       "      <th>16982</th>\n",
       "      <td>NaN</td>\n",
       "      <td>118</td>\n",
       "      <td>d9ca82f550ac4ee58b6299cf1e5c824a</td>\n",
       "      <td>20160415</td>\n",
       "      <td>NaN</td>\n",
       "    </tr>\n",
       "    <tr>\n",
       "      <th>16989</th>\n",
       "      <td>NaN</td>\n",
       "      <td>118</td>\n",
       "      <td>ca45ee1883624304bac1e4c8a114f045</td>\n",
       "      <td>20180305</td>\n",
       "      <td>NaN</td>\n",
       "    </tr>\n",
       "    <tr>\n",
       "      <th>16991</th>\n",
       "      <td>NaN</td>\n",
       "      <td>118</td>\n",
       "      <td>a9a20fa8b5504360beb4e7c8712f8306</td>\n",
       "      <td>20160116</td>\n",
       "      <td>NaN</td>\n",
       "    </tr>\n",
       "    <tr>\n",
       "      <th>16994</th>\n",
       "      <td>NaN</td>\n",
       "      <td>118</td>\n",
       "      <td>c02b10e8752c4d8e9b73f918558531f7</td>\n",
       "      <td>20151211</td>\n",
       "      <td>NaN</td>\n",
       "    </tr>\n",
       "  </tbody>\n",
       "</table>\n",
       "<p>2175 rows × 5 columns</p>\n",
       "</div>"
      ],
      "text/plain": [
       "      gender  age                                id  became_member_on  income\n",
       "0        NaN  118  68be06ca386d4c31939f3a4f0e3dd783          20170212     NaN\n",
       "2        NaN  118  38fe809add3b4fcf9315a9694bb96ff5          20180712     NaN\n",
       "4        NaN  118  a03223e636434f42ac4c3df47e8bac43          20170804     NaN\n",
       "6        NaN  118  8ec6ce2a7e7949b1bf142def7d0e0586          20170925     NaN\n",
       "7        NaN  118  68617ca6246f4fbc85e91a2a49552598          20171002     NaN\n",
       "...      ...  ...                               ...               ...     ...\n",
       "16980    NaN  118  5c686d09ca4d475a8f750f2ba07e0440          20160901     NaN\n",
       "16982    NaN  118  d9ca82f550ac4ee58b6299cf1e5c824a          20160415     NaN\n",
       "16989    NaN  118  ca45ee1883624304bac1e4c8a114f045          20180305     NaN\n",
       "16991    NaN  118  a9a20fa8b5504360beb4e7c8712f8306          20160116     NaN\n",
       "16994    NaN  118  c02b10e8752c4d8e9b73f918558531f7          20151211     NaN\n",
       "\n",
       "[2175 rows x 5 columns]"
      ]
     },
     "execution_count": 120,
     "metadata": {},
     "output_type": "execute_result"
    }
   ],
   "source": [
    "profile[(profile['gender'].isnull() & profile['income'].isnull())] #& (profile['income'] == np.nan) ]"
   ]
  },
  {
   "cell_type": "markdown",
   "id": "10f2848e-8fac-4a5a-be2b-7081ff0c59a6",
   "metadata": {},
   "source": [
    "we can also see that the age is 118, which shows an inaccuracy on this part of the data. \n",
    "\n",
    "So, now we can safely remove these columns "
   ]
  },
  {
   "cell_type": "code",
   "execution_count": 54,
   "id": "79614d05-6a7d-4b05-a264-c7d168331bf9",
   "metadata": {},
   "outputs": [],
   "source": [
    "profile = profile.dropna(how='any')"
   ]
  },
  {
   "cell_type": "markdown",
   "id": "f163da58-ba3d-41da-b62f-4400f00ea925",
   "metadata": {},
   "source": [
    "Now, all of the null values have been removed. We can confirm this by running this command again."
   ]
  },
  {
   "cell_type": "code",
   "execution_count": 55,
   "id": "656acd62-e2f2-4d26-bc66-a1f8157dae70",
   "metadata": {},
   "outputs": [
    {
     "data": {
      "text/plain": [
       "gender              0\n",
       "age                 0\n",
       "id                  0\n",
       "became_member_on    0\n",
       "income              0\n",
       "dtype: int64"
      ]
     },
     "execution_count": 55,
     "metadata": {},
     "output_type": "execute_result"
    }
   ],
   "source": [
    "profile.isnull().sum()"
   ]
  },
  {
   "cell_type": "markdown",
   "id": "011942ca-1b2e-48db-82c7-b3acf04f1543",
   "metadata": {},
   "source": [
    "### Skill 4: Formating numbers\n",
    "<hr style=\"border:1px solid gray\"> </hr>"
   ]
  },
  {
   "cell_type": "markdown",
   "id": "0568cb05-8edb-4bfc-ac5a-a7d4ebf1937a",
   "metadata": {},
   "source": [
    "Another common tasks you may come across is to have to reformat strings into integers. \n",
    "\n",
    "Oftentimes, data will come in a human readable format. It is much easier to read 1,000,000 with commas than 1000000 without. Pandas makes it easy to handle these problems. \n",
    "\n",
    "Often, you can rely on the compiler to find these formatting problems for you. The error message will show you whatever data point has something that contains something other than an integer.\n",
    "\n",
    "The pandas .str module does this quite well with the method .replace \n",
    "\n",
    "It is very convenient and very fast compared to using a loop"
   ]
  },
  {
   "cell_type": "code",
   "execution_count": null,
   "id": "17459a4a-6555-4be3-b1e4-576e79d98dbb",
   "metadata": {},
   "outputs": [],
   "source": [
    "startups_df.funding_total_usd=startups_df.funding_total_usd.str.replace(\",\",'')\n"
   ]
  },
  {
   "cell_type": "code",
   "execution_count": null,
   "id": "e5f65a8c-79e0-4a55-b309-0d743a8745fb",
   "metadata": {},
   "outputs": [],
   "source": [
    "startups_df.funding_total_usd=startups_df.funding_total_usd.str.replace(' ',\"\")"
   ]
  },
  {
   "cell_type": "code",
   "execution_count": null,
   "id": "ce5acea3-1acd-4b84-88df-e347995066ca",
   "metadata": {},
   "outputs": [],
   "source": [
    "startups_df.funding_total_usd=startups_df.funding_total_usd.replace(\"-\",np.nan)\n",
    "\n"
   ]
  },
  {
   "cell_type": "code",
   "execution_count": null,
   "id": "dec9af04-6f11-43a8-bc36-2849591b40c3",
   "metadata": {},
   "outputs": [],
   "source": [
    "startups_df.funding_total_usd=startups_df.funding_total_usd.astype('float',errors='ignore')"
   ]
  },
  {
   "cell_type": "code",
   "execution_count": null,
   "id": "edf9479a-5bbd-4801-9b30-6e2931948e5c",
   "metadata": {},
   "outputs": [],
   "source": []
  },
  {
   "cell_type": "markdown",
   "id": "164a6693-7432-4b28-849b-0715e28ea172",
   "metadata": {},
   "source": [
    "### Skill 5: Datetime Data\n",
    "<hr style=\"border:1px solid gray\"> </hr>\n",
    "\n",
    "Datetime data can be converted using the pd.to_datetime method\n",
    "\n",
    "This takes a regular expression with the following codes.\n",
    "\n",
    "Below are the most common ones that you will come across. If you have more specific tasks, you can refer to the following website for a cheat sheet.\n",
    "\n",
    "https://strftime.org/"
   ]
  },
  {
   "cell_type": "markdown",
   "id": "121b4a5d-58c8-4130-a073-efe417414322",
   "metadata": {},
   "source": [
    "Pandas Datetime cheatsheet\n",
    "\n",
    "days: Code\tExample\tDescription\n",
    "\n",
    "* %d\t08\tDay of the month as a zero-padded decimal number.\n",
    "* %-d\t8\tDay of the month as a decimal number. (Platform specific)\n",
    "\n",
    "months: Code\tExample\tDescription\n",
    "\n",
    "\n",
    "* %b\tSep\tMonth as locale’s abbreviated name.\n",
    "* %B\tSeptember\tMonth as locale’s full name.\n",
    "* %m\t09\tMonth as a zero-padded decimal number.\n",
    "* %-m\t9\tMonth as a decimal number. (Platform specific)\n",
    "\n",
    "Years: Code\tExample\tDescription\n",
    "\n",
    "\n",
    "* %y\t13\tYear without century as a zero-padded decimal number.\n",
    "* %Y\t2013\tYear with century as a decimal number.\n",
    "\n",
    "\n",
    "if your string has a % in it: Code\tExample\tDescription\n",
    "\n",
    "* %%\t%\tA literal '%' character.\n",
    "\n",
    "<hr style=\"border:1px solid gray\"> </hr>\n"
   ]
  },
  {
   "cell_type": "markdown",
   "id": "e336664d-861b-498d-992f-81eafbc35229",
   "metadata": {},
   "source": [
    "Here, we can input the format codes that were used.\n",
    "\n",
    "in this case, it's pretty simple. with a year, month, and date.\n",
    "\n",
    "Sometimes you may have to include seperators like a / into your expression"
   ]
  },
  {
   "cell_type": "code",
   "execution_count": 135,
   "id": "11cc6530-bd5f-451e-ac64-03c238266263",
   "metadata": {},
   "outputs": [],
   "source": [
    "profile['became_member_on'] = pd.to_datetime(profile['became_member_on'].astype(str), \n",
    "                                             format='%Y%m%d')"
   ]
  },
  {
   "cell_type": "code",
   "execution_count": null,
   "id": "2720ef24-e02c-483e-b40a-de8b1fcbf801",
   "metadata": {},
   "outputs": [],
   "source": []
  },
  {
   "cell_type": "markdown",
   "id": "24ebfcbe-f199-44da-8ad7-03cc19173160",
   "metadata": {},
   "source": [
    "Later on in the course, we will discuss other methods for handling missing data which involve preprocessing and transformation "
   ]
  },
  {
   "cell_type": "markdown",
   "id": "1ecc7ad4-b703-45e5-87a8-f1dfed42fe3c",
   "metadata": {},
   "source": [
    "### Example 3: Obtaining Summary Statistics\n",
    "<hr style=\"border:1px solid gray\"> </hr>"
   ]
  },
  {
   "cell_type": "code",
   "execution_count": null,
   "id": "dd50b257-2724-42cd-8f27-e20523f634bb",
   "metadata": {
    "tags": []
   },
   "outputs": [],
   "source": []
  },
  {
   "cell_type": "markdown",
   "id": "21a71a9e-9978-4fa1-9928-253bfe913ba3",
   "metadata": {},
   "source": [
    "Pandas offers many ways to get summary statistics of your data. \n",
    "\n",
    "Here are some one liners:"
   ]
  },
  {
   "cell_type": "code",
   "execution_count": null,
   "id": "d2994d89-c429-4293-abeb-0dc53b073464",
   "metadata": {},
   "outputs": [],
   "source": [
    "#!pip install sweetviz as sv\n",
    "import sweetviz as sv\n",
    "\n",
    "my_report = sv.analyze(startups_df)\n",
    "\n",
    "my_report.show_html() # Default arguments will generate to \"SWEETVIZ_REPORT.html\"\n",
    "\n",
    "Image(\"../input/sweetviz/sweetviz.JPG\")"
   ]
  },
  {
   "cell_type": "code",
   "execution_count": null,
   "id": "bd68eda2-0ca8-4703-bf6c-7bd035d405ba",
   "metadata": {},
   "outputs": [],
   "source": []
  },
  {
   "cell_type": "code",
   "execution_count": null,
   "id": "719fdff8-4512-4be1-a022-7f5e96412baa",
   "metadata": {},
   "outputs": [],
   "source": []
  },
  {
   "cell_type": "code",
   "execution_count": 123,
   "id": "2508d97b-8aab-4c11-bbbb-1a8b0888b4dd",
   "metadata": {},
   "outputs": [],
   "source": [
    "import matplotlib.pyplot as plt\n",
    "import seaborn as sns\n",
    "import plotly as py\n",
    "import plotly.express as px\n",
    "import plotly.graph_objs as go\n",
    "from plotly.subplots import make_subplots\n",
    "from plotly.offline import init_notebook_mode, iplot, plot\n",
    "\n",
    "import warnings \n",
    "warnings.filterwarnings('ignore')\n",
    "%matplotlib inline"
   ]
  },
  {
   "cell_type": "code",
   "execution_count": null,
   "id": "e4b11f54-5eb4-4dfe-bb3f-7b1a0f4514dd",
   "metadata": {},
   "outputs": [],
   "source": []
  },
  {
   "cell_type": "markdown",
   "id": "a240da8c-d66e-4d7a-8edb-c7855fd423f9",
   "metadata": {},
   "source": [
    "For continious variables we can use the concept of standard deviation to make  sense of the data.\n",
    "\n",
    "The following boxplot is useful for this . \n"
   ]
  },
  {
   "cell_type": "markdown",
   "id": "63b82ad1-60bf-4731-b6fa-38c7c2c02e09",
   "metadata": {},
   "source": [
    "#### Box Plots\n",
    "\n"
   ]
  },
  {
   "cell_type": "code",
   "execution_count": 130,
   "id": "00f4c46e-f400-4f3a-9fa3-0bafe64a3ccc",
   "metadata": {},
   "outputs": [
    {
     "data": {
      "text/plain": [
       "<AxesSubplot:xlabel='age'>"
      ]
     },
     "execution_count": 130,
     "metadata": {},
     "output_type": "execute_result"
    },
    {
     "data": {
      "image/png": "[encoded data removed]",
      "text/plain": [
       "<Figure size 432x288 with 1 Axes>"
      ]
     },
     "metadata": {
      "needs_background": "light"
     },
     "output_type": "display_data"
    }
   ],
   "source": [
    "sns.boxplot(data=profile, x='age',color='purple')\n"
   ]
  },
  {
   "cell_type": "code",
   "execution_count": 131,
   "id": "d29f87d3-ed1b-4179-ac8f-f9831737ef37",
   "metadata": {},
   "outputs": [
    {
     "data": {
      "text/plain": [
       "<AxesSubplot:xlabel='income'>"
      ]
     },
     "execution_count": 131,
     "metadata": {},
     "output_type": "execute_result"
    },
    {
     "data": {
      "image/png": "[encoded data removed]",
      "text/plain": [
       "<Figure size 432x288 with 1 Axes>"
      ]
     },
     "metadata": {
      "needs_background": "light"
     },
     "output_type": "display_data"
    }
   ],
   "source": []
  },
  {
   "cell_type": "markdown",
   "id": "1218f117-1c26-4188-a410-532c901a879a",
   "metadata": {},
   "source": [
    "#### Histograms"
   ]
  },
  {
   "cell_type": "markdown",
   "id": "68aada42-75b7-4ac6-87b4-29fa7907dec0",
   "metadata": {},
   "source": [
    "plt.hist()"
   ]
  },
  {
   "cell_type": "code",
   "execution_count": 161,
   "id": "a7e7670e-50ad-409f-8936-524710aaa2cb",
   "metadata": {},
   "outputs": [
    {
     "data": {
      "text/plain": [
       "<AxesSubplot:xlabel='age', ylabel='Count'>"
      ]
     },
     "execution_count": 161,
     "metadata": {},
     "output_type": "execute_result"
    },
    {
     "data": {
      "image/png": "[encoded data removed]",
      "text/plain": [
       "<Figure size 432x288 with 1 Axes>"
      ]
     },
     "metadata": {
      "needs_background": "light"
     },
     "output_type": "display_data"
    }
   ],
   "source": [
    "sns.histplot(profile['age'],color = 'cyan')"
   ]
  },
  {
   "cell_type": "markdown",
   "id": "bf4659ee-bc82-4c86-868e-91fa768fc837",
   "metadata": {},
   "source": [
    "The goal of these plots is to visual parts of the data in order to identify what some important features will be in order to proceed to the next step of preprocessing the data"
   ]
  },
  {
   "cell_type": "markdown",
   "id": "cf54501c-8cdb-4ddf-827a-7b3385984a94",
   "metadata": {},
   "source": [
    "## AutoML"
   ]
  },
  {
   "cell_type": "code",
   "execution_count": 102,
   "id": "ec736acd-a18a-4ef1-99ce-bfd659f0ad80",
   "metadata": {},
   "outputs": [],
   "source": [
    "from pycaret.classification import *"
   ]
  },
  {
   "cell_type": "code",
   "execution_count": 103,
   "id": "1253d751-2eb4-43a0-9b8c-6b47a50aeea8",
   "metadata": {},
   "outputs": [
    {
     "data": {
      "text/plain": [
       "Index(['name', 'category_list', 'market', 'funding_total_usd', 'status',\n",
       "       'country_code', 'state_code', 'region', 'city', 'funding_rounds',\n",
       "       'founded_at', 'founded_month', 'founded_quarter', 'founded_year',\n",
       "       'first_funding_at', 'last_funding_at', 'seed', 'venture',\n",
       "       'equity_crowdfunding', 'undisclosed', 'convertible_note',\n",
       "       'debt_financing', 'angel', 'grant', 'private_equity', 'post_ipo_equity',\n",
       "       'post_ipo_debt', 'secondary_market', 'product_crowdfunding', 'round_A',\n",
       "       'round_B', 'round_C', 'round_D', 'round_E', 'round_F', 'round_G',\n",
       "       'round_H'],\n",
       "      dtype='object')"
      ]
     },
     "execution_count": 103,
     "metadata": {},
     "output_type": "execute_result"
    }
   ],
   "source": [
    "startups_df.columns"
   ]
  },
  {
   "cell_type": "markdown",
   "id": "3b8d0297-c822-4b8e-9686-149ad53ad0f3",
   "metadata": {},
   "source": [
    "The target variable here is going to vary depending on what you would like to do. \n",
    "\n",
    "In this case, let's try to see if we can find anything that can predict if a startup will recieve round_C funding"
   ]
  },
  {
   "cell_type": "code",
   "execution_count": 122,
   "id": "97e3d26d-1ff5-4b3e-bfae-cd667d4048e0",
   "metadata": {},
   "outputs": [],
   "source": [
    "startups_df['target'] = startups_df['round_C'] > 0\n",
    "\n",
    "startups_df.drop(['founded_quarter'],axis=1 ,inplace=True)"
   ]
  },
  {
   "cell_type": "code",
   "execution_count": 123,
   "id": "034d1216-1da1-4955-b303-9e2c30ab6269",
   "metadata": {},
   "outputs": [
    {
     "name": "stdout",
     "output_type": "stream",
     "text": [
      "Data for Modeling: (44493, 36)\n",
      "Unseen Data For Predictions: (4944, 36)\n"
     ]
    }
   ],
   "source": [
    "data = startups_df.sample(frac=0.90, random_state=42)\n",
    "data_unseen = startups_df.drop(data.index)\n",
    "data.reset_index(inplace=True, drop=True)\n",
    "data_unseen.reset_index(inplace=True, drop=True)\n",
    "print('Data for Modeling: ' + str(data.shape))\n",
    "print('Unseen Data For Predictions: ' + str(data_unseen.shape))"
   ]
  },
  {
   "cell_type": "code",
   "execution_count": 124,
   "id": "33d5e39e-58cb-4b8d-8505-0cc3943122f7",
   "metadata": {},
   "outputs": [],
   "source": [
    "from pycaret.classification import *"
   ]
  },
  {
   "cell_type": "code",
   "execution_count": null,
   "id": "c97fcdc2-2789-4c4c-834b-299ad877df85",
   "metadata": {},
   "outputs": [
    {
     "data": {
      "application/vnd.jupyter.widget-view+json": {
       "model_id": "7cd0b93776974027b791b1dcb4ef7eb0",
       "version_major": 2,
       "version_minor": 0
      },
      "text/plain": [
       "IntProgress(value=0, description='Processing: ', max=3)"
      ]
     },
     "metadata": {},
     "output_type": "display_data"
    },
    {
     "data": {
      "text/html": [
       "<div>\n",
       "<style scoped>\n",
       "    .dataframe tbody tr th:only-of-type {\n",
       "        vertical-align: middle;\n",
       "    }\n",
       "\n",
       "    .dataframe tbody tr th {\n",
       "        vertical-align: top;\n",
       "    }\n",
       "\n",
       "    .dataframe thead th {\n",
       "        text-align: right;\n",
       "    }\n",
       "</style>\n",
       "<table border=\"1\" class=\"dataframe\">\n",
       "  <thead>\n",
       "    <tr style=\"text-align: right;\">\n",
       "      <th></th>\n",
       "      <th></th>\n",
       "      <th></th>\n",
       "    </tr>\n",
       "    <tr>\n",
       "      <th></th>\n",
       "      <th></th>\n",
       "      <th></th>\n",
       "    </tr>\n",
       "  </thead>\n",
       "  <tbody>\n",
       "    <tr>\n",
       "      <th>Initiated</th>\n",
       "      <td>. . . . . . . . . . . . . . . . . .</td>\n",
       "      <td>18:59:52</td>\n",
       "    </tr>\n",
       "    <tr>\n",
       "      <th>Status</th>\n",
       "      <td>. . . . . . . . . . . . . . . . . .</td>\n",
       "      <td>Preprocessing Data</td>\n",
       "    </tr>\n",
       "  </tbody>\n",
       "</table>\n",
       "</div>"
      ],
      "text/plain": [
       "                                                                  \n",
       "                                                                  \n",
       "Initiated  . . . . . . . . . . . . . . . . . .            18:59:52\n",
       "Status     . . . . . . . . . . . . . . . . . .  Preprocessing Data"
      ]
     },
     "metadata": {},
     "output_type": "display_data"
    },
    {
     "data": {
      "application/vnd.jupyter.widget-view+json": {
       "model_id": "15812216ca47476ebc6ed182cd8e952e",
       "version_major": 2,
       "version_minor": 0
      },
      "text/plain": [
       "Text(value=\"Following data types have been inferred automatically, if they are correct press enter to continue…"
      ]
     },
     "metadata": {},
     "output_type": "display_data"
    },
    {
     "data": {
      "text/html": [
       "<div>\n",
       "<style scoped>\n",
       "    .dataframe tbody tr th:only-of-type {\n",
       "        vertical-align: middle;\n",
       "    }\n",
       "\n",
       "    .dataframe tbody tr th {\n",
       "        vertical-align: top;\n",
       "    }\n",
       "\n",
       "    .dataframe thead th {\n",
       "        text-align: right;\n",
       "    }\n",
       "</style>\n",
       "<table border=\"1\" class=\"dataframe\">\n",
       "  <thead>\n",
       "    <tr style=\"text-align: right;\">\n",
       "      <th></th>\n",
       "      <th>Data Type</th>\n",
       "    </tr>\n",
       "  </thead>\n",
       "  <tbody>\n",
       "    <tr>\n",
       "      <th>name</th>\n",
       "      <td>Categorical</td>\n",
       "    </tr>\n",
       "    <tr>\n",
       "      <th>category_list</th>\n",
       "      <td>Categorical</td>\n",
       "    </tr>\n",
       "    <tr>\n",
       "      <th>market</th>\n",
       "      <td>Categorical</td>\n",
       "    </tr>\n",
       "    <tr>\n",
       "      <th>funding_total_usd</th>\n",
       "      <td>Numeric</td>\n",
       "    </tr>\n",
       "    <tr>\n",
       "      <th>status</th>\n",
       "      <td>Categorical</td>\n",
       "    </tr>\n",
       "    <tr>\n",
       "      <th>country_code</th>\n",
       "      <td>Categorical</td>\n",
       "    </tr>\n",
       "    <tr>\n",
       "      <th>state_code</th>\n",
       "      <td>Categorical</td>\n",
       "    </tr>\n",
       "    <tr>\n",
       "      <th>region</th>\n",
       "      <td>Categorical</td>\n",
       "    </tr>\n",
       "    <tr>\n",
       "      <th>city</th>\n",
       "      <td>Categorical</td>\n",
       "    </tr>\n",
       "    <tr>\n",
       "      <th>funding_rounds</th>\n",
       "      <td>Numeric</td>\n",
       "    </tr>\n",
       "    <tr>\n",
       "      <th>founded_at</th>\n",
       "      <td>Categorical</td>\n",
       "    </tr>\n",
       "    <tr>\n",
       "      <th>founded_year</th>\n",
       "      <td>Numeric</td>\n",
       "    </tr>\n",
       "    <tr>\n",
       "      <th>first_funding_at</th>\n",
       "      <td>Categorical</td>\n",
       "    </tr>\n",
       "    <tr>\n",
       "      <th>last_funding_at</th>\n",
       "      <td>Categorical</td>\n",
       "    </tr>\n",
       "    <tr>\n",
       "      <th>seed</th>\n",
       "      <td>Numeric</td>\n",
       "    </tr>\n",
       "    <tr>\n",
       "      <th>venture</th>\n",
       "      <td>Numeric</td>\n",
       "    </tr>\n",
       "    <tr>\n",
       "      <th>equity_crowdfunding</th>\n",
       "      <td>Numeric</td>\n",
       "    </tr>\n",
       "    <tr>\n",
       "      <th>undisclosed</th>\n",
       "      <td>Numeric</td>\n",
       "    </tr>\n",
       "    <tr>\n",
       "      <th>convertible_note</th>\n",
       "      <td>Numeric</td>\n",
       "    </tr>\n",
       "    <tr>\n",
       "      <th>debt_financing</th>\n",
       "      <td>Numeric</td>\n",
       "    </tr>\n",
       "    <tr>\n",
       "      <th>angel</th>\n",
       "      <td>Numeric</td>\n",
       "    </tr>\n",
       "    <tr>\n",
       "      <th>grant</th>\n",
       "      <td>Numeric</td>\n",
       "    </tr>\n",
       "    <tr>\n",
       "      <th>private_equity</th>\n",
       "      <td>Numeric</td>\n",
       "    </tr>\n",
       "    <tr>\n",
       "      <th>post_ipo_equity</th>\n",
       "      <td>Numeric</td>\n",
       "    </tr>\n",
       "    <tr>\n",
       "      <th>post_ipo_debt</th>\n",
       "      <td>Numeric</td>\n",
       "    </tr>\n",
       "    <tr>\n",
       "      <th>secondary_market</th>\n",
       "      <td>Numeric</td>\n",
       "    </tr>\n",
       "    <tr>\n",
       "      <th>product_crowdfunding</th>\n",
       "      <td>Numeric</td>\n",
       "    </tr>\n",
       "    <tr>\n",
       "      <th>round_A</th>\n",
       "      <td>Numeric</td>\n",
       "    </tr>\n",
       "    <tr>\n",
       "      <th>round_B</th>\n",
       "      <td>Numeric</td>\n",
       "    </tr>\n",
       "    <tr>\n",
       "      <th>round_C</th>\n",
       "      <td>Numeric</td>\n",
       "    </tr>\n",
       "    <tr>\n",
       "      <th>round_D</th>\n",
       "      <td>Numeric</td>\n",
       "    </tr>\n",
       "    <tr>\n",
       "      <th>round_E</th>\n",
       "      <td>Numeric</td>\n",
       "    </tr>\n",
       "    <tr>\n",
       "      <th>round_F</th>\n",
       "      <td>Numeric</td>\n",
       "    </tr>\n",
       "    <tr>\n",
       "      <th>round_G</th>\n",
       "      <td>Numeric</td>\n",
       "    </tr>\n",
       "    <tr>\n",
       "      <th>round_H</th>\n",
       "      <td>Numeric</td>\n",
       "    </tr>\n",
       "    <tr>\n",
       "      <th>target</th>\n",
       "      <td>Label</td>\n",
       "    </tr>\n",
       "  </tbody>\n",
       "</table>\n",
       "</div>"
      ],
      "text/plain": [
       "                        Data Type\n",
       "name                  Categorical\n",
       "category_list         Categorical\n",
       "market                Categorical\n",
       "funding_total_usd         Numeric\n",
       "status                Categorical\n",
       "country_code          Categorical\n",
       "state_code            Categorical\n",
       "region                Categorical\n",
       "city                  Categorical\n",
       "funding_rounds            Numeric\n",
       "founded_at            Categorical\n",
       "founded_year              Numeric\n",
       "first_funding_at      Categorical\n",
       "last_funding_at       Categorical\n",
       "seed                      Numeric\n",
       "venture                   Numeric\n",
       "equity_crowdfunding       Numeric\n",
       "undisclosed               Numeric\n",
       "convertible_note          Numeric\n",
       "debt_financing            Numeric\n",
       "angel                     Numeric\n",
       "grant                     Numeric\n",
       "private_equity            Numeric\n",
       "post_ipo_equity           Numeric\n",
       "post_ipo_debt             Numeric\n",
       "secondary_market          Numeric\n",
       "product_crowdfunding      Numeric\n",
       "round_A                   Numeric\n",
       "round_B                   Numeric\n",
       "round_C                   Numeric\n",
       "round_D                   Numeric\n",
       "round_E                   Numeric\n",
       "round_F                   Numeric\n",
       "round_G                   Numeric\n",
       "round_H                   Numeric\n",
       "target                      Label"
      ]
     },
     "metadata": {},
     "output_type": "display_data"
    },
    {
     "name": "stdin",
     "output_type": "stream",
     "text": [
      " \n"
     ]
    }
   ],
   "source": [
    "setup(data, target='target',session_id=123, fix_imbalance=True,feature_selection=True,remove_multicollinearity=True,)"
   ]
  },
  {
   "cell_type": "code",
   "execution_count": null,
   "id": "5ff47251-4be1-48b5-b01f-f3c7e8534a62",
   "metadata": {},
   "outputs": [],
   "source": [
    "best_model = compare_models()"
   ]
  },
  {
   "cell_type": "code",
   "execution_count": null,
   "id": "038002cf-4638-4ba7-bbca-5b91785565cd",
   "metadata": {},
   "outputs": [],
   "source": []
  },
  {
   "cell_type": "markdown",
   "id": "e91b547b-3e5b-4802-bf75-f4da9f5db11f",
   "metadata": {},
   "source": [
    "credit to: ishadss for analysis of this notebook. Feel free to check out his profile for more. \n",
    "\n",
    "https://www.kaggle.com/ishadss/coffee-starbucks-customer-clusters-and-eda"
   ]
  },
  {
   "cell_type": "code",
   "execution_count": null,
   "id": "2c328b6d-0643-45f2-bbae-e1c942f7ac55",
   "metadata": {},
   "outputs": [],
   "source": []
  },
  {
   "cell_type": "markdown",
   "id": "827ddea6-67d9-463e-bb85-04c2acc3ae30",
   "metadata": {},
   "source": [
    "# Appendix"
   ]
  },
  {
   "cell_type": "code",
   "execution_count": null,
   "id": "040b317f-3527-4be7-a041-f8278099169b",
   "metadata": {},
   "outputs": [],
   "source": []
  },
  {
   "cell_type": "code",
   "execution_count": null,
   "id": "2c933a78-9cbc-46c9-9e08-2d52a58ca071",
   "metadata": {},
   "outputs": [],
   "source": []
  },
  {
   "cell_type": "code",
   "execution_count": null,
   "id": "ed19abbf-5aa4-4db6-afee-ffff6e66f18e",
   "metadata": {},
   "outputs": [],
   "source": []
  },
  {
   "cell_type": "markdown",
   "id": "01a917f9-7504-4e39-953d-a5ac621569c8",
   "metadata": {},
   "source": [
    "### Deleting duplicates by column"
   ]
  },
  {
   "cell_type": "code",
   "execution_count": 34,
   "id": "c65e5e7c-ef5e-46fb-ba77-ff705ac85d60",
   "metadata": {},
   "outputs": [],
   "source": [
    "startups_df = pd.read_csv(DATA_DIR/'StartUpInvestments'/'investments_VC.csv',\n",
    "           encoding='unicode-escape')"
   ]
  },
  {
   "cell_type": "markdown",
   "id": "f28585cf-d639-4c1b-b48f-f227a35019aa",
   "metadata": {},
   "source": [
    "If you would like to specify which columns you would like to duplcate on, you can use the subset \n",
    "option.\n",
    "\n",
    "There is a lot more in the pandas documentation\n",
    "\n",
    "https://pandas.pydata.org/docs/reference/api/pandas.DataFrame.drop_duplicates.html"
   ]
  },
  {
   "cell_type": "code",
   "execution_count": 37,
   "id": "7549a5fd-7253-45d7-ab92-e6042efdb6d2",
   "metadata": {},
   "outputs": [],
   "source": [
    "startups_df = startups_df.drop_duplicates(subset=['name','homepage_url'])"
   ]
  },
  {
   "cell_type": "code",
   "execution_count": null,
   "id": "a1c2f9b5-6312-411f-9391-ebea9e4ac784",
   "metadata": {},
   "outputs": [],
   "source": []
  },
  {
   "cell_type": "markdown",
   "id": "8dc7977d-33ab-466e-9d6c-374f9132ae8b",
   "metadata": {},
   "source": [
    "### Data Imputation "
   ]
  },
  {
   "cell_type": "markdown",
   "id": "8493c14e-4bdd-4ef8-916b-f537338f30dc",
   "metadata": {},
   "source": [
    "### Using Python Tools for missing values (Inputation)\n",
    "\n",
    "Python can give us an edge by allowing us to leverage open source libraries that use algorithms to fill the data. These methods can have their advantages in cases where these simple one line of code approaches aren't sophsticated enough "
   ]
  },
  {
   "cell_type": "code",
   "execution_count": null,
   "id": "cede85e5-93f9-475a-8555-d551bc811fcd",
   "metadata": {},
   "outputs": [],
   "source": [
    "#!pip install impyute\n",
    "\n",
    "\n",
    "# Starting fresh again\n",
    "startups_df = pd.read_csv(DATA_DIR/'StartUpInvestments'/'investments_VC.csv',\n",
    "           encoding='unicode-escape')\n",
    "# This removes whitespace in the columns \n",
    "startups_df.columns = [col.strip() for col in list(startups_df.columns)]\n",
    "startups_df = startups_df.drop_duplicates()\n",
    "startups_df.drop(['permalink','homepage_url'],axis=1,inplace=True)\n",
    "startups_df.dropna(how='any', subset=['name'], axis=0, inplace=True)\n",
    "st\n",
    "\n",
    "from impyute.imputation.cs import mice \n",
    "\n"
   ]
  },
  {
   "cell_type": "code",
   "execution_count": 99,
   "id": "87e9b114-10c8-415a-b959-67a1f187a43b",
   "metadata": {},
   "outputs": [],
   "source": []
  },
  {
   "cell_type": "code",
   "execution_count": null,
   "id": "235cb788-88c1-4951-87f7-9fa890dbcdc2",
   "metadata": {},
   "outputs": [],
   "source": []
  },
  {
   "cell_type": "code",
   "execution_count": null,
   "id": "f06cb28d-5292-413f-9de3-b2298d03a7f6",
   "metadata": {},
   "outputs": [],
   "source": []
  },
  {
   "cell_type": "code",
   "execution_count": null,
   "id": "86c5e94a-453c-434d-8888-6988e4a81b4c",
   "metadata": {},
   "outputs": [],
   "source": []
  },
  {
   "cell_type": "code",
   "execution_count": null,
   "id": "a967d67d-5c35-4b0c-91c1-e2c11c71efb0",
   "metadata": {},
   "outputs": [],
   "source": []
  }
 ],
 "metadata": {
  "kernelspec": {
   "display_name": "unpackAIdev",
   "language": "python",
   "name": "unpackaidev"
  },
  "language_info": {
   "codemirror_mode": {
    "name": "ipython",
    "version": 3
   },
   "file_extension": ".py",
   "mimetype": "text/x-python",
   "name": "python",
   "nbconvert_exporter": "python",
   "pygments_lexer": "ipython3",
   "version": "3.8.12"
  }
 },
 "nbformat": 4,
 "nbformat_minor": 5
}
