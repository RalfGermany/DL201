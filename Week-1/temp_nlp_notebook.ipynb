{
 "cells": [
  {
   "cell_type": "markdown",
   "id": "5b06da8e",
   "metadata": {},
   "source": [
    "## 💻 NLP Notebook\n",
    "\n",
    "### A New chapter on your Machine Learning journey\n",
    "\n",
    "Welcome to the DL201 Bootcamp! this is a new bootcamp designed with collaboration and inclusion in mind, here we provide guidance as we learn as a community essential skills on data manipulation, important machine learning and AI concepts as well as the usage of existing software tools and pre-trained models. \n",
    "\n",
    "Train how to maintain a car rather than just drive one\n",
    "\n",
    "Be able to build a proof of concept in a short time span\n",
    "\n",
    "Learn through using projects within a person's means to expand knowledge and capabilities\n",
    "\n",
    "Understand concepts through group discussions "
   ]
  },
  {
   "cell_type": "code",
   "execution_count": null,
   "id": "fa70dcc1",
   "metadata": {},
   "outputs": [],
   "source": [
    "# Install packages (comment if not required)\n",
    "!pip install -Uqq  ipywidgets fastai fastbook\n",
    "\n",
    "# Import dependencies for all sample AI applications (again, to test the environment)\n",
    "import os\n",
    "import numpy\n",
    "import pandas\n",
    "import torch\n",
    "from fastai.vision.all import *\n",
    "from fastai.text.all import *\n",
    "from fastai.collab import *\n",
    "from fastai.tabular.all import *\n",
    "import ipywidgets as widgets\n",
    "from IPython.display import Image\n",
    "import fastbook\n",
    "import urllib.request\n",
    "\n",
    "fastbook.setup_book()"
   ]
  },
  {
   "cell_type": "markdown",
   "id": "7851ebb6",
   "metadata": {},
   "source": [
    "# Lecture Section"
   ]
  },
  {
   "cell_type": "markdown",
   "id": "f124fd3c",
   "metadata": {},
   "source": [
    "# Discussion Questions"
   ]
  },
  {
   "cell_type": "markdown",
   "id": "e4714a55",
   "metadata": {},
   "source": [
    "\n",
    "\n",
    "1."
   ]
  },
  {
   "cell_type": "markdown",
   "id": "1303038c",
   "metadata": {},
   "source": [
    "\n",
    "2."
   ]
  },
  {
   "cell_type": "markdown",
   "id": "f311a8f6",
   "metadata": {},
   "source": [
    "\n",
    "3.\n",
    "\n"
   ]
  },
  {
   "cell_type": "markdown",
   "id": "81f8a386",
   "metadata": {},
   "source": [
    "# Discussion Exercises\n",
    "<hr style=\"border:2px solid gray\"> </hr>"
   ]
  },
  {
   "cell_type": "markdown",
   "id": "0f028f64",
   "metadata": {},
   "source": [
    "Explaination"
   ]
  },
  {
   "cell_type": "code",
   "execution_count": null,
   "id": "67cb0299",
   "metadata": {},
   "outputs": [],
   "source": [
    "#code here "
   ]
  },
  {
   "cell_type": "code",
   "execution_count": null,
   "id": "dc3ff78e",
   "metadata": {},
   "outputs": [],
   "source": [
    "#"
   ]
  },
  {
   "cell_type": "code",
   "execution_count": null,
   "id": "bfca06f6",
   "metadata": {},
   "outputs": [],
   "source": [
    "#"
   ]
  },
  {
   "cell_type": "markdown",
   "id": "81341d71",
   "metadata": {},
   "source": [
    "# Practice Exercises\n",
    "<hr style=\"border:2px solid gray\"> </hr>"
   ]
  },
  {
   "cell_type": "markdown",
   "id": "f4c4863e",
   "metadata": {},
   "source": [
    "blah blah blah"
   ]
  },
  {
   "cell_type": "code",
   "execution_count": null,
   "id": "4ea68022",
   "metadata": {},
   "outputs": [],
   "source": [
    "# code here"
   ]
  }
 ],
 "metadata": {
  "kernelspec": {
   "display_name": "unpackAIdev",
   "language": "python",
   "name": "unpackaidev"
  },
  "language_info": {
   "codemirror_mode": {
    "name": "ipython",
    "version": 3
   },
   "file_extension": ".py",
   "mimetype": "text/x-python",
   "name": "python",
   "nbconvert_exporter": "python",
   "pygments_lexer": "ipython3",
   "version": "3.8.12"
  }
 },
 "nbformat": 4,
 "nbformat_minor": 5
}
