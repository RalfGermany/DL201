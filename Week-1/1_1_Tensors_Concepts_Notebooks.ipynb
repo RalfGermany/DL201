{
 "cells": [
  {
   "cell_type": "markdown",
   "id": "5b06da8e",
   "metadata": {},
   "source": [
    "## 💻 UnpackAI DL201 Bootcamp - Week 1 - Concepts: Tensors\n",
    "\n",
    "### 📕 Learning Objectives\n",
    "\n",
    "* Conceptualize the concept of Tensors in the context of machine learning and their benefits.\n",
    "* Identifiy the differences of important data structures such as Python lists, Numpy arrays and Pandas DataFrames.\n",
    "\n",
    "### 📖 Concepts map\n",
    "* Common Python data structures (collections)\n",
    "* Python lists and their essential functionality\n",
    "* Numpy arrays and their essential functionality\n",
    "* Pandas DataFrames and their essential functionality\n",
    "* Pytorch Tensors and their essential functionality"
   ]
  },
  {
   "cell_type": "markdown",
   "id": "c11769b2",
   "metadata": {},
   "source": [
    "Data is the lifeblood of AI. No matter how complex and sophisticated a model is, it will not be any good without quality data.\n",
    "\n",
    "As a result, it is very important to know how about the forms data takes on a computer. This is the first step in being able to understand more about AI. \n",
    "\n",
    "If we can understand how data is stored, and have an approciation for the importance of good quality data, we can start to use AI models for our own purposes.\n"
   ]
  },
  {
   "cell_type": "markdown",
   "id": "f5bc3782",
   "metadata": {},
   "source": [
    "## Keystone ideas \n",
    "\n",
    "* Numerical vs Text Data\n",
    "\n",
    "* Qualitative vs Quantitative\n",
    "\n",
    "* Structured vs Unstructured Data\n",
    "\n",
    "* Computing Speed vs. Development Convenience\n",
    "\n",
    "\n",
    "* Rank and Dimensions\n",
    "\n",
    "* 0D Data Points\n",
    "\n",
    "* 1D Lists and Vectors\n",
    "\n",
    "* 2D Tables and Matricies \n",
    "\n",
    "* 3D RGB images and Tensors\n",
    "\n"
   ]
  },
  {
   "cell_type": "markdown",
   "id": "61956710",
   "metadata": {},
   "source": [
    "# Foundation: 0D Data Points\n"
   ]
  },
  {
   "cell_type": "markdown",
   "id": "bf80eb22",
   "metadata": {},
   "source": [
    "## Text vs Numbers\n",
    "\n",
    "### Text \n",
    "\n",
    "Text represent human language and ideas. It is very freely structured in order to capture so many different qualtitative ideas. \n",
    "\n",
    "* Text is qualitative\n",
    "* Text is unstructured\n",
    "* Text represents ideas\n",
    "\n",
    "Text has meaning to people, but is quite different than numbers. Text can do a great job of representing ideas that people can understand, but the problem that we seek to overcome is that computers don't traditionally handle text data that well. "
   ]
  },
  {
   "cell_type": "code",
   "execution_count": 1,
   "id": "0f641835",
   "metadata": {},
   "outputs": [],
   "source": [
    "string = 'Computer'"
   ]
  },
  {
   "cell_type": "markdown",
   "id": "988462b2",
   "metadata": {},
   "source": []
  },
  {
   "cell_type": "markdown",
   "id": "05ea8136",
   "metadata": {},
   "source": [
    "### Numbers\n",
    "\n",
    "Numbers serve a different purpose than text. They hold quantitative meaning. Numbers have relationships to eachother that text doesn't. You can add or subtract numbers together, which means that numbers, of the same unit. \n",
    "\n",
    "As a result, numbers have these properties which allow us to do quite a lot with them.\n",
    "\n",
    "Computers are very happy to take care of the small details. It frees us to focus on inplimenting the algoriths, but using them creatively. With Python, there are many algorithms that are at our fingertips. With a single line of code, we can do things that are impossible to do by hand. This brings us to the second point. \n",
    "\n",
    "* If our data is a number, we can input our data into models and formulas."
   ]
  },
  {
   "cell_type": "markdown",
   "id": "ee8dab06",
   "metadata": {},
   "source": [
    "Models and formulas are all around us. Models can be used for something as simple as a control system for an air conditioner, to creating predicitions and sales forcasts, to predicting the weather with complex simulations. If we have a model, it gives us the ability to take data and turn it into information. If we have information, we can explain a trend in a way that is useful to people compared to a massive block of unsorted data.\n",
    "\n",
    "* If we can create models, we can explain reality and even make predictions\n",
    "\n",
    "If we can explain trends in our data, and make predicitons it becomes a powerful and in demand tool. It empowers us to avoid mistakes and make better decisions."
   ]
  },
  {
   "cell_type": "markdown",
   "id": "3f08735c",
   "metadata": {},
   "source": [
    "### Types of Numbers\n",
    "\n",
    "With math and computers, although they get along mostly, they do have a fundamental disagreement. \n",
    "\n",
    "* Math is continious and infinite\n",
    "* Computers are finite and discrete\n",
    "\n",
    "Calculus relies on an assumption that the lines that it models are continious, meaning that the line doesn't have any breaks inside of it.\n",
    "\n",
    "For example, if we have a line y = 2x, then x can take any number, such as 0.9999999999999999999999999999999999999\n",
    "\n",
    "This is fundamental to the theory of calculus, because it is an asumption that allows us to know what the slope of a line is. \n",
    "\n",
    "However, this is not easy to impliment on computers because computer are discrete at their core. A transistor can only be 1 or 0, with no in between state. If we want to represent 0.999999999999999999999999, it would take a lot more memory to do so than the number 1. \n",
    "\n",
    "Instead, a compromise is made, with two kinds of numbers.\n",
    "\n",
    "Numbers with decimal places, and numbers without decimal places. "
   ]
  },
  {
   "cell_type": "code",
   "execution_count": 4,
   "id": "e034bcb6",
   "metadata": {},
   "outputs": [],
   "source": [
    "integer = 127\n",
    "floatingPoint = 127.0"
   ]
  },
  {
   "cell_type": "markdown",
   "id": "734d18e7-22c5-451d-ae29-11642041c192",
   "metadata": {},
   "source": [
    "In Python, this difference is not very important. In low level programming languages like C or Fortran, the program needs to know several important details. this is because python is smart enough to guess what you want to do with the numbers. However, this takes time and resources for python to guess what you mean. In cases such as web development, high level languages are often prefered because it saves a lot of time spent coding out the little details.\n",
    "\n",
    "Scientific computing languages can run many times faster than normal python code. This is because you tell it exactly what to do. Decades of research have gone into creating algorithms that can process data in the most efficient way. This was very important in the mid 20th century because computers were not that powerful yet and every bit of performance was needed.\n",
    "\n",
    "\n",
    "However, in Python we have  the option to make a compromise between the conveinence of high level languages and the speed of low level languages. This is available to us through the scientific computing libraries. Python serves as a user friendly, and more efficient wrapper that allows us to utilize decades of highly efficient legacy code while having the general purpose tools of python available to us. \n"
   ]
  },
  {
   "cell_type": "markdown",
   "id": "d5a9677e",
   "metadata": {},
   "source": [
    "### The difference between numbers and text"
   ]
  },
  {
   "cell_type": "code",
   "execution_count": 5,
   "id": "0322c4b5-1676-4dd6-8813-39c331907d1e",
   "metadata": {},
   "outputs": [],
   "source": [
    "string = 'string'"
   ]
  },
  {
   "cell_type": "markdown",
   "id": "c3ce6717-97b5-4180-97c9-a72bdd73a213",
   "metadata": {},
   "source": [
    "Something very key about this is in the strictest sense, you cannot do math on a number\n",
    "\n",
    "Uncomment the following and try it below.\n",
    "\n",
    "Note that if you want to run your whole notebook again, these errors will stop the whole thing from running. So remember to comment them again when you are done."
   ]
  },
  {
   "cell_type": "code",
   "execution_count": 6,
   "id": "a174c859-8c80-4db9-9c26-907476aceb90",
   "metadata": {},
   "outputs": [],
   "source": [
    "#'a' * 'a'"
   ]
  },
  {
   "cell_type": "markdown",
   "id": "a36dd9fe",
   "metadata": {},
   "source": [
    "Here, we can see that we can't multiply a by a.\n",
    "\n",
    "This is obvious, but it presents a problem because there is no ready way to get a computer to pass text into an AI model. "
   ]
  },
  {
   "cell_type": "code",
   "execution_count": null,
   "id": "addd17d3-ae46-411b-82cc-41dc0b76a648",
   "metadata": {},
   "outputs": [],
   "source": [
    "#string + 2"
   ]
  },
  {
   "cell_type": "markdown",
   "id": "d29aaf99-8ae7-4450-8819-1cb1ad18d157",
   "metadata": {},
   "source": [
    "What does this error message mean?\n",
    "\n",
    "However, in the real world, we might actually want to multiply strings. Python is designed to be very flexible and is good at guessing what you want to do.\n",
    "\n",
    "Let's try the next example: Run the code and guess what will happen."
   ]
  },
  {
   "cell_type": "code",
   "execution_count": null,
   "id": "2158f080-b3b9-4bd2-94be-a3d8529d1f8e",
   "metadata": {},
   "outputs": [
    {
     "data": {
      "text/plain": [
       "'stringstring'"
      ]
     },
     "metadata": {},
     "output_type": "display_data"
    }
   ],
   "source": [
    "string * 2 "
   ]
  },
  {
   "cell_type": "code",
   "execution_count": null,
   "id": "6eca5e65-4e00-4208-9aa4-ce025d4bdd57",
   "metadata": {},
   "outputs": [
    {
     "data": {
      "text/plain": [
       "'aa'"
      ]
     },
     "metadata": {},
     "output_type": "display_data"
    }
   ],
   "source": [
    "'a' + 'a'"
   ]
  },
  {
   "cell_type": "markdown",
   "id": "73a0db2c-31af-4402-954b-33e3f3c61a7e",
   "metadata": {},
   "source": [
    "When handling real world data, this inference can be very useful. \n",
    "Python's strength is being able to handle text data.\n",
    "\n",
    "If we want to combine them we can convert them. What do you expect to happen in the next cell?"
   ]
  },
  {
   "cell_type": "code",
   "execution_count": null,
   "id": "2ee801fd-f6fb-46ef-bb8b-af3ee8e5ed68",
   "metadata": {},
   "outputs": [],
   "source": [
    "string + str(2)"
   ]
  },
  {
   "cell_type": "markdown",
   "id": "139462db-d68f-4a32-9aa8-56857b44ec74",
   "metadata": {},
   "source": [
    "We can use python to handle these kinds of data, but if we want to get maximum performance, we need to specify the type of data because it slows python down to have to check it."
   ]
  },
  {
   "cell_type": "markdown",
   "id": "139462db-d68f-4a32-9aa8-56857b44ec74",
   "metadata": {},
   "source": [
    "We can use python to handle these kinds of data, but if we want to get maximum performance, we need to specify the type of data because it slows python down to have to check it."
   ]
  },
  {
   "cell_type": "code",
   "execution_count": null,
   "id": "41d9f1ef",
   "metadata": {},
   "outputs": [],
   "source": []
  }
 ],
 "metadata": {
  "interpreter": {
   "hash": "b35736f271ae3a6547f08ef3ad12296102f5e6031b2a7c6493a7e5cc9f313275"
  },
  "kernelspec": {
   "display_name": "unpackAIdev",
   "language": "python",
   "name": "python3"
  },
  "language_info": {
   "codemirror_mode": {
    "name": "ipython",
    "version": 3
   },
   "file_extension": ".py",
   "mimetype": "text/x-python",
   "name": "python",
   "nbconvert_exporter": "python",
   "pygments_lexer": "ipython3",
   "version": "3.8.12"
  }
 },
 "nbformat": 4,
 "nbformat_minor": 5
}
