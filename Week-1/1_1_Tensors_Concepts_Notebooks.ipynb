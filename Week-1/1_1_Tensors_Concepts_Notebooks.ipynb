{
 "cells": [
  {
   "cell_type": "markdown",
   "id": "5b06da8e",
   "metadata": {},
   "source": [
    "## 💻 UnpackAI DL201 Bootcamp - Week 1 - Concepts: Tensors\n",
    "\n",
    "### 📕 Learning Objectives\n",
    "\n",
    "* Conceptualize the concept of Tensors in the context of machine learning and their benefits.\n",
    "* Identifiy the differences of important data structures such as Python lists, Numpy arrays and Pandas DataFrames.\n",
    "\n",
    "### 📖 Concepts map\n",
    "* Common Python data structures (collections)\n",
    "* Python lists and their essential functionality\n",
    "* Numpy arrays and their essential functionality\n",
    "* Pandas DataFrames and their essential functionality\n",
    "* Pytorch Tensors and their essential functionality"
   ]
  }
 ],
 "metadata": {
  "kernelspec": {
   "display_name": "unpackAIdev",
   "language": "python",
   "name": "unpackaidev"
  },
  "language_info": {
   "codemirror_mode": {
    "name": "ipython",
    "version": 3
   },
   "file_extension": ".py",
   "mimetype": "text/x-python",
   "name": "python",
   "nbconvert_exporter": "python",
   "pygments_lexer": "ipython3",
   "version": "3.8.12"
  }
 },
 "nbformat": 4,
 "nbformat_minor": 5
}
