{
 "cells": [
  {
   "cell_type": "markdown",
   "id": "b990127e",
   "metadata": {},
   "source": [
    "## 💻 UnpackAI DL201 Bootcamp - Week 1 - Skills: NLP\n",
    "\n",
    "### 📕 Learning Objectives\n",
    "\n",
    "* Conceptualize the concept of Tensors in the context of machine learning and their benefits.\n",
    "* Identifiy the differences of important data structures such as Python lists, Numpy arrays and Pandas DataFrames.\n",
    "\n",
    "### 📖 Concepts map\n",
    "* Common Python data structures (collections)\n",
    "* Python lists and their essential functionality\n",
    "* Numpy arrays and their essential functionality\n",
    "* Pandas DataFrames and their essential functionality\n",
    "* Pytorch Tensors and their essential functionality"
   ]
  },
  {
   "cell_type": "code",
   "execution_count": 15,
   "id": "3585e053-aae5-48c9-83fa-8f2780649a83",
   "metadata": {},
   "outputs": [],
   "source": [
    "#\n",
    "from pathlib import Path\n",
    "\n",
    "CONTENT_DIR = Path.home() / 'Datasets' / 'unpackAI' / 'DL201-4.0' # Change this for use in colab\n",
    "DATA_DIR = Path.cwd() /'..'/'data'"
   ]
  },
  {
   "cell_type": "markdown",
   "id": "bc78ea2a-71ec-4e39-aacc-890e18d93316",
   "metadata": {},
   "source": [
    "# Section 3: NLP Data \n",
    "<hr style=\"border:4px solid gray\"> </hr>"
   ]
  },
  {
   "cell_type": "markdown",
   "id": "42f71ce9-12af-4f4e-969d-23ed143fbba5",
   "metadata": {},
   "source": [
    "\n",
    "\n",
    "\"Structuring a highly unstructured data source\n",
    "Human language is astoundingly complex and diverse. We express ourselves in infinite ways, both verbally and in writing. Not only are there hundreds of languages and dialects, but within each language is a unique set of grammar and syntax rules, terms and slang. When we write, we often misspell or abbreviate words, or omit punctuation. When we speak, we have regional accents, and we mumble, stutter and borrow terms from other languages. \n",
    "\n",
    "While supervised and unsupervised learning, and specifically deep learning, are now widely used for modeling human language, there’s also a need for syntactic and semantic understanding and domain expertise that are not necessarily present in these machine learning approaches. NLP is important because it helps resolve ambiguity in language and adds useful numeric structure to the data for many downstream applications, such as speech recognition or text analytics.\"\n",
    "\n",
    "Source: https://www.sas.com/en_nz/insights/analytics/what-is-natural-language-processing-nlp.html\n",
    "\n"
   ]
  },
  {
   "cell_type": "code",
   "execution_count": null,
   "id": "5c5d5de1-38ec-4c16-ab1f-6ee56f606b1d",
   "metadata": {},
   "outputs": [],
   "source": []
  },
  {
   "cell_type": "markdown",
   "id": "27a38125-1381-4503-86f2-634317511624",
   "metadata": {},
   "source": [
    "## Step 1: Choosing an NLP Dataset\n",
    "<hr style=\"border:2px solid gray\"> </hr>"
   ]
  },
  {
   "cell_type": "code",
   "execution_count": null,
   "id": "b13ca339-654f-4035-a499-2b50fb9d4f92",
   "metadata": {},
   "outputs": [],
   "source": []
  },
  {
   "cell_type": "markdown",
   "id": "e781fbb9-639e-44a3-be77-7de8ce38b6f3",
   "metadata": {},
   "source": [
    "\n",
    "\n",
    "\"Structuring a highly unstructured data source\n",
    "Human language is astoundingly complex and diverse. We express ourselves in infinite ways, both verbally and in writing. Not only are there hundreds of languages and dialects, but within each language is a unique set of grammar and syntax rules, terms and slang. When we write, we often misspell or abbreviate words, or omit punctuation. When we speak, we have regional accents, and we mumble, stutter and borrow terms from other languages. \n",
    "\n",
    "While supervised and unsupervised learning, and specifically deep learning, are now widely used for modeling human language, there’s also a need for syntactic and semantic understanding and domain expertise that are not necessarily present in these machine learning approaches. NLP is important because it helps resolve ambiguity in language and adds useful numeric structure to the data for many downstream applications, such as speech recognition or text analytics.\"\n",
    "\n",
    "Source: https://www.sas.com/en_nz/insights/analytics/what-is-natural-language-processing-nlp.html\n",
    "\n"
   ]
  },
  {
   "cell_type": "markdown",
   "id": "2b8af73b-07ee-4d27-887c-1757f2280469",
   "metadata": {},
   "source": [
    "### What Problems can NLP Solve?"
   ]
  },
  {
   "cell_type": "markdown",
   "id": "8089f691-ae42-45e2-a0ee-e1011dcb6d9f",
   "metadata": {},
   "source": [
    "source: (https://www.techtarget.com/searchenterpriseai/definition/natural-language-processing-NLP)"
   ]
  },
  {
   "cell_type": "code",
   "execution_count": null,
   "id": "e64c723d-ca19-4c04-8f50-241f9ab55636",
   "metadata": {},
   "outputs": [],
   "source": []
  },
  {
   "cell_type": "markdown",
   "id": "0b054328-8315-42f4-8031-abf7630d7dc0",
   "metadata": {},
   "source": [
    "### Data Sources"
   ]
  },
  {
   "cell_type": "markdown",
   "id": "a58dc2a0-2b25-414b-bd8b-3ef5f707fdc5",
   "metadata": {},
   "source": [
    "For this exercise, a great place to start is with Kaggle. Because it already colates the data, there is an excellent chance that you will be able to find a problem which can teach you about how you can apply AI in your area. "
   ]
  },
  {
   "cell_type": "code",
   "execution_count": null,
   "id": "66a99b11-5db0-469b-af3e-ebcc72771830",
   "metadata": {},
   "outputs": [],
   "source": []
  },
  {
   "cell_type": "markdown",
   "id": "6bba5127-ed88-4ad8-8b02-3768cce69040",
   "metadata": {},
   "source": [
    "## Step 2: Loading NLP Data\n",
    "<hr style=\"border:2px solid gray\"> </hr>"
   ]
  },
  {
   "cell_type": "code",
   "execution_count": 5,
   "id": "b4c36e7c-2241-4c35-ac9d-f050e57b0302",
   "metadata": {},
   "outputs": [],
   "source": [
    "import pandas as pd \n",
    "import numpy as np\n",
    "\n",
    "import nltk\n",
    "\n"
   ]
  },
  {
   "cell_type": "code",
   "execution_count": 26,
   "id": "0e0d0bd6-c6bf-430f-bc56-004cbd9cb189",
   "metadata": {},
   "outputs": [
    {
     "data": {
      "text/plain": [
       "PosixPath('/home/jentlejames/Datasets/unpackAI/DL201-4.0')"
      ]
     },
     "execution_count": 26,
     "metadata": {},
     "output_type": "execute_result"
    }
   ],
   "source": [
    "NLP_DIR = CONTENT_DIR/'NLP'"
   ]
  },
  {
   "cell_type": "code",
   "execution_count": null,
   "id": "2c915182-1470-4547-a0da-ebae5fbbf977",
   "metadata": {},
   "outputs": [],
   "source": []
  },
  {
   "cell_type": "code",
   "execution_count": null,
   "id": "5a28a200-4b59-4938-a1fc-a2ac07b16404",
   "metadata": {},
   "outputs": [],
   "source": []
  },
  {
   "cell_type": "markdown",
   "id": "ae1af24a-ef5b-4b9e-a3dd-86775ba081a8",
   "metadata": {
    "tags": []
   },
   "source": [
    "### Example 1: CSV Files\n",
    "<hr style=\"border:1px solid gray\"> </hr>"
   ]
  },
  {
   "cell_type": "code",
   "execution_count": 27,
   "id": "4c9ece87-8d56-4f7c-9b21-68e55456f5a4",
   "metadata": {},
   "outputs": [],
   "source": [
    "jd_path = CONTENT_DIR/'NLP'/'job_descriptions'/'JD_data.csv'"
   ]
  },
  {
   "cell_type": "code",
   "execution_count": 35,
   "id": "0453cb67-5d06-4a2e-945e-695a4a78b362",
   "metadata": {},
   "outputs": [
    {
     "data": {
      "text/plain": [
       "(4412, 6)"
      ]
     },
     "execution_count": 35,
     "metadata": {},
     "output_type": "execute_result"
    }
   ],
   "source": [
    "job_descriptions = pd.read_csv(jd_path,index_col=0)\n",
    "job_descriptions.shape"
   ]
  },
  {
   "cell_type": "code",
   "execution_count": 38,
   "id": "6cfe9726-53cb-4583-b9c8-24fb84218bd6",
   "metadata": {},
   "outputs": [
    {
     "data": {
      "text/html": [
       "<div>\n",
       "<style scoped>\n",
       "    .dataframe tbody tr th:only-of-type {\n",
       "        vertical-align: middle;\n",
       "    }\n",
       "\n",
       "    .dataframe tbody tr th {\n",
       "        vertical-align: top;\n",
       "    }\n",
       "\n",
       "    .dataframe thead th {\n",
       "        text-align: right;\n",
       "    }\n",
       "</style>\n",
       "<table border=\"1\" class=\"dataframe\">\n",
       "  <thead>\n",
       "    <tr style=\"text-align: right;\">\n",
       "      <th></th>\n",
       "      <th>ISCO</th>\n",
       "      <th>major_job</th>\n",
       "      <th>job</th>\n",
       "      <th>position</th>\n",
       "      <th>location</th>\n",
       "      <th>description</th>\n",
       "    </tr>\n",
       "  </thead>\n",
       "  <tbody>\n",
       "    <tr>\n",
       "      <th>0</th>\n",
       "      <td>21</td>\n",
       "      <td>SCIENCE AND ENGINEERING PROFESSIONALS</td>\n",
       "      <td>physicist</td>\n",
       "      <td>Accelerator Physicist id54315</td>\n",
       "      <td>Villigen PSI, Aargau</td>\n",
       "      <td>[' You have an academic degree in physics or e...</td>\n",
       "    </tr>\n",
       "    <tr>\n",
       "      <th>1</th>\n",
       "      <td>21</td>\n",
       "      <td>SCIENCE AND ENGINEERING PROFESSIONALS</td>\n",
       "      <td>physicist</td>\n",
       "      <td>Applied Physicist (Computing) (EP-LBC-2021-125...</td>\n",
       "      <td>Geneva</td>\n",
       "      <td>[' Be in charge of the development of applicat...</td>\n",
       "    </tr>\n",
       "    <tr>\n",
       "      <th>2</th>\n",
       "      <td>21</td>\n",
       "      <td>SCIENCE AND ENGINEERING PROFESSIONALS</td>\n",
       "      <td>physicist</td>\n",
       "      <td>Accelerator Physicist (BE-ABP-LNO-2021-122-LD)...</td>\n",
       "      <td>Geneva</td>\n",
       "      <td>[' Contribute to the maintenance and developme...</td>\n",
       "    </tr>\n",
       "  </tbody>\n",
       "</table>\n",
       "</div>"
      ],
      "text/plain": [
       "   ISCO                              major_job        job  \\\n",
       "0    21  SCIENCE AND ENGINEERING PROFESSIONALS  physicist   \n",
       "1    21  SCIENCE AND ENGINEERING PROFESSIONALS  physicist   \n",
       "2    21  SCIENCE AND ENGINEERING PROFESSIONALS  physicist   \n",
       "\n",
       "                                            position              location  \\\n",
       "0                      Accelerator Physicist id54315  Villigen PSI, Aargau   \n",
       "1  Applied Physicist (Computing) (EP-LBC-2021-125...                Geneva   \n",
       "2  Accelerator Physicist (BE-ABP-LNO-2021-122-LD)...                Geneva   \n",
       "\n",
       "                                         description  \n",
       "0  [' You have an academic degree in physics or e...  \n",
       "1  [' Be in charge of the development of applicat...  \n",
       "2  [' Contribute to the maintenance and developme...  "
      ]
     },
     "execution_count": 38,
     "metadata": {},
     "output_type": "execute_result"
    }
   ],
   "source": [
    "job_descriptions.head(3)"
   ]
  },
  {
   "cell_type": "markdown",
   "id": "6cf108e8-c092-4a13-8a35-551be401578d",
   "metadata": {},
   "source": []
  },
  {
   "cell_type": "code",
   "execution_count": null,
   "id": "c6cea098-d974-4c51-bcc2-7076e0868863",
   "metadata": {},
   "outputs": [],
   "source": []
  },
  {
   "cell_type": "markdown",
   "id": "94e72fb7-2bc2-4372-ad2b-1cb130e5b6cb",
   "metadata": {
    "tags": []
   },
   "source": [
    "### Example 2: Loading data from the web"
   ]
  },
  {
   "cell_type": "markdown",
   "id": "d962b677-393d-497b-84c8-a56dde62a852",
   "metadata": {},
   "source": [
    "Web scraping is a powerful but, controversial tool to pull data off the internet. \n",
    "\n",
    "One must keep in mind that website which we love and enjoy cost money to maintain the servers. If we use them through our browser, we can view the ads that keep them afloat. We, as humans, are limited in how many pages we can click on.\n",
    "\n",
    "However, machines are not limited in this respect, and therefore it is quite possible to overload someone else's server with 1000s of requests a minute. This can violate their terms of service. \n",
    "\n",
    "If you choose to web scrape, keep this in mind. Some websites explicitly allow web scraping, and are configured to allow it. While many do not allow it, because their data is important to them and their business model. Others, do not explicitly encourage or discouraage it. \n",
    "\n",
    "This can become a cat and mouse game, with measures and countermeasures taken between the website and the scraper. \n",
    "\n",
    "In this course, web scraping is covered to the extent that:\n",
    "\n",
    "1. The website permits it in it's robots.txt file, and care is taken to not overload the website.\n",
    "\n",
    "2. The web page can be retrieved with a simple http request, without needing to interact with the page. \n",
    "\n",
    "3. The HTML is simple and standard across all web pages. \n",
    "\n",
    "Beyond this, and it can become complicated rather quickly. Since it is not within the core mission of unPackAI, it is not supported by the mentors. "
   ]
  },
  {
   "cell_type": "code",
   "execution_count": 41,
   "id": "c09f12ab-1006-4be8-ad83-ae793d5c90a5",
   "metadata": {},
   "outputs": [],
   "source": [
    "import requests\n",
    "from bs4 import BeautifulSoup"
   ]
  },
  {
   "cell_type": "code",
   "execution_count": null,
   "id": "86964fc0-1b71-45e7-b54f-7177fced185e",
   "metadata": {},
   "outputs": [],
   "source": [
    "url = ''\n",
    "page = requests.get(url)\n",
    "page.status_code\n",
    "\n",
    "if status_code == 200:\n",
    "    print(successfully downloaded)"
   ]
  },
  {
   "cell_type": "code",
   "execution_count": null,
   "id": "a8a2400b-e558-43b8-baeb-ce6be32c7cb8",
   "metadata": {},
   "outputs": [],
   "source": [
    "soup = BeautifulSoup(page.content,'html.parser')"
   ]
  },
  {
   "cell_type": "code",
   "execution_count": null,
   "id": "921da892-0744-4cbc-9c5d-20742822bde3",
   "metadata": {},
   "outputs": [],
   "source": [
    "#soup.find_all('') # p = paragraph, \n",
    "\n",
    "soup.find_all('',)#class_='')"
   ]
  },
  {
   "cell_type": "code",
   "execution_count": null,
   "id": "6767b429-508d-46a8-9d3f-ca7eefa84ac8",
   "metadata": {},
   "outputs": [],
   "source": []
  },
  {
   "cell_type": "code",
   "execution_count": null,
   "id": "37c4469a-03f4-477f-a54b-944ab8035dee",
   "metadata": {},
   "outputs": [],
   "source": []
  },
  {
   "cell_type": "markdown",
   "id": "6ca9c8b2-5abb-449c-9d15-4f92e1b946a3",
   "metadata": {},
   "source": [
    "### Example 3: Scraping PDF data\n",
    "\n",
    "Sometimes, annual reports are given in pdf format. PDF is a file format primarly made for humans to view. This means that it has no structure that any other data formats have. \n",
    "\n",
    "However, it is not too difficult to mine all the text from a pdf. But, to get anything specific, it will require the use of regular expressions. "
   ]
  },
  {
   "cell_type": "code",
   "execution_count": 2,
   "id": "9106e47e-deb3-4f44-8d63-7fc06020adbe",
   "metadata": {},
   "outputs": [],
   "source": [
    "#!pip install pdfminer.six\n",
    "import unpackai"
   ]
  },
  {
   "cell_type": "code",
   "execution_count": 13,
   "id": "b3aa0c52-e1af-449d-a386-99b8b604712a",
   "metadata": {},
   "outputs": [
    {
     "data": {
      "text/html": [
       "<div>\n",
       "    <html>\n",
       "    <head>\n",
       "        <meta name=\"viewport\"\n",
       "        content=\"width=device-width, initial-scale=1\">\n",
       "    </head>\n",
       "    <body>\n",
       "        <a download=\"npakai_NameError_0217_151946.html\" href=\"data:text/html;base64,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\" >\n",
       "    <button class=\"p-Widget jupyter-widgets jupyter-button widget-button mod-success\">\n",
       "        🦋 Download Report</button>\n",
       "    </a>\n",
       "    </body>\n",
       "</html> <span>Download error report and consult a mentor/TA</span>\n",
       "</div>\n",
       "<h2>🐞 [NameError] Happened, Don't Panic</h2>\n",
       "\n",
       "<h3>🤔 Default message:</h3>\n",
       "<hr>\n",
       "<quote>\n",
       "    name 'CONTENT_DIR' is not defined\n",
       "</quote>\n",
       "<hr>\n",
       "<h3>Traceback Info</h3>"
      ],
      "text/plain": [
       "<IPython.core.display.HTML object>"
      ]
     },
     "metadata": {},
     "output_type": "display_data"
    },
    {
     "name": "stdout",
     "output_type": "stream",
     "text": [
      "Traceback \u001b[1;36m(most recent call last)\u001b[0m:\n",
      "\u001b[1;36m  File \u001b[1;32m\"<ipython-input-13-16e154ef11c6>\"\u001b[1;36m, line \u001b[1;32m3\u001b[1;36m, in \u001b[1;35m<module>\u001b[1;36m\u001b[0m\n",
      "\u001b[1;33m    PDF_DIRECTORY = CONTENT_DIR/'PDFs'\u001b[0m\n",
      "\u001b[1;31mNameError\u001b[0m\u001b[1;31m:\u001b[0m name 'CONTENT_DIR' is not defined\n",
      "\n"
     ]
    }
   ],
   "source": [
    "from unpackai.pdf import TextualPDF\n",
    "\n",
    "PDF_DIRECTORY = CONTENT_DIR/'PDFs'\n"
   ]
  },
  {
   "cell_type": "code",
   "execution_count": 12,
   "id": "70a48ae7-a0d2-4f3d-bd82-9372220a1070",
   "metadata": {},
   "outputs": [
    {
     "data": {
      "text/html": [
       "<div>\n",
       "    <html>\n",
       "    <head>\n",
       "        <meta name=\"viewport\"\n",
       "        content=\"width=device-width, initial-scale=1\">\n",
       "    </head>\n",
       "    <body>\n",
       "        <a download=\"npakai_NameError_0217_151942.html\" href=\"data:text/html;base64,PGh0bWw+Cgo8aGVhZD4KICAgIDx0aXRsZT5VbnBhY2tBSSBCdWcgUmVwb3J0PC90aXRsZT4KICAgIDxsaW5rIHJlbD0ic3R5bGVzaGVldCIgaHJlZj0iaHR0cHM6Ly9zdGFja3BhdGguYm9vdHN0cmFwY2RuLmNvbS9ib290c3RyYXAvNC40LjEvY3NzL2Jvb3RzdHJhcC5taW4uY3NzIgogICAgICAgIGludGVncml0eT0ic2hhMzg0LVZrb284eDRDR3NPMytIaHh2OFQvUTVQYVh0a0t0dTZ1ZzVUT2VOVjZnQmlGZVdQR0ZOOU11aE9mMjNROUlmamgiIGNyb3Nzb3JpZ2luPSJhbm9ueW1vdXMiPgo8L2hlYWQ+Cgo8Ym9keT4KICAgIDxkaXYgY2xhc3M9ImNvbnRhaW5lciBtdC0zIj4KICAgICAgICA8aDIgY2xhc3M9J210LTIgbWItMic+8J+UjiBFcnJvciBBbmFseXNpcyBbPHNwYW4gaWQ9J3RpdGxlX3RpbWVzdGFtcCc+PC9zcGFuPl08L2gyPgogICAgICAgIDxoMz7wn5G7IDxzcGFuIGlkPSd0aXRsZV9lcnJvcl90eXBlJz5FcnJvcjwvc3Bhbj46CiAgICAgICAgICAgIDxzcGFuIGlkPSd0aXRsZV9lcnJvcl92YWx1ZSc+PC9zcGFuPjwvaDM+CiAgICAgICAgPHAgY2xhc3M9J210LTIgbWItMic+CiAgICAgICAgICAgIFRoaXMgcmVwb3J0IHdhcyBnZW5lcmF0ZWQgYXV0b21hdGljYWxseSBieSBVbnBhY2tBSS4KICAgICAgICA8L3A+CiAgICAgICAgPGhyPgogICAgICAgIDxkaXYgY2xhc3M9J20tMic+CiAgICAgICAgICAgIDxxdW90ZT4KICAgICAgICAgICAgICAgIDxwcmUgaWQ9J3RyYWNlYmFja19zdHJpbmcnPjwvcHJlPgogICAgICAgICAgICA8L3F1b3RlPgogICAgICAgIDwvZGl2PgogICAgICAgIDxocj4KICAgICAgICA8aDM+8J+qkCBJbnB1dCBIaXN0b3J5PC9oMz4KICAgICAgICA8ZGl2IGlkPSdpbnB1dF9oaXN0b3J5JyBjbGFzcz0nbS0yJz4KICAgICAgICA8L2Rpdj4KICAgIDwvZGl2Pgo8L2JvZHk+Cgo8c2NyaXB0PgogICAgCiAgICBsZXQgZGF0YSA9IEpTT04ucGFyc2UoIntcbiAgXCJlcnJvcl90eXBlX25hbWVcIjogXCJOYW1lRXJyb3JcIixcbiAgXCJlcnJvcl92YWx1ZVwiOiBcIm5hbWUgJ1RleHR1YWxQREYnIGlzIG5vdCBkZWZpbmVkXCIsXG4gIFwidHJhY2ViYWNrX3N0cmluZ1wiOiBcIlRyYWNlYmFjayAobW9zdCByZWNlbnQgY2FsbCBsYXN0KTpcXG4gIEZpbGUgJnF1b3Q7L2hvbWUvamVudGxlamFtZXMvYW5hY29uZGEzL2VudnMvdW5wYWNrQUlkZXYvbGliL3B5dGhvbjMuOC9zaXRlLXBhY2thZ2VzL0lQeXRob24vY29yZS9pbnRlcmFjdGl2ZXNoZWxsLnB5JnF1b3Q7LCBsaW5lIDM0NTcsIGluIHJ1bl9jb2RlXFxuICAgIGV4ZWMoY29kZV9vYmosIHNlbGYudXNlcl9nbG9iYWxfbnMsIHNlbGYudXNlcl9ucylcXG4gIEZpbGUgJnF1b3Q7Jmx0O2lweXRob24taW5wdXQtMTItZTQxMDg5ZTg0NmM3Jmd0OyZxdW90OywgbGluZSAxLCBpbiAmbHQ7bW9kdWxlJmd0O1xcbiAgICBpYm1Bbm51YWxSZXBvcnQyMDIwID0gVGV4dHVhbFBERi5mcm9tX3BhdGgoUERGX0RJUkVDVE9SWS8mI3gyNztJQk1fQW5udWFsX1JlcG9ydF8yMDIwLnBkZiYjeDI3OylcXG5OYW1lRXJyb3I6IG5hbWUgJiN4Mjc7VGV4dHVhbFBERiYjeDI3OyBpcyBub3QgZGVmaW5lZFxcblwiLFxuICBcInRpbWVzdGFtcFwiOiBcIjIwMjItMDItMTcgMTU6MTk6NDJcIixcbiAgXCJpbnB1dF9oaXN0b3J5XCI6IFtcbiAgICBcIlwiLFxuICAgIFwidG9rZW5pemVyID0gQXV0b1Rva2VuaXplci5mcm9tX3ByZXRyYWluZWQoJnF1b3Q7Z3B0MiZxdW90OylcIixcbiAgICBcIiMhcGlwIGluc3RhbGwgcGRmbWluZXIuc2l4XFxuaW1wb3J0IHVucGFja2FpXCIsXG4gICAgXCJpbXBvcnQgcGFuZGFzIGFzIHBkIFxcbmltcG9ydCBudW1weSBhcyBucFxcblxcbmltcG9ydCBubHRrXFxuXFxuZnJvbSB1bnBhY2thaS5ubHAgaW1wb3J0IEF1dG90b2tlbml6ZXJcIixcbiAgICBcImltcG9ydCBwYW5kYXMgYXMgcGQgXFxuaW1wb3J0IG51bXB5IGFzIG5wXFxuXFxuaW1wb3J0IG5sdGtcXG5cXG4jZnJvbSB1bnBhY2thaS5ubHAgaW1wb3J0IEF1dG90b2tlbml6ZXJcIixcbiAgICBcImltcG9ydCBwYW5kYXMgYXMgcGQgXFxuaW1wb3J0IG51bXB5IGFzIG5wXFxuXFxuaW1wb3J0IG5sdGtcIixcbiAgICBcImZyb20gdW5wYWNrYWkubmxwIGltcG9ydCBUZXh0dWFsLCBJbnRlcnBFbWJlZGRpbmdzVG9rZW5pemVyXFxuXFxuZnJvbSB0cmFuc2Zvcm1lcnMgaW1wb3J0IChcXG4gICAgQXV0b1Rva2VuaXplcixcXG4pXCIsXG4gICAgXCJ0b2tlbml6ZXIgPSBBdXRvVG9rZW5pemVyLmZyb21fcHJldHJhaW5lZCgmcXVvdDtncHQyJnF1b3Q7KVwiLFxuICAgIFwicmF3VGV4dCA9IGlibUFubnVhbFJlcG9ydDIwMjAudGV4dFwiLFxuICAgIFwidG9rZW5pemVyID0gQXV0b1Rva2VuaXplci5mcm9tX3ByZXRyYWluZWQoJnF1b3Q7Z3B0MiZxdW90OylcIixcbiAgICBcInRva2VuaXplciA9IEF1dG9Ub2tlbml6ZXIuZnJvbV9wcmV0cmFpbmVkKCZxdW90O2dwdDImcXVvdDspXCIsXG4gICAgXCJyYXdUZXh0ID0gaWJtQW5udWFsUmVwb3J0MjAyMC50ZXh0XCIsXG4gICAgXCJpYm1Bbm51YWxSZXBvcnQyMDIwID0gVGV4dHVhbFBERi5mcm9tX3BhdGgoUERGX0RJUkVDVE9SWS8mI3gyNztJQk1fQW5udWFsX1JlcG9ydF8yMDIwLnBkZiYjeDI3OylcIlxuICBdXG59Iik7CgogICAgY29uc29sZS5sb2coZGF0YSkKCiAgICBsZXQge3RyYWNlYmFja19zdHJpbmcsIGlucHV0X2hpc3RvcnksCiAgICAgICAgZXJyb3JfdHlwZV9uYW1lLCBlcnJvcl92YWx1ZSwgdGltZXN0YW1wfSA9IGRhdGEKICAgIGNvbnN0IHNob3dfaW5wdXRfaGlzdG9yeSA9ICgpID0+IHsKICAgICAgICBsZXQgaW5wdXRfaGlzdG9yeV9kaXYgPSBkb2N1bWVudC5nZXRFbGVtZW50QnlJZCgnaW5wdXRfaGlzdG9yeScpCiAgICAgICAgZm9yKGxldCBpcHQgb2YgaW5wdXRfaGlzdG9yeSl7CiAgICAgICAgICAgIGxldCBwcmUgPSBkb2N1bWVudC5jcmVhdGVFbGVtZW50KCdwcmUnKQogICAgICAgICAgICBwcmUuY2xhc3NOYW1lID0gJ2JnLWxpZ2h0IHAtMiByb3VuZGVkJwogICAgICAgICAgICBwcmUuaW5uZXJIVE1MID0gYDxjb2RlPiR7aXB0fTwvY29kZT5gCiAgICAgICAgICAgIGlucHV0X2hpc3RvcnlfZGl2LmFwcGVuZENoaWxkKHByZSkKICAgICAgICB9CiAgICB9CiAgICAKICAgIGNvbnN0IHNob3dfZGF0YSA9ICgpID0+IHsKICAgICAgICBkb2N1bWVudC5nZXRFbGVtZW50QnlJZCgndGl0bGVfdGltZXN0YW1wJykuaW5uZXJIVE1MID0gdGltZXN0YW1wOwogICAgICAgIGRvY3VtZW50LmdldEVsZW1lbnRCeUlkKCd0aXRsZV9lcnJvcl90eXBlJykuaW5uZXJIVE1MID0gZXJyb3JfdHlwZV9uYW1lOwogICAgICAgIGRvY3VtZW50LmdldEVsZW1lbnRCeUlkKCd0aXRsZV9lcnJvcl92YWx1ZScpLmlubmVySFRNTCA9IGVycm9yX3ZhbHVlOwogICAgICAgIGRvY3VtZW50LmdldEVsZW1lbnRCeUlkKCd0cmFjZWJhY2tfc3RyaW5nJykuaW5uZXJIVE1MID0gdHJhY2ViYWNrX3N0cmluZzsKICAgICAgICBzaG93X2lucHV0X2hpc3RvcnkoKTsKICAgIH0KCiAgICBzaG93X2RhdGEoKTsKPC9zY3JpcHQ+CjwvaHRtbD4=\" >\n",
       "    <button class=\"p-Widget jupyter-widgets jupyter-button widget-button mod-success\">\n",
       "        🦋 Download Report</button>\n",
       "    </a>\n",
       "    </body>\n",
       "</html> <span>Download error report and consult a mentor/TA</span>\n",
       "</div>\n",
       "<h2>🐞 [NameError] Happened, Don't Panic</h2>\n",
       "\n",
       "<h3>🤔 Default message:</h3>\n",
       "<hr>\n",
       "<quote>\n",
       "    name 'TextualPDF' is not defined\n",
       "</quote>\n",
       "<hr>\n",
       "<h3>Traceback Info</h3>"
      ],
      "text/plain": [
       "<IPython.core.display.HTML object>"
      ]
     },
     "metadata": {},
     "output_type": "display_data"
    },
    {
     "name": "stdout",
     "output_type": "stream",
     "text": [
      "Traceback \u001b[1;36m(most recent call last)\u001b[0m:\n",
      "\u001b[1;36m  File \u001b[1;32m\"<ipython-input-12-e41089e846c7>\"\u001b[1;36m, line \u001b[1;32m1\u001b[1;36m, in \u001b[1;35m<module>\u001b[1;36m\u001b[0m\n",
      "\u001b[1;33m    ibmAnnualReport2020 = TextualPDF.from_path(PDF_DIRECTORY/'IBM_Annual_Report_2020.pdf')\u001b[0m\n",
      "\u001b[1;31mNameError\u001b[0m\u001b[1;31m:\u001b[0m name 'TextualPDF' is not defined\n",
      "\n"
     ]
    }
   ],
   "source": [
    "ibmAnnualReport2020 = TextualPDF.from_path(PDF_DIRECTORY/'IBM_Annual_Report_2020.pdf')"
   ]
  },
  {
   "cell_type": "code",
   "execution_count": 43,
   "id": "3a37dd77-0805-4675-b122-67d4e562c884",
   "metadata": {},
   "outputs": [
    {
     "data": {
      "application/vnd.jupyter.widget-view+json": {
       "model_id": "dba98978bd854c9e8000142e9e577716",
       "version_major": 2,
       "version_minor": 0
      },
      "text/plain": [
       "interactive(children=(IntSlider(value=100, description='page', max=200), Output()), _dom_classes=('widget-inte…"
      ]
     },
     "metadata": {},
     "output_type": "display_data"
    }
   ],
   "source": [
    "ibmAnnualReport2020()"
   ]
  },
  {
   "cell_type": "code",
   "execution_count": null,
   "id": "16d8f238-db98-4718-bac6-eec7782f617e",
   "metadata": {},
   "outputs": [],
   "source": []
  },
  {
   "cell_type": "code",
   "execution_count": 10,
   "id": "8e8b13a3-c1f5-4166-a324-4b78851d016c",
   "metadata": {},
   "outputs": [],
   "source": [
    "tokenizer = AutoTokenizer.from_pretrained(\"gpt2\")"
   ]
  },
  {
   "cell_type": "markdown",
   "id": "fba7d4d6-a34d-4679-95ef-c8a89577710b",
   "metadata": {},
   "source": [
    "### Example 4: Loading Data from Microsoft Word "
   ]
  },
  {
   "cell_type": "markdown",
   "id": "1b3a4c43-b04f-4411-b17d-e115a3ae5484",
   "metadata": {},
   "source": [
    "One of the key reasons why Pandas was created was because it's creator Wes Mckinney, was working as a quantitative analyst on Wall Street.\n",
    "\n",
    "In his time, he found that he needed a tool to handle real world data, which often is held in microsoft word or pdfs. \n",
    "\n",
    "Here we are going to use a python libary that makes extracting data from microsoft word relatively straightforward. \n",
    "\n",
    "It offers much functionality for creating and reading documents, allowing us to change and read the font, color, and style.\n",
    "\n",
    "This can come in handy when extracting data from a source which has it's own informal standard, such as highlighting text as important, or extracting color coded information.\n",
    "\n",
    "In this example, we are going to cover the most common use case, which is to extract the text itself, and possibly some data stored inside of a table. \n",
    "\n"
   ]
  },
  {
   "cell_type": "code",
   "execution_count": 1,
   "id": "28ef7063-2b0c-4929-b21c-51656fd970e3",
   "metadata": {},
   "outputs": [],
   "source": [
    "#!pip install 'python-docx'\n",
    "import docx"
   ]
  },
  {
   "cell_type": "markdown",
   "id": "c8f4e01a-5913-4f14-acb2-840d98e64256",
   "metadata": {},
   "source": [
    "Opening a document\n",
    "\n"
   ]
  },
  {
   "cell_type": "code",
   "execution_count": null,
   "id": "cf8ef9f1-9309-4d06-8f74-5696cc7a320c",
   "metadata": {},
   "outputs": [],
   "source": [
    "document = Document('existing-document-file.docx')"
   ]
  },
  {
   "cell_type": "code",
   "execution_count": null,
   "id": "37c78a1d-d280-4810-8b65-832d5c31c954",
   "metadata": {},
   "outputs": [],
   "source": []
  },
  {
   "cell_type": "code",
   "execution_count": null,
   "id": "27e5bcd9-e963-4ccb-b49e-7ec610bf21e1",
   "metadata": {},
   "outputs": [],
   "source": [
    "Text data "
   ]
  },
  {
   "cell_type": "code",
   "execution_count": null,
   "id": "158616bb-0213-450d-9f3a-dc0e8800cb08",
   "metadata": {},
   "outputs": [],
   "source": [
    " \n",
    "# open connection to Word Document\n",
    "doc = docx.Document(\".docx\")\n",
    " \n",
    "# read in each paragraph in file\n",
    "rawText = [p.text for p in doc.paragraphs]"
   ]
  },
  {
   "cell_type": "code",
   "execution_count": null,
   "id": "42ac5ef4-0927-4ce1-b4ef-549e70933ce5",
   "metadata": {},
   "outputs": [],
   "source": []
  },
  {
   "cell_type": "markdown",
   "id": "7961a4a6-73bc-435f-9e37-8f537322216c",
   "metadata": {
    "tags": []
   },
   "source": [
    "#### docx_tables"
   ]
  },
  {
   "cell_type": "code",
   "execution_count": null,
   "id": "8a015ddd-641e-454e-95f9-174cef62b37a",
   "metadata": {},
   "outputs": [],
   "source": []
  },
  {
   "cell_type": "code",
   "execution_count": 2,
   "id": "6d5ed1c9-71a3-4ab3-b476-0a0777e12635",
   "metadata": {},
   "outputs": [],
   "source": [
    "import pandas as pd\n",
    "import io\n",
    "import csv\n",
    "from docx import Document\n",
    "\n",
    "def read_docx_tables(filename, tab_id=None, **kwargs):\n",
    "    \"\"\"\n",
    "    parse table(s) from a Word Document (.docx) into Pandas DataFrame(s)\n",
    "\n",
    "    Parameters:\n",
    "        filename:   file name of a Word Document\n",
    "\n",
    "        tab_id:     parse a single table with the index: [tab_id] (counting from 0).\n",
    "                    When [None] - return a list of DataFrames (parse all tables)\n",
    "\n",
    "        kwargs:     arguments to pass to `pd.read_csv()` function\n",
    "\n",
    "    Return: a single DataFrame if tab_id != None or a list of DataFrames otherwise\n",
    "    \"\"\"\n",
    "    def read_docx_tab(tab, **kwargs):\n",
    "        vf = io.StringIO()\n",
    "        writer = csv.writer(vf)\n",
    "        for row in tab.rows:\n",
    "            writer.writerow(cell.text for cell in row.cells)\n",
    "        vf.seek(0)\n",
    "        return pd.read_csv(vf, **kwargs)\n",
    "\n",
    "    doc = Document(filename)\n",
    "    if tab_id is None:\n",
    "        return [read_docx_tab(tab, **kwargs) for tab in doc.tables]\n",
    "    else:\n",
    "        try:\n",
    "            return read_docx_tab(doc.tables[tab_id], **kwargs)\n",
    "        except IndexError:\n",
    "            print('Error: specified [tab_id]: {}  does not exist.'.format(tab_id))\n",
    "            raise"
   ]
  },
  {
   "cell_type": "code",
   "execution_count": null,
   "id": "bddaf6c8-fbec-4012-9b66-f17c5ce5ae56",
   "metadata": {},
   "outputs": [],
   "source": []
  },
  {
   "cell_type": "markdown",
   "id": "2ab744ed-3d23-48b4-bb01-e769121cae33",
   "metadata": {},
   "source": [
    "Last step"
   ]
  },
  {
   "cell_type": "code",
   "execution_count": null,
   "id": "1c0a6eab-58b6-4c1e-a83d-c77747ec8e4a",
   "metadata": {},
   "outputs": [],
   "source": []
  },
  {
   "cell_type": "markdown",
   "id": "22848548-afbc-48ea-b540-b7a3381ff035",
   "metadata": {},
   "source": [
    "## Step 3: Exploring NLP Data\n",
    "<hr style=\"border:2px solid gray\"> </hr>"
   ]
  },
  {
   "cell_type": "markdown",
   "id": "227d9613-ef96-4b7f-ae09-14288dd6aabe",
   "metadata": {},
   "source": [
    "In exploring NLP data, we want to be able to create some graphics and statistics which will give us a better idea of what features we have, how useful they are for our business case, and how we can extract these features. \n",
    "\n",
    "Often, prepared datasets will either come as a large block of text, or it is organized in tables taken from the web. We'll go over how to explore our data. \n",
    "\n"
   ]
  },
  {
   "cell_type": "markdown",
   "id": "6f367ff6-e4ea-407e-998f-8f5fad5c968c",
   "metadata": {},
   "source": [
    "### Unstructured Text \n"
   ]
  },
  {
   "cell_type": "code",
   "execution_count": 6,
   "id": "57afb02e-0d1c-4298-8b16-9250e372ae80",
   "metadata": {},
   "outputs": [],
   "source": [
    "from unpackai.nlp import Textual, InterpEmbeddingsTokenizer\n",
    "\n",
    "from transformers import (\n",
    "    AutoTokenizer,\n",
    ")"
   ]
  },
  {
   "cell_type": "code",
   "execution_count": null,
   "id": "1b401891-becc-4580-91c1-46eed4eeea84",
   "metadata": {},
   "outputs": [],
   "source": []
  },
  {
   "cell_type": "markdown",
   "id": "fafbd4bc-ba52-438c-a857-7b99dc988529",
   "metadata": {},
   "source": [
    "### Tokenizer"
   ]
  },
  {
   "cell_type": "code",
   "execution_count": 7,
   "id": "3c55ef33-559e-414d-be9d-64eb81507c5e",
   "metadata": {},
   "outputs": [],
   "source": [
    "tokenizer = AutoTokenizer.from_pretrained(\"gpt2\")"
   ]
  },
  {
   "cell_type": "code",
   "execution_count": 11,
   "id": "0e515a3a-cf7f-46d2-a64f-b35df94b9029",
   "metadata": {},
   "outputs": [
    {
     "data": {
      "text/html": [
       "<div>\n",
       "    <html>\n",
       "    <head>\n",
       "        <meta name=\"viewport\"\n",
       "        content=\"width=device-width, initial-scale=1\">\n",
       "    </head>\n",
       "    <body>\n",
       "        <a download=\"npakai_NameError_0217_151929.html\" href=\"data:text/html;base64,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\" >\n",
       "    <button class=\"p-Widget jupyter-widgets jupyter-button widget-button mod-success\">\n",
       "        🦋 Download Report</button>\n",
       "    </a>\n",
       "    </body>\n",
       "</html> <span>Download error report and consult a mentor/TA</span>\n",
       "</div>\n",
       "<h2>🐞 [NameError] Happened, Don't Panic</h2>\n",
       "\n",
       "<h3>🤔 Default message:</h3>\n",
       "<hr>\n",
       "<quote>\n",
       "    name 'ibmAnnualReport2020' is not defined\n",
       "</quote>\n",
       "<hr>\n",
       "<h3>Traceback Info</h3>"
      ],
      "text/plain": [
       "<IPython.core.display.HTML object>"
      ]
     },
     "metadata": {},
     "output_type": "display_data"
    },
    {
     "name": "stdout",
     "output_type": "stream",
     "text": [
      "Traceback \u001b[1;36m(most recent call last)\u001b[0m:\n",
      "\u001b[1;36m  File \u001b[1;32m\"<ipython-input-11-b304cc572fe1>\"\u001b[1;36m, line \u001b[1;32m1\u001b[1;36m, in \u001b[1;35m<module>\u001b[1;36m\u001b[0m\n",
      "\u001b[1;33m    rawText = ibmAnnualReport2020.text\u001b[0m\n",
      "\u001b[1;31mNameError\u001b[0m\u001b[1;31m:\u001b[0m name 'ibmAnnualReport2020' is not defined\n",
      "\n"
     ]
    }
   ],
   "source": [
    "rawText = ibmAnnualReport2020.text"
   ]
  },
  {
   "cell_type": "code",
   "execution_count": null,
   "id": "b74058ec-8052-4bbe-8ba2-1aff5c27e578",
   "metadata": {},
   "outputs": [],
   "source": [
    "to"
   ]
  },
  {
   "cell_type": "code",
   "execution_count": 65,
   "id": "8b77cd01-7d10-48c1-9d26-cad067ddb25b",
   "metadata": {},
   "outputs": [
    {
     "data": {
      "text/plain": [
       "torch.Size([4, 128])"
      ]
     },
     "execution_count": 65,
     "metadata": {},
     "output_type": "execute_result"
    }
   ],
   "source": [
    "ibmAnnualReport2020.show_batch(tokenizer)['input_ids'].shape"
   ]
  },
  {
   "cell_type": "code",
   "execution_count": 69,
   "id": "3fd36671-5ccd-4871-8581-1c467e3765a2",
   "metadata": {},
   "outputs": [],
   "source": [
    "datasets = ibmAnnualReport2020.create_datasets(tokenizer)"
   ]
  },
  {
   "cell_type": "code",
   "execution_count": 80,
   "id": "e9debe12-6d3e-4320-bd9d-e7c37388d831",
   "metadata": {},
   "outputs": [
    {
     "data": {
      "text/plain": [
       "{'train_dataset': <transformers.data.datasets.language_modeling.TextDataset at 0x7fd5659d3b80>,\n",
       " 'eval_dataset': <transformers.data.datasets.language_modeling.TextDataset at 0x7fd4e489a190>,\n",
       " 'data_collator': DataCollatorForLanguageModeling(tokenizer=PreTrainedTokenizerFast(name_or_path='gpt2', vocab_size=50257, model_max_len=1024, is_fast=True, padding_side='right', special_tokens={'bos_token': '<|endoftext|>', 'eos_token': '<|endoftext|>', 'unk_token': '<|endoftext|>'}), mlm=False, mlm_probability=0.15, pad_to_multiple_of=None, tf_experimental_compile=False, return_tensors='pt')}"
      ]
     },
     "execution_count": 80,
     "metadata": {},
     "output_type": "execute_result"
    }
   ],
   "source": [
    "datasets"
   ]
  },
  {
   "cell_type": "code",
   "execution_count": 82,
   "id": "1331e114-bd47-4c5f-a57d-af2494c25c4b",
   "metadata": {},
   "outputs": [],
   "source": [
    "trainDataset = datasets['train_dataset']\n",
    "testDataset = datasets['eval_dataset']\n",
    "dataCollator = datasets['data_collator']"
   ]
  },
  {
   "cell_type": "code",
   "execution_count": null,
   "id": "c090031d-f662-4f68-8507-7c8ae8e37632",
   "metadata": {},
   "outputs": [],
   "source": []
  },
  {
   "cell_type": "code",
   "execution_count": null,
   "id": "b2ea9220-f188-47a9-85b1-6199a4f7066e",
   "metadata": {},
   "outputs": [],
   "source": [
    "\n"
   ]
  },
  {
   "cell_type": "code",
   "execution_count": null,
   "id": "f498c21e-c4d2-4b5d-ac37-6e45e7affb19",
   "metadata": {},
   "outputs": [],
   "source": [
    "\n",
    "\n",
    "for i in "
   ]
  },
  {
   "cell_type": "code",
   "execution_count": 51,
   "id": "1f296990-3a42-4ff1-833c-32428cccbc4f",
   "metadata": {},
   "outputs": [],
   "source": [
    "test = rawText[0:1024]"
   ]
  },
  {
   "cell_type": "code",
   "execution_count": 52,
   "id": "cf655cf6-ba16-4bfc-b7fc-3e8b1cb4cf12",
   "metadata": {},
   "outputs": [],
   "source": [
    "tokens = tokenizer.tokenize(test)"
   ]
  },
  {
   "cell_type": "code",
   "execution_count": null,
   "id": "a4e8341c-fc18-45ff-963a-50ca10d50523",
   "metadata": {},
   "outputs": [],
   "source": []
  },
  {
   "cell_type": "markdown",
   "id": "04b8474f-c278-4333-98cc-116e9e5ea214",
   "metadata": {},
   "source": [
    "### Stemming and Lemmatization "
   ]
  },
  {
   "cell_type": "code",
   "execution_count": null,
   "id": "1d05e9e8-7610-4e94-9dd0-3b840b9085d1",
   "metadata": {},
   "outputs": [],
   "source": []
  },
  {
   "cell_type": "code",
   "execution_count": null,
   "id": "9c0b4e7a-8f04-4adc-80b7-0e6e81ba018c",
   "metadata": {},
   "outputs": [],
   "source": []
  },
  {
   "cell_type": "code",
   "execution_count": null,
   "id": "e3aa5c7b-e662-4f55-ab0f-ae277f583b4b",
   "metadata": {},
   "outputs": [],
   "source": []
  },
  {
   "cell_type": "code",
   "execution_count": null,
   "id": "854e57bf-1f16-44de-8583-4d197cb04325",
   "metadata": {},
   "outputs": [],
   "source": []
  },
  {
   "cell_type": "markdown",
   "id": "ac3d669d-c70d-4698-ab4d-ca3ec87066ef",
   "metadata": {},
   "source": [
    "### Example 3: Statistics on Tokens"
   ]
  },
  {
   "cell_type": "code",
   "execution_count": null,
   "id": "d0f77d51-c013-4adc-b738-a914b5874ec7",
   "metadata": {},
   "outputs": [],
   "source": []
  },
  {
   "cell_type": "code",
   "execution_count": null,
   "id": "ef13e04a-04c7-466e-9117-507e0e5b9430",
   "metadata": {},
   "outputs": [],
   "source": []
  }
 ],
 "metadata": {
  "kernelspec": {
   "display_name": "unpackAIdev",
   "language": "python",
   "name": "unpackaidev"
  },
  "language_info": {
   "codemirror_mode": {
    "name": "ipython",
    "version": 3
   },
   "file_extension": ".py",
   "mimetype": "text/x-python",
   "name": "python",
   "nbconvert_exporter": "python",
   "pygments_lexer": "ipython3",
   "version": "3.8.12"
  }
 },
 "nbformat": 4,
 "nbformat_minor": 5
}
