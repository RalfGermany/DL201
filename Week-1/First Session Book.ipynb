{
 "cells": [
  {
   "cell_type": "markdown",
   "id": "5b06da8e",
   "metadata": {},
   "source": [
    "## 💻Welcome to the DL201 Bootcamp \n",
    "\n",
    "### A New chapter on your Machine Learning journey\n",
    "Welcome to the DL201 Bootcamp! this is a new bootcamp designed with collaboration and inclusion in mind, here we provide guidance as we learn as a community essential skills on data mannipulation, important machine learning and AI concepts as well as the usage of existing software tools and pre-trained models. \n",
    " \n",
    "blah blah..."
   ]
  },
  {
   "cell_type": "markdown",
   "id": "74b82881",
   "metadata": {},
   "source": [
    "### 📕 Learning Objectives\n",
    "\n",
    "* Learn more about the DataBlock API and DataLoaders to feed your model with data.\n",
    "* How to improve your model using Data Augmentation methods and the Data Cleaner.\n",
    "* Understand the dangers behind biased data and how to avoid disaster."
   ]
  },
  {
   "cell_type": "markdown",
   "id": "1e1a8827",
   "metadata": {},
   "source": [
    "### 📅 Weekly Progress\n",
    "\n",
    "|Week | Date | Content | Learning objectives\n",
    "|:--- | :--- | :--- | :--- \n",
    "|0 | 3rd - 5th July | Warm Up | Get to know more about your classmates, the mentors, and the required tools for the Bootcamp such as Jupyter, PyTorch, and fast.ai. Join our Slack, Medium, and Github.\n",
    "|1 | 6th - 12th July | Intro into AI | Analize the difference between DL & ML and identify their limitations, train first image recognition model, learn to treat datasets as the most important aspect of ML\n",
    "|**2** | **13th - 19th July** | **From Model to Production** | **Build your AI project with drivetrain approach, learn about data preparation and its affect on the model performance** \n",
    "|3 | 20th - 26th July | Going in Depth | Learn more about the theory behind the roles of tensors, stochastic gradient descent (SGD), and loss functions of a basic neural network. Also, learn about the MNIST dataset. \n",
    "|4 | 27th July - 2nd August | Final Project | Improve the accuracy of your own AI project by applying learnings, and prepare a written thesis to describe your AI project, its applied techniques and further development\n",
    "|5 | 9th August |Graduation | Present your final model."
   ]
  },
  {
   "cell_type": "markdown",
   "id": "5b1348f1",
   "metadata": {},
   "source": [
    "### Software Requirements for the Bootcamp\n",
    "\n",
    "In order to ensure a good learning experience, you will need to use the software listed out below. All of them expect the VPN are for free.\n",
    "\n",
    "1. **Zoom**. In order to join live sessions with mentors and fellow students you have to install Zoom on your laptop. You can download it [here](https://zoom.us/download).\n",
    "\n",
    "> *We don't recommend to use your phone to join live sessions as your phone doesn't provide a proper online session environment, and will compromise the quality of live group interactions.*\n",
    "\n",
    "2. **VPN**. Unfortunately, many available resources that we will be utilizing requires a VPN. A VPN can cost money if you want to have a reliable connection. We do not advertise any particular one, though many foreigners in China have had a good experience with Astrill.\n",
    "\n",
    "3. **WeChat**. It's our main communication tool for every day communication. You will receive instructions, announcements, ask all sorts of questions related to the content, Bootcamp, and recieve answers on a timely manner in the WeChat group. \n",
    "\n",
    "4. **Google Collab**. You will be able to access all the class content within Google Collab as well as execute and write your own code. It is the main tool for building your AI models, freely provides GPU resources and has other benefits that will be described below.\n",
    "\n",
    "5. **Kaggle Notebooks**. It is a platform for data science competitions. It is a great tool for data science competitions. You can use it to submit your code and get feedback from other participants."
   ]
  },
  {
   "cell_type": "markdown",
   "id": "610bd8e2",
   "metadata": {},
   "source": [
    "### Getting to know each other\n",
    "Blah blah blah...\n",
    "\n",
    "- Express your expectations for the Bootcamp.\n",
    "- Talk about previous any experience with AI.\n",
    "- Mention your ground on coding background."
   ]
  },
  {
   "cell_type": "markdown",
   "id": "6b543354",
   "metadata": {},
   "source": [
    "### This bootcamp is hosted on GitHub!\n",
    "Blah blah blah...\n",
    "\n",
    "https://github.com/unpackAI/DL201/\n",
    "\n",
    "Let's review how:\n",
    "- Clone the repository.\n",
    "- Open the notebook.\n",
    "- Run the sample code (cells below).\n",
    "- Use the Issues sections to report problems and ask/provide help."
   ]
  },
  {
   "cell_type": "markdown",
   "id": "99213d77",
   "metadata": {},
   "source": [
    "### We recommend the usage of Kaggle Notebooks (live mini-demo)\n",
    "Google colab and local environments are still supported but this is our recommended option.\n",
    "Blah blah blah...\n",
    "\n",
    "https://www.kaggle.com/code\n",
    "\n",
    "Important reasons to use Kaggle Notebooks:\n",
    "- No VPN access required.\n",
    "- 50+ hours of weekly GPU usage for free.\n",
    "- Familiar environment with Jupyter.\n",
    "- No need to install any software.\n",
    "- Immediate access to the enourmous collection of datasets provided by Kaggle."
   ]
  },
  {
   "cell_type": "markdown",
   "id": "6fd16e02",
   "metadata": {},
   "source": [
    "### Breakout rooms\n",
    "To faciliate the discussion among the students, students will briefly join breakrooms for discusison on each session. This facilittes blah blah blah...\n",
    "\n",
    "Some important reasons for using breakrooms:\n",
    "- Reason 1.\n",
    "- Reason 2.\n",
    "\n",
    "Breakroom activity instructions:\n",
    "- All students create a Kaggle notebook and run the general code cell.\n",
    "- Students choose different tasks and run the corresponding code cells in their own notebooks.\n",
    "- Students help each other in case of technical difficulties.\n",
    "\n",
    "When returning from the breakroom:\n",
    "- Students share their guess on the executed tasks.\n",
    "- Students comment on the experience of using kaggle notebooks."
   ]
  },
  {
   "cell_type": "markdown",
   "id": "3ac01814",
   "metadata": {},
   "source": [
    "### Sample code\n",
    "Blah blah blah...\n",
    "\n",
    "- Designed to test the current Python environment and the Jupyter Notebook.\n",
    "- Covers examples from previous bootcamps.\n",
    "- Includes image classification, image segmentation, tabular data classification and basic NLP examples."
   ]
  },
  {
   "cell_type": "code",
   "execution_count": null,
   "id": "1585fbe8",
   "metadata": {},
   "outputs": [],
   "source": [
    "# Install and import the necessary packages\n",
    "!pip install -Uqq fastai fastbook\n",
    "\n",
    "import fastbook\n",
    "from fastai.vision.all import *\n",
    "from fastai.text.all import *\n",
    "from fastai.collab import *\n",
    "from fastai.tabular.all import *\n",
    "\n",
    "fastbook.setup_book()"
   ]
  },
  {
   "cell_type": "code",
   "execution_count": null,
   "id": "d457d516",
   "metadata": {},
   "outputs": [],
   "source": [
    "# Download a set of images from the web (pets dataset)\n",
    "path = untar_data(URLs.PETS)/'images'\n",
    "\n",
    "def is_cat(x): return x[0].isupper()\n",
    "dls = ImageDataLoaders.from_name_func(\n",
    "    path, get_image_files(path), valid_pct=0.2, seed=42,\n",
    "    label_func=is_cat, item_tfms=Resize(224))\n",
    "\n",
    "learn = cnn_learner(dls, resnet34, metrics=error_rate)\n",
    "learn.fine_tune(1)"
   ]
  },
  {
   "cell_type": "markdown",
   "id": "a3fbd20f",
   "metadata": {},
   "source": [
    "### Resources\n",
    "Provide a couple of links of articles or videos that you find helpful. As Week 1 have not begin yet it could be about general AI concepts, or about the specific topics of the bootcamp (python, pandas, etc.)\n",
    "\n",
    "- https://www.techrepublic.com/article/why-85-of-ai-projects-fail/\n",
    "- https://spotify.design/article/three-principles-for-designing-ml-powered-products\n",
    "- Take a look at the AI Canvas located at: https://www.predictionmachines.ai/\n",
    "\n",
    "Discussion questions:\n",
    "- Question 1.\n",
    "- Question 2."
   ]
  }
 ],
 "metadata": {
  "kernelspec": {
   "display_name": "unpackAIdev",
   "language": "python",
   "name": "unpackaidev"
  },
  "language_info": {
   "codemirror_mode": {
    "name": "ipython",
    "version": 3
   },
   "file_extension": ".py",
   "mimetype": "text/x-python",
   "name": "python",
   "nbconvert_exporter": "python",
   "pygments_lexer": "ipython3",
   "version": "3.8.12"
  }
 },
 "nbformat": 4,
 "nbformat_minor": 5
}
